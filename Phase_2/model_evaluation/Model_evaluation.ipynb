{
 "cells": [
  {
   "cell_type": "code",
   "execution_count": 12,
   "metadata": {
    "slideshow": {
     "slide_type": "subslide"
    }
   },
   "outputs": [],
   "source": [
    "import matplotlib.pyplot as plt\n",
    "from math import exp\n",
    "from scipy import stats\n",
    "import seaborn as sns\n",
    "import pandas as pd\n",
    "from sklearn.model_selection import train_test_split\n",
    "from sklearn.linear_model import LinearRegression\n",
    "from sklearn import metrics\n",
    "import numpy as np\n",
    "import warnings\n",
    "warnings.filterwarnings(\"ignore\")\n",
    "pd.set_option('display.max_columns', 300)"
   ]
  },
  {
   "cell_type": "markdown",
   "metadata": {},
   "source": [
    "### Read in cleaned movie data set\n"
   ]
  },
  {
   "cell_type": "code",
   "execution_count": 13,
   "metadata": {},
   "outputs": [],
   "source": [
    "movie_df = pd.read_csv('resources/movie_dataset_us.csv', index_col=0)"
   ]
  },
  {
   "cell_type": "markdown",
   "metadata": {},
   "source": [
    "### Take a look at the data"
   ]
  },
  {
   "cell_type": "code",
   "execution_count": 17,
   "metadata": {},
   "outputs": [],
   "source": [
    "movie_df = movie_df[movie_df['Other']!=1]"
   ]
  },
  {
   "cell_type": "code",
   "execution_count": 14,
   "metadata": {
    "slideshow": {
     "slide_type": "subslide"
    }
   },
   "outputs": [
    {
     "data": {
      "text/html": [
       "<div>\n",
       "<style scoped>\n",
       "    .dataframe tbody tr th:only-of-type {\n",
       "        vertical-align: middle;\n",
       "    }\n",
       "\n",
       "    .dataframe tbody tr th {\n",
       "        vertical-align: top;\n",
       "    }\n",
       "\n",
       "    .dataframe thead th {\n",
       "        text-align: right;\n",
       "    }\n",
       "</style>\n",
       "<table border=\"1\" class=\"dataframe\">\n",
       "  <thead>\n",
       "    <tr style=\"text-align: right;\">\n",
       "      <th></th>\n",
       "      <th>num_critic_for_reviews</th>\n",
       "      <th>duration</th>\n",
       "      <th>director_facebook_likes</th>\n",
       "      <th>actor_3_facebook_likes</th>\n",
       "      <th>actor_2_name</th>\n",
       "      <th>actor_1_facebook_likes</th>\n",
       "      <th>gross</th>\n",
       "      <th>actor_1_name</th>\n",
       "      <th>movie_title</th>\n",
       "      <th>num_voted_users</th>\n",
       "      <th>cast_total_facebook_likes</th>\n",
       "      <th>actor_3_name</th>\n",
       "      <th>facenumber_in_poster</th>\n",
       "      <th>num_user_for_reviews</th>\n",
       "      <th>language</th>\n",
       "      <th>country</th>\n",
       "      <th>content_rating</th>\n",
       "      <th>budget</th>\n",
       "      <th>title_year</th>\n",
       "      <th>actor_2_facebook_likes</th>\n",
       "      <th>imdb_score</th>\n",
       "      <th>movie_facebook_likes</th>\n",
       "      <th>rating</th>\n",
       "      <th>G</th>\n",
       "      <th>Other</th>\n",
       "      <th>PG</th>\n",
       "      <th>PG-13</th>\n",
       "      <th>R</th>\n",
       "      <th>yr_old</th>\n",
       "    </tr>\n",
       "  </thead>\n",
       "  <tbody>\n",
       "    <tr>\n",
       "      <th>3</th>\n",
       "      <td>813.0</td>\n",
       "      <td>164.0</td>\n",
       "      <td>22000.0</td>\n",
       "      <td>23000.0</td>\n",
       "      <td>Christian Bale</td>\n",
       "      <td>27000.0</td>\n",
       "      <td>448130642.0</td>\n",
       "      <td>Tom Hardy</td>\n",
       "      <td>The Dark Knight Rises</td>\n",
       "      <td>1144337</td>\n",
       "      <td>106759</td>\n",
       "      <td>Joseph Gordon-Levitt</td>\n",
       "      <td>0.0</td>\n",
       "      <td>2701.0</td>\n",
       "      <td>English</td>\n",
       "      <td>USA</td>\n",
       "      <td>PG-13</td>\n",
       "      <td>250000000.0</td>\n",
       "      <td>2012.0</td>\n",
       "      <td>23000.0</td>\n",
       "      <td>8.5</td>\n",
       "      <td>164000</td>\n",
       "      <td>PG-13</td>\n",
       "      <td>0</td>\n",
       "      <td>0</td>\n",
       "      <td>0</td>\n",
       "      <td>1</td>\n",
       "      <td>0</td>\n",
       "      <td>4.0</td>\n",
       "    </tr>\n",
       "    <tr>\n",
       "      <th>5</th>\n",
       "      <td>462.0</td>\n",
       "      <td>132.0</td>\n",
       "      <td>475.0</td>\n",
       "      <td>530.0</td>\n",
       "      <td>Samantha Morton</td>\n",
       "      <td>640.0</td>\n",
       "      <td>73058679.0</td>\n",
       "      <td>Daryl Sabara</td>\n",
       "      <td>John Carter</td>\n",
       "      <td>212204</td>\n",
       "      <td>1873</td>\n",
       "      <td>Polly Walker</td>\n",
       "      <td>1.0</td>\n",
       "      <td>738.0</td>\n",
       "      <td>English</td>\n",
       "      <td>USA</td>\n",
       "      <td>PG-13</td>\n",
       "      <td>263700000.0</td>\n",
       "      <td>2012.0</td>\n",
       "      <td>632.0</td>\n",
       "      <td>6.6</td>\n",
       "      <td>24000</td>\n",
       "      <td>PG-13</td>\n",
       "      <td>0</td>\n",
       "      <td>0</td>\n",
       "      <td>0</td>\n",
       "      <td>1</td>\n",
       "      <td>0</td>\n",
       "      <td>4.0</td>\n",
       "    </tr>\n",
       "    <tr>\n",
       "      <th>6</th>\n",
       "      <td>392.0</td>\n",
       "      <td>156.0</td>\n",
       "      <td>0.0</td>\n",
       "      <td>4000.0</td>\n",
       "      <td>James Franco</td>\n",
       "      <td>24000.0</td>\n",
       "      <td>336530303.0</td>\n",
       "      <td>J.K. Simmons</td>\n",
       "      <td>Spider-Man 3</td>\n",
       "      <td>383056</td>\n",
       "      <td>46055</td>\n",
       "      <td>Kirsten Dunst</td>\n",
       "      <td>0.0</td>\n",
       "      <td>1902.0</td>\n",
       "      <td>English</td>\n",
       "      <td>USA</td>\n",
       "      <td>PG-13</td>\n",
       "      <td>258000000.0</td>\n",
       "      <td>2007.0</td>\n",
       "      <td>11000.0</td>\n",
       "      <td>6.2</td>\n",
       "      <td>0</td>\n",
       "      <td>PG-13</td>\n",
       "      <td>0</td>\n",
       "      <td>0</td>\n",
       "      <td>0</td>\n",
       "      <td>1</td>\n",
       "      <td>0</td>\n",
       "      <td>9.0</td>\n",
       "    </tr>\n",
       "    <tr>\n",
       "      <th>7</th>\n",
       "      <td>324.0</td>\n",
       "      <td>100.0</td>\n",
       "      <td>15.0</td>\n",
       "      <td>284.0</td>\n",
       "      <td>Donna Murphy</td>\n",
       "      <td>799.0</td>\n",
       "      <td>200807262.0</td>\n",
       "      <td>Brad Garrett</td>\n",
       "      <td>Tangled</td>\n",
       "      <td>294810</td>\n",
       "      <td>2036</td>\n",
       "      <td>M.C. Gainey</td>\n",
       "      <td>1.0</td>\n",
       "      <td>387.0</td>\n",
       "      <td>English</td>\n",
       "      <td>USA</td>\n",
       "      <td>PG</td>\n",
       "      <td>260000000.0</td>\n",
       "      <td>2010.0</td>\n",
       "      <td>553.0</td>\n",
       "      <td>7.8</td>\n",
       "      <td>29000</td>\n",
       "      <td>PG</td>\n",
       "      <td>0</td>\n",
       "      <td>0</td>\n",
       "      <td>1</td>\n",
       "      <td>0</td>\n",
       "      <td>0</td>\n",
       "      <td>6.0</td>\n",
       "    </tr>\n",
       "    <tr>\n",
       "      <th>8</th>\n",
       "      <td>635.0</td>\n",
       "      <td>141.0</td>\n",
       "      <td>0.0</td>\n",
       "      <td>19000.0</td>\n",
       "      <td>Robert Downey Jr.</td>\n",
       "      <td>26000.0</td>\n",
       "      <td>458991599.0</td>\n",
       "      <td>Chris Hemsworth</td>\n",
       "      <td>Avengers: Age of Ultron</td>\n",
       "      <td>462669</td>\n",
       "      <td>92000</td>\n",
       "      <td>Scarlett Johansson</td>\n",
       "      <td>4.0</td>\n",
       "      <td>1117.0</td>\n",
       "      <td>English</td>\n",
       "      <td>USA</td>\n",
       "      <td>PG-13</td>\n",
       "      <td>250000000.0</td>\n",
       "      <td>2015.0</td>\n",
       "      <td>21000.0</td>\n",
       "      <td>7.5</td>\n",
       "      <td>118000</td>\n",
       "      <td>PG-13</td>\n",
       "      <td>0</td>\n",
       "      <td>0</td>\n",
       "      <td>0</td>\n",
       "      <td>1</td>\n",
       "      <td>0</td>\n",
       "      <td>1.0</td>\n",
       "    </tr>\n",
       "  </tbody>\n",
       "</table>\n",
       "</div>"
      ],
      "text/plain": [
       "   num_critic_for_reviews  duration  director_facebook_likes  \\\n",
       "3                   813.0     164.0                  22000.0   \n",
       "5                   462.0     132.0                    475.0   \n",
       "6                   392.0     156.0                      0.0   \n",
       "7                   324.0     100.0                     15.0   \n",
       "8                   635.0     141.0                      0.0   \n",
       "\n",
       "   actor_3_facebook_likes       actor_2_name  actor_1_facebook_likes  \\\n",
       "3                 23000.0     Christian Bale                 27000.0   \n",
       "5                   530.0    Samantha Morton                   640.0   \n",
       "6                  4000.0       James Franco                 24000.0   \n",
       "7                   284.0       Donna Murphy                   799.0   \n",
       "8                 19000.0  Robert Downey Jr.                 26000.0   \n",
       "\n",
       "         gross     actor_1_name               movie_title  num_voted_users  \\\n",
       "3  448130642.0        Tom Hardy    The Dark Knight Rises           1144337   \n",
       "5   73058679.0     Daryl Sabara              John Carter            212204   \n",
       "6  336530303.0     J.K. Simmons             Spider-Man 3            383056   \n",
       "7  200807262.0     Brad Garrett                  Tangled            294810   \n",
       "8  458991599.0  Chris Hemsworth  Avengers: Age of Ultron            462669   \n",
       "\n",
       "   cast_total_facebook_likes          actor_3_name  facenumber_in_poster  \\\n",
       "3                     106759  Joseph Gordon-Levitt                   0.0   \n",
       "5                       1873          Polly Walker                   1.0   \n",
       "6                      46055         Kirsten Dunst                   0.0   \n",
       "7                       2036           M.C. Gainey                   1.0   \n",
       "8                      92000    Scarlett Johansson                   4.0   \n",
       "\n",
       "   num_user_for_reviews language country content_rating       budget  \\\n",
       "3                2701.0  English     USA          PG-13  250000000.0   \n",
       "5                 738.0  English     USA          PG-13  263700000.0   \n",
       "6                1902.0  English     USA          PG-13  258000000.0   \n",
       "7                 387.0  English     USA             PG  260000000.0   \n",
       "8                1117.0  English     USA          PG-13  250000000.0   \n",
       "\n",
       "   title_year  actor_2_facebook_likes  imdb_score  movie_facebook_likes  \\\n",
       "3      2012.0                 23000.0         8.5                164000   \n",
       "5      2012.0                   632.0         6.6                 24000   \n",
       "6      2007.0                 11000.0         6.2                     0   \n",
       "7      2010.0                   553.0         7.8                 29000   \n",
       "8      2015.0                 21000.0         7.5                118000   \n",
       "\n",
       "  rating  G  Other  PG  PG-13  R  yr_old  \n",
       "3  PG-13  0      0   0      1  0     4.0  \n",
       "5  PG-13  0      0   0      1  0     4.0  \n",
       "6  PG-13  0      0   0      1  0     9.0  \n",
       "7     PG  0      0   1      0  0     6.0  \n",
       "8  PG-13  0      0   0      1  0     1.0  "
      ]
     },
     "execution_count": 14,
     "metadata": {},
     "output_type": "execute_result"
    }
   ],
   "source": [
    "movie_df.head()"
   ]
  },
  {
   "cell_type": "code",
   "execution_count": 18,
   "metadata": {},
   "outputs": [
    {
     "data": {
      "text/html": [
       "<div>\n",
       "<style scoped>\n",
       "    .dataframe tbody tr th:only-of-type {\n",
       "        vertical-align: middle;\n",
       "    }\n",
       "\n",
       "    .dataframe tbody tr th {\n",
       "        vertical-align: top;\n",
       "    }\n",
       "\n",
       "    .dataframe thead th {\n",
       "        text-align: right;\n",
       "    }\n",
       "</style>\n",
       "<table border=\"1\" class=\"dataframe\">\n",
       "  <thead>\n",
       "    <tr style=\"text-align: right;\">\n",
       "      <th></th>\n",
       "      <th>num_critic_for_reviews</th>\n",
       "      <th>duration</th>\n",
       "      <th>director_facebook_likes</th>\n",
       "      <th>actor_3_facebook_likes</th>\n",
       "      <th>actor_1_facebook_likes</th>\n",
       "      <th>gross</th>\n",
       "      <th>num_voted_users</th>\n",
       "      <th>cast_total_facebook_likes</th>\n",
       "      <th>facenumber_in_poster</th>\n",
       "      <th>num_user_for_reviews</th>\n",
       "      <th>budget</th>\n",
       "      <th>title_year</th>\n",
       "      <th>actor_2_facebook_likes</th>\n",
       "      <th>imdb_score</th>\n",
       "      <th>movie_facebook_likes</th>\n",
       "      <th>G</th>\n",
       "      <th>Other</th>\n",
       "      <th>PG</th>\n",
       "      <th>PG-13</th>\n",
       "      <th>R</th>\n",
       "      <th>yr_old</th>\n",
       "    </tr>\n",
       "  </thead>\n",
       "  <tbody>\n",
       "    <tr>\n",
       "      <th>count</th>\n",
       "      <td>2327.000000</td>\n",
       "      <td>2326.000000</td>\n",
       "      <td>2327.000000</td>\n",
       "      <td>2325.000000</td>\n",
       "      <td>2327.000000</td>\n",
       "      <td>2.327000e+03</td>\n",
       "      <td>2.327000e+03</td>\n",
       "      <td>2327.000000</td>\n",
       "      <td>2321.000000</td>\n",
       "      <td>2327.000000</td>\n",
       "      <td>2.327000e+03</td>\n",
       "      <td>2327.000000</td>\n",
       "      <td>2326.000000</td>\n",
       "      <td>2327.000000</td>\n",
       "      <td>2327.000000</td>\n",
       "      <td>2327.000000</td>\n",
       "      <td>2327.0</td>\n",
       "      <td>2327.000000</td>\n",
       "      <td>2327.000000</td>\n",
       "      <td>2327.000000</td>\n",
       "      <td>2327.000000</td>\n",
       "    </tr>\n",
       "    <tr>\n",
       "      <th>mean</th>\n",
       "      <td>189.446498</td>\n",
       "      <td>108.794067</td>\n",
       "      <td>808.324022</td>\n",
       "      <td>925.117849</td>\n",
       "      <td>8605.732273</td>\n",
       "      <td>6.111806e+07</td>\n",
       "      <td>1.120018e+05</td>\n",
       "      <td>13082.991405</td>\n",
       "      <td>1.489013</td>\n",
       "      <td>364.503653</td>\n",
       "      <td>4.784429e+07</td>\n",
       "      <td>2006.506661</td>\n",
       "      <td>2392.225279</td>\n",
       "      <td>6.312978</td>\n",
       "      <td>11128.563386</td>\n",
       "      <td>0.023636</td>\n",
       "      <td>0.0</td>\n",
       "      <td>0.156854</td>\n",
       "      <td>0.422003</td>\n",
       "      <td>0.397508</td>\n",
       "      <td>9.493339</td>\n",
       "    </tr>\n",
       "    <tr>\n",
       "      <th>std</th>\n",
       "      <td>125.589867</td>\n",
       "      <td>19.551667</td>\n",
       "      <td>3161.700519</td>\n",
       "      <td>2139.553666</td>\n",
       "      <td>11845.241520</td>\n",
       "      <td>6.889267e+07</td>\n",
       "      <td>1.456344e+05</td>\n",
       "      <td>16975.063482</td>\n",
       "      <td>2.264605</td>\n",
       "      <td>411.500186</td>\n",
       "      <td>4.517289e+07</td>\n",
       "      <td>5.395758</td>\n",
       "      <td>5146.883998</td>\n",
       "      <td>1.048753</td>\n",
       "      <td>23812.492559</td>\n",
       "      <td>0.151944</td>\n",
       "      <td>0.0</td>\n",
       "      <td>0.363742</td>\n",
       "      <td>0.493985</td>\n",
       "      <td>0.489488</td>\n",
       "      <td>5.395758</td>\n",
       "    </tr>\n",
       "    <tr>\n",
       "      <th>min</th>\n",
       "      <td>4.000000</td>\n",
       "      <td>63.000000</td>\n",
       "      <td>0.000000</td>\n",
       "      <td>0.000000</td>\n",
       "      <td>0.000000</td>\n",
       "      <td>1.506998e+06</td>\n",
       "      <td>5.360000e+02</td>\n",
       "      <td>0.000000</td>\n",
       "      <td>0.000000</td>\n",
       "      <td>8.000000</td>\n",
       "      <td>1.500000e+04</td>\n",
       "      <td>1997.000000</td>\n",
       "      <td>0.000000</td>\n",
       "      <td>1.600000</td>\n",
       "      <td>0.000000</td>\n",
       "      <td>0.000000</td>\n",
       "      <td>0.0</td>\n",
       "      <td>0.000000</td>\n",
       "      <td>0.000000</td>\n",
       "      <td>0.000000</td>\n",
       "      <td>0.000000</td>\n",
       "    </tr>\n",
       "    <tr>\n",
       "      <th>25%</th>\n",
       "      <td>98.000000</td>\n",
       "      <td>95.000000</td>\n",
       "      <td>13.000000</td>\n",
       "      <td>265.000000</td>\n",
       "      <td>876.000000</td>\n",
       "      <td>1.611248e+07</td>\n",
       "      <td>2.547450e+04</td>\n",
       "      <td>2540.000000</td>\n",
       "      <td>0.000000</td>\n",
       "      <td>129.000000</td>\n",
       "      <td>1.600000e+07</td>\n",
       "      <td>2002.000000</td>\n",
       "      <td>485.500000</td>\n",
       "      <td>5.700000</td>\n",
       "      <td>0.000000</td>\n",
       "      <td>0.000000</td>\n",
       "      <td>0.0</td>\n",
       "      <td>0.000000</td>\n",
       "      <td>0.000000</td>\n",
       "      <td>0.000000</td>\n",
       "      <td>5.000000</td>\n",
       "    </tr>\n",
       "    <tr>\n",
       "      <th>50%</th>\n",
       "      <td>159.000000</td>\n",
       "      <td>105.500000</td>\n",
       "      <td>65.000000</td>\n",
       "      <td>505.000000</td>\n",
       "      <td>2000.000000</td>\n",
       "      <td>3.776635e+07</td>\n",
       "      <td>6.057200e+04</td>\n",
       "      <td>5349.000000</td>\n",
       "      <td>1.000000</td>\n",
       "      <td>235.000000</td>\n",
       "      <td>3.500000e+07</td>\n",
       "      <td>2007.000000</td>\n",
       "      <td>787.000000</td>\n",
       "      <td>6.400000</td>\n",
       "      <td>352.000000</td>\n",
       "      <td>0.000000</td>\n",
       "      <td>0.0</td>\n",
       "      <td>0.000000</td>\n",
       "      <td>0.000000</td>\n",
       "      <td>0.000000</td>\n",
       "      <td>9.000000</td>\n",
       "    </tr>\n",
       "    <tr>\n",
       "      <th>75%</th>\n",
       "      <td>249.000000</td>\n",
       "      <td>119.000000</td>\n",
       "      <td>221.000000</td>\n",
       "      <td>756.000000</td>\n",
       "      <td>14000.000000</td>\n",
       "      <td>7.807591e+07</td>\n",
       "      <td>1.414195e+05</td>\n",
       "      <td>18395.500000</td>\n",
       "      <td>2.000000</td>\n",
       "      <td>446.000000</td>\n",
       "      <td>6.000000e+07</td>\n",
       "      <td>2011.000000</td>\n",
       "      <td>1000.000000</td>\n",
       "      <td>7.000000</td>\n",
       "      <td>14000.000000</td>\n",
       "      <td>0.000000</td>\n",
       "      <td>0.0</td>\n",
       "      <td>0.000000</td>\n",
       "      <td>1.000000</td>\n",
       "      <td>1.000000</td>\n",
       "      <td>14.000000</td>\n",
       "    </tr>\n",
       "    <tr>\n",
       "      <th>max</th>\n",
       "      <td>813.000000</td>\n",
       "      <td>280.000000</td>\n",
       "      <td>23000.000000</td>\n",
       "      <td>23000.000000</td>\n",
       "      <td>164000.000000</td>\n",
       "      <td>4.745447e+08</td>\n",
       "      <td>1.468200e+06</td>\n",
       "      <td>303717.000000</td>\n",
       "      <td>43.000000</td>\n",
       "      <td>3646.000000</td>\n",
       "      <td>2.637000e+08</td>\n",
       "      <td>2016.000000</td>\n",
       "      <td>137000.000000</td>\n",
       "      <td>8.900000</td>\n",
       "      <td>349000.000000</td>\n",
       "      <td>1.000000</td>\n",
       "      <td>0.0</td>\n",
       "      <td>1.000000</td>\n",
       "      <td>1.000000</td>\n",
       "      <td>1.000000</td>\n",
       "      <td>19.000000</td>\n",
       "    </tr>\n",
       "  </tbody>\n",
       "</table>\n",
       "</div>"
      ],
      "text/plain": [
       "       num_critic_for_reviews     duration  director_facebook_likes  \\\n",
       "count             2327.000000  2326.000000              2327.000000   \n",
       "mean               189.446498   108.794067               808.324022   \n",
       "std                125.589867    19.551667              3161.700519   \n",
       "min                  4.000000    63.000000                 0.000000   \n",
       "25%                 98.000000    95.000000                13.000000   \n",
       "50%                159.000000   105.500000                65.000000   \n",
       "75%                249.000000   119.000000               221.000000   \n",
       "max                813.000000   280.000000             23000.000000   \n",
       "\n",
       "       actor_3_facebook_likes  actor_1_facebook_likes         gross  \\\n",
       "count             2325.000000             2327.000000  2.327000e+03   \n",
       "mean               925.117849             8605.732273  6.111806e+07   \n",
       "std               2139.553666            11845.241520  6.889267e+07   \n",
       "min                  0.000000                0.000000  1.506998e+06   \n",
       "25%                265.000000              876.000000  1.611248e+07   \n",
       "50%                505.000000             2000.000000  3.776635e+07   \n",
       "75%                756.000000            14000.000000  7.807591e+07   \n",
       "max              23000.000000           164000.000000  4.745447e+08   \n",
       "\n",
       "       num_voted_users  cast_total_facebook_likes  facenumber_in_poster  \\\n",
       "count     2.327000e+03                2327.000000           2321.000000   \n",
       "mean      1.120018e+05               13082.991405              1.489013   \n",
       "std       1.456344e+05               16975.063482              2.264605   \n",
       "min       5.360000e+02                   0.000000              0.000000   \n",
       "25%       2.547450e+04                2540.000000              0.000000   \n",
       "50%       6.057200e+04                5349.000000              1.000000   \n",
       "75%       1.414195e+05               18395.500000              2.000000   \n",
       "max       1.468200e+06              303717.000000             43.000000   \n",
       "\n",
       "       num_user_for_reviews        budget   title_year  \\\n",
       "count           2327.000000  2.327000e+03  2327.000000   \n",
       "mean             364.503653  4.784429e+07  2006.506661   \n",
       "std              411.500186  4.517289e+07     5.395758   \n",
       "min                8.000000  1.500000e+04  1997.000000   \n",
       "25%              129.000000  1.600000e+07  2002.000000   \n",
       "50%              235.000000  3.500000e+07  2007.000000   \n",
       "75%              446.000000  6.000000e+07  2011.000000   \n",
       "max             3646.000000  2.637000e+08  2016.000000   \n",
       "\n",
       "       actor_2_facebook_likes   imdb_score  movie_facebook_likes            G  \\\n",
       "count             2326.000000  2327.000000           2327.000000  2327.000000   \n",
       "mean              2392.225279     6.312978          11128.563386     0.023636   \n",
       "std               5146.883998     1.048753          23812.492559     0.151944   \n",
       "min                  0.000000     1.600000              0.000000     0.000000   \n",
       "25%                485.500000     5.700000              0.000000     0.000000   \n",
       "50%                787.000000     6.400000            352.000000     0.000000   \n",
       "75%               1000.000000     7.000000          14000.000000     0.000000   \n",
       "max             137000.000000     8.900000         349000.000000     1.000000   \n",
       "\n",
       "        Other           PG        PG-13            R       yr_old  \n",
       "count  2327.0  2327.000000  2327.000000  2327.000000  2327.000000  \n",
       "mean      0.0     0.156854     0.422003     0.397508     9.493339  \n",
       "std       0.0     0.363742     0.493985     0.489488     5.395758  \n",
       "min       0.0     0.000000     0.000000     0.000000     0.000000  \n",
       "25%       0.0     0.000000     0.000000     0.000000     5.000000  \n",
       "50%       0.0     0.000000     0.000000     0.000000     9.000000  \n",
       "75%       0.0     0.000000     1.000000     1.000000    14.000000  \n",
       "max       0.0     1.000000     1.000000     1.000000    19.000000  "
      ]
     },
     "execution_count": 18,
     "metadata": {},
     "output_type": "execute_result"
    }
   ],
   "source": [
    "movie_df.describe()"
   ]
  },
  {
   "cell_type": "code",
   "execution_count": 20,
   "metadata": {},
   "outputs": [],
   "source": [
    "movie_df.dropna(subset=['duration'],inplace=True)"
   ]
  },
  {
   "cell_type": "code",
   "execution_count": 21,
   "metadata": {},
   "outputs": [],
   "source": [
    "features=['budget', 'duration','actor_1_facebook_likes','cast_total_facebook_likes','G', 'PG-13', 'R',\n",
    "       'yr_old']"
   ]
  },
  {
   "cell_type": "code",
   "execution_count": 22,
   "metadata": {},
   "outputs": [],
   "source": [
    "df_features = movie_df[features]"
   ]
  },
  {
   "cell_type": "code",
   "execution_count": 23,
   "metadata": {},
   "outputs": [],
   "source": [
    "target = movie_df['gross']"
   ]
  },
  {
   "cell_type": "code",
   "execution_count": 24,
   "metadata": {},
   "outputs": [
    {
     "data": {
      "text/html": [
       "<div>\n",
       "<style scoped>\n",
       "    .dataframe tbody tr th:only-of-type {\n",
       "        vertical-align: middle;\n",
       "    }\n",
       "\n",
       "    .dataframe tbody tr th {\n",
       "        vertical-align: top;\n",
       "    }\n",
       "\n",
       "    .dataframe thead th {\n",
       "        text-align: right;\n",
       "    }\n",
       "</style>\n",
       "<table border=\"1\" class=\"dataframe\">\n",
       "  <thead>\n",
       "    <tr style=\"text-align: right;\">\n",
       "      <th></th>\n",
       "      <th>budget</th>\n",
       "      <th>duration</th>\n",
       "      <th>actor_1_facebook_likes</th>\n",
       "      <th>cast_total_facebook_likes</th>\n",
       "      <th>G</th>\n",
       "      <th>PG-13</th>\n",
       "      <th>R</th>\n",
       "      <th>yr_old</th>\n",
       "    </tr>\n",
       "  </thead>\n",
       "  <tbody>\n",
       "    <tr>\n",
       "      <th>count</th>\n",
       "      <td>2.326000e+03</td>\n",
       "      <td>2326.000000</td>\n",
       "      <td>2326.000000</td>\n",
       "      <td>2326.000000</td>\n",
       "      <td>2326.000000</td>\n",
       "      <td>2326.000000</td>\n",
       "      <td>2326.000000</td>\n",
       "      <td>2326.000000</td>\n",
       "    </tr>\n",
       "    <tr>\n",
       "      <th>mean</th>\n",
       "      <td>4.784895e+07</td>\n",
       "      <td>108.794067</td>\n",
       "      <td>8609.125537</td>\n",
       "      <td>13087.267412</td>\n",
       "      <td>0.023646</td>\n",
       "      <td>0.422184</td>\n",
       "      <td>0.397248</td>\n",
       "      <td>9.494841</td>\n",
       "    </tr>\n",
       "    <tr>\n",
       "      <th>std</th>\n",
       "      <td>4.518204e+07</td>\n",
       "      <td>19.551667</td>\n",
       "      <td>11846.657325</td>\n",
       "      <td>16977.460093</td>\n",
       "      <td>0.151975</td>\n",
       "      <td>0.494014</td>\n",
       "      <td>0.489433</td>\n",
       "      <td>5.396432</td>\n",
       "    </tr>\n",
       "    <tr>\n",
       "      <th>min</th>\n",
       "      <td>1.500000e+04</td>\n",
       "      <td>63.000000</td>\n",
       "      <td>0.000000</td>\n",
       "      <td>0.000000</td>\n",
       "      <td>0.000000</td>\n",
       "      <td>0.000000</td>\n",
       "      <td>0.000000</td>\n",
       "      <td>0.000000</td>\n",
       "    </tr>\n",
       "    <tr>\n",
       "      <th>25%</th>\n",
       "      <td>1.600000e+07</td>\n",
       "      <td>95.000000</td>\n",
       "      <td>876.000000</td>\n",
       "      <td>2538.500000</td>\n",
       "      <td>0.000000</td>\n",
       "      <td>0.000000</td>\n",
       "      <td>0.000000</td>\n",
       "      <td>5.000000</td>\n",
       "    </tr>\n",
       "    <tr>\n",
       "      <th>50%</th>\n",
       "      <td>3.500000e+07</td>\n",
       "      <td>105.500000</td>\n",
       "      <td>2000.000000</td>\n",
       "      <td>5360.000000</td>\n",
       "      <td>0.000000</td>\n",
       "      <td>0.000000</td>\n",
       "      <td>0.000000</td>\n",
       "      <td>9.000000</td>\n",
       "    </tr>\n",
       "    <tr>\n",
       "      <th>75%</th>\n",
       "      <td>6.000000e+07</td>\n",
       "      <td>119.000000</td>\n",
       "      <td>14000.000000</td>\n",
       "      <td>18432.250000</td>\n",
       "      <td>0.000000</td>\n",
       "      <td>1.000000</td>\n",
       "      <td>1.000000</td>\n",
       "      <td>14.000000</td>\n",
       "    </tr>\n",
       "    <tr>\n",
       "      <th>max</th>\n",
       "      <td>2.637000e+08</td>\n",
       "      <td>280.000000</td>\n",
       "      <td>164000.000000</td>\n",
       "      <td>303717.000000</td>\n",
       "      <td>1.000000</td>\n",
       "      <td>1.000000</td>\n",
       "      <td>1.000000</td>\n",
       "      <td>19.000000</td>\n",
       "    </tr>\n",
       "  </tbody>\n",
       "</table>\n",
       "</div>"
      ],
      "text/plain": [
       "             budget     duration  actor_1_facebook_likes  \\\n",
       "count  2.326000e+03  2326.000000             2326.000000   \n",
       "mean   4.784895e+07   108.794067             8609.125537   \n",
       "std    4.518204e+07    19.551667            11846.657325   \n",
       "min    1.500000e+04    63.000000                0.000000   \n",
       "25%    1.600000e+07    95.000000              876.000000   \n",
       "50%    3.500000e+07   105.500000             2000.000000   \n",
       "75%    6.000000e+07   119.000000            14000.000000   \n",
       "max    2.637000e+08   280.000000           164000.000000   \n",
       "\n",
       "       cast_total_facebook_likes            G        PG-13            R  \\\n",
       "count                2326.000000  2326.000000  2326.000000  2326.000000   \n",
       "mean                13087.267412     0.023646     0.422184     0.397248   \n",
       "std                 16977.460093     0.151975     0.494014     0.489433   \n",
       "min                     0.000000     0.000000     0.000000     0.000000   \n",
       "25%                  2538.500000     0.000000     0.000000     0.000000   \n",
       "50%                  5360.000000     0.000000     0.000000     0.000000   \n",
       "75%                 18432.250000     0.000000     1.000000     1.000000   \n",
       "max                303717.000000     1.000000     1.000000     1.000000   \n",
       "\n",
       "            yr_old  \n",
       "count  2326.000000  \n",
       "mean      9.494841  \n",
       "std       5.396432  \n",
       "min       0.000000  \n",
       "25%       5.000000  \n",
       "50%       9.000000  \n",
       "75%      14.000000  \n",
       "max      19.000000  "
      ]
     },
     "execution_count": 24,
     "metadata": {},
     "output_type": "execute_result"
    }
   ],
   "source": [
    "df_features.describe()"
   ]
  },
  {
   "cell_type": "code",
   "execution_count": 25,
   "metadata": {},
   "outputs": [
    {
     "name": "stdout",
     "output_type": "stream",
     "text": [
      "-6431327.688283652\n",
      "[ 8.76627403e-01  2.58504057e+05 -1.65620549e+03  1.52458264e+03\n",
      "  2.28432421e+07 -6.47329908e+06 -1.28074903e+07 -9.56801868e+04]\n",
      "R^2:  0.4764012872072515\n"
     ]
    }
   ],
   "source": [
    "from sklearn.linear_model import LinearRegression\n",
    "\n",
    "#instantiate a linear regression object\n",
    "lm = LinearRegression()\n",
    "\n",
    "#fit the linear regression to the data\n",
    "lm = lm.fit(df_features, target)\n",
    "\n",
    "#access output\n",
    "print(lm.intercept_)\n",
    "print(lm.coef_)\n",
    "print(\"R^2: \", lm.score(df_features, target))"
   ]
  },
  {
   "cell_type": "markdown",
   "metadata": {},
   "source": [
    "### Create a polynomial feature "
   ]
  },
  {
   "cell_type": "code",
   "execution_count": null,
   "metadata": {},
   "outputs": [],
   "source": [
    "#df['budget^2'] = df['budget']**2"
   ]
  },
  {
   "cell_type": "markdown",
   "metadata": {},
   "source": [
    "### Create a interaction feature"
   ]
  },
  {
   "cell_type": "code",
   "execution_count": null,
   "metadata": {},
   "outputs": [],
   "source": [
    "#df['budget_R'] = df['budget']*df['R']"
   ]
  },
  {
   "cell_type": "markdown",
   "metadata": {},
   "source": [
    "### Use SKlearn to create features"
   ]
  },
  {
   "cell_type": "code",
   "execution_count": 26,
   "metadata": {},
   "outputs": [],
   "source": [
    "from sklearn.preprocessing import PolynomialFeatures\n",
    "\n",
    "poly = PolynomialFeatures(degree=2, include_bias=False)\n"
   ]
  },
  {
   "cell_type": "code",
   "execution_count": 27,
   "metadata": {},
   "outputs": [],
   "source": [
    "poly_data = poly.fit_transform(df_features)"
   ]
  },
  {
   "cell_type": "code",
   "execution_count": 28,
   "metadata": {},
   "outputs": [
    {
     "data": {
      "text/plain": [
       "array([[2.500e+08, 1.640e+02, 2.700e+04, ..., 0.000e+00, 0.000e+00,\n",
       "        1.600e+01],\n",
       "       [2.637e+08, 1.320e+02, 6.400e+02, ..., 0.000e+00, 0.000e+00,\n",
       "        1.600e+01],\n",
       "       [2.580e+08, 1.560e+02, 2.400e+04, ..., 0.000e+00, 0.000e+00,\n",
       "        8.100e+01],\n",
       "       ...,\n",
       "       [6.000e+04, 8.400e+01, 1.000e+03, ..., 1.000e+00, 1.800e+01,\n",
       "        3.240e+02],\n",
       "       [6.500e+04, 1.000e+02, 0.000e+00, ..., 0.000e+00, 0.000e+00,\n",
       "        1.440e+02],\n",
       "       [3.500e+07, 1.090e+02, 1.000e+03, ..., 1.000e+00, 2.000e+00,\n",
       "        4.000e+00]])"
      ]
     },
     "execution_count": 28,
     "metadata": {},
     "output_type": "execute_result"
    }
   ],
   "source": [
    "poly_data"
   ]
  },
  {
   "cell_type": "code",
   "execution_count": 29,
   "metadata": {},
   "outputs": [
    {
     "data": {
      "text/plain": [
       "8"
      ]
     },
     "execution_count": 29,
     "metadata": {},
     "output_type": "execute_result"
    }
   ],
   "source": [
    "len(df_features.columns)"
   ]
  },
  {
   "cell_type": "code",
   "execution_count": 30,
   "metadata": {},
   "outputs": [],
   "source": [
    "poly_columns = poly.get_feature_names(df_features.columns)"
   ]
  },
  {
   "cell_type": "code",
   "execution_count": 31,
   "metadata": {},
   "outputs": [
    {
     "data": {
      "text/plain": [
       "44"
      ]
     },
     "execution_count": 31,
     "metadata": {},
     "output_type": "execute_result"
    }
   ],
   "source": [
    "len(poly_columns)"
   ]
  },
  {
   "cell_type": "code",
   "execution_count": 32,
   "metadata": {},
   "outputs": [],
   "source": [
    "df_poly = pd.DataFrame(poly_data, columns=poly_columns)"
   ]
  },
  {
   "cell_type": "code",
   "execution_count": 33,
   "metadata": {},
   "outputs": [
    {
     "data": {
      "text/html": [
       "<div>\n",
       "<style scoped>\n",
       "    .dataframe tbody tr th:only-of-type {\n",
       "        vertical-align: middle;\n",
       "    }\n",
       "\n",
       "    .dataframe tbody tr th {\n",
       "        vertical-align: top;\n",
       "    }\n",
       "\n",
       "    .dataframe thead th {\n",
       "        text-align: right;\n",
       "    }\n",
       "</style>\n",
       "<table border=\"1\" class=\"dataframe\">\n",
       "  <thead>\n",
       "    <tr style=\"text-align: right;\">\n",
       "      <th></th>\n",
       "      <th>budget</th>\n",
       "      <th>duration</th>\n",
       "      <th>actor_1_facebook_likes</th>\n",
       "      <th>cast_total_facebook_likes</th>\n",
       "      <th>G</th>\n",
       "      <th>PG-13</th>\n",
       "      <th>R</th>\n",
       "      <th>yr_old</th>\n",
       "      <th>budget^2</th>\n",
       "      <th>budget duration</th>\n",
       "      <th>budget actor_1_facebook_likes</th>\n",
       "      <th>budget cast_total_facebook_likes</th>\n",
       "      <th>budget G</th>\n",
       "      <th>budget PG-13</th>\n",
       "      <th>budget R</th>\n",
       "      <th>budget yr_old</th>\n",
       "      <th>duration^2</th>\n",
       "      <th>duration actor_1_facebook_likes</th>\n",
       "      <th>duration cast_total_facebook_likes</th>\n",
       "      <th>duration G</th>\n",
       "      <th>duration PG-13</th>\n",
       "      <th>duration R</th>\n",
       "      <th>duration yr_old</th>\n",
       "      <th>actor_1_facebook_likes^2</th>\n",
       "      <th>actor_1_facebook_likes cast_total_facebook_likes</th>\n",
       "      <th>actor_1_facebook_likes G</th>\n",
       "      <th>actor_1_facebook_likes PG-13</th>\n",
       "      <th>actor_1_facebook_likes R</th>\n",
       "      <th>actor_1_facebook_likes yr_old</th>\n",
       "      <th>cast_total_facebook_likes^2</th>\n",
       "      <th>cast_total_facebook_likes G</th>\n",
       "      <th>cast_total_facebook_likes PG-13</th>\n",
       "      <th>cast_total_facebook_likes R</th>\n",
       "      <th>cast_total_facebook_likes yr_old</th>\n",
       "      <th>G^2</th>\n",
       "      <th>G PG-13</th>\n",
       "      <th>G R</th>\n",
       "      <th>G yr_old</th>\n",
       "      <th>PG-13^2</th>\n",
       "      <th>PG-13 R</th>\n",
       "      <th>PG-13 yr_old</th>\n",
       "      <th>R^2</th>\n",
       "      <th>R yr_old</th>\n",
       "      <th>yr_old^2</th>\n",
       "    </tr>\n",
       "  </thead>\n",
       "  <tbody>\n",
       "    <tr>\n",
       "      <th>0</th>\n",
       "      <td>250000000.0</td>\n",
       "      <td>164.0</td>\n",
       "      <td>27000.0</td>\n",
       "      <td>106759.0</td>\n",
       "      <td>0.0</td>\n",
       "      <td>1.0</td>\n",
       "      <td>0.0</td>\n",
       "      <td>4.0</td>\n",
       "      <td>6.250000e+16</td>\n",
       "      <td>4.100000e+10</td>\n",
       "      <td>6.750000e+12</td>\n",
       "      <td>2.668975e+13</td>\n",
       "      <td>0.0</td>\n",
       "      <td>250000000.0</td>\n",
       "      <td>0.0</td>\n",
       "      <td>1.000000e+09</td>\n",
       "      <td>26896.0</td>\n",
       "      <td>4428000.0</td>\n",
       "      <td>17508476.0</td>\n",
       "      <td>0.0</td>\n",
       "      <td>164.0</td>\n",
       "      <td>0.0</td>\n",
       "      <td>656.0</td>\n",
       "      <td>729000000.0</td>\n",
       "      <td>2.882493e+09</td>\n",
       "      <td>0.0</td>\n",
       "      <td>27000.0</td>\n",
       "      <td>0.0</td>\n",
       "      <td>108000.0</td>\n",
       "      <td>1.139748e+10</td>\n",
       "      <td>0.0</td>\n",
       "      <td>106759.0</td>\n",
       "      <td>0.0</td>\n",
       "      <td>427036.0</td>\n",
       "      <td>0.0</td>\n",
       "      <td>0.0</td>\n",
       "      <td>0.0</td>\n",
       "      <td>0.0</td>\n",
       "      <td>1.0</td>\n",
       "      <td>0.0</td>\n",
       "      <td>4.0</td>\n",
       "      <td>0.0</td>\n",
       "      <td>0.0</td>\n",
       "      <td>16.0</td>\n",
       "    </tr>\n",
       "    <tr>\n",
       "      <th>1</th>\n",
       "      <td>263700000.0</td>\n",
       "      <td>132.0</td>\n",
       "      <td>640.0</td>\n",
       "      <td>1873.0</td>\n",
       "      <td>0.0</td>\n",
       "      <td>1.0</td>\n",
       "      <td>0.0</td>\n",
       "      <td>4.0</td>\n",
       "      <td>6.953769e+16</td>\n",
       "      <td>3.480840e+10</td>\n",
       "      <td>1.687680e+11</td>\n",
       "      <td>4.939101e+11</td>\n",
       "      <td>0.0</td>\n",
       "      <td>263700000.0</td>\n",
       "      <td>0.0</td>\n",
       "      <td>1.054800e+09</td>\n",
       "      <td>17424.0</td>\n",
       "      <td>84480.0</td>\n",
       "      <td>247236.0</td>\n",
       "      <td>0.0</td>\n",
       "      <td>132.0</td>\n",
       "      <td>0.0</td>\n",
       "      <td>528.0</td>\n",
       "      <td>409600.0</td>\n",
       "      <td>1.198720e+06</td>\n",
       "      <td>0.0</td>\n",
       "      <td>640.0</td>\n",
       "      <td>0.0</td>\n",
       "      <td>2560.0</td>\n",
       "      <td>3.508129e+06</td>\n",
       "      <td>0.0</td>\n",
       "      <td>1873.0</td>\n",
       "      <td>0.0</td>\n",
       "      <td>7492.0</td>\n",
       "      <td>0.0</td>\n",
       "      <td>0.0</td>\n",
       "      <td>0.0</td>\n",
       "      <td>0.0</td>\n",
       "      <td>1.0</td>\n",
       "      <td>0.0</td>\n",
       "      <td>4.0</td>\n",
       "      <td>0.0</td>\n",
       "      <td>0.0</td>\n",
       "      <td>16.0</td>\n",
       "    </tr>\n",
       "    <tr>\n",
       "      <th>2</th>\n",
       "      <td>258000000.0</td>\n",
       "      <td>156.0</td>\n",
       "      <td>24000.0</td>\n",
       "      <td>46055.0</td>\n",
       "      <td>0.0</td>\n",
       "      <td>1.0</td>\n",
       "      <td>0.0</td>\n",
       "      <td>9.0</td>\n",
       "      <td>6.656400e+16</td>\n",
       "      <td>4.024800e+10</td>\n",
       "      <td>6.192000e+12</td>\n",
       "      <td>1.188219e+13</td>\n",
       "      <td>0.0</td>\n",
       "      <td>258000000.0</td>\n",
       "      <td>0.0</td>\n",
       "      <td>2.322000e+09</td>\n",
       "      <td>24336.0</td>\n",
       "      <td>3744000.0</td>\n",
       "      <td>7184580.0</td>\n",
       "      <td>0.0</td>\n",
       "      <td>156.0</td>\n",
       "      <td>0.0</td>\n",
       "      <td>1404.0</td>\n",
       "      <td>576000000.0</td>\n",
       "      <td>1.105320e+09</td>\n",
       "      <td>0.0</td>\n",
       "      <td>24000.0</td>\n",
       "      <td>0.0</td>\n",
       "      <td>216000.0</td>\n",
       "      <td>2.121063e+09</td>\n",
       "      <td>0.0</td>\n",
       "      <td>46055.0</td>\n",
       "      <td>0.0</td>\n",
       "      <td>414495.0</td>\n",
       "      <td>0.0</td>\n",
       "      <td>0.0</td>\n",
       "      <td>0.0</td>\n",
       "      <td>0.0</td>\n",
       "      <td>1.0</td>\n",
       "      <td>0.0</td>\n",
       "      <td>9.0</td>\n",
       "      <td>0.0</td>\n",
       "      <td>0.0</td>\n",
       "      <td>81.0</td>\n",
       "    </tr>\n",
       "    <tr>\n",
       "      <th>3</th>\n",
       "      <td>260000000.0</td>\n",
       "      <td>100.0</td>\n",
       "      <td>799.0</td>\n",
       "      <td>2036.0</td>\n",
       "      <td>0.0</td>\n",
       "      <td>0.0</td>\n",
       "      <td>0.0</td>\n",
       "      <td>6.0</td>\n",
       "      <td>6.760000e+16</td>\n",
       "      <td>2.600000e+10</td>\n",
       "      <td>2.077400e+11</td>\n",
       "      <td>5.293600e+11</td>\n",
       "      <td>0.0</td>\n",
       "      <td>0.0</td>\n",
       "      <td>0.0</td>\n",
       "      <td>1.560000e+09</td>\n",
       "      <td>10000.0</td>\n",
       "      <td>79900.0</td>\n",
       "      <td>203600.0</td>\n",
       "      <td>0.0</td>\n",
       "      <td>0.0</td>\n",
       "      <td>0.0</td>\n",
       "      <td>600.0</td>\n",
       "      <td>638401.0</td>\n",
       "      <td>1.626764e+06</td>\n",
       "      <td>0.0</td>\n",
       "      <td>0.0</td>\n",
       "      <td>0.0</td>\n",
       "      <td>4794.0</td>\n",
       "      <td>4.145296e+06</td>\n",
       "      <td>0.0</td>\n",
       "      <td>0.0</td>\n",
       "      <td>0.0</td>\n",
       "      <td>12216.0</td>\n",
       "      <td>0.0</td>\n",
       "      <td>0.0</td>\n",
       "      <td>0.0</td>\n",
       "      <td>0.0</td>\n",
       "      <td>0.0</td>\n",
       "      <td>0.0</td>\n",
       "      <td>0.0</td>\n",
       "      <td>0.0</td>\n",
       "      <td>0.0</td>\n",
       "      <td>36.0</td>\n",
       "    </tr>\n",
       "    <tr>\n",
       "      <th>4</th>\n",
       "      <td>250000000.0</td>\n",
       "      <td>141.0</td>\n",
       "      <td>26000.0</td>\n",
       "      <td>92000.0</td>\n",
       "      <td>0.0</td>\n",
       "      <td>1.0</td>\n",
       "      <td>0.0</td>\n",
       "      <td>1.0</td>\n",
       "      <td>6.250000e+16</td>\n",
       "      <td>3.525000e+10</td>\n",
       "      <td>6.500000e+12</td>\n",
       "      <td>2.300000e+13</td>\n",
       "      <td>0.0</td>\n",
       "      <td>250000000.0</td>\n",
       "      <td>0.0</td>\n",
       "      <td>2.500000e+08</td>\n",
       "      <td>19881.0</td>\n",
       "      <td>3666000.0</td>\n",
       "      <td>12972000.0</td>\n",
       "      <td>0.0</td>\n",
       "      <td>141.0</td>\n",
       "      <td>0.0</td>\n",
       "      <td>141.0</td>\n",
       "      <td>676000000.0</td>\n",
       "      <td>2.392000e+09</td>\n",
       "      <td>0.0</td>\n",
       "      <td>26000.0</td>\n",
       "      <td>0.0</td>\n",
       "      <td>26000.0</td>\n",
       "      <td>8.464000e+09</td>\n",
       "      <td>0.0</td>\n",
       "      <td>92000.0</td>\n",
       "      <td>0.0</td>\n",
       "      <td>92000.0</td>\n",
       "      <td>0.0</td>\n",
       "      <td>0.0</td>\n",
       "      <td>0.0</td>\n",
       "      <td>0.0</td>\n",
       "      <td>1.0</td>\n",
       "      <td>0.0</td>\n",
       "      <td>1.0</td>\n",
       "      <td>0.0</td>\n",
       "      <td>0.0</td>\n",
       "      <td>1.0</td>\n",
       "    </tr>\n",
       "  </tbody>\n",
       "</table>\n",
       "</div>"
      ],
      "text/plain": [
       "        budget  duration  actor_1_facebook_likes  cast_total_facebook_likes  \\\n",
       "0  250000000.0     164.0                 27000.0                   106759.0   \n",
       "1  263700000.0     132.0                   640.0                     1873.0   \n",
       "2  258000000.0     156.0                 24000.0                    46055.0   \n",
       "3  260000000.0     100.0                   799.0                     2036.0   \n",
       "4  250000000.0     141.0                 26000.0                    92000.0   \n",
       "\n",
       "     G  PG-13    R  yr_old      budget^2  budget duration  \\\n",
       "0  0.0    1.0  0.0     4.0  6.250000e+16     4.100000e+10   \n",
       "1  0.0    1.0  0.0     4.0  6.953769e+16     3.480840e+10   \n",
       "2  0.0    1.0  0.0     9.0  6.656400e+16     4.024800e+10   \n",
       "3  0.0    0.0  0.0     6.0  6.760000e+16     2.600000e+10   \n",
       "4  0.0    1.0  0.0     1.0  6.250000e+16     3.525000e+10   \n",
       "\n",
       "   budget actor_1_facebook_likes  budget cast_total_facebook_likes  budget G  \\\n",
       "0                   6.750000e+12                      2.668975e+13       0.0   \n",
       "1                   1.687680e+11                      4.939101e+11       0.0   \n",
       "2                   6.192000e+12                      1.188219e+13       0.0   \n",
       "3                   2.077400e+11                      5.293600e+11       0.0   \n",
       "4                   6.500000e+12                      2.300000e+13       0.0   \n",
       "\n",
       "   budget PG-13  budget R  budget yr_old  duration^2  \\\n",
       "0   250000000.0       0.0   1.000000e+09     26896.0   \n",
       "1   263700000.0       0.0   1.054800e+09     17424.0   \n",
       "2   258000000.0       0.0   2.322000e+09     24336.0   \n",
       "3           0.0       0.0   1.560000e+09     10000.0   \n",
       "4   250000000.0       0.0   2.500000e+08     19881.0   \n",
       "\n",
       "   duration actor_1_facebook_likes  duration cast_total_facebook_likes  \\\n",
       "0                        4428000.0                          17508476.0   \n",
       "1                          84480.0                            247236.0   \n",
       "2                        3744000.0                           7184580.0   \n",
       "3                          79900.0                            203600.0   \n",
       "4                        3666000.0                          12972000.0   \n",
       "\n",
       "   duration G  duration PG-13  duration R  duration yr_old  \\\n",
       "0         0.0           164.0         0.0            656.0   \n",
       "1         0.0           132.0         0.0            528.0   \n",
       "2         0.0           156.0         0.0           1404.0   \n",
       "3         0.0             0.0         0.0            600.0   \n",
       "4         0.0           141.0         0.0            141.0   \n",
       "\n",
       "   actor_1_facebook_likes^2  actor_1_facebook_likes cast_total_facebook_likes  \\\n",
       "0               729000000.0                                      2.882493e+09   \n",
       "1                  409600.0                                      1.198720e+06   \n",
       "2               576000000.0                                      1.105320e+09   \n",
       "3                  638401.0                                      1.626764e+06   \n",
       "4               676000000.0                                      2.392000e+09   \n",
       "\n",
       "   actor_1_facebook_likes G  actor_1_facebook_likes PG-13  \\\n",
       "0                       0.0                       27000.0   \n",
       "1                       0.0                         640.0   \n",
       "2                       0.0                       24000.0   \n",
       "3                       0.0                           0.0   \n",
       "4                       0.0                       26000.0   \n",
       "\n",
       "   actor_1_facebook_likes R  actor_1_facebook_likes yr_old  \\\n",
       "0                       0.0                       108000.0   \n",
       "1                       0.0                         2560.0   \n",
       "2                       0.0                       216000.0   \n",
       "3                       0.0                         4794.0   \n",
       "4                       0.0                        26000.0   \n",
       "\n",
       "   cast_total_facebook_likes^2  cast_total_facebook_likes G  \\\n",
       "0                 1.139748e+10                          0.0   \n",
       "1                 3.508129e+06                          0.0   \n",
       "2                 2.121063e+09                          0.0   \n",
       "3                 4.145296e+06                          0.0   \n",
       "4                 8.464000e+09                          0.0   \n",
       "\n",
       "   cast_total_facebook_likes PG-13  cast_total_facebook_likes R  \\\n",
       "0                         106759.0                          0.0   \n",
       "1                           1873.0                          0.0   \n",
       "2                          46055.0                          0.0   \n",
       "3                              0.0                          0.0   \n",
       "4                          92000.0                          0.0   \n",
       "\n",
       "   cast_total_facebook_likes yr_old  G^2  G PG-13  G R  G yr_old  PG-13^2  \\\n",
       "0                          427036.0  0.0      0.0  0.0       0.0      1.0   \n",
       "1                            7492.0  0.0      0.0  0.0       0.0      1.0   \n",
       "2                          414495.0  0.0      0.0  0.0       0.0      1.0   \n",
       "3                           12216.0  0.0      0.0  0.0       0.0      0.0   \n",
       "4                           92000.0  0.0      0.0  0.0       0.0      1.0   \n",
       "\n",
       "   PG-13 R  PG-13 yr_old  R^2  R yr_old  yr_old^2  \n",
       "0      0.0           4.0  0.0       0.0      16.0  \n",
       "1      0.0           4.0  0.0       0.0      16.0  \n",
       "2      0.0           9.0  0.0       0.0      81.0  \n",
       "3      0.0           0.0  0.0       0.0      36.0  \n",
       "4      0.0           1.0  0.0       0.0       1.0  "
      ]
     },
     "execution_count": 33,
     "metadata": {},
     "output_type": "execute_result"
    }
   ],
   "source": [
    "df_poly.head()"
   ]
  },
  {
   "cell_type": "code",
   "execution_count": 34,
   "metadata": {},
   "outputs": [
    {
     "data": {
      "text/plain": [
       "(2326, 8)"
      ]
     },
     "execution_count": 34,
     "metadata": {},
     "output_type": "execute_result"
    }
   ],
   "source": [
    "df_features.shape"
   ]
  },
  {
   "cell_type": "code",
   "execution_count": 35,
   "metadata": {},
   "outputs": [
    {
     "data": {
      "text/plain": [
       "(2326, 44)"
      ]
     },
     "execution_count": 35,
     "metadata": {},
     "output_type": "execute_result"
    }
   ],
   "source": [
    "df_poly.shape"
   ]
  },
  {
   "cell_type": "markdown",
   "metadata": {},
   "source": [
    "### Fit and Assess new model"
   ]
  },
  {
   "cell_type": "code",
   "execution_count": 36,
   "metadata": {},
   "outputs": [
    {
     "name": "stdout",
     "output_type": "stream",
     "text": [
      "R^2:  0.5072078775044466\n"
     ]
    }
   ],
   "source": [
    "\n",
    "#instantiate a linear regression object\n",
    "lm_2 = LinearRegression()\n",
    "\n",
    "#fit the linear regression to the data\n",
    "lm_2 = lm_2.fit(df_poly, target)\n",
    "\n",
    "#access output\n",
    "# print(lm_2.intercept_)\n",
    "# print(lm_2.coef_)\n",
    "print(\"R^2: \", lm_2.score(df_poly, target))"
   ]
  },
  {
   "cell_type": "markdown",
   "metadata": {},
   "source": [
    "### Fit third degree polynomial"
   ]
  },
  {
   "cell_type": "code",
   "execution_count": 37,
   "metadata": {},
   "outputs": [],
   "source": [
    "poly_3 = PolynomialFeatures(degree=3, include_bias=False)\n",
    "poly3_data = poly_3.fit_transform(df_features)\n",
    "poly3_columns = poly_3.get_feature_names(df_features.columns)\n",
    "df_poly3 = pd.DataFrame(poly3_data, columns=poly3_columns)"
   ]
  },
  {
   "cell_type": "code",
   "execution_count": 38,
   "metadata": {},
   "outputs": [
    {
     "data": {
      "text/plain": [
       "(2326, 164)"
      ]
     },
     "execution_count": 38,
     "metadata": {},
     "output_type": "execute_result"
    }
   ],
   "source": [
    "df_poly3.shape"
   ]
  },
  {
   "cell_type": "code",
   "execution_count": 39,
   "metadata": {},
   "outputs": [
    {
     "data": {
      "text/html": [
       "<div>\n",
       "<style scoped>\n",
       "    .dataframe tbody tr th:only-of-type {\n",
       "        vertical-align: middle;\n",
       "    }\n",
       "\n",
       "    .dataframe tbody tr th {\n",
       "        vertical-align: top;\n",
       "    }\n",
       "\n",
       "    .dataframe thead th {\n",
       "        text-align: right;\n",
       "    }\n",
       "</style>\n",
       "<table border=\"1\" class=\"dataframe\">\n",
       "  <thead>\n",
       "    <tr style=\"text-align: right;\">\n",
       "      <th></th>\n",
       "      <th>budget</th>\n",
       "      <th>duration</th>\n",
       "      <th>actor_1_facebook_likes</th>\n",
       "      <th>cast_total_facebook_likes</th>\n",
       "      <th>G</th>\n",
       "      <th>PG-13</th>\n",
       "      <th>R</th>\n",
       "      <th>yr_old</th>\n",
       "      <th>budget^2</th>\n",
       "      <th>budget duration</th>\n",
       "      <th>budget actor_1_facebook_likes</th>\n",
       "      <th>budget cast_total_facebook_likes</th>\n",
       "      <th>budget G</th>\n",
       "      <th>budget PG-13</th>\n",
       "      <th>budget R</th>\n",
       "      <th>budget yr_old</th>\n",
       "      <th>duration^2</th>\n",
       "      <th>duration actor_1_facebook_likes</th>\n",
       "      <th>duration cast_total_facebook_likes</th>\n",
       "      <th>duration G</th>\n",
       "      <th>duration PG-13</th>\n",
       "      <th>duration R</th>\n",
       "      <th>duration yr_old</th>\n",
       "      <th>actor_1_facebook_likes^2</th>\n",
       "      <th>actor_1_facebook_likes cast_total_facebook_likes</th>\n",
       "      <th>actor_1_facebook_likes G</th>\n",
       "      <th>actor_1_facebook_likes PG-13</th>\n",
       "      <th>actor_1_facebook_likes R</th>\n",
       "      <th>actor_1_facebook_likes yr_old</th>\n",
       "      <th>cast_total_facebook_likes^2</th>\n",
       "      <th>cast_total_facebook_likes G</th>\n",
       "      <th>cast_total_facebook_likes PG-13</th>\n",
       "      <th>cast_total_facebook_likes R</th>\n",
       "      <th>cast_total_facebook_likes yr_old</th>\n",
       "      <th>G^2</th>\n",
       "      <th>G PG-13</th>\n",
       "      <th>G R</th>\n",
       "      <th>G yr_old</th>\n",
       "      <th>PG-13^2</th>\n",
       "      <th>PG-13 R</th>\n",
       "      <th>PG-13 yr_old</th>\n",
       "      <th>R^2</th>\n",
       "      <th>R yr_old</th>\n",
       "      <th>yr_old^2</th>\n",
       "      <th>budget^3</th>\n",
       "      <th>budget^2 duration</th>\n",
       "      <th>budget^2 actor_1_facebook_likes</th>\n",
       "      <th>budget^2 cast_total_facebook_likes</th>\n",
       "      <th>budget^2 G</th>\n",
       "      <th>budget^2 PG-13</th>\n",
       "      <th>budget^2 R</th>\n",
       "      <th>budget^2 yr_old</th>\n",
       "      <th>budget duration^2</th>\n",
       "      <th>budget duration actor_1_facebook_likes</th>\n",
       "      <th>budget duration cast_total_facebook_likes</th>\n",
       "      <th>budget duration G</th>\n",
       "      <th>budget duration PG-13</th>\n",
       "      <th>budget duration R</th>\n",
       "      <th>budget duration yr_old</th>\n",
       "      <th>budget actor_1_facebook_likes^2</th>\n",
       "      <th>budget actor_1_facebook_likes cast_total_facebook_likes</th>\n",
       "      <th>budget actor_1_facebook_likes G</th>\n",
       "      <th>budget actor_1_facebook_likes PG-13</th>\n",
       "      <th>budget actor_1_facebook_likes R</th>\n",
       "      <th>budget actor_1_facebook_likes yr_old</th>\n",
       "      <th>budget cast_total_facebook_likes^2</th>\n",
       "      <th>budget cast_total_facebook_likes G</th>\n",
       "      <th>budget cast_total_facebook_likes PG-13</th>\n",
       "      <th>budget cast_total_facebook_likes R</th>\n",
       "      <th>budget cast_total_facebook_likes yr_old</th>\n",
       "      <th>budget G^2</th>\n",
       "      <th>budget G PG-13</th>\n",
       "      <th>budget G R</th>\n",
       "      <th>budget G yr_old</th>\n",
       "      <th>budget PG-13^2</th>\n",
       "      <th>budget PG-13 R</th>\n",
       "      <th>budget PG-13 yr_old</th>\n",
       "      <th>budget R^2</th>\n",
       "      <th>budget R yr_old</th>\n",
       "      <th>budget yr_old^2</th>\n",
       "      <th>duration^3</th>\n",
       "      <th>duration^2 actor_1_facebook_likes</th>\n",
       "      <th>duration^2 cast_total_facebook_likes</th>\n",
       "      <th>duration^2 G</th>\n",
       "      <th>duration^2 PG-13</th>\n",
       "      <th>duration^2 R</th>\n",
       "      <th>duration^2 yr_old</th>\n",
       "      <th>duration actor_1_facebook_likes^2</th>\n",
       "      <th>duration actor_1_facebook_likes cast_total_facebook_likes</th>\n",
       "      <th>duration actor_1_facebook_likes G</th>\n",
       "      <th>duration actor_1_facebook_likes PG-13</th>\n",
       "      <th>duration actor_1_facebook_likes R</th>\n",
       "      <th>duration actor_1_facebook_likes yr_old</th>\n",
       "      <th>duration cast_total_facebook_likes^2</th>\n",
       "      <th>duration cast_total_facebook_likes G</th>\n",
       "      <th>duration cast_total_facebook_likes PG-13</th>\n",
       "      <th>duration cast_total_facebook_likes R</th>\n",
       "      <th>duration cast_total_facebook_likes yr_old</th>\n",
       "      <th>duration G^2</th>\n",
       "      <th>duration G PG-13</th>\n",
       "      <th>duration G R</th>\n",
       "      <th>duration G yr_old</th>\n",
       "      <th>duration PG-13^2</th>\n",
       "      <th>duration PG-13 R</th>\n",
       "      <th>duration PG-13 yr_old</th>\n",
       "      <th>duration R^2</th>\n",
       "      <th>duration R yr_old</th>\n",
       "      <th>duration yr_old^2</th>\n",
       "      <th>actor_1_facebook_likes^3</th>\n",
       "      <th>actor_1_facebook_likes^2 cast_total_facebook_likes</th>\n",
       "      <th>actor_1_facebook_likes^2 G</th>\n",
       "      <th>actor_1_facebook_likes^2 PG-13</th>\n",
       "      <th>actor_1_facebook_likes^2 R</th>\n",
       "      <th>actor_1_facebook_likes^2 yr_old</th>\n",
       "      <th>actor_1_facebook_likes cast_total_facebook_likes^2</th>\n",
       "      <th>actor_1_facebook_likes cast_total_facebook_likes G</th>\n",
       "      <th>actor_1_facebook_likes cast_total_facebook_likes PG-13</th>\n",
       "      <th>actor_1_facebook_likes cast_total_facebook_likes R</th>\n",
       "      <th>actor_1_facebook_likes cast_total_facebook_likes yr_old</th>\n",
       "      <th>actor_1_facebook_likes G^2</th>\n",
       "      <th>actor_1_facebook_likes G PG-13</th>\n",
       "      <th>actor_1_facebook_likes G R</th>\n",
       "      <th>actor_1_facebook_likes G yr_old</th>\n",
       "      <th>actor_1_facebook_likes PG-13^2</th>\n",
       "      <th>actor_1_facebook_likes PG-13 R</th>\n",
       "      <th>actor_1_facebook_likes PG-13 yr_old</th>\n",
       "      <th>actor_1_facebook_likes R^2</th>\n",
       "      <th>actor_1_facebook_likes R yr_old</th>\n",
       "      <th>actor_1_facebook_likes yr_old^2</th>\n",
       "      <th>cast_total_facebook_likes^3</th>\n",
       "      <th>cast_total_facebook_likes^2 G</th>\n",
       "      <th>cast_total_facebook_likes^2 PG-13</th>\n",
       "      <th>cast_total_facebook_likes^2 R</th>\n",
       "      <th>cast_total_facebook_likes^2 yr_old</th>\n",
       "      <th>cast_total_facebook_likes G^2</th>\n",
       "      <th>cast_total_facebook_likes G PG-13</th>\n",
       "      <th>cast_total_facebook_likes G R</th>\n",
       "      <th>cast_total_facebook_likes G yr_old</th>\n",
       "      <th>cast_total_facebook_likes PG-13^2</th>\n",
       "      <th>cast_total_facebook_likes PG-13 R</th>\n",
       "      <th>cast_total_facebook_likes PG-13 yr_old</th>\n",
       "      <th>cast_total_facebook_likes R^2</th>\n",
       "      <th>cast_total_facebook_likes R yr_old</th>\n",
       "      <th>cast_total_facebook_likes yr_old^2</th>\n",
       "      <th>G^3</th>\n",
       "      <th>G^2 PG-13</th>\n",
       "      <th>G^2 R</th>\n",
       "      <th>G^2 yr_old</th>\n",
       "      <th>G PG-13^2</th>\n",
       "      <th>G PG-13 R</th>\n",
       "      <th>G PG-13 yr_old</th>\n",
       "      <th>G R^2</th>\n",
       "      <th>G R yr_old</th>\n",
       "      <th>G yr_old^2</th>\n",
       "      <th>PG-13^3</th>\n",
       "      <th>PG-13^2 R</th>\n",
       "      <th>PG-13^2 yr_old</th>\n",
       "      <th>PG-13 R^2</th>\n",
       "      <th>PG-13 R yr_old</th>\n",
       "      <th>PG-13 yr_old^2</th>\n",
       "      <th>R^3</th>\n",
       "      <th>R^2 yr_old</th>\n",
       "      <th>R yr_old^2</th>\n",
       "      <th>yr_old^3</th>\n",
       "    </tr>\n",
       "  </thead>\n",
       "  <tbody>\n",
       "    <tr>\n",
       "      <th>0</th>\n",
       "      <td>250000000.0</td>\n",
       "      <td>164.0</td>\n",
       "      <td>27000.0</td>\n",
       "      <td>106759.0</td>\n",
       "      <td>0.0</td>\n",
       "      <td>1.0</td>\n",
       "      <td>0.0</td>\n",
       "      <td>4.0</td>\n",
       "      <td>6.250000e+16</td>\n",
       "      <td>4.100000e+10</td>\n",
       "      <td>6.750000e+12</td>\n",
       "      <td>2.668975e+13</td>\n",
       "      <td>0.0</td>\n",
       "      <td>250000000.0</td>\n",
       "      <td>0.0</td>\n",
       "      <td>1.000000e+09</td>\n",
       "      <td>26896.0</td>\n",
       "      <td>4428000.0</td>\n",
       "      <td>17508476.0</td>\n",
       "      <td>0.0</td>\n",
       "      <td>164.0</td>\n",
       "      <td>0.0</td>\n",
       "      <td>656.0</td>\n",
       "      <td>729000000.0</td>\n",
       "      <td>2.882493e+09</td>\n",
       "      <td>0.0</td>\n",
       "      <td>27000.0</td>\n",
       "      <td>0.0</td>\n",
       "      <td>108000.0</td>\n",
       "      <td>1.139748e+10</td>\n",
       "      <td>0.0</td>\n",
       "      <td>106759.0</td>\n",
       "      <td>0.0</td>\n",
       "      <td>427036.0</td>\n",
       "      <td>0.0</td>\n",
       "      <td>0.0</td>\n",
       "      <td>0.0</td>\n",
       "      <td>0.0</td>\n",
       "      <td>1.0</td>\n",
       "      <td>0.0</td>\n",
       "      <td>4.0</td>\n",
       "      <td>0.0</td>\n",
       "      <td>0.0</td>\n",
       "      <td>16.0</td>\n",
       "      <td>1.562500e+25</td>\n",
       "      <td>1.025000e+19</td>\n",
       "      <td>1.687500e+21</td>\n",
       "      <td>6.672438e+21</td>\n",
       "      <td>0.0</td>\n",
       "      <td>6.250000e+16</td>\n",
       "      <td>0.0</td>\n",
       "      <td>2.500000e+17</td>\n",
       "      <td>6.724000e+12</td>\n",
       "      <td>1.107000e+15</td>\n",
       "      <td>4.377119e+15</td>\n",
       "      <td>0.0</td>\n",
       "      <td>4.100000e+10</td>\n",
       "      <td>0.0</td>\n",
       "      <td>1.640000e+11</td>\n",
       "      <td>1.822500e+17</td>\n",
       "      <td>7.206232e+17</td>\n",
       "      <td>0.0</td>\n",
       "      <td>6.750000e+12</td>\n",
       "      <td>0.0</td>\n",
       "      <td>2.700000e+13</td>\n",
       "      <td>2.849371e+18</td>\n",
       "      <td>0.0</td>\n",
       "      <td>2.668975e+13</td>\n",
       "      <td>0.0</td>\n",
       "      <td>1.067590e+14</td>\n",
       "      <td>0.0</td>\n",
       "      <td>0.0</td>\n",
       "      <td>0.0</td>\n",
       "      <td>0.0</td>\n",
       "      <td>250000000.0</td>\n",
       "      <td>0.0</td>\n",
       "      <td>1.000000e+09</td>\n",
       "      <td>0.0</td>\n",
       "      <td>0.0</td>\n",
       "      <td>4.000000e+09</td>\n",
       "      <td>4410944.0</td>\n",
       "      <td>726192000.0</td>\n",
       "      <td>2.871390e+09</td>\n",
       "      <td>0.0</td>\n",
       "      <td>26896.0</td>\n",
       "      <td>0.0</td>\n",
       "      <td>107584.0</td>\n",
       "      <td>1.195560e+11</td>\n",
       "      <td>4.727289e+11</td>\n",
       "      <td>0.0</td>\n",
       "      <td>4428000.0</td>\n",
       "      <td>0.0</td>\n",
       "      <td>17712000.0</td>\n",
       "      <td>1.869187e+12</td>\n",
       "      <td>0.0</td>\n",
       "      <td>17508476.0</td>\n",
       "      <td>0.0</td>\n",
       "      <td>70033904.0</td>\n",
       "      <td>0.0</td>\n",
       "      <td>0.0</td>\n",
       "      <td>0.0</td>\n",
       "      <td>0.0</td>\n",
       "      <td>164.0</td>\n",
       "      <td>0.0</td>\n",
       "      <td>656.0</td>\n",
       "      <td>0.0</td>\n",
       "      <td>0.0</td>\n",
       "      <td>2624.0</td>\n",
       "      <td>1.968300e+13</td>\n",
       "      <td>7.782731e+13</td>\n",
       "      <td>0.0</td>\n",
       "      <td>729000000.0</td>\n",
       "      <td>0.0</td>\n",
       "      <td>2.916000e+09</td>\n",
       "      <td>3.077321e+14</td>\n",
       "      <td>0.0</td>\n",
       "      <td>2.882493e+09</td>\n",
       "      <td>0.0</td>\n",
       "      <td>1.152997e+10</td>\n",
       "      <td>0.0</td>\n",
       "      <td>0.0</td>\n",
       "      <td>0.0</td>\n",
       "      <td>0.0</td>\n",
       "      <td>27000.0</td>\n",
       "      <td>0.0</td>\n",
       "      <td>108000.0</td>\n",
       "      <td>0.0</td>\n",
       "      <td>0.0</td>\n",
       "      <td>432000.0</td>\n",
       "      <td>1.216784e+15</td>\n",
       "      <td>0.0</td>\n",
       "      <td>1.139748e+10</td>\n",
       "      <td>0.0</td>\n",
       "      <td>4.558994e+10</td>\n",
       "      <td>0.0</td>\n",
       "      <td>0.0</td>\n",
       "      <td>0.0</td>\n",
       "      <td>0.0</td>\n",
       "      <td>106759.0</td>\n",
       "      <td>0.0</td>\n",
       "      <td>427036.0</td>\n",
       "      <td>0.0</td>\n",
       "      <td>0.0</td>\n",
       "      <td>1708144.0</td>\n",
       "      <td>0.0</td>\n",
       "      <td>0.0</td>\n",
       "      <td>0.0</td>\n",
       "      <td>0.0</td>\n",
       "      <td>0.0</td>\n",
       "      <td>0.0</td>\n",
       "      <td>0.0</td>\n",
       "      <td>0.0</td>\n",
       "      <td>0.0</td>\n",
       "      <td>0.0</td>\n",
       "      <td>1.0</td>\n",
       "      <td>0.0</td>\n",
       "      <td>4.0</td>\n",
       "      <td>0.0</td>\n",
       "      <td>0.0</td>\n",
       "      <td>16.0</td>\n",
       "      <td>0.0</td>\n",
       "      <td>0.0</td>\n",
       "      <td>0.0</td>\n",
       "      <td>64.0</td>\n",
       "    </tr>\n",
       "    <tr>\n",
       "      <th>1</th>\n",
       "      <td>263700000.0</td>\n",
       "      <td>132.0</td>\n",
       "      <td>640.0</td>\n",
       "      <td>1873.0</td>\n",
       "      <td>0.0</td>\n",
       "      <td>1.0</td>\n",
       "      <td>0.0</td>\n",
       "      <td>4.0</td>\n",
       "      <td>6.953769e+16</td>\n",
       "      <td>3.480840e+10</td>\n",
       "      <td>1.687680e+11</td>\n",
       "      <td>4.939101e+11</td>\n",
       "      <td>0.0</td>\n",
       "      <td>263700000.0</td>\n",
       "      <td>0.0</td>\n",
       "      <td>1.054800e+09</td>\n",
       "      <td>17424.0</td>\n",
       "      <td>84480.0</td>\n",
       "      <td>247236.0</td>\n",
       "      <td>0.0</td>\n",
       "      <td>132.0</td>\n",
       "      <td>0.0</td>\n",
       "      <td>528.0</td>\n",
       "      <td>409600.0</td>\n",
       "      <td>1.198720e+06</td>\n",
       "      <td>0.0</td>\n",
       "      <td>640.0</td>\n",
       "      <td>0.0</td>\n",
       "      <td>2560.0</td>\n",
       "      <td>3.508129e+06</td>\n",
       "      <td>0.0</td>\n",
       "      <td>1873.0</td>\n",
       "      <td>0.0</td>\n",
       "      <td>7492.0</td>\n",
       "      <td>0.0</td>\n",
       "      <td>0.0</td>\n",
       "      <td>0.0</td>\n",
       "      <td>0.0</td>\n",
       "      <td>1.0</td>\n",
       "      <td>0.0</td>\n",
       "      <td>4.0</td>\n",
       "      <td>0.0</td>\n",
       "      <td>0.0</td>\n",
       "      <td>16.0</td>\n",
       "      <td>1.833709e+25</td>\n",
       "      <td>9.178975e+18</td>\n",
       "      <td>4.450412e+19</td>\n",
       "      <td>1.302441e+20</td>\n",
       "      <td>0.0</td>\n",
       "      <td>6.953769e+16</td>\n",
       "      <td>0.0</td>\n",
       "      <td>2.781508e+17</td>\n",
       "      <td>4.594709e+12</td>\n",
       "      <td>2.227738e+13</td>\n",
       "      <td>6.519613e+13</td>\n",
       "      <td>0.0</td>\n",
       "      <td>3.480840e+10</td>\n",
       "      <td>0.0</td>\n",
       "      <td>1.392336e+11</td>\n",
       "      <td>1.080115e+14</td>\n",
       "      <td>3.161025e+14</td>\n",
       "      <td>0.0</td>\n",
       "      <td>1.687680e+11</td>\n",
       "      <td>0.0</td>\n",
       "      <td>6.750720e+11</td>\n",
       "      <td>9.250936e+14</td>\n",
       "      <td>0.0</td>\n",
       "      <td>4.939101e+11</td>\n",
       "      <td>0.0</td>\n",
       "      <td>1.975640e+12</td>\n",
       "      <td>0.0</td>\n",
       "      <td>0.0</td>\n",
       "      <td>0.0</td>\n",
       "      <td>0.0</td>\n",
       "      <td>263700000.0</td>\n",
       "      <td>0.0</td>\n",
       "      <td>1.054800e+09</td>\n",
       "      <td>0.0</td>\n",
       "      <td>0.0</td>\n",
       "      <td>4.219200e+09</td>\n",
       "      <td>2299968.0</td>\n",
       "      <td>11151360.0</td>\n",
       "      <td>3.263515e+07</td>\n",
       "      <td>0.0</td>\n",
       "      <td>17424.0</td>\n",
       "      <td>0.0</td>\n",
       "      <td>69696.0</td>\n",
       "      <td>5.406720e+07</td>\n",
       "      <td>1.582310e+08</td>\n",
       "      <td>0.0</td>\n",
       "      <td>84480.0</td>\n",
       "      <td>0.0</td>\n",
       "      <td>337920.0</td>\n",
       "      <td>4.630730e+08</td>\n",
       "      <td>0.0</td>\n",
       "      <td>247236.0</td>\n",
       "      <td>0.0</td>\n",
       "      <td>988944.0</td>\n",
       "      <td>0.0</td>\n",
       "      <td>0.0</td>\n",
       "      <td>0.0</td>\n",
       "      <td>0.0</td>\n",
       "      <td>132.0</td>\n",
       "      <td>0.0</td>\n",
       "      <td>528.0</td>\n",
       "      <td>0.0</td>\n",
       "      <td>0.0</td>\n",
       "      <td>2112.0</td>\n",
       "      <td>2.621440e+08</td>\n",
       "      <td>7.671808e+08</td>\n",
       "      <td>0.0</td>\n",
       "      <td>409600.0</td>\n",
       "      <td>0.0</td>\n",
       "      <td>1.638400e+06</td>\n",
       "      <td>2.245203e+09</td>\n",
       "      <td>0.0</td>\n",
       "      <td>1.198720e+06</td>\n",
       "      <td>0.0</td>\n",
       "      <td>4.794880e+06</td>\n",
       "      <td>0.0</td>\n",
       "      <td>0.0</td>\n",
       "      <td>0.0</td>\n",
       "      <td>0.0</td>\n",
       "      <td>640.0</td>\n",
       "      <td>0.0</td>\n",
       "      <td>2560.0</td>\n",
       "      <td>0.0</td>\n",
       "      <td>0.0</td>\n",
       "      <td>10240.0</td>\n",
       "      <td>6.570726e+09</td>\n",
       "      <td>0.0</td>\n",
       "      <td>3.508129e+06</td>\n",
       "      <td>0.0</td>\n",
       "      <td>1.403252e+07</td>\n",
       "      <td>0.0</td>\n",
       "      <td>0.0</td>\n",
       "      <td>0.0</td>\n",
       "      <td>0.0</td>\n",
       "      <td>1873.0</td>\n",
       "      <td>0.0</td>\n",
       "      <td>7492.0</td>\n",
       "      <td>0.0</td>\n",
       "      <td>0.0</td>\n",
       "      <td>29968.0</td>\n",
       "      <td>0.0</td>\n",
       "      <td>0.0</td>\n",
       "      <td>0.0</td>\n",
       "      <td>0.0</td>\n",
       "      <td>0.0</td>\n",
       "      <td>0.0</td>\n",
       "      <td>0.0</td>\n",
       "      <td>0.0</td>\n",
       "      <td>0.0</td>\n",
       "      <td>0.0</td>\n",
       "      <td>1.0</td>\n",
       "      <td>0.0</td>\n",
       "      <td>4.0</td>\n",
       "      <td>0.0</td>\n",
       "      <td>0.0</td>\n",
       "      <td>16.0</td>\n",
       "      <td>0.0</td>\n",
       "      <td>0.0</td>\n",
       "      <td>0.0</td>\n",
       "      <td>64.0</td>\n",
       "    </tr>\n",
       "    <tr>\n",
       "      <th>2</th>\n",
       "      <td>258000000.0</td>\n",
       "      <td>156.0</td>\n",
       "      <td>24000.0</td>\n",
       "      <td>46055.0</td>\n",
       "      <td>0.0</td>\n",
       "      <td>1.0</td>\n",
       "      <td>0.0</td>\n",
       "      <td>9.0</td>\n",
       "      <td>6.656400e+16</td>\n",
       "      <td>4.024800e+10</td>\n",
       "      <td>6.192000e+12</td>\n",
       "      <td>1.188219e+13</td>\n",
       "      <td>0.0</td>\n",
       "      <td>258000000.0</td>\n",
       "      <td>0.0</td>\n",
       "      <td>2.322000e+09</td>\n",
       "      <td>24336.0</td>\n",
       "      <td>3744000.0</td>\n",
       "      <td>7184580.0</td>\n",
       "      <td>0.0</td>\n",
       "      <td>156.0</td>\n",
       "      <td>0.0</td>\n",
       "      <td>1404.0</td>\n",
       "      <td>576000000.0</td>\n",
       "      <td>1.105320e+09</td>\n",
       "      <td>0.0</td>\n",
       "      <td>24000.0</td>\n",
       "      <td>0.0</td>\n",
       "      <td>216000.0</td>\n",
       "      <td>2.121063e+09</td>\n",
       "      <td>0.0</td>\n",
       "      <td>46055.0</td>\n",
       "      <td>0.0</td>\n",
       "      <td>414495.0</td>\n",
       "      <td>0.0</td>\n",
       "      <td>0.0</td>\n",
       "      <td>0.0</td>\n",
       "      <td>0.0</td>\n",
       "      <td>1.0</td>\n",
       "      <td>0.0</td>\n",
       "      <td>9.0</td>\n",
       "      <td>0.0</td>\n",
       "      <td>0.0</td>\n",
       "      <td>81.0</td>\n",
       "      <td>1.717351e+25</td>\n",
       "      <td>1.038398e+19</td>\n",
       "      <td>1.597536e+21</td>\n",
       "      <td>3.065605e+21</td>\n",
       "      <td>0.0</td>\n",
       "      <td>6.656400e+16</td>\n",
       "      <td>0.0</td>\n",
       "      <td>5.990760e+17</td>\n",
       "      <td>6.278688e+12</td>\n",
       "      <td>9.659520e+14</td>\n",
       "      <td>1.853622e+15</td>\n",
       "      <td>0.0</td>\n",
       "      <td>4.024800e+10</td>\n",
       "      <td>0.0</td>\n",
       "      <td>3.622320e+11</td>\n",
       "      <td>1.486080e+17</td>\n",
       "      <td>2.851726e+17</td>\n",
       "      <td>0.0</td>\n",
       "      <td>6.192000e+12</td>\n",
       "      <td>0.0</td>\n",
       "      <td>5.572800e+13</td>\n",
       "      <td>5.472343e+17</td>\n",
       "      <td>0.0</td>\n",
       "      <td>1.188219e+13</td>\n",
       "      <td>0.0</td>\n",
       "      <td>1.069397e+14</td>\n",
       "      <td>0.0</td>\n",
       "      <td>0.0</td>\n",
       "      <td>0.0</td>\n",
       "      <td>0.0</td>\n",
       "      <td>258000000.0</td>\n",
       "      <td>0.0</td>\n",
       "      <td>2.322000e+09</td>\n",
       "      <td>0.0</td>\n",
       "      <td>0.0</td>\n",
       "      <td>2.089800e+10</td>\n",
       "      <td>3796416.0</td>\n",
       "      <td>584064000.0</td>\n",
       "      <td>1.120794e+09</td>\n",
       "      <td>0.0</td>\n",
       "      <td>24336.0</td>\n",
       "      <td>0.0</td>\n",
       "      <td>219024.0</td>\n",
       "      <td>8.985600e+10</td>\n",
       "      <td>1.724299e+11</td>\n",
       "      <td>0.0</td>\n",
       "      <td>3744000.0</td>\n",
       "      <td>0.0</td>\n",
       "      <td>33696000.0</td>\n",
       "      <td>3.308858e+11</td>\n",
       "      <td>0.0</td>\n",
       "      <td>7184580.0</td>\n",
       "      <td>0.0</td>\n",
       "      <td>64661220.0</td>\n",
       "      <td>0.0</td>\n",
       "      <td>0.0</td>\n",
       "      <td>0.0</td>\n",
       "      <td>0.0</td>\n",
       "      <td>156.0</td>\n",
       "      <td>0.0</td>\n",
       "      <td>1404.0</td>\n",
       "      <td>0.0</td>\n",
       "      <td>0.0</td>\n",
       "      <td>12636.0</td>\n",
       "      <td>1.382400e+13</td>\n",
       "      <td>2.652768e+13</td>\n",
       "      <td>0.0</td>\n",
       "      <td>576000000.0</td>\n",
       "      <td>0.0</td>\n",
       "      <td>5.184000e+09</td>\n",
       "      <td>5.090551e+13</td>\n",
       "      <td>0.0</td>\n",
       "      <td>1.105320e+09</td>\n",
       "      <td>0.0</td>\n",
       "      <td>9.947880e+09</td>\n",
       "      <td>0.0</td>\n",
       "      <td>0.0</td>\n",
       "      <td>0.0</td>\n",
       "      <td>0.0</td>\n",
       "      <td>24000.0</td>\n",
       "      <td>0.0</td>\n",
       "      <td>216000.0</td>\n",
       "      <td>0.0</td>\n",
       "      <td>0.0</td>\n",
       "      <td>1944000.0</td>\n",
       "      <td>9.768556e+13</td>\n",
       "      <td>0.0</td>\n",
       "      <td>2.121063e+09</td>\n",
       "      <td>0.0</td>\n",
       "      <td>1.908957e+10</td>\n",
       "      <td>0.0</td>\n",
       "      <td>0.0</td>\n",
       "      <td>0.0</td>\n",
       "      <td>0.0</td>\n",
       "      <td>46055.0</td>\n",
       "      <td>0.0</td>\n",
       "      <td>414495.0</td>\n",
       "      <td>0.0</td>\n",
       "      <td>0.0</td>\n",
       "      <td>3730455.0</td>\n",
       "      <td>0.0</td>\n",
       "      <td>0.0</td>\n",
       "      <td>0.0</td>\n",
       "      <td>0.0</td>\n",
       "      <td>0.0</td>\n",
       "      <td>0.0</td>\n",
       "      <td>0.0</td>\n",
       "      <td>0.0</td>\n",
       "      <td>0.0</td>\n",
       "      <td>0.0</td>\n",
       "      <td>1.0</td>\n",
       "      <td>0.0</td>\n",
       "      <td>9.0</td>\n",
       "      <td>0.0</td>\n",
       "      <td>0.0</td>\n",
       "      <td>81.0</td>\n",
       "      <td>0.0</td>\n",
       "      <td>0.0</td>\n",
       "      <td>0.0</td>\n",
       "      <td>729.0</td>\n",
       "    </tr>\n",
       "    <tr>\n",
       "      <th>3</th>\n",
       "      <td>260000000.0</td>\n",
       "      <td>100.0</td>\n",
       "      <td>799.0</td>\n",
       "      <td>2036.0</td>\n",
       "      <td>0.0</td>\n",
       "      <td>0.0</td>\n",
       "      <td>0.0</td>\n",
       "      <td>6.0</td>\n",
       "      <td>6.760000e+16</td>\n",
       "      <td>2.600000e+10</td>\n",
       "      <td>2.077400e+11</td>\n",
       "      <td>5.293600e+11</td>\n",
       "      <td>0.0</td>\n",
       "      <td>0.0</td>\n",
       "      <td>0.0</td>\n",
       "      <td>1.560000e+09</td>\n",
       "      <td>10000.0</td>\n",
       "      <td>79900.0</td>\n",
       "      <td>203600.0</td>\n",
       "      <td>0.0</td>\n",
       "      <td>0.0</td>\n",
       "      <td>0.0</td>\n",
       "      <td>600.0</td>\n",
       "      <td>638401.0</td>\n",
       "      <td>1.626764e+06</td>\n",
       "      <td>0.0</td>\n",
       "      <td>0.0</td>\n",
       "      <td>0.0</td>\n",
       "      <td>4794.0</td>\n",
       "      <td>4.145296e+06</td>\n",
       "      <td>0.0</td>\n",
       "      <td>0.0</td>\n",
       "      <td>0.0</td>\n",
       "      <td>12216.0</td>\n",
       "      <td>0.0</td>\n",
       "      <td>0.0</td>\n",
       "      <td>0.0</td>\n",
       "      <td>0.0</td>\n",
       "      <td>0.0</td>\n",
       "      <td>0.0</td>\n",
       "      <td>0.0</td>\n",
       "      <td>0.0</td>\n",
       "      <td>0.0</td>\n",
       "      <td>36.0</td>\n",
       "      <td>1.757600e+25</td>\n",
       "      <td>6.760000e+18</td>\n",
       "      <td>5.401240e+19</td>\n",
       "      <td>1.376336e+20</td>\n",
       "      <td>0.0</td>\n",
       "      <td>0.000000e+00</td>\n",
       "      <td>0.0</td>\n",
       "      <td>4.056000e+17</td>\n",
       "      <td>2.600000e+12</td>\n",
       "      <td>2.077400e+13</td>\n",
       "      <td>5.293600e+13</td>\n",
       "      <td>0.0</td>\n",
       "      <td>0.000000e+00</td>\n",
       "      <td>0.0</td>\n",
       "      <td>1.560000e+11</td>\n",
       "      <td>1.659843e+14</td>\n",
       "      <td>4.229586e+14</td>\n",
       "      <td>0.0</td>\n",
       "      <td>0.000000e+00</td>\n",
       "      <td>0.0</td>\n",
       "      <td>1.246440e+12</td>\n",
       "      <td>1.077777e+15</td>\n",
       "      <td>0.0</td>\n",
       "      <td>0.000000e+00</td>\n",
       "      <td>0.0</td>\n",
       "      <td>3.176160e+12</td>\n",
       "      <td>0.0</td>\n",
       "      <td>0.0</td>\n",
       "      <td>0.0</td>\n",
       "      <td>0.0</td>\n",
       "      <td>0.0</td>\n",
       "      <td>0.0</td>\n",
       "      <td>0.000000e+00</td>\n",
       "      <td>0.0</td>\n",
       "      <td>0.0</td>\n",
       "      <td>9.360000e+09</td>\n",
       "      <td>1000000.0</td>\n",
       "      <td>7990000.0</td>\n",
       "      <td>2.036000e+07</td>\n",
       "      <td>0.0</td>\n",
       "      <td>0.0</td>\n",
       "      <td>0.0</td>\n",
       "      <td>60000.0</td>\n",
       "      <td>6.384010e+07</td>\n",
       "      <td>1.626764e+08</td>\n",
       "      <td>0.0</td>\n",
       "      <td>0.0</td>\n",
       "      <td>0.0</td>\n",
       "      <td>479400.0</td>\n",
       "      <td>4.145296e+08</td>\n",
       "      <td>0.0</td>\n",
       "      <td>0.0</td>\n",
       "      <td>0.0</td>\n",
       "      <td>1221600.0</td>\n",
       "      <td>0.0</td>\n",
       "      <td>0.0</td>\n",
       "      <td>0.0</td>\n",
       "      <td>0.0</td>\n",
       "      <td>0.0</td>\n",
       "      <td>0.0</td>\n",
       "      <td>0.0</td>\n",
       "      <td>0.0</td>\n",
       "      <td>0.0</td>\n",
       "      <td>3600.0</td>\n",
       "      <td>5.100824e+08</td>\n",
       "      <td>1.299784e+09</td>\n",
       "      <td>0.0</td>\n",
       "      <td>0.0</td>\n",
       "      <td>0.0</td>\n",
       "      <td>3.830406e+06</td>\n",
       "      <td>3.312092e+09</td>\n",
       "      <td>0.0</td>\n",
       "      <td>0.000000e+00</td>\n",
       "      <td>0.0</td>\n",
       "      <td>9.760584e+06</td>\n",
       "      <td>0.0</td>\n",
       "      <td>0.0</td>\n",
       "      <td>0.0</td>\n",
       "      <td>0.0</td>\n",
       "      <td>0.0</td>\n",
       "      <td>0.0</td>\n",
       "      <td>0.0</td>\n",
       "      <td>0.0</td>\n",
       "      <td>0.0</td>\n",
       "      <td>28764.0</td>\n",
       "      <td>8.439823e+09</td>\n",
       "      <td>0.0</td>\n",
       "      <td>0.000000e+00</td>\n",
       "      <td>0.0</td>\n",
       "      <td>2.487178e+07</td>\n",
       "      <td>0.0</td>\n",
       "      <td>0.0</td>\n",
       "      <td>0.0</td>\n",
       "      <td>0.0</td>\n",
       "      <td>0.0</td>\n",
       "      <td>0.0</td>\n",
       "      <td>0.0</td>\n",
       "      <td>0.0</td>\n",
       "      <td>0.0</td>\n",
       "      <td>73296.0</td>\n",
       "      <td>0.0</td>\n",
       "      <td>0.0</td>\n",
       "      <td>0.0</td>\n",
       "      <td>0.0</td>\n",
       "      <td>0.0</td>\n",
       "      <td>0.0</td>\n",
       "      <td>0.0</td>\n",
       "      <td>0.0</td>\n",
       "      <td>0.0</td>\n",
       "      <td>0.0</td>\n",
       "      <td>0.0</td>\n",
       "      <td>0.0</td>\n",
       "      <td>0.0</td>\n",
       "      <td>0.0</td>\n",
       "      <td>0.0</td>\n",
       "      <td>0.0</td>\n",
       "      <td>0.0</td>\n",
       "      <td>0.0</td>\n",
       "      <td>0.0</td>\n",
       "      <td>216.0</td>\n",
       "    </tr>\n",
       "    <tr>\n",
       "      <th>4</th>\n",
       "      <td>250000000.0</td>\n",
       "      <td>141.0</td>\n",
       "      <td>26000.0</td>\n",
       "      <td>92000.0</td>\n",
       "      <td>0.0</td>\n",
       "      <td>1.0</td>\n",
       "      <td>0.0</td>\n",
       "      <td>1.0</td>\n",
       "      <td>6.250000e+16</td>\n",
       "      <td>3.525000e+10</td>\n",
       "      <td>6.500000e+12</td>\n",
       "      <td>2.300000e+13</td>\n",
       "      <td>0.0</td>\n",
       "      <td>250000000.0</td>\n",
       "      <td>0.0</td>\n",
       "      <td>2.500000e+08</td>\n",
       "      <td>19881.0</td>\n",
       "      <td>3666000.0</td>\n",
       "      <td>12972000.0</td>\n",
       "      <td>0.0</td>\n",
       "      <td>141.0</td>\n",
       "      <td>0.0</td>\n",
       "      <td>141.0</td>\n",
       "      <td>676000000.0</td>\n",
       "      <td>2.392000e+09</td>\n",
       "      <td>0.0</td>\n",
       "      <td>26000.0</td>\n",
       "      <td>0.0</td>\n",
       "      <td>26000.0</td>\n",
       "      <td>8.464000e+09</td>\n",
       "      <td>0.0</td>\n",
       "      <td>92000.0</td>\n",
       "      <td>0.0</td>\n",
       "      <td>92000.0</td>\n",
       "      <td>0.0</td>\n",
       "      <td>0.0</td>\n",
       "      <td>0.0</td>\n",
       "      <td>0.0</td>\n",
       "      <td>1.0</td>\n",
       "      <td>0.0</td>\n",
       "      <td>1.0</td>\n",
       "      <td>0.0</td>\n",
       "      <td>0.0</td>\n",
       "      <td>1.0</td>\n",
       "      <td>1.562500e+25</td>\n",
       "      <td>8.812500e+18</td>\n",
       "      <td>1.625000e+21</td>\n",
       "      <td>5.750000e+21</td>\n",
       "      <td>0.0</td>\n",
       "      <td>6.250000e+16</td>\n",
       "      <td>0.0</td>\n",
       "      <td>6.250000e+16</td>\n",
       "      <td>4.970250e+12</td>\n",
       "      <td>9.165000e+14</td>\n",
       "      <td>3.243000e+15</td>\n",
       "      <td>0.0</td>\n",
       "      <td>3.525000e+10</td>\n",
       "      <td>0.0</td>\n",
       "      <td>3.525000e+10</td>\n",
       "      <td>1.690000e+17</td>\n",
       "      <td>5.980000e+17</td>\n",
       "      <td>0.0</td>\n",
       "      <td>6.500000e+12</td>\n",
       "      <td>0.0</td>\n",
       "      <td>6.500000e+12</td>\n",
       "      <td>2.116000e+18</td>\n",
       "      <td>0.0</td>\n",
       "      <td>2.300000e+13</td>\n",
       "      <td>0.0</td>\n",
       "      <td>2.300000e+13</td>\n",
       "      <td>0.0</td>\n",
       "      <td>0.0</td>\n",
       "      <td>0.0</td>\n",
       "      <td>0.0</td>\n",
       "      <td>250000000.0</td>\n",
       "      <td>0.0</td>\n",
       "      <td>2.500000e+08</td>\n",
       "      <td>0.0</td>\n",
       "      <td>0.0</td>\n",
       "      <td>2.500000e+08</td>\n",
       "      <td>2803221.0</td>\n",
       "      <td>516906000.0</td>\n",
       "      <td>1.829052e+09</td>\n",
       "      <td>0.0</td>\n",
       "      <td>19881.0</td>\n",
       "      <td>0.0</td>\n",
       "      <td>19881.0</td>\n",
       "      <td>9.531600e+10</td>\n",
       "      <td>3.372720e+11</td>\n",
       "      <td>0.0</td>\n",
       "      <td>3666000.0</td>\n",
       "      <td>0.0</td>\n",
       "      <td>3666000.0</td>\n",
       "      <td>1.193424e+12</td>\n",
       "      <td>0.0</td>\n",
       "      <td>12972000.0</td>\n",
       "      <td>0.0</td>\n",
       "      <td>12972000.0</td>\n",
       "      <td>0.0</td>\n",
       "      <td>0.0</td>\n",
       "      <td>0.0</td>\n",
       "      <td>0.0</td>\n",
       "      <td>141.0</td>\n",
       "      <td>0.0</td>\n",
       "      <td>141.0</td>\n",
       "      <td>0.0</td>\n",
       "      <td>0.0</td>\n",
       "      <td>141.0</td>\n",
       "      <td>1.757600e+13</td>\n",
       "      <td>6.219200e+13</td>\n",
       "      <td>0.0</td>\n",
       "      <td>676000000.0</td>\n",
       "      <td>0.0</td>\n",
       "      <td>6.760000e+08</td>\n",
       "      <td>2.200640e+14</td>\n",
       "      <td>0.0</td>\n",
       "      <td>2.392000e+09</td>\n",
       "      <td>0.0</td>\n",
       "      <td>2.392000e+09</td>\n",
       "      <td>0.0</td>\n",
       "      <td>0.0</td>\n",
       "      <td>0.0</td>\n",
       "      <td>0.0</td>\n",
       "      <td>26000.0</td>\n",
       "      <td>0.0</td>\n",
       "      <td>26000.0</td>\n",
       "      <td>0.0</td>\n",
       "      <td>0.0</td>\n",
       "      <td>26000.0</td>\n",
       "      <td>7.786880e+14</td>\n",
       "      <td>0.0</td>\n",
       "      <td>8.464000e+09</td>\n",
       "      <td>0.0</td>\n",
       "      <td>8.464000e+09</td>\n",
       "      <td>0.0</td>\n",
       "      <td>0.0</td>\n",
       "      <td>0.0</td>\n",
       "      <td>0.0</td>\n",
       "      <td>92000.0</td>\n",
       "      <td>0.0</td>\n",
       "      <td>92000.0</td>\n",
       "      <td>0.0</td>\n",
       "      <td>0.0</td>\n",
       "      <td>92000.0</td>\n",
       "      <td>0.0</td>\n",
       "      <td>0.0</td>\n",
       "      <td>0.0</td>\n",
       "      <td>0.0</td>\n",
       "      <td>0.0</td>\n",
       "      <td>0.0</td>\n",
       "      <td>0.0</td>\n",
       "      <td>0.0</td>\n",
       "      <td>0.0</td>\n",
       "      <td>0.0</td>\n",
       "      <td>1.0</td>\n",
       "      <td>0.0</td>\n",
       "      <td>1.0</td>\n",
       "      <td>0.0</td>\n",
       "      <td>0.0</td>\n",
       "      <td>1.0</td>\n",
       "      <td>0.0</td>\n",
       "      <td>0.0</td>\n",
       "      <td>0.0</td>\n",
       "      <td>1.0</td>\n",
       "    </tr>\n",
       "  </tbody>\n",
       "</table>\n",
       "</div>"
      ],
      "text/plain": [
       "        budget  duration  actor_1_facebook_likes  cast_total_facebook_likes  \\\n",
       "0  250000000.0     164.0                 27000.0                   106759.0   \n",
       "1  263700000.0     132.0                   640.0                     1873.0   \n",
       "2  258000000.0     156.0                 24000.0                    46055.0   \n",
       "3  260000000.0     100.0                   799.0                     2036.0   \n",
       "4  250000000.0     141.0                 26000.0                    92000.0   \n",
       "\n",
       "     G  PG-13    R  yr_old      budget^2  budget duration  \\\n",
       "0  0.0    1.0  0.0     4.0  6.250000e+16     4.100000e+10   \n",
       "1  0.0    1.0  0.0     4.0  6.953769e+16     3.480840e+10   \n",
       "2  0.0    1.0  0.0     9.0  6.656400e+16     4.024800e+10   \n",
       "3  0.0    0.0  0.0     6.0  6.760000e+16     2.600000e+10   \n",
       "4  0.0    1.0  0.0     1.0  6.250000e+16     3.525000e+10   \n",
       "\n",
       "   budget actor_1_facebook_likes  budget cast_total_facebook_likes  budget G  \\\n",
       "0                   6.750000e+12                      2.668975e+13       0.0   \n",
       "1                   1.687680e+11                      4.939101e+11       0.0   \n",
       "2                   6.192000e+12                      1.188219e+13       0.0   \n",
       "3                   2.077400e+11                      5.293600e+11       0.0   \n",
       "4                   6.500000e+12                      2.300000e+13       0.0   \n",
       "\n",
       "   budget PG-13  budget R  budget yr_old  duration^2  \\\n",
       "0   250000000.0       0.0   1.000000e+09     26896.0   \n",
       "1   263700000.0       0.0   1.054800e+09     17424.0   \n",
       "2   258000000.0       0.0   2.322000e+09     24336.0   \n",
       "3           0.0       0.0   1.560000e+09     10000.0   \n",
       "4   250000000.0       0.0   2.500000e+08     19881.0   \n",
       "\n",
       "   duration actor_1_facebook_likes  duration cast_total_facebook_likes  \\\n",
       "0                        4428000.0                          17508476.0   \n",
       "1                          84480.0                            247236.0   \n",
       "2                        3744000.0                           7184580.0   \n",
       "3                          79900.0                            203600.0   \n",
       "4                        3666000.0                          12972000.0   \n",
       "\n",
       "   duration G  duration PG-13  duration R  duration yr_old  \\\n",
       "0         0.0           164.0         0.0            656.0   \n",
       "1         0.0           132.0         0.0            528.0   \n",
       "2         0.0           156.0         0.0           1404.0   \n",
       "3         0.0             0.0         0.0            600.0   \n",
       "4         0.0           141.0         0.0            141.0   \n",
       "\n",
       "   actor_1_facebook_likes^2  actor_1_facebook_likes cast_total_facebook_likes  \\\n",
       "0               729000000.0                                      2.882493e+09   \n",
       "1                  409600.0                                      1.198720e+06   \n",
       "2               576000000.0                                      1.105320e+09   \n",
       "3                  638401.0                                      1.626764e+06   \n",
       "4               676000000.0                                      2.392000e+09   \n",
       "\n",
       "   actor_1_facebook_likes G  actor_1_facebook_likes PG-13  \\\n",
       "0                       0.0                       27000.0   \n",
       "1                       0.0                         640.0   \n",
       "2                       0.0                       24000.0   \n",
       "3                       0.0                           0.0   \n",
       "4                       0.0                       26000.0   \n",
       "\n",
       "   actor_1_facebook_likes R  actor_1_facebook_likes yr_old  \\\n",
       "0                       0.0                       108000.0   \n",
       "1                       0.0                         2560.0   \n",
       "2                       0.0                       216000.0   \n",
       "3                       0.0                         4794.0   \n",
       "4                       0.0                        26000.0   \n",
       "\n",
       "   cast_total_facebook_likes^2  cast_total_facebook_likes G  \\\n",
       "0                 1.139748e+10                          0.0   \n",
       "1                 3.508129e+06                          0.0   \n",
       "2                 2.121063e+09                          0.0   \n",
       "3                 4.145296e+06                          0.0   \n",
       "4                 8.464000e+09                          0.0   \n",
       "\n",
       "   cast_total_facebook_likes PG-13  cast_total_facebook_likes R  \\\n",
       "0                         106759.0                          0.0   \n",
       "1                           1873.0                          0.0   \n",
       "2                          46055.0                          0.0   \n",
       "3                              0.0                          0.0   \n",
       "4                          92000.0                          0.0   \n",
       "\n",
       "   cast_total_facebook_likes yr_old  G^2  G PG-13  G R  G yr_old  PG-13^2  \\\n",
       "0                          427036.0  0.0      0.0  0.0       0.0      1.0   \n",
       "1                            7492.0  0.0      0.0  0.0       0.0      1.0   \n",
       "2                          414495.0  0.0      0.0  0.0       0.0      1.0   \n",
       "3                           12216.0  0.0      0.0  0.0       0.0      0.0   \n",
       "4                           92000.0  0.0      0.0  0.0       0.0      1.0   \n",
       "\n",
       "   PG-13 R  PG-13 yr_old  R^2  R yr_old  yr_old^2      budget^3  \\\n",
       "0      0.0           4.0  0.0       0.0      16.0  1.562500e+25   \n",
       "1      0.0           4.0  0.0       0.0      16.0  1.833709e+25   \n",
       "2      0.0           9.0  0.0       0.0      81.0  1.717351e+25   \n",
       "3      0.0           0.0  0.0       0.0      36.0  1.757600e+25   \n",
       "4      0.0           1.0  0.0       0.0       1.0  1.562500e+25   \n",
       "\n",
       "   budget^2 duration  budget^2 actor_1_facebook_likes  \\\n",
       "0       1.025000e+19                     1.687500e+21   \n",
       "1       9.178975e+18                     4.450412e+19   \n",
       "2       1.038398e+19                     1.597536e+21   \n",
       "3       6.760000e+18                     5.401240e+19   \n",
       "4       8.812500e+18                     1.625000e+21   \n",
       "\n",
       "   budget^2 cast_total_facebook_likes  budget^2 G  budget^2 PG-13  budget^2 R  \\\n",
       "0                        6.672438e+21         0.0    6.250000e+16         0.0   \n",
       "1                        1.302441e+20         0.0    6.953769e+16         0.0   \n",
       "2                        3.065605e+21         0.0    6.656400e+16         0.0   \n",
       "3                        1.376336e+20         0.0    0.000000e+00         0.0   \n",
       "4                        5.750000e+21         0.0    6.250000e+16         0.0   \n",
       "\n",
       "   budget^2 yr_old  budget duration^2  budget duration actor_1_facebook_likes  \\\n",
       "0     2.500000e+17       6.724000e+12                            1.107000e+15   \n",
       "1     2.781508e+17       4.594709e+12                            2.227738e+13   \n",
       "2     5.990760e+17       6.278688e+12                            9.659520e+14   \n",
       "3     4.056000e+17       2.600000e+12                            2.077400e+13   \n",
       "4     6.250000e+16       4.970250e+12                            9.165000e+14   \n",
       "\n",
       "   budget duration cast_total_facebook_likes  budget duration G  \\\n",
       "0                               4.377119e+15                0.0   \n",
       "1                               6.519613e+13                0.0   \n",
       "2                               1.853622e+15                0.0   \n",
       "3                               5.293600e+13                0.0   \n",
       "4                               3.243000e+15                0.0   \n",
       "\n",
       "   budget duration PG-13  budget duration R  budget duration yr_old  \\\n",
       "0           4.100000e+10                0.0            1.640000e+11   \n",
       "1           3.480840e+10                0.0            1.392336e+11   \n",
       "2           4.024800e+10                0.0            3.622320e+11   \n",
       "3           0.000000e+00                0.0            1.560000e+11   \n",
       "4           3.525000e+10                0.0            3.525000e+10   \n",
       "\n",
       "   budget actor_1_facebook_likes^2  \\\n",
       "0                     1.822500e+17   \n",
       "1                     1.080115e+14   \n",
       "2                     1.486080e+17   \n",
       "3                     1.659843e+14   \n",
       "4                     1.690000e+17   \n",
       "\n",
       "   budget actor_1_facebook_likes cast_total_facebook_likes  \\\n",
       "0                                       7.206232e+17         \n",
       "1                                       3.161025e+14         \n",
       "2                                       2.851726e+17         \n",
       "3                                       4.229586e+14         \n",
       "4                                       5.980000e+17         \n",
       "\n",
       "   budget actor_1_facebook_likes G  budget actor_1_facebook_likes PG-13  \\\n",
       "0                              0.0                         6.750000e+12   \n",
       "1                              0.0                         1.687680e+11   \n",
       "2                              0.0                         6.192000e+12   \n",
       "3                              0.0                         0.000000e+00   \n",
       "4                              0.0                         6.500000e+12   \n",
       "\n",
       "   budget actor_1_facebook_likes R  budget actor_1_facebook_likes yr_old  \\\n",
       "0                              0.0                          2.700000e+13   \n",
       "1                              0.0                          6.750720e+11   \n",
       "2                              0.0                          5.572800e+13   \n",
       "3                              0.0                          1.246440e+12   \n",
       "4                              0.0                          6.500000e+12   \n",
       "\n",
       "   budget cast_total_facebook_likes^2  budget cast_total_facebook_likes G  \\\n",
       "0                        2.849371e+18                                 0.0   \n",
       "1                        9.250936e+14                                 0.0   \n",
       "2                        5.472343e+17                                 0.0   \n",
       "3                        1.077777e+15                                 0.0   \n",
       "4                        2.116000e+18                                 0.0   \n",
       "\n",
       "   budget cast_total_facebook_likes PG-13  budget cast_total_facebook_likes R  \\\n",
       "0                            2.668975e+13                                 0.0   \n",
       "1                            4.939101e+11                                 0.0   \n",
       "2                            1.188219e+13                                 0.0   \n",
       "3                            0.000000e+00                                 0.0   \n",
       "4                            2.300000e+13                                 0.0   \n",
       "\n",
       "   budget cast_total_facebook_likes yr_old  budget G^2  budget G PG-13  \\\n",
       "0                             1.067590e+14         0.0             0.0   \n",
       "1                             1.975640e+12         0.0             0.0   \n",
       "2                             1.069397e+14         0.0             0.0   \n",
       "3                             3.176160e+12         0.0             0.0   \n",
       "4                             2.300000e+13         0.0             0.0   \n",
       "\n",
       "   budget G R  budget G yr_old  budget PG-13^2  budget PG-13 R  \\\n",
       "0         0.0              0.0     250000000.0             0.0   \n",
       "1         0.0              0.0     263700000.0             0.0   \n",
       "2         0.0              0.0     258000000.0             0.0   \n",
       "3         0.0              0.0             0.0             0.0   \n",
       "4         0.0              0.0     250000000.0             0.0   \n",
       "\n",
       "   budget PG-13 yr_old  budget R^2  budget R yr_old  budget yr_old^2  \\\n",
       "0         1.000000e+09         0.0              0.0     4.000000e+09   \n",
       "1         1.054800e+09         0.0              0.0     4.219200e+09   \n",
       "2         2.322000e+09         0.0              0.0     2.089800e+10   \n",
       "3         0.000000e+00         0.0              0.0     9.360000e+09   \n",
       "4         2.500000e+08         0.0              0.0     2.500000e+08   \n",
       "\n",
       "   duration^3  duration^2 actor_1_facebook_likes  \\\n",
       "0   4410944.0                        726192000.0   \n",
       "1   2299968.0                         11151360.0   \n",
       "2   3796416.0                        584064000.0   \n",
       "3   1000000.0                          7990000.0   \n",
       "4   2803221.0                        516906000.0   \n",
       "\n",
       "   duration^2 cast_total_facebook_likes  duration^2 G  duration^2 PG-13  \\\n",
       "0                          2.871390e+09           0.0           26896.0   \n",
       "1                          3.263515e+07           0.0           17424.0   \n",
       "2                          1.120794e+09           0.0           24336.0   \n",
       "3                          2.036000e+07           0.0               0.0   \n",
       "4                          1.829052e+09           0.0           19881.0   \n",
       "\n",
       "   duration^2 R  duration^2 yr_old  duration actor_1_facebook_likes^2  \\\n",
       "0           0.0           107584.0                       1.195560e+11   \n",
       "1           0.0            69696.0                       5.406720e+07   \n",
       "2           0.0           219024.0                       8.985600e+10   \n",
       "3           0.0            60000.0                       6.384010e+07   \n",
       "4           0.0            19881.0                       9.531600e+10   \n",
       "\n",
       "   duration actor_1_facebook_likes cast_total_facebook_likes  \\\n",
       "0                                       4.727289e+11           \n",
       "1                                       1.582310e+08           \n",
       "2                                       1.724299e+11           \n",
       "3                                       1.626764e+08           \n",
       "4                                       3.372720e+11           \n",
       "\n",
       "   duration actor_1_facebook_likes G  duration actor_1_facebook_likes PG-13  \\\n",
       "0                                0.0                              4428000.0   \n",
       "1                                0.0                                84480.0   \n",
       "2                                0.0                              3744000.0   \n",
       "3                                0.0                                    0.0   \n",
       "4                                0.0                              3666000.0   \n",
       "\n",
       "   duration actor_1_facebook_likes R  duration actor_1_facebook_likes yr_old  \\\n",
       "0                                0.0                              17712000.0   \n",
       "1                                0.0                                337920.0   \n",
       "2                                0.0                              33696000.0   \n",
       "3                                0.0                                479400.0   \n",
       "4                                0.0                               3666000.0   \n",
       "\n",
       "   duration cast_total_facebook_likes^2  duration cast_total_facebook_likes G  \\\n",
       "0                          1.869187e+12                                   0.0   \n",
       "1                          4.630730e+08                                   0.0   \n",
       "2                          3.308858e+11                                   0.0   \n",
       "3                          4.145296e+08                                   0.0   \n",
       "4                          1.193424e+12                                   0.0   \n",
       "\n",
       "   duration cast_total_facebook_likes PG-13  \\\n",
       "0                                17508476.0   \n",
       "1                                  247236.0   \n",
       "2                                 7184580.0   \n",
       "3                                       0.0   \n",
       "4                                12972000.0   \n",
       "\n",
       "   duration cast_total_facebook_likes R  \\\n",
       "0                                   0.0   \n",
       "1                                   0.0   \n",
       "2                                   0.0   \n",
       "3                                   0.0   \n",
       "4                                   0.0   \n",
       "\n",
       "   duration cast_total_facebook_likes yr_old  duration G^2  duration G PG-13  \\\n",
       "0                                 70033904.0           0.0               0.0   \n",
       "1                                   988944.0           0.0               0.0   \n",
       "2                                 64661220.0           0.0               0.0   \n",
       "3                                  1221600.0           0.0               0.0   \n",
       "4                                 12972000.0           0.0               0.0   \n",
       "\n",
       "   duration G R  duration G yr_old  duration PG-13^2  duration PG-13 R  \\\n",
       "0           0.0                0.0             164.0               0.0   \n",
       "1           0.0                0.0             132.0               0.0   \n",
       "2           0.0                0.0             156.0               0.0   \n",
       "3           0.0                0.0               0.0               0.0   \n",
       "4           0.0                0.0             141.0               0.0   \n",
       "\n",
       "   duration PG-13 yr_old  duration R^2  duration R yr_old  duration yr_old^2  \\\n",
       "0                  656.0           0.0                0.0             2624.0   \n",
       "1                  528.0           0.0                0.0             2112.0   \n",
       "2                 1404.0           0.0                0.0            12636.0   \n",
       "3                    0.0           0.0                0.0             3600.0   \n",
       "4                  141.0           0.0                0.0              141.0   \n",
       "\n",
       "   actor_1_facebook_likes^3  \\\n",
       "0              1.968300e+13   \n",
       "1              2.621440e+08   \n",
       "2              1.382400e+13   \n",
       "3              5.100824e+08   \n",
       "4              1.757600e+13   \n",
       "\n",
       "   actor_1_facebook_likes^2 cast_total_facebook_likes  \\\n",
       "0                                       7.782731e+13    \n",
       "1                                       7.671808e+08    \n",
       "2                                       2.652768e+13    \n",
       "3                                       1.299784e+09    \n",
       "4                                       6.219200e+13    \n",
       "\n",
       "   actor_1_facebook_likes^2 G  actor_1_facebook_likes^2 PG-13  \\\n",
       "0                         0.0                     729000000.0   \n",
       "1                         0.0                        409600.0   \n",
       "2                         0.0                     576000000.0   \n",
       "3                         0.0                             0.0   \n",
       "4                         0.0                     676000000.0   \n",
       "\n",
       "   actor_1_facebook_likes^2 R  actor_1_facebook_likes^2 yr_old  \\\n",
       "0                         0.0                     2.916000e+09   \n",
       "1                         0.0                     1.638400e+06   \n",
       "2                         0.0                     5.184000e+09   \n",
       "3                         0.0                     3.830406e+06   \n",
       "4                         0.0                     6.760000e+08   \n",
       "\n",
       "   actor_1_facebook_likes cast_total_facebook_likes^2  \\\n",
       "0                                       3.077321e+14    \n",
       "1                                       2.245203e+09    \n",
       "2                                       5.090551e+13    \n",
       "3                                       3.312092e+09    \n",
       "4                                       2.200640e+14    \n",
       "\n",
       "   actor_1_facebook_likes cast_total_facebook_likes G  \\\n",
       "0                                                0.0    \n",
       "1                                                0.0    \n",
       "2                                                0.0    \n",
       "3                                                0.0    \n",
       "4                                                0.0    \n",
       "\n",
       "   actor_1_facebook_likes cast_total_facebook_likes PG-13  \\\n",
       "0                                       2.882493e+09        \n",
       "1                                       1.198720e+06        \n",
       "2                                       1.105320e+09        \n",
       "3                                       0.000000e+00        \n",
       "4                                       2.392000e+09        \n",
       "\n",
       "   actor_1_facebook_likes cast_total_facebook_likes R  \\\n",
       "0                                                0.0    \n",
       "1                                                0.0    \n",
       "2                                                0.0    \n",
       "3                                                0.0    \n",
       "4                                                0.0    \n",
       "\n",
       "   actor_1_facebook_likes cast_total_facebook_likes yr_old  \\\n",
       "0                                       1.152997e+10         \n",
       "1                                       4.794880e+06         \n",
       "2                                       9.947880e+09         \n",
       "3                                       9.760584e+06         \n",
       "4                                       2.392000e+09         \n",
       "\n",
       "   actor_1_facebook_likes G^2  actor_1_facebook_likes G PG-13  \\\n",
       "0                         0.0                             0.0   \n",
       "1                         0.0                             0.0   \n",
       "2                         0.0                             0.0   \n",
       "3                         0.0                             0.0   \n",
       "4                         0.0                             0.0   \n",
       "\n",
       "   actor_1_facebook_likes G R  actor_1_facebook_likes G yr_old  \\\n",
       "0                         0.0                              0.0   \n",
       "1                         0.0                              0.0   \n",
       "2                         0.0                              0.0   \n",
       "3                         0.0                              0.0   \n",
       "4                         0.0                              0.0   \n",
       "\n",
       "   actor_1_facebook_likes PG-13^2  actor_1_facebook_likes PG-13 R  \\\n",
       "0                         27000.0                             0.0   \n",
       "1                           640.0                             0.0   \n",
       "2                         24000.0                             0.0   \n",
       "3                             0.0                             0.0   \n",
       "4                         26000.0                             0.0   \n",
       "\n",
       "   actor_1_facebook_likes PG-13 yr_old  actor_1_facebook_likes R^2  \\\n",
       "0                             108000.0                         0.0   \n",
       "1                               2560.0                         0.0   \n",
       "2                             216000.0                         0.0   \n",
       "3                                  0.0                         0.0   \n",
       "4                              26000.0                         0.0   \n",
       "\n",
       "   actor_1_facebook_likes R yr_old  actor_1_facebook_likes yr_old^2  \\\n",
       "0                              0.0                         432000.0   \n",
       "1                              0.0                          10240.0   \n",
       "2                              0.0                        1944000.0   \n",
       "3                              0.0                          28764.0   \n",
       "4                              0.0                          26000.0   \n",
       "\n",
       "   cast_total_facebook_likes^3  cast_total_facebook_likes^2 G  \\\n",
       "0                 1.216784e+15                            0.0   \n",
       "1                 6.570726e+09                            0.0   \n",
       "2                 9.768556e+13                            0.0   \n",
       "3                 8.439823e+09                            0.0   \n",
       "4                 7.786880e+14                            0.0   \n",
       "\n",
       "   cast_total_facebook_likes^2 PG-13  cast_total_facebook_likes^2 R  \\\n",
       "0                       1.139748e+10                            0.0   \n",
       "1                       3.508129e+06                            0.0   \n",
       "2                       2.121063e+09                            0.0   \n",
       "3                       0.000000e+00                            0.0   \n",
       "4                       8.464000e+09                            0.0   \n",
       "\n",
       "   cast_total_facebook_likes^2 yr_old  cast_total_facebook_likes G^2  \\\n",
       "0                        4.558994e+10                            0.0   \n",
       "1                        1.403252e+07                            0.0   \n",
       "2                        1.908957e+10                            0.0   \n",
       "3                        2.487178e+07                            0.0   \n",
       "4                        8.464000e+09                            0.0   \n",
       "\n",
       "   cast_total_facebook_likes G PG-13  cast_total_facebook_likes G R  \\\n",
       "0                                0.0                            0.0   \n",
       "1                                0.0                            0.0   \n",
       "2                                0.0                            0.0   \n",
       "3                                0.0                            0.0   \n",
       "4                                0.0                            0.0   \n",
       "\n",
       "   cast_total_facebook_likes G yr_old  cast_total_facebook_likes PG-13^2  \\\n",
       "0                                 0.0                           106759.0   \n",
       "1                                 0.0                             1873.0   \n",
       "2                                 0.0                            46055.0   \n",
       "3                                 0.0                                0.0   \n",
       "4                                 0.0                            92000.0   \n",
       "\n",
       "   cast_total_facebook_likes PG-13 R  cast_total_facebook_likes PG-13 yr_old  \\\n",
       "0                                0.0                                427036.0   \n",
       "1                                0.0                                  7492.0   \n",
       "2                                0.0                                414495.0   \n",
       "3                                0.0                                     0.0   \n",
       "4                                0.0                                 92000.0   \n",
       "\n",
       "   cast_total_facebook_likes R^2  cast_total_facebook_likes R yr_old  \\\n",
       "0                            0.0                                 0.0   \n",
       "1                            0.0                                 0.0   \n",
       "2                            0.0                                 0.0   \n",
       "3                            0.0                                 0.0   \n",
       "4                            0.0                                 0.0   \n",
       "\n",
       "   cast_total_facebook_likes yr_old^2  G^3  G^2 PG-13  G^2 R  G^2 yr_old  \\\n",
       "0                           1708144.0  0.0        0.0    0.0         0.0   \n",
       "1                             29968.0  0.0        0.0    0.0         0.0   \n",
       "2                           3730455.0  0.0        0.0    0.0         0.0   \n",
       "3                             73296.0  0.0        0.0    0.0         0.0   \n",
       "4                             92000.0  0.0        0.0    0.0         0.0   \n",
       "\n",
       "   G PG-13^2  G PG-13 R  G PG-13 yr_old  G R^2  G R yr_old  G yr_old^2  \\\n",
       "0        0.0        0.0             0.0    0.0         0.0         0.0   \n",
       "1        0.0        0.0             0.0    0.0         0.0         0.0   \n",
       "2        0.0        0.0             0.0    0.0         0.0         0.0   \n",
       "3        0.0        0.0             0.0    0.0         0.0         0.0   \n",
       "4        0.0        0.0             0.0    0.0         0.0         0.0   \n",
       "\n",
       "   PG-13^3  PG-13^2 R  PG-13^2 yr_old  PG-13 R^2  PG-13 R yr_old  \\\n",
       "0      1.0        0.0             4.0        0.0             0.0   \n",
       "1      1.0        0.0             4.0        0.0             0.0   \n",
       "2      1.0        0.0             9.0        0.0             0.0   \n",
       "3      0.0        0.0             0.0        0.0             0.0   \n",
       "4      1.0        0.0             1.0        0.0             0.0   \n",
       "\n",
       "   PG-13 yr_old^2  R^3  R^2 yr_old  R yr_old^2  yr_old^3  \n",
       "0            16.0  0.0         0.0         0.0      64.0  \n",
       "1            16.0  0.0         0.0         0.0      64.0  \n",
       "2            81.0  0.0         0.0         0.0     729.0  \n",
       "3             0.0  0.0         0.0         0.0     216.0  \n",
       "4             1.0  0.0         0.0         0.0       1.0  "
      ]
     },
     "execution_count": 39,
     "metadata": {},
     "output_type": "execute_result"
    }
   ],
   "source": [
    "df_poly3.head()"
   ]
  },
  {
   "cell_type": "code",
   "execution_count": 40,
   "metadata": {},
   "outputs": [
    {
     "name": "stdout",
     "output_type": "stream",
     "text": [
      "R^2:  -0.19935093809093285\n"
     ]
    }
   ],
   "source": [
    "\n",
    "#instantiate a linear regression object\n",
    "lm_3 = LinearRegression()\n",
    "\n",
    "#fit the linear regression to the data\n",
    "lm_3 = lm_3.fit(df_poly3, target)\n",
    "\n",
    "#access output\n",
    "# print(lm_3.intercept_)\n",
    "# print(lm_3.coef_)\n",
    "print(\"R^2: \", lm_3.score(df_poly3, target))"
   ]
  },
  {
   "cell_type": "markdown",
   "metadata": {
    "slideshow": {
     "slide_type": "slide"
    }
   },
   "source": [
    "# Model Evaluation"
   ]
  },
  {
   "cell_type": "markdown",
   "metadata": {
    "slideshow": {
     "slide_type": "subslide"
    }
   },
   "source": [
    "Agenda:\n",
    "- R^2 \n",
    "- Bias versus Variance\n",
    "- Train Test Split\n",
    "- Model Evaluation"
   ]
  },
  {
   "cell_type": "markdown",
   "metadata": {},
   "source": [
    "\n",
    "##  Coefficient of Determination ($R^2$)\n",
    "\n",
    "The _coefficient of determination_, is a measure of how well the model fits the data.\n",
    "\n",
    "It is a statistic used in the context of statistical models whose main purpose is either the prediction of future outcomes or the testing of hypotheses, on the basis of other related information. It provides a measure of how well observed outcomes are replicated by the model, based on the proportion of total variation of outcomes explained by the model\n",
    "\n",
    "$R^2$ for a model is ultimately a _relational_ notion. It's a measure of goodness of fit _relative_ to a (bad) baseline model. This bad baseline model is simply the horizontal line $y = \\mu_Y$, for dependent variable $Y$.\n",
    "\n",
    "\n",
    "$$\\text{TSS }= \\text{ESS} + \\text{RSS }$$\n",
    "\n",
    "- TSS or SST = Total Sum of Squares \n",
    "- ESS or SSE = Explained Sum of Squares\n",
    "- RSS or SSR = Residual Sum of Squares\n",
    "\n",
    "The actual calculation of $R^2$ is: <br/> $$\\Large R^2= \\frac{\\Sigma_i(\\bar{y} - \\hat{y}_i)^2}{\\Sigma_i(y_i - \\bar{y})^2}=1- \\frac{\\Sigma_i(y_i - \\hat{y}_i)^2}{\\Sigma_i(y_i - \\bar{y})^2}$$.\n",
    "\n",
    "$R^2$ takes values between 0 and 1.\n",
    "\n",
    "$R^2$ is a measure of how much variation in the dependent variable your model explains.\n"
   ]
  },
  {
   "cell_type": "markdown",
   "metadata": {},
   "source": [
    "<img src='https://pbs.twimg.com/media/D-Gu7E0WsAANhLY.png' width =\"700\">"
   ]
  },
  {
   "cell_type": "markdown",
   "metadata": {},
   "source": [
    "## What Is the Adjusted R-squared?\n",
    "\n",
    "The adjusted R-squared compares the explanatory power of regression models that contain different numbers of predictors.\n",
    "\n",
    "Suppose you compare a five-predictor model with a higher R-squared to a one-predictor model. Does the five predictor model have a higher R-squared because it’s better? Or is the R-squared higher because it has more predictors? Simply compare the adjusted R-squared values to find out!\n",
    "\n",
    "$$Adjusted R^2=1-\\left(\\frac{n-1}{n-p}\\right)(1-R^2)$$\n",
    "\n",
    "Where:\n",
    "\n",
    "n = sample size   \n",
    "\n",
    "p  = the number of independent variables in the regression equation\n",
    "\n",
    "\n",
    "- The adjusted R-squared is a modified version of R-squared that has been adjusted for the number of predictors in the model. \n",
    "\n",
    "- The adjusted R-squared increases only if the new term improves the model more than would be expected by chance. It decreases when a predictor improves the model by less than expected by chance. \n",
    "\n",
    "- It is always lower than the R-squared."
   ]
  },
  {
   "cell_type": "markdown",
   "metadata": {},
   "source": [
    "## Probabilistic Model Selection\n",
    "Probabilistic model selection (or “information criteria”) provides an analytical technique for scoring and choosing among candidate models.\n",
    "\n",
    "Models are scored both on their performance on the training dataset and based on the complexity of the model.\n",
    "\n",
    "- **Model Performance:** How well a candidate model has performed on the training dataset.\n",
    "- **Model Complexity:** How complicated the trained candidate model is after training.\n",
    "\n",
    "Model performance may be evaluated using a probabilistic framework, such as log-likelihood under the framework of maximum likelihood estimation. Model complexity may be evaluated as the number of degrees of freedom or parameters in the model."
   ]
  },
  {
   "cell_type": "markdown",
   "metadata": {},
   "source": [
    "### Akaike Information Criterion vs. Bayesian Information Criterion\n",
    "\n",
    "The model with the lower AIC or BIC should be selected. \n",
    "\n",
    "Despite various subtle theoretical differences, their only difference in practice is the size of the penalty; BIC penalizes model complexity more heavily.\n",
    "\n",
    "Compared to the BIC method (below), the AIC statistic penalizes complex models less, meaning that it may put more emphasis on model performance on the training dataset, and, in turn, select more complex models.\n",
    "\n",
    "A downside of BIC is that for smaller, less representative training datasets, it is more likely to choose models that are too simple."
   ]
  },
  {
   "cell_type": "markdown",
   "metadata": {},
   "source": [
    "https://machinelearningmastery.com/probabilistic-model-selection-measures/\n",
    "\n",
    "https://www.methodology.psu.edu/resources/AIC-vs-BIC/"
   ]
  },
  {
   "cell_type": "markdown",
   "metadata": {
    "slideshow": {
     "slide_type": "subslide"
    }
   },
   "source": [
    "## The Machine Learning Process\n",
    "\n",
    "1. Look at the big picture. \n",
    "2. Get the data. \n",
    "3. Discover and visualize the data to gain insights. \n",
    "4. Prepare the data for Machine Learning algorithms. \n",
    "5. Select a model and train it. \n",
    "6. Fine-tune your model. \n",
    "7. Present your solution. \n",
    "8. Launch, monitor, and maintain your system.\n"
   ]
  },
  {
   "cell_type": "markdown",
   "metadata": {},
   "source": [
    "<img src='https://www.kdnuggets.com/wp-content/uploads/crisp-dm-4-problems-fig1.png' width =\"400\">"
   ]
  },
  {
   "cell_type": "markdown",
   "metadata": {
    "slideshow": {
     "slide_type": "subslide"
    }
   },
   "source": [
    "**A proper machine learning workflow includes:**\n",
    "\n",
    "* Separate training and test sets\n",
    "* Trying appropriate algorithms (No Free Lunch)\n",
    "* Fitting model parameters\n",
    "* Tuning impactful hyperparameters\n",
    "* Proper performance metrics\n",
    "* Systematic cross-validation"
   ]
  },
  {
   "cell_type": "markdown",
   "metadata": {},
   "source": [
    "# Prediction Evaluation"
   ]
  },
  {
   "cell_type": "markdown",
   "metadata": {
    "slideshow": {
     "slide_type": "slide"
    }
   },
   "source": [
    "## Bias - Variance \n",
    "\n",
    "There are 3 types of prediction error: bias, variance, and irreducible error.\n",
    "\n",
    "\n",
    "**Total Error = Bias + Variance + Irreducible Error**"
   ]
  },
  {
   "cell_type": "markdown",
   "metadata": {
    "slideshow": {
     "slide_type": "subslide"
    }
   },
   "source": [
    "### The Bias-Variance Tradeoff\n",
    "\n",
    "\n",
    "**Let's do a thought experiment:**\n",
    "\n",
    "1. Imagine you've collected 5 different training sets for the same problem.\n",
    "2. Now imagine using one algorithm to train 5 models, one for each of your training sets.\n",
    "3. Bias vs. variance refers to the accuracy vs. consistency of the models trained by your algorithm."
   ]
  },
  {
   "cell_type": "markdown",
   "metadata": {
    "slideshow": {
     "slide_type": "fragment"
    }
   },
   "source": [
    "<img src='resources/Bias-vs.-Variance-v5-2-darts.png' width=500 />"
   ]
  },
  {
   "cell_type": "markdown",
   "metadata": {
    "slideshow": {
     "slide_type": "subslide"
    }
   },
   "source": [
    "**High bias** algorithms tend to be less complex, with simple or rigid underlying structure.\n",
    "\n",
    "+ They train models that are consistent, but inaccurate on average.\n",
    "+ These include linear or parametric algorithms such as regression and naive Bayes.\n",
    "\n",
    "On the other hand, **high variance** algorithms tend to be more complex, with flexible underlying structure.\n",
    "\n",
    "+ They train models that are accurate on average, but inconsistent.\n",
    "+ These include non-linear or non-parametric algorithms such as decision trees and nearest neighbors."
   ]
  },
  {
   "cell_type": "markdown",
   "metadata": {
    "slideshow": {
     "slide_type": "subslide"
    }
   },
   "source": [
    "### Bias-Variance Tradeoff\n",
    "\n",
    "This tradeoff in complexity is why there's a tradeoff in bias and variance - an algorithm cannot simultaneously be more complex and less complex.\n",
    "\n",
    "**Total Error = Bias^2 + Variance + Irreducible Error**"
   ]
  },
  {
   "cell_type": "markdown",
   "metadata": {
    "slideshow": {
     "slide_type": "fragment"
    }
   },
   "source": [
    "\n",
    "<img src='resources/Bias-vs.-Variance-v4-chart.png' width=500 />"
   ]
  },
  {
   "cell_type": "markdown",
   "metadata": {
    "slideshow": {
     "slide_type": "subslide"
    }
   },
   "source": [
    "### Error from Bias\n",
    "\n",
    "**Bias** is the difference between your model's expected predictions and the true values."
   ]
  },
  {
   "cell_type": "markdown",
   "metadata": {
    "slideshow": {
     "slide_type": "fragment"
    }
   },
   "source": [
    "<img src='resources/noisy-sine-linear.png' width=500 />"
   ]
  },
  {
   "cell_type": "markdown",
   "metadata": {
    "slideshow": {
     "slide_type": "subslide"
    }
   },
   "source": [
    "### Error from Variance\n",
    "\n",
    "**Variance** refers to your algorithm's sensitivity to specific sets of training data.\n",
    "\n"
   ]
  },
  {
   "cell_type": "markdown",
   "metadata": {
    "slideshow": {
     "slide_type": "fragment"
    }
   },
   "source": [
    "<img src='resources/noisy-sine-decision-tree.png' width=500/>"
   ]
  },
  {
   "cell_type": "markdown",
   "metadata": {},
   "source": [
    "Which one is overfit and which one is underfit?"
   ]
  },
  {
   "cell_type": "markdown",
   "metadata": {},
   "source": [
    "We want to try to find the proper balance of variance and bias"
   ]
  },
  {
   "cell_type": "markdown",
   "metadata": {
    "slideshow": {
     "slide_type": "subslide"
    }
   },
   "source": [
    "<img src='resources/noisy-sine-third-order-polynomial.png' width=500 />\n"
   ]
  },
  {
   "cell_type": "markdown",
   "metadata": {
    "slideshow": {
     "slide_type": "slide"
    }
   },
   "source": [
    "# Train Test Split\n",
    "\n",
    "**How do we know if our model is overfitting or underfitting?**\n",
    "\n"
   ]
  },
  {
   "cell_type": "markdown",
   "metadata": {
    "slideshow": {
     "slide_type": "fragment"
    }
   },
   "source": [
    "If our model is not performing well on the training  data, we are probably underfitting it.  \n",
    "\n",
    "\n",
    "To know if our  model is overfitting the data, we need  to test our model on unseen data. \n",
    "We then measure our performance on the unseen data. \n",
    "\n",
    "If the model performs way worse on the  unseen data, it is probably  overfitting the data."
   ]
  },
  {
   "cell_type": "markdown",
   "metadata": {
    "slideshow": {
     "slide_type": "subslide"
    }
   },
   "source": [
    "The previous module introduced the idea of dividing your data set into two subsets:\n",
    "\n",
    "* **training set** —a subset to train a model.\n",
    "* **test set**—a subset to test the trained model.\n",
    "\n",
    "You could imagine slicing the single data set as follows:"
   ]
  },
  {
   "cell_type": "markdown",
   "metadata": {
    "slideshow": {
     "slide_type": "fragment"
    }
   },
   "source": [
    "<img src='resources/testtrainsplit.png' width =550 />"
   ]
  },
  {
   "cell_type": "markdown",
   "metadata": {
    "slideshow": {
     "slide_type": "fragment"
    }
   },
   "source": [
    "**Never train on test data.** If you are seeing surprisingly good results on your evaluation metrics, it might be a sign that you are accidentally training on the test set. "
   ]
  },
  {
   "cell_type": "markdown",
   "metadata": {
    "slideshow": {
     "slide_type": "subslide"
    }
   },
   "source": [
    "\n",
    "\n",
    "<img src='https://developers.google.com/machine-learning/crash-course/images/WorkflowWithTestSet.svg' width=500/>"
   ]
  },
  {
   "cell_type": "markdown",
   "metadata": {
    "slideshow": {
     "slide_type": "slide"
    }
   },
   "source": [
    "## Model Evaluation Metrics for Regression"
   ]
  },
  {
   "cell_type": "markdown",
   "metadata": {
    "slideshow": {
     "slide_type": "subslide"
    }
   },
   "source": [
    "**Mean Absolute Error** (MAE) is the mean of the absolute value of the errors:\n",
    "\n"
   ]
  },
  {
   "cell_type": "markdown",
   "metadata": {
    "slideshow": {
     "slide_type": "fragment"
    }
   },
   "source": [
    "![alt text](resources/mae.png)"
   ]
  },
  {
   "cell_type": "markdown",
   "metadata": {
    "slideshow": {
     "slide_type": "subslide"
    }
   },
   "source": [
    "**Mean Squared Error** (MSE) is the mean of the squared errors:"
   ]
  },
  {
   "cell_type": "markdown",
   "metadata": {
    "slideshow": {
     "slide_type": "fragment"
    }
   },
   "source": [
    "![alt text](resources/mse.png)"
   ]
  },
  {
   "cell_type": "markdown",
   "metadata": {
    "slideshow": {
     "slide_type": "subslide"
    }
   },
   "source": [
    "**Root Mean Squared Error (RMSE)** is the square root of the mean of the squared errors:\n",
    "\n"
   ]
  },
  {
   "cell_type": "markdown",
   "metadata": {
    "slideshow": {
     "slide_type": "fragment"
    }
   },
   "source": [
    "![alt text](resources/rmse.png)"
   ]
  },
  {
   "cell_type": "markdown",
   "metadata": {
    "slideshow": {
     "slide_type": "subslide"
    }
   },
   "source": [
    "MSE is more popular than MAE because MSE \"punishes\" larger errors. \n",
    "\n",
    "But, RMSE is even more popular than MSE because RMSE is interpretable in the \"y\" units.\n",
    "\n",
    "Additionally, I like to divide the RMSE by the standard deviation to  convert it to something similiar to a Z-Score."
   ]
  },
  {
   "cell_type": "markdown",
   "metadata": {
    "slideshow": {
     "slide_type": "slide"
    }
   },
   "source": [
    "# Practicum"
   ]
  },
  {
   "cell_type": "markdown",
   "metadata": {},
   "source": [
    "### Identify my features and target variable"
   ]
  },
  {
   "cell_type": "code",
   "execution_count": 41,
   "metadata": {},
   "outputs": [
    {
     "data": {
      "text/plain": [
       "['budget',\n",
       " 'duration',\n",
       " 'actor_1_facebook_likes',\n",
       " 'cast_total_facebook_likes',\n",
       " 'G',\n",
       " 'PG-13',\n",
       " 'R',\n",
       " 'yr_old']"
      ]
     },
     "execution_count": 41,
     "metadata": {},
     "output_type": "execute_result"
    }
   ],
   "source": [
    "features"
   ]
  },
  {
   "cell_type": "code",
   "execution_count": 42,
   "metadata": {},
   "outputs": [
    {
     "data": {
      "text/plain": [
       "Index(['budget', 'duration', 'actor_1_facebook_likes',\n",
       "       'cast_total_facebook_likes', 'G', 'PG-13', 'R', 'yr_old'],\n",
       "      dtype='object')"
      ]
     },
     "execution_count": 42,
     "metadata": {},
     "output_type": "execute_result"
    }
   ],
   "source": [
    "df_features.columns"
   ]
  },
  {
   "cell_type": "markdown",
   "metadata": {},
   "source": [
    "### Create Train and Test Split\n",
    "\n",
    "The random state variable makes it so you can always have the same 'random' split"
   ]
  },
  {
   "cell_type": "code",
   "execution_count": null,
   "metadata": {
    "slideshow": {
     "slide_type": "subslide"
    }
   },
   "outputs": [],
   "source": [
    "#improt train_test_split from sklearn package\n",
    "from sklearn.model_selection import train_test_split"
   ]
  },
  {
   "cell_type": "code",
   "execution_count": null,
   "metadata": {
    "slideshow": {
     "slide_type": "subslide"
    }
   },
   "outputs": [],
   "source": [
    "#call train_test_split on the data and capture the results\n",
    "X_train, X_test, y_train, y_test = train_test_split(____, ____, random_state=1,test_size=____)"
   ]
  },
  {
   "cell_type": "code",
   "execution_count": 46,
   "metadata": {
    "slideshow": {
     "slide_type": "subslide"
    }
   },
   "outputs": [
    {
     "name": "stdout",
     "output_type": "stream",
     "text": [
      "Training set - Features:  (1864, 9) Target:  (1864,)\n",
      "Training set - Features:  (466, 9) Target:  (466,)\n"
     ]
    }
   ],
   "source": [
    "#check the shape of the results\n",
    "print(\"Training set - Features: \", X_train.shape, \"Target: \", y_train.shape)\n",
    "print(\"Training set - Features: \", X_test.shape, \"Target: \",y_test.shape)"
   ]
  },
  {
   "cell_type": "code",
   "execution_count": 47,
   "metadata": {
    "slideshow": {
     "slide_type": "subslide"
    }
   },
   "outputs": [
    {
     "name": "stdout",
     "output_type": "stream",
     "text": [
      "-24315753.412900083\n",
      "[ 8.77764531e-01  2.35230485e+05 -1.65443011e+03  1.51384422e+03\n",
      "  3.97248063e+07  2.11658200e+07  1.43934157e+07  7.34987513e+06\n",
      " -1.21685134e+05]\n"
     ]
    }
   ],
   "source": [
    "# fit a model\n",
    "from sklearn import linear_model\n",
    "\n",
    "#instantiate a linear regression object\n",
    "lm = linear_model.LinearRegression()\n",
    "\n",
    "#fit the linear regression to the training data\n",
    "____.fit(____, ____)\n",
    "\n",
    "\n",
    "print(lm.intercept_)\n",
    "print(lm.coef_)"
   ]
  },
  {
   "cell_type": "markdown",
   "metadata": {},
   "source": [
    "### How well did our model perform\n",
    "\n",
    "Previously we have looked at the R^2 of the model  to  determine  how good of a model this is.  "
   ]
  },
  {
   "cell_type": "code",
   "execution_count": 48,
   "metadata": {},
   "outputs": [
    {
     "name": "stdout",
     "output_type": "stream",
     "text": [
      "R^2 Score: 0.4888881295328432\n"
     ]
    }
   ],
   "source": [
    "print (\"R^2 Score:\", lm.score(X_train, y_train))\n"
   ]
  },
  {
   "cell_type": "code",
   "execution_count": null,
   "metadata": {},
   "outputs": [],
   "source": []
  },
  {
   "cell_type": "code",
   "execution_count": 49,
   "metadata": {},
   "outputs": [],
   "source": [
    "#predict on the training data\n",
    "y_train_pred = lm.predict(____)"
   ]
  },
  {
   "cell_type": "code",
   "execution_count": 50,
   "metadata": {},
   "outputs": [
    {
     "data": {
      "text/plain": [
       "array([3.61505893e+07, 2.39097831e+07, 3.65299229e+07, ...,\n",
       "       3.81124608e+07, 1.34506665e+08, 4.49318674e+07])"
      ]
     },
     "execution_count": 50,
     "metadata": {},
     "output_type": "execute_result"
    }
   ],
   "source": [
    "y_train_pred"
   ]
  },
  {
   "cell_type": "code",
   "execution_count": 51,
   "metadata": {},
   "outputs": [
    {
     "name": "stdout",
     "output_type": "stream",
     "text": [
      "Mean Absolute Error: 32815475.466187987\n",
      "Mean Squared Error: 2436211081105524.0\n",
      "Root Mean Squared Error: 49357989.03020183\n"
     ]
    }
   ],
   "source": [
    "#import the metrics module from sklearn\n",
    "from sklearn import metrics\n",
    "\n",
    "train_mae = metrics.mean_absolute_error(____, ____)\n",
    "train_mse = metrics.mean_squared_error(____, ____)\n",
    "train_rmse = np.sqrt(metrics.mean_squared_error(____, ____))\n",
    "\n",
    "\n",
    "print('Mean Absolute Error:', train_mae )\n",
    "print('Mean Squared Error:',  train_mse)\n",
    "print('Root Mean Squared Error:' , train_rmse)"
   ]
  },
  {
   "cell_type": "markdown",
   "metadata": {},
   "source": [
    "***Sidenote:*** When using MAE or RMSE it can be difficult to understand how 'good' or 'bad' a model is because those numbers are dependent on the scale of the target variable. One way to handle this is to devide those metrics by the standard deviation of the target variable.  Now your MAE and RMSE are given in terms of Z-scores. This is not an 'official' metric, but is a good way to help give context to a score.  "
   ]
  },
  {
   "cell_type": "code",
   "execution_count": 52,
   "metadata": {},
   "outputs": [
    {
     "name": "stdout",
     "output_type": "stream",
     "text": [
      "Z-Score of Mean Absolute Error: 0.4764671572306238\n",
      "Z-Score of Root Mean Squared Error: 0.716657625274155\n"
     ]
    }
   ],
   "source": [
    "price_std = target.std()\n",
    "\n",
    "print('Z-Score of Mean Absolute Error:', train_mae/price_std )\n",
    "print('Z-Score of Root Mean Squared Error:' , train_rmse/price_std)"
   ]
  },
  {
   "cell_type": "markdown",
   "metadata": {},
   "source": [
    "### Predicting the Test Set"
   ]
  },
  {
   "cell_type": "code",
   "execution_count": 53,
   "metadata": {},
   "outputs": [],
   "source": [
    "#predict on the test set of data\n",
    "y_pred = lm.predict(____)"
   ]
  },
  {
   "cell_type": "code",
   "execution_count": 54,
   "metadata": {},
   "outputs": [
    {
     "data": {
      "text/plain": [
       "array([3.07448722e+08, 2.27689510e+08, 2.15661019e+07, 9.04382662e+07,\n",
       "       1.82711745e+08, 8.91099131e+07, 5.00621617e+07, 5.65803661e+07,\n",
       "       2.38347239e+08, 2.34119524e+07])"
      ]
     },
     "execution_count": 54,
     "metadata": {},
     "output_type": "execute_result"
    }
   ],
   "source": [
    "y_pred[:10]"
   ]
  },
  {
   "cell_type": "code",
   "execution_count": 55,
   "metadata": {
    "slideshow": {
     "slide_type": "fragment"
    }
   },
   "outputs": [
    {
     "name": "stdout",
     "output_type": "stream",
     "text": [
      "Score: 0.42571234279171233\n"
     ]
    }
   ],
   "source": [
    "print (\"Score:\", lm.score(X_test, y_test))\n"
   ]
  },
  {
   "cell_type": "code",
   "execution_count": 56,
   "metadata": {
    "slideshow": {
     "slide_type": "fragment"
    }
   },
   "outputs": [
    {
     "name": "stdout",
     "output_type": "stream",
     "text": [
      "Mean Absolute Error:34654999.45105354\n",
      "Mean Squared Error:2661826361670123.0\n",
      "Root Mean Squared Error:51592890.61169303\n"
     ]
    }
   ],
   "source": [
    "test_mae = metrics.mean_absolute_error(y_test, y_pred)\n",
    "test_rmse = np.sqrt(metrics.mean_squared_error(y_test, y_pred))\n",
    "\n",
    "\n",
    "print('Mean Absolute Error:' + str(metrics.mean_absolute_error(y_test, y_pred)))\n",
    "print('Mean Squared Error:' + str(metrics.mean_squared_error(y_test, y_pred)))\n",
    "print('Root Mean Squared Error:' + str(np.sqrt(metrics.mean_squared_error(y_test, y_pred))))"
   ]
  },
  {
   "cell_type": "code",
   "execution_count": 57,
   "metadata": {},
   "outputs": [
    {
     "name": "stdout",
     "output_type": "stream",
     "text": [
      "Mean Absolute Error  Z: 0.5031762861179845\n",
      "Root Mean Squared Error Z: 0.7491074736489114\n"
     ]
    }
   ],
   "source": [
    "print('Mean Absolute Error  Z:', test_mae/price_std )\n",
    "print('Root Mean Squared Error Z:' , test_rmse/price_std)"
   ]
  },
  {
   "cell_type": "markdown",
   "metadata": {},
   "source": [
    "### Comparing our Model's performance on training data versus test data."
   ]
  },
  {
   "cell_type": "code",
   "execution_count": 58,
   "metadata": {},
   "outputs": [
    {
     "name": "stdout",
     "output_type": "stream",
     "text": [
      "Training:  49357989 vs. Testing:  51592890\n"
     ]
    }
   ],
   "source": [
    "print('Training: ', int(train_rmse), \"vs. Testing: \", int(test_rmse))"
   ]
  },
  {
   "cell_type": "markdown",
   "metadata": {},
   "source": [
    "## Check the assumptions of linear regression\n",
    "\n",
    "Article expalaining those assumptions and how to check them. \n",
    "\n",
    "https://towardsdatascience.com/assumptions-of-linear-regression-5d87c347140"
   ]
  },
  {
   "cell_type": "markdown",
   "metadata": {},
   "source": [
    "1) Check to see if our errors are normally distributed"
   ]
  },
  {
   "cell_type": "code",
   "execution_count": null,
   "metadata": {},
   "outputs": [],
   "source": []
  },
  {
   "cell_type": "code",
   "execution_count": 59,
   "metadata": {},
   "outputs": [],
   "source": [
    "#create a data array of our errors/residuals\n",
    "residuals = (____- ____)"
   ]
  },
  {
   "cell_type": "code",
   "execution_count": null,
   "metadata": {},
   "outputs": [],
   "source": [
    "#Create a histogram plot of the errors to see if it is normally distributed"
   ]
  },
  {
   "cell_type": "code",
   "execution_count": 60,
   "metadata": {
    "slideshow": {
     "slide_type": "subslide"
    }
   },
   "outputs": [
    {
     "data": {
      "text/plain": [
       "(array([  1.,   6.,  55., 256.,  96.,  27.,  15.,   6.,   2.,   2.]),\n",
       " array([-1.80825769e+08, -1.34048487e+08, -8.72712051e+07, -4.04939233e+07,\n",
       "         6.28335840e+06,  5.30606401e+07,  9.98379219e+07,  1.46615204e+08,\n",
       "         1.93392485e+08,  2.40169767e+08,  2.86947049e+08]),\n",
       " <a list of 10 Patch objects>)"
      ]
     },
     "execution_count": 60,
     "metadata": {},
     "output_type": "execute_result"
    },
    {
     "data": {
      "image/png": "[encoded data removed]",
      "text/plain": [
       "<Figure size 432x288 with 1 Axes>"
      ]
     },
     "metadata": {
      "needs_background": "light"
     },
     "output_type": "display_data"
    }
   ],
   "source": [
    "____\n"
   ]
  },
  {
   "cell_type": "markdown",
   "metadata": {},
   "source": [
    "2) Checkt to see if our errors are Independent and identically distributed (IID) and homoscedastic."
   ]
  },
  {
   "cell_type": "code",
   "execution_count": 61,
   "metadata": {
    "scrolled": true
   },
   "outputs": [
    {
     "data": {
      "text/plain": [
       "<matplotlib.axes._subplots.AxesSubplot at 0x1a17c03eb8>"
      ]
     },
     "execution_count": 61,
     "metadata": {},
     "output_type": "execute_result"
    },
    {
     "data": {
      "image/png": "[encoded data removed]",
      "text/plain": [
       "<Figure size 432x288 with 1 Axes>"
      ]
     },
     "metadata": {
      "needs_background": "light"
     },
     "output_type": "display_data"
    }
   ],
   "source": [
    "sns.residplot(____, ____, lowess=True, color=\"g\")"
   ]
  },
  {
   "cell_type": "markdown",
   "metadata": {},
   "source": [
    "## Use the log of the gross"
   ]
  },
  {
   "cell_type": "code",
   "execution_count": 63,
   "metadata": {},
   "outputs": [
    {
     "name": "stdout",
     "output_type": "stream",
     "text": [
      "14.94649319100937\n",
      "[ 1.26012219e-08  5.14639859e-03 -8.74495292e-06  1.19907367e-05\n",
      "  1.51829114e+00  1.37648262e+00  1.24735236e+00  1.01295429e+00\n",
      " -2.20275940e-03]\n"
     ]
    }
   ],
   "source": [
    "\n",
    "#instantiate a linear regression object\n",
    "____ = LinearRegression()\n",
    "\n",
    "#fit the linear regression to the log of the target variable\n",
    "____.fit(X_train, ____(y_train))\n",
    "\n",
    "#access output\n",
    "print(____.intercept_)\n",
    "print(____.coef_)\n"
   ]
  },
  {
   "cell_type": "code",
   "execution_count": 64,
   "metadata": {},
   "outputs": [],
   "source": [
    "y_log_train_pred = ____.predict(X_train)"
   ]
  },
  {
   "cell_type": "code",
   "execution_count": 65,
   "metadata": {
    "scrolled": true
   },
   "outputs": [
    {
     "data": {
      "text/plain": [
       "array([16.87653203, 16.89346429, 17.00216722, 18.3712567 , 17.38623458,\n",
       "       17.58848038, 17.21282837, 16.96934738, 19.86732179, 17.40055841])"
      ]
     },
     "execution_count": 65,
     "metadata": {},
     "output_type": "execute_result"
    }
   ],
   "source": [
    "y_log_train_pred[:10]"
   ]
  },
  {
   "cell_type": "markdown",
   "metadata": {},
   "source": [
    "Now that we have the predictions, we need to exponentiate them to get them back into the original scale, dollars."
   ]
  },
  {
   "cell_type": "code",
   "execution_count": 66,
   "metadata": {},
   "outputs": [],
   "source": [
    "y_log_train_pred = np.exp(____)"
   ]
  },
  {
   "cell_type": "code",
   "execution_count": 67,
   "metadata": {},
   "outputs": [
    {
     "data": {
      "text/plain": [
       "array([2.13493538e+07, 2.17139245e+07, 2.42073586e+07, 9.51777452e+07,\n",
       "       3.55423172e+07, 4.35090874e+07, 2.98838382e+07, 2.34257728e+07,\n",
       "       4.24881895e+08, 3.60550831e+07])"
      ]
     },
     "execution_count": 67,
     "metadata": {},
     "output_type": "execute_result"
    }
   ],
   "source": [
    "y_log_train_pred[:10]"
   ]
  },
  {
   "cell_type": "code",
   "execution_count": 68,
   "metadata": {},
   "outputs": [
    {
     "name": "stdout",
     "output_type": "stream",
     "text": [
      "Mean Absolute Error: 36459869.72623558\n",
      "Root Mean Squared Error: 70627735.54192807\n"
     ]
    }
   ],
   "source": [
    "\n",
    "log_train_mae = metrics.mean_absolute_error(y_train, y_log_train_pred)\n",
    "log_train_rmse = np.sqrt(metrics.mean_squared_error(y_train, y_log_train_pred))\n",
    "\n",
    "\n",
    "print('Mean Absolute Error:', log_train_mae )\n",
    "print('Root Mean Squared Error:' , log_train_rmse)"
   ]
  },
  {
   "cell_type": "markdown",
   "metadata": {},
   "source": [
    "Let's see how it performs on the test data"
   ]
  },
  {
   "cell_type": "code",
   "execution_count": 69,
   "metadata": {},
   "outputs": [],
   "source": [
    "y_log_pred = ____.predict(____)"
   ]
  },
  {
   "cell_type": "code",
   "execution_count": 70,
   "metadata": {},
   "outputs": [],
   "source": [
    "y_log_pred = ____(y_log_pred)"
   ]
  },
  {
   "cell_type": "code",
   "execution_count": 71,
   "metadata": {
    "slideshow": {
     "slide_type": "fragment"
    }
   },
   "outputs": [
    {
     "name": "stdout",
     "output_type": "stream",
     "text": [
      "Mean Absolute Error:36882410.63302959\n",
      "Root Mean Squared Error:68440951.97108781\n"
     ]
    }
   ],
   "source": [
    "test_log_mae = metrics.mean_absolute_error(y_test, y_log_pred)\n",
    "test__log_rmse = np.sqrt(metrics.mean_squared_error(y_test, y_log_pred))\n",
    "\n",
    "\n",
    "print('Mean Absolute Error:' + str(test_log_mae))\n",
    "print('Root Mean Squared Error:' + str(test__log_rmse))"
   ]
  },
  {
   "cell_type": "markdown",
   "metadata": {},
   "source": [
    "Compare RMSE between orginal and logged target"
   ]
  },
  {
   "cell_type": "code",
   "execution_count": 72,
   "metadata": {},
   "outputs": [
    {
     "name": "stdout",
     "output_type": "stream",
     "text": [
      "Original:  51592890 vs. Logged:  68440951\n"
     ]
    }
   ],
   "source": [
    "print('Original: ', int(test_rmse), \"vs. Logged: \", int(test__log_rmse))"
   ]
  },
  {
   "cell_type": "markdown",
   "metadata": {},
   "source": [
    "Can we check the residuals to see if it explains why the model didn't do as well"
   ]
  },
  {
   "cell_type": "code",
   "execution_count": 73,
   "metadata": {},
   "outputs": [
    {
     "data": {
      "text/plain": [
       "(array([  1.,   1.,   0.,   0.,   0.,   0.,   0.,   1.,   0.,   0.,   0.,\n",
       "          2.,   0.,   0.,   0.,   3.,   4.,   8., 132., 169.,  63.,  37.,\n",
       "         18.,  10.,   8.,   4.,   0.,   2.,   1.,   2.]),\n",
       " array([-5.63964248e+08, -5.34761463e+08, -5.05558679e+08, -4.76355894e+08,\n",
       "        -4.47153109e+08, -4.17950324e+08, -3.88747539e+08, -3.59544754e+08,\n",
       "        -3.30341969e+08, -3.01139185e+08, -2.71936400e+08, -2.42733615e+08,\n",
       "        -2.13530830e+08, -1.84328045e+08, -1.55125260e+08, -1.25922475e+08,\n",
       "        -9.67196906e+07, -6.75169057e+07, -3.83141208e+07, -9.11133599e+06,\n",
       "         2.00914489e+07,  4.92942337e+07,  7.84970186e+07,  1.07699803e+08,\n",
       "         1.36902588e+08,  1.66105373e+08,  1.95308158e+08,  2.24510943e+08,\n",
       "         2.53713728e+08,  2.82916513e+08,  3.12119297e+08]),\n",
       " <a list of 30 Patch objects>)"
      ]
     },
     "execution_count": 73,
     "metadata": {},
     "output_type": "execute_result"
    },
    {
     "data": {
      "image/png": "[encoded data removed]",
      "text/plain": [
       "<Figure size 432x288 with 1 Axes>"
      ]
     },
     "metadata": {
      "needs_background": "light"
     },
     "output_type": "display_data"
    }
   ],
   "source": [
    "residuals = (y_test- y_log_pred)\n",
    "\n",
    "plt.hist(residuals, bins=30)\n",
    "\n",
    "\n",
    "\n"
   ]
  },
  {
   "cell_type": "code",
   "execution_count": 74,
   "metadata": {},
   "outputs": [
    {
     "data": {
      "text/plain": [
       "<matplotlib.axes._subplots.AxesSubplot at 0x1a17a64278>"
      ]
     },
     "execution_count": 74,
     "metadata": {},
     "output_type": "execute_result"
    },
    {
     "data": {
      "image/png": "[encoded data removed]",
      "text/plain": [
       "<Figure size 432x288 with 1 Axes>"
      ]
     },
     "metadata": {
      "needs_background": "light"
     },
     "output_type": "display_data"
    }
   ],
   "source": [
    "sns.residplot(y_log_pred, y_test, lowess=True, color=\"g\")"
   ]
  },
  {
   "cell_type": "markdown",
   "metadata": {},
   "source": [
    "## Evaluate Polynomial model"
   ]
  },
  {
   "cell_type": "markdown",
   "metadata": {},
   "source": [
    "### Train Test Split the polynomial data"
   ]
  },
  {
   "cell_type": "code",
   "execution_count": 70,
   "metadata": {},
   "outputs": [
    {
     "name": "stdout",
     "output_type": "stream",
     "text": [
      "Training set - Features:  (1864, 219) Target:  (1864,)\n",
      "Training set - Features:  (466, 219) Target:  (466,)\n"
     ]
    }
   ],
   "source": [
    "\n",
    "#call train_test_split on the data and capture the results\n",
    "X_train_poly, X_test_poly, y_train_poly, y_test_poly = train_test_split(df_poly, target, random_state=34,test_size=0.2)\n",
    "\n",
    "#check the shape of the results\n",
    "print(\"Training set - Features: \", X_train_poly.shape, \"Target: \", y_train_poly.shape)\n",
    "print(\"Training set - Features: \", X_test_poly.shape, \"Target: \",y_test_poly.shape)\n"
   ]
  },
  {
   "cell_type": "markdown",
   "metadata": {},
   "source": [
    "### Fit the Model"
   ]
  },
  {
   "cell_type": "code",
   "execution_count": 71,
   "metadata": {},
   "outputs": [],
   "source": [
    "#instantiate a linear regression object\n",
    "lr_poly = LinearRegression()\n",
    "\n",
    "#fit the linear regression to the data\n",
    "lr_poly = lr_poly. (X_train_poly, y_train_poly)\n",
    "\n"
   ]
  },
  {
   "cell_type": "markdown",
   "metadata": {},
   "source": [
    "### Predict on the training set"
   ]
  },
  {
   "cell_type": "code",
   "execution_count": 72,
   "metadata": {},
   "outputs": [],
   "source": [
    "train_preds = lr_poly.predict(X_train_poly)"
   ]
  },
  {
   "cell_type": "markdown",
   "metadata": {},
   "source": [
    "### Evaluate Training Data"
   ]
  },
  {
   "cell_type": "code",
   "execution_count": 73,
   "metadata": {},
   "outputs": [
    {
     "name": "stdout",
     "output_type": "stream",
     "text": [
      "Mean Absolute Error: 34726484.45642254\n",
      "Mean Squared Error: 2786923549957802.5\n",
      "Root Mean Squared Error: 52791320.782471456\n"
     ]
    }
   ],
   "source": [
    "\n",
    "train_mae_poly = metrics.mean_absolute_error(y_train_poly, train_preds)\n",
    "train_mse_poly = metrics.mean_squared_error(y_train_poly, train_preds)\n",
    "train_rmse_poly = np.sqrt(metrics.mean_squared_error(y_train_poly, train_preds))\n",
    "\n",
    "\n",
    "print('Mean Absolute Error:', train_mae_poly )\n",
    "print('Mean Squared Error:',  train_mse_poly)\n",
    "print('Root Mean Squared Error:' , train_rmse_poly)"
   ]
  },
  {
   "cell_type": "markdown",
   "metadata": {},
   "source": [
    "### Predict the test set"
   ]
  },
  {
   "cell_type": "code",
   "execution_count": 74,
   "metadata": {},
   "outputs": [],
   "source": [
    "test_preds = lr_poly.predict(X_test_poly)"
   ]
  },
  {
   "cell_type": "markdown",
   "metadata": {},
   "source": [
    "### Evaluate the test set"
   ]
  },
  {
   "cell_type": "code",
   "execution_count": 75,
   "metadata": {},
   "outputs": [
    {
     "name": "stdout",
     "output_type": "stream",
     "text": [
      "Mean Absolute Error:43794575.646936245\n",
      "Root Mean Squared Error:221779900.84977782\n"
     ]
    }
   ],
   "source": [
    "test_mae_poly = metrics.mean_absolute_error(y_test_poly, test_preds)\n",
    "test_rmse_poly = np.sqrt(metrics.mean_squared_error(y_test_poly, test_preds))\n",
    "\n",
    "\n",
    "print('Mean Absolute Error:' + str(test_mae_poly))\n",
    "print('Root Mean Squared Error:' + str(test_rmse_poly))"
   ]
  },
  {
   "cell_type": "markdown",
   "metadata": {},
   "source": [
    "### Comparing our Model's performance on training data versus test data.\n"
   ]
  },
  {
   "cell_type": "code",
   "execution_count": 76,
   "metadata": {},
   "outputs": [
    {
     "name": "stdout",
     "output_type": "stream",
     "text": [
      "Training:  52791320 vs. Testing:  221779900\n"
     ]
    }
   ],
   "source": [
    "\n",
    "print('Training: ', int(train_rmse_poly), \"vs. Testing: \", int(test_rmse_poly))"
   ]
  },
  {
   "cell_type": "markdown",
   "metadata": {},
   "source": [
    "### Evaluate the Polynomial 3 dataset"
   ]
  },
  {
   "cell_type": "code",
   "execution_count": null,
   "metadata": {},
   "outputs": [],
   "source": []
  }
 ],
 "metadata": {
  "kernelspec": {
   "display_name": "Python 3",
   "language": "python",
   "name": "python3"
  },
  "language_info": {
   "codemirror_mode": {
    "name": "ipython",
    "version": 3
   },
   "file_extension": ".py",
   "mimetype": "text/x-python",
   "name": "python",
   "nbconvert_exporter": "python",
   "pygments_lexer": "ipython3",
   "version": "3.7.3"
  }
 },
 "nbformat": 4,
 "nbformat_minor": 2
}
