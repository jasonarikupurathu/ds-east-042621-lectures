{
 "cells": [
  {
   "cell_type": "markdown",
   "metadata": {},
   "source": [
    "# Kings County Housing Prices"
   ]
  },
  {
   "cell_type": "code",
   "execution_count": 1,
   "metadata": {},
   "outputs": [],
   "source": [
    "import matplotlib.pyplot as plt\n",
    "import datetime\n",
    "from scipy import stats\n",
    "import seaborn as sns\n",
    "import numpy as np \n",
    "import pandas as pd\n",
    "from sklearn.model_selection import train_test_split\n",
    "from sklearn.linear_model import LinearRegression\n",
    "from sklearn import metrics\n",
    "\n",
    "import warnings\n",
    "warnings.filterwarnings(\"ignore\")\n",
    "pd.set_option('display.max_columns', 300)"
   ]
  },
  {
   "cell_type": "code",
   "execution_count": 2,
   "metadata": {},
   "outputs": [],
   "source": [
    "from sklearn.preprocessing import StandardScaler"
   ]
  },
  {
   "cell_type": "code",
   "execution_count": 3,
   "metadata": {},
   "outputs": [],
   "source": [
    "pd.set_option('display.max_rows', None)"
   ]
  },
  {
   "cell_type": "markdown",
   "metadata": {},
   "source": [
    "Import data into a dataframe and view head."
   ]
  },
  {
   "cell_type": "code",
   "execution_count": 4,
   "metadata": {},
   "outputs": [
    {
     "data": {
      "text/html": [
       "<div>\n",
       "<style scoped>\n",
       "    .dataframe tbody tr th:only-of-type {\n",
       "        vertical-align: middle;\n",
       "    }\n",
       "\n",
       "    .dataframe tbody tr th {\n",
       "        vertical-align: top;\n",
       "    }\n",
       "\n",
       "    .dataframe thead th {\n",
       "        text-align: right;\n",
       "    }\n",
       "</style>\n",
       "<table border=\"1\" class=\"dataframe\">\n",
       "  <thead>\n",
       "    <tr style=\"text-align: right;\">\n",
       "      <th></th>\n",
       "      <th>Unnamed: 0</th>\n",
       "      <th>id</th>\n",
       "      <th>date</th>\n",
       "      <th>price</th>\n",
       "      <th>bedrooms</th>\n",
       "      <th>bathrooms</th>\n",
       "      <th>sqft_living</th>\n",
       "      <th>sqft_lot</th>\n",
       "      <th>floors</th>\n",
       "      <th>waterfront</th>\n",
       "      <th>view</th>\n",
       "      <th>condition</th>\n",
       "      <th>grade</th>\n",
       "      <th>sqft_above</th>\n",
       "      <th>sqft_basement</th>\n",
       "      <th>yr_built</th>\n",
       "      <th>yr_renovated</th>\n",
       "      <th>zipcode</th>\n",
       "      <th>lat</th>\n",
       "      <th>long</th>\n",
       "      <th>sqft_living15</th>\n",
       "      <th>sqft_lot15</th>\n",
       "    </tr>\n",
       "  </thead>\n",
       "  <tbody>\n",
       "    <tr>\n",
       "      <th>0</th>\n",
       "      <td>0</td>\n",
       "      <td>2591820310</td>\n",
       "      <td>20141006T000000</td>\n",
       "      <td>365000.0</td>\n",
       "      <td>4</td>\n",
       "      <td>2.25</td>\n",
       "      <td>2070</td>\n",
       "      <td>8893</td>\n",
       "      <td>2.0</td>\n",
       "      <td>0</td>\n",
       "      <td>0</td>\n",
       "      <td>4</td>\n",
       "      <td>8</td>\n",
       "      <td>2070</td>\n",
       "      <td>0</td>\n",
       "      <td>1986</td>\n",
       "      <td>0</td>\n",
       "      <td>98058</td>\n",
       "      <td>47.4388</td>\n",
       "      <td>-122.162</td>\n",
       "      <td>2390</td>\n",
       "      <td>7700</td>\n",
       "    </tr>\n",
       "    <tr>\n",
       "      <th>1</th>\n",
       "      <td>1</td>\n",
       "      <td>7974200820</td>\n",
       "      <td>20140821T000000</td>\n",
       "      <td>865000.0</td>\n",
       "      <td>5</td>\n",
       "      <td>3.00</td>\n",
       "      <td>2900</td>\n",
       "      <td>6730</td>\n",
       "      <td>1.0</td>\n",
       "      <td>0</td>\n",
       "      <td>0</td>\n",
       "      <td>5</td>\n",
       "      <td>8</td>\n",
       "      <td>1830</td>\n",
       "      <td>1070</td>\n",
       "      <td>1977</td>\n",
       "      <td>0</td>\n",
       "      <td>98115</td>\n",
       "      <td>47.6784</td>\n",
       "      <td>-122.285</td>\n",
       "      <td>2370</td>\n",
       "      <td>6283</td>\n",
       "    </tr>\n",
       "    <tr>\n",
       "      <th>2</th>\n",
       "      <td>2</td>\n",
       "      <td>7701450110</td>\n",
       "      <td>20140815T000000</td>\n",
       "      <td>1038000.0</td>\n",
       "      <td>4</td>\n",
       "      <td>2.50</td>\n",
       "      <td>3770</td>\n",
       "      <td>10893</td>\n",
       "      <td>2.0</td>\n",
       "      <td>0</td>\n",
       "      <td>2</td>\n",
       "      <td>3</td>\n",
       "      <td>11</td>\n",
       "      <td>3770</td>\n",
       "      <td>0</td>\n",
       "      <td>1997</td>\n",
       "      <td>0</td>\n",
       "      <td>98006</td>\n",
       "      <td>47.5646</td>\n",
       "      <td>-122.129</td>\n",
       "      <td>3710</td>\n",
       "      <td>9685</td>\n",
       "    </tr>\n",
       "    <tr>\n",
       "      <th>3</th>\n",
       "      <td>3</td>\n",
       "      <td>9522300010</td>\n",
       "      <td>20150331T000000</td>\n",
       "      <td>1490000.0</td>\n",
       "      <td>3</td>\n",
       "      <td>3.50</td>\n",
       "      <td>4560</td>\n",
       "      <td>14608</td>\n",
       "      <td>2.0</td>\n",
       "      <td>0</td>\n",
       "      <td>2</td>\n",
       "      <td>3</td>\n",
       "      <td>12</td>\n",
       "      <td>4560</td>\n",
       "      <td>0</td>\n",
       "      <td>1990</td>\n",
       "      <td>0</td>\n",
       "      <td>98034</td>\n",
       "      <td>47.6995</td>\n",
       "      <td>-122.228</td>\n",
       "      <td>4050</td>\n",
       "      <td>14226</td>\n",
       "    </tr>\n",
       "    <tr>\n",
       "      <th>4</th>\n",
       "      <td>4</td>\n",
       "      <td>9510861140</td>\n",
       "      <td>20140714T000000</td>\n",
       "      <td>711000.0</td>\n",
       "      <td>3</td>\n",
       "      <td>2.50</td>\n",
       "      <td>2550</td>\n",
       "      <td>5376</td>\n",
       "      <td>2.0</td>\n",
       "      <td>0</td>\n",
       "      <td>0</td>\n",
       "      <td>3</td>\n",
       "      <td>9</td>\n",
       "      <td>2550</td>\n",
       "      <td>0</td>\n",
       "      <td>2004</td>\n",
       "      <td>0</td>\n",
       "      <td>98052</td>\n",
       "      <td>47.6647</td>\n",
       "      <td>-122.083</td>\n",
       "      <td>2250</td>\n",
       "      <td>4050</td>\n",
       "    </tr>\n",
       "  </tbody>\n",
       "</table>\n",
       "</div>"
      ],
      "text/plain": [
       "   Unnamed: 0          id             date      price  bedrooms  bathrooms  \\\n",
       "0           0  2591820310  20141006T000000   365000.0         4       2.25   \n",
       "1           1  7974200820  20140821T000000   865000.0         5       3.00   \n",
       "2           2  7701450110  20140815T000000  1038000.0         4       2.50   \n",
       "3           3  9522300010  20150331T000000  1490000.0         3       3.50   \n",
       "4           4  9510861140  20140714T000000   711000.0         3       2.50   \n",
       "\n",
       "   sqft_living  sqft_lot  floors  waterfront  view  condition  grade  \\\n",
       "0         2070      8893     2.0           0     0          4      8   \n",
       "1         2900      6730     1.0           0     0          5      8   \n",
       "2         3770     10893     2.0           0     2          3     11   \n",
       "3         4560     14608     2.0           0     2          3     12   \n",
       "4         2550      5376     2.0           0     0          3      9   \n",
       "\n",
       "   sqft_above  sqft_basement  yr_built  yr_renovated  zipcode      lat  \\\n",
       "0        2070              0      1986             0    98058  47.4388   \n",
       "1        1830           1070      1977             0    98115  47.6784   \n",
       "2        3770              0      1997             0    98006  47.5646   \n",
       "3        4560              0      1990             0    98034  47.6995   \n",
       "4        2550              0      2004             0    98052  47.6647   \n",
       "\n",
       "      long  sqft_living15  sqft_lot15  \n",
       "0 -122.162           2390        7700  \n",
       "1 -122.285           2370        6283  \n",
       "2 -122.129           3710        9685  \n",
       "3 -122.228           4050       14226  \n",
       "4 -122.083           2250        4050  "
      ]
     },
     "execution_count": 4,
     "metadata": {},
     "output_type": "execute_result"
    }
   ],
   "source": [
    "kings_county_df = pd.read_csv(\"data/kc_house_data_train.csv\")\n",
    "kings_county_df.head()"
   ]
  },
  {
   "cell_type": "markdown",
   "metadata": {},
   "source": [
    "Check descriptive stats and info about each column"
   ]
  },
  {
   "cell_type": "code",
   "execution_count": 5,
   "metadata": {
    "scrolled": true
   },
   "outputs": [
    {
     "name": "stdout",
     "output_type": "stream",
     "text": [
      "<class 'pandas.core.frame.DataFrame'>\n",
      "RangeIndex: 17290 entries, 0 to 17289\n",
      "Data columns (total 22 columns):\n",
      " #   Column         Non-Null Count  Dtype  \n",
      "---  ------         --------------  -----  \n",
      " 0   Unnamed: 0     17290 non-null  int64  \n",
      " 1   id             17290 non-null  int64  \n",
      " 2   date           17290 non-null  object \n",
      " 3   price          17290 non-null  float64\n",
      " 4   bedrooms       17290 non-null  int64  \n",
      " 5   bathrooms      17290 non-null  float64\n",
      " 6   sqft_living    17290 non-null  int64  \n",
      " 7   sqft_lot       17290 non-null  int64  \n",
      " 8   floors         17290 non-null  float64\n",
      " 9   waterfront     17290 non-null  int64  \n",
      " 10  view           17290 non-null  int64  \n",
      " 11  condition      17290 non-null  int64  \n",
      " 12  grade          17290 non-null  int64  \n",
      " 13  sqft_above     17290 non-null  int64  \n",
      " 14  sqft_basement  17290 non-null  int64  \n",
      " 15  yr_built       17290 non-null  int64  \n",
      " 16  yr_renovated   17290 non-null  int64  \n",
      " 17  zipcode        17290 non-null  int64  \n",
      " 18  lat            17290 non-null  float64\n",
      " 19  long           17290 non-null  float64\n",
      " 20  sqft_living15  17290 non-null  int64  \n",
      " 21  sqft_lot15     17290 non-null  int64  \n",
      "dtypes: float64(5), int64(16), object(1)\n",
      "memory usage: 2.9+ MB\n"
     ]
    }
   ],
   "source": [
    "kings_county_df.info()"
   ]
  },
  {
   "cell_type": "code",
   "execution_count": 6,
   "metadata": {},
   "outputs": [
    {
     "data": {
      "text/html": [
       "<div>\n",
       "<style scoped>\n",
       "    .dataframe tbody tr th:only-of-type {\n",
       "        vertical-align: middle;\n",
       "    }\n",
       "\n",
       "    .dataframe tbody tr th {\n",
       "        vertical-align: top;\n",
       "    }\n",
       "\n",
       "    .dataframe thead th {\n",
       "        text-align: right;\n",
       "    }\n",
       "</style>\n",
       "<table border=\"1\" class=\"dataframe\">\n",
       "  <thead>\n",
       "    <tr style=\"text-align: right;\">\n",
       "      <th></th>\n",
       "      <th>Unnamed: 0</th>\n",
       "      <th>id</th>\n",
       "      <th>price</th>\n",
       "      <th>bedrooms</th>\n",
       "      <th>bathrooms</th>\n",
       "      <th>sqft_living</th>\n",
       "      <th>sqft_lot</th>\n",
       "      <th>floors</th>\n",
       "      <th>waterfront</th>\n",
       "      <th>view</th>\n",
       "      <th>condition</th>\n",
       "      <th>grade</th>\n",
       "      <th>sqft_above</th>\n",
       "      <th>sqft_basement</th>\n",
       "      <th>yr_built</th>\n",
       "      <th>yr_renovated</th>\n",
       "      <th>zipcode</th>\n",
       "      <th>lat</th>\n",
       "      <th>long</th>\n",
       "      <th>sqft_living15</th>\n",
       "      <th>sqft_lot15</th>\n",
       "    </tr>\n",
       "  </thead>\n",
       "  <tbody>\n",
       "    <tr>\n",
       "      <th>count</th>\n",
       "      <td>17290.000000</td>\n",
       "      <td>1.729000e+04</td>\n",
       "      <td>1.729000e+04</td>\n",
       "      <td>17290.000000</td>\n",
       "      <td>17290.000000</td>\n",
       "      <td>17290.000000</td>\n",
       "      <td>1.729000e+04</td>\n",
       "      <td>17290.000000</td>\n",
       "      <td>17290.000000</td>\n",
       "      <td>17290.000000</td>\n",
       "      <td>17290.000000</td>\n",
       "      <td>17290.000000</td>\n",
       "      <td>17290.000000</td>\n",
       "      <td>17290.000000</td>\n",
       "      <td>17290.000000</td>\n",
       "      <td>17290.000000</td>\n",
       "      <td>17290.000000</td>\n",
       "      <td>17290.000000</td>\n",
       "      <td>17290.000000</td>\n",
       "      <td>17290.000000</td>\n",
       "      <td>17290.000000</td>\n",
       "    </tr>\n",
       "    <tr>\n",
       "      <th>mean</th>\n",
       "      <td>8644.500000</td>\n",
       "      <td>4.565502e+09</td>\n",
       "      <td>5.407395e+05</td>\n",
       "      <td>3.372470</td>\n",
       "      <td>2.111943</td>\n",
       "      <td>2081.464604</td>\n",
       "      <td>1.524340e+04</td>\n",
       "      <td>1.490312</td>\n",
       "      <td>0.007981</td>\n",
       "      <td>0.238519</td>\n",
       "      <td>3.408502</td>\n",
       "      <td>7.654425</td>\n",
       "      <td>1789.306015</td>\n",
       "      <td>292.158589</td>\n",
       "      <td>1970.792019</td>\n",
       "      <td>83.806304</td>\n",
       "      <td>98078.193175</td>\n",
       "      <td>47.560058</td>\n",
       "      <td>-122.214258</td>\n",
       "      <td>1987.986698</td>\n",
       "      <td>12873.475824</td>\n",
       "    </tr>\n",
       "    <tr>\n",
       "      <th>std</th>\n",
       "      <td>4991.337413</td>\n",
       "      <td>2.874656e+09</td>\n",
       "      <td>3.733190e+05</td>\n",
       "      <td>0.939346</td>\n",
       "      <td>0.770476</td>\n",
       "      <td>920.018539</td>\n",
       "      <td>4.230462e+04</td>\n",
       "      <td>0.538909</td>\n",
       "      <td>0.088985</td>\n",
       "      <td>0.775229</td>\n",
       "      <td>0.651296</td>\n",
       "      <td>1.174718</td>\n",
       "      <td>829.265107</td>\n",
       "      <td>443.151874</td>\n",
       "      <td>29.343516</td>\n",
       "      <td>400.329376</td>\n",
       "      <td>53.607949</td>\n",
       "      <td>0.138412</td>\n",
       "      <td>0.140857</td>\n",
       "      <td>684.802635</td>\n",
       "      <td>27227.437583</td>\n",
       "    </tr>\n",
       "    <tr>\n",
       "      <th>min</th>\n",
       "      <td>0.000000</td>\n",
       "      <td>1.000102e+06</td>\n",
       "      <td>7.500000e+04</td>\n",
       "      <td>0.000000</td>\n",
       "      <td>0.000000</td>\n",
       "      <td>290.000000</td>\n",
       "      <td>5.720000e+02</td>\n",
       "      <td>1.000000</td>\n",
       "      <td>0.000000</td>\n",
       "      <td>0.000000</td>\n",
       "      <td>1.000000</td>\n",
       "      <td>1.000000</td>\n",
       "      <td>290.000000</td>\n",
       "      <td>0.000000</td>\n",
       "      <td>1900.000000</td>\n",
       "      <td>0.000000</td>\n",
       "      <td>98001.000000</td>\n",
       "      <td>47.155900</td>\n",
       "      <td>-122.519000</td>\n",
       "      <td>399.000000</td>\n",
       "      <td>659.000000</td>\n",
       "    </tr>\n",
       "    <tr>\n",
       "      <th>25%</th>\n",
       "      <td>4322.250000</td>\n",
       "      <td>2.114701e+09</td>\n",
       "      <td>3.210000e+05</td>\n",
       "      <td>3.000000</td>\n",
       "      <td>1.500000</td>\n",
       "      <td>1430.000000</td>\n",
       "      <td>5.081250e+03</td>\n",
       "      <td>1.000000</td>\n",
       "      <td>0.000000</td>\n",
       "      <td>0.000000</td>\n",
       "      <td>3.000000</td>\n",
       "      <td>7.000000</td>\n",
       "      <td>1200.000000</td>\n",
       "      <td>0.000000</td>\n",
       "      <td>1951.000000</td>\n",
       "      <td>0.000000</td>\n",
       "      <td>98033.000000</td>\n",
       "      <td>47.471200</td>\n",
       "      <td>-122.329000</td>\n",
       "      <td>1490.000000</td>\n",
       "      <td>5111.250000</td>\n",
       "    </tr>\n",
       "    <tr>\n",
       "      <th>50%</th>\n",
       "      <td>8644.500000</td>\n",
       "      <td>3.903650e+09</td>\n",
       "      <td>4.500000e+05</td>\n",
       "      <td>3.000000</td>\n",
       "      <td>2.250000</td>\n",
       "      <td>1920.000000</td>\n",
       "      <td>7.642000e+03</td>\n",
       "      <td>1.500000</td>\n",
       "      <td>0.000000</td>\n",
       "      <td>0.000000</td>\n",
       "      <td>3.000000</td>\n",
       "      <td>7.000000</td>\n",
       "      <td>1560.000000</td>\n",
       "      <td>0.000000</td>\n",
       "      <td>1974.000000</td>\n",
       "      <td>0.000000</td>\n",
       "      <td>98065.000000</td>\n",
       "      <td>47.571600</td>\n",
       "      <td>-122.230000</td>\n",
       "      <td>1840.000000</td>\n",
       "      <td>7622.500000</td>\n",
       "    </tr>\n",
       "    <tr>\n",
       "      <th>75%</th>\n",
       "      <td>12966.750000</td>\n",
       "      <td>7.301150e+09</td>\n",
       "      <td>6.450000e+05</td>\n",
       "      <td>4.000000</td>\n",
       "      <td>2.500000</td>\n",
       "      <td>2550.000000</td>\n",
       "      <td>1.072575e+04</td>\n",
       "      <td>2.000000</td>\n",
       "      <td>0.000000</td>\n",
       "      <td>0.000000</td>\n",
       "      <td>4.000000</td>\n",
       "      <td>8.000000</td>\n",
       "      <td>2214.500000</td>\n",
       "      <td>560.000000</td>\n",
       "      <td>1996.000000</td>\n",
       "      <td>0.000000</td>\n",
       "      <td>98118.000000</td>\n",
       "      <td>47.677900</td>\n",
       "      <td>-122.126000</td>\n",
       "      <td>2360.000000</td>\n",
       "      <td>10101.750000</td>\n",
       "    </tr>\n",
       "    <tr>\n",
       "      <th>max</th>\n",
       "      <td>17289.000000</td>\n",
       "      <td>9.900000e+09</td>\n",
       "      <td>7.700000e+06</td>\n",
       "      <td>33.000000</td>\n",
       "      <td>8.000000</td>\n",
       "      <td>13540.000000</td>\n",
       "      <td>1.651359e+06</td>\n",
       "      <td>3.500000</td>\n",
       "      <td>1.000000</td>\n",
       "      <td>4.000000</td>\n",
       "      <td>5.000000</td>\n",
       "      <td>13.000000</td>\n",
       "      <td>9410.000000</td>\n",
       "      <td>4820.000000</td>\n",
       "      <td>2015.000000</td>\n",
       "      <td>2015.000000</td>\n",
       "      <td>98199.000000</td>\n",
       "      <td>47.777600</td>\n",
       "      <td>-121.315000</td>\n",
       "      <td>6210.000000</td>\n",
       "      <td>858132.000000</td>\n",
       "    </tr>\n",
       "  </tbody>\n",
       "</table>\n",
       "</div>"
      ],
      "text/plain": [
       "         Unnamed: 0            id         price      bedrooms     bathrooms  \\\n",
       "count  17290.000000  1.729000e+04  1.729000e+04  17290.000000  17290.000000   \n",
       "mean    8644.500000  4.565502e+09  5.407395e+05      3.372470      2.111943   \n",
       "std     4991.337413  2.874656e+09  3.733190e+05      0.939346      0.770476   \n",
       "min        0.000000  1.000102e+06  7.500000e+04      0.000000      0.000000   \n",
       "25%     4322.250000  2.114701e+09  3.210000e+05      3.000000      1.500000   \n",
       "50%     8644.500000  3.903650e+09  4.500000e+05      3.000000      2.250000   \n",
       "75%    12966.750000  7.301150e+09  6.450000e+05      4.000000      2.500000   \n",
       "max    17289.000000  9.900000e+09  7.700000e+06     33.000000      8.000000   \n",
       "\n",
       "        sqft_living      sqft_lot        floors    waterfront          view  \\\n",
       "count  17290.000000  1.729000e+04  17290.000000  17290.000000  17290.000000   \n",
       "mean    2081.464604  1.524340e+04      1.490312      0.007981      0.238519   \n",
       "std      920.018539  4.230462e+04      0.538909      0.088985      0.775229   \n",
       "min      290.000000  5.720000e+02      1.000000      0.000000      0.000000   \n",
       "25%     1430.000000  5.081250e+03      1.000000      0.000000      0.000000   \n",
       "50%     1920.000000  7.642000e+03      1.500000      0.000000      0.000000   \n",
       "75%     2550.000000  1.072575e+04      2.000000      0.000000      0.000000   \n",
       "max    13540.000000  1.651359e+06      3.500000      1.000000      4.000000   \n",
       "\n",
       "          condition         grade    sqft_above  sqft_basement      yr_built  \\\n",
       "count  17290.000000  17290.000000  17290.000000   17290.000000  17290.000000   \n",
       "mean       3.408502      7.654425   1789.306015     292.158589   1970.792019   \n",
       "std        0.651296      1.174718    829.265107     443.151874     29.343516   \n",
       "min        1.000000      1.000000    290.000000       0.000000   1900.000000   \n",
       "25%        3.000000      7.000000   1200.000000       0.000000   1951.000000   \n",
       "50%        3.000000      7.000000   1560.000000       0.000000   1974.000000   \n",
       "75%        4.000000      8.000000   2214.500000     560.000000   1996.000000   \n",
       "max        5.000000     13.000000   9410.000000    4820.000000   2015.000000   \n",
       "\n",
       "       yr_renovated       zipcode           lat          long  sqft_living15  \\\n",
       "count  17290.000000  17290.000000  17290.000000  17290.000000   17290.000000   \n",
       "mean      83.806304  98078.193175     47.560058   -122.214258    1987.986698   \n",
       "std      400.329376     53.607949      0.138412      0.140857     684.802635   \n",
       "min        0.000000  98001.000000     47.155900   -122.519000     399.000000   \n",
       "25%        0.000000  98033.000000     47.471200   -122.329000    1490.000000   \n",
       "50%        0.000000  98065.000000     47.571600   -122.230000    1840.000000   \n",
       "75%        0.000000  98118.000000     47.677900   -122.126000    2360.000000   \n",
       "max     2015.000000  98199.000000     47.777600   -121.315000    6210.000000   \n",
       "\n",
       "          sqft_lot15  \n",
       "count   17290.000000  \n",
       "mean    12873.475824  \n",
       "std     27227.437583  \n",
       "min       659.000000  \n",
       "25%      5111.250000  \n",
       "50%      7622.500000  \n",
       "75%     10101.750000  \n",
       "max    858132.000000  "
      ]
     },
     "execution_count": 6,
     "metadata": {},
     "output_type": "execute_result"
    }
   ],
   "source": [
    "kings_county_df.describe()"
   ]
  },
  {
   "cell_type": "markdown",
   "metadata": {},
   "source": [
    "- Convert date to DateTime Object\n",
    "- Took count of ID, if id appeared more than once, sold more than once.\n",
    "- Drop Unnamed Column and ID: Seems irrelevant\n",
    "- Drop long/lat, I don't think i can think of any good combination that isn't explained by zip code\n",
    "- Convert zipcode to string"
   ]
  },
  {
   "cell_type": "code",
   "execution_count": 7,
   "metadata": {},
   "outputs": [],
   "source": [
    "kings_county_df['date'] = pd.to_datetime(kings_county_df['date'].str.slice(0,8),format=\"%Y-%m-%d\")\n",
    "dictNumTimesSold = dict(kings_county_df.groupby('id').id.count().sort_values())\n",
    "kings_county_df['num_times_sold'] = kings_county_df['id'].map(dictNumTimesSold)\n",
    "kings_county_df.drop(labels =['Unnamed: 0', 'id', 'lat', 'long'], axis=1, inplace=True)\n",
    "kings_county_df['zipcode'] = kings_county_df['zipcode'].apply(str)\n"
   ]
  },
  {
   "cell_type": "code",
   "execution_count": 8,
   "metadata": {},
   "outputs": [
    {
     "data": {
      "text/html": [
       "<div>\n",
       "<style scoped>\n",
       "    .dataframe tbody tr th:only-of-type {\n",
       "        vertical-align: middle;\n",
       "    }\n",
       "\n",
       "    .dataframe tbody tr th {\n",
       "        vertical-align: top;\n",
       "    }\n",
       "\n",
       "    .dataframe thead th {\n",
       "        text-align: right;\n",
       "    }\n",
       "</style>\n",
       "<table border=\"1\" class=\"dataframe\">\n",
       "  <thead>\n",
       "    <tr style=\"text-align: right;\">\n",
       "      <th></th>\n",
       "      <th>date</th>\n",
       "      <th>price</th>\n",
       "      <th>bedrooms</th>\n",
       "      <th>bathrooms</th>\n",
       "      <th>sqft_living</th>\n",
       "      <th>sqft_lot</th>\n",
       "      <th>floors</th>\n",
       "      <th>waterfront</th>\n",
       "      <th>view</th>\n",
       "      <th>condition</th>\n",
       "      <th>grade</th>\n",
       "      <th>sqft_above</th>\n",
       "      <th>sqft_basement</th>\n",
       "      <th>yr_built</th>\n",
       "      <th>yr_renovated</th>\n",
       "      <th>zipcode</th>\n",
       "      <th>sqft_living15</th>\n",
       "      <th>sqft_lot15</th>\n",
       "      <th>num_times_sold</th>\n",
       "    </tr>\n",
       "  </thead>\n",
       "  <tbody>\n",
       "    <tr>\n",
       "      <th>0</th>\n",
       "      <td>2014-10-06</td>\n",
       "      <td>365000.0</td>\n",
       "      <td>4</td>\n",
       "      <td>2.25</td>\n",
       "      <td>2070</td>\n",
       "      <td>8893</td>\n",
       "      <td>2.0</td>\n",
       "      <td>0</td>\n",
       "      <td>0</td>\n",
       "      <td>4</td>\n",
       "      <td>8</td>\n",
       "      <td>2070</td>\n",
       "      <td>0</td>\n",
       "      <td>1986</td>\n",
       "      <td>0</td>\n",
       "      <td>98058</td>\n",
       "      <td>2390</td>\n",
       "      <td>7700</td>\n",
       "      <td>1</td>\n",
       "    </tr>\n",
       "    <tr>\n",
       "      <th>1</th>\n",
       "      <td>2014-08-21</td>\n",
       "      <td>865000.0</td>\n",
       "      <td>5</td>\n",
       "      <td>3.00</td>\n",
       "      <td>2900</td>\n",
       "      <td>6730</td>\n",
       "      <td>1.0</td>\n",
       "      <td>0</td>\n",
       "      <td>0</td>\n",
       "      <td>5</td>\n",
       "      <td>8</td>\n",
       "      <td>1830</td>\n",
       "      <td>1070</td>\n",
       "      <td>1977</td>\n",
       "      <td>0</td>\n",
       "      <td>98115</td>\n",
       "      <td>2370</td>\n",
       "      <td>6283</td>\n",
       "      <td>1</td>\n",
       "    </tr>\n",
       "    <tr>\n",
       "      <th>2</th>\n",
       "      <td>2014-08-15</td>\n",
       "      <td>1038000.0</td>\n",
       "      <td>4</td>\n",
       "      <td>2.50</td>\n",
       "      <td>3770</td>\n",
       "      <td>10893</td>\n",
       "      <td>2.0</td>\n",
       "      <td>0</td>\n",
       "      <td>2</td>\n",
       "      <td>3</td>\n",
       "      <td>11</td>\n",
       "      <td>3770</td>\n",
       "      <td>0</td>\n",
       "      <td>1997</td>\n",
       "      <td>0</td>\n",
       "      <td>98006</td>\n",
       "      <td>3710</td>\n",
       "      <td>9685</td>\n",
       "      <td>1</td>\n",
       "    </tr>\n",
       "    <tr>\n",
       "      <th>3</th>\n",
       "      <td>2015-03-31</td>\n",
       "      <td>1490000.0</td>\n",
       "      <td>3</td>\n",
       "      <td>3.50</td>\n",
       "      <td>4560</td>\n",
       "      <td>14608</td>\n",
       "      <td>2.0</td>\n",
       "      <td>0</td>\n",
       "      <td>2</td>\n",
       "      <td>3</td>\n",
       "      <td>12</td>\n",
       "      <td>4560</td>\n",
       "      <td>0</td>\n",
       "      <td>1990</td>\n",
       "      <td>0</td>\n",
       "      <td>98034</td>\n",
       "      <td>4050</td>\n",
       "      <td>14226</td>\n",
       "      <td>1</td>\n",
       "    </tr>\n",
       "    <tr>\n",
       "      <th>4</th>\n",
       "      <td>2014-07-14</td>\n",
       "      <td>711000.0</td>\n",
       "      <td>3</td>\n",
       "      <td>2.50</td>\n",
       "      <td>2550</td>\n",
       "      <td>5376</td>\n",
       "      <td>2.0</td>\n",
       "      <td>0</td>\n",
       "      <td>0</td>\n",
       "      <td>3</td>\n",
       "      <td>9</td>\n",
       "      <td>2550</td>\n",
       "      <td>0</td>\n",
       "      <td>2004</td>\n",
       "      <td>0</td>\n",
       "      <td>98052</td>\n",
       "      <td>2250</td>\n",
       "      <td>4050</td>\n",
       "      <td>1</td>\n",
       "    </tr>\n",
       "  </tbody>\n",
       "</table>\n",
       "</div>"
      ],
      "text/plain": [
       "        date      price  bedrooms  bathrooms  sqft_living  sqft_lot  floors  \\\n",
       "0 2014-10-06   365000.0         4       2.25         2070      8893     2.0   \n",
       "1 2014-08-21   865000.0         5       3.00         2900      6730     1.0   \n",
       "2 2014-08-15  1038000.0         4       2.50         3770     10893     2.0   \n",
       "3 2015-03-31  1490000.0         3       3.50         4560     14608     2.0   \n",
       "4 2014-07-14   711000.0         3       2.50         2550      5376     2.0   \n",
       "\n",
       "   waterfront  view  condition  grade  sqft_above  sqft_basement  yr_built  \\\n",
       "0           0     0          4      8        2070              0      1986   \n",
       "1           0     0          5      8        1830           1070      1977   \n",
       "2           0     2          3     11        3770              0      1997   \n",
       "3           0     2          3     12        4560              0      1990   \n",
       "4           0     0          3      9        2550              0      2004   \n",
       "\n",
       "   yr_renovated zipcode  sqft_living15  sqft_lot15  num_times_sold  \n",
       "0             0   98058           2390        7700               1  \n",
       "1             0   98115           2370        6283               1  \n",
       "2             0   98006           3710        9685               1  \n",
       "3             0   98034           4050       14226               1  \n",
       "4             0   98052           2250        4050               1  "
      ]
     },
     "execution_count": 8,
     "metadata": {},
     "output_type": "execute_result"
    }
   ],
   "source": [
    "kings_county_df.head()"
   ]
  },
  {
   "cell_type": "markdown",
   "metadata": {},
   "source": [
    "View extreme numbers and address accordingly. Saw a bedroom of 33 and it looks like a typo so set it to 3 bedrooms. Saw few bathrooms/bedrooms of 0 and it seems outrageous and since they are so few, I decided to drop them."
   ]
  },
  {
   "cell_type": "code",
   "execution_count": 9,
   "metadata": {
    "scrolled": true
   },
   "outputs": [
    {
     "data": {
      "text/html": [
       "<div>\n",
       "<style scoped>\n",
       "    .dataframe tbody tr th:only-of-type {\n",
       "        vertical-align: middle;\n",
       "    }\n",
       "\n",
       "    .dataframe tbody tr th {\n",
       "        vertical-align: top;\n",
       "    }\n",
       "\n",
       "    .dataframe thead th {\n",
       "        text-align: right;\n",
       "    }\n",
       "</style>\n",
       "<table border=\"1\" class=\"dataframe\">\n",
       "  <thead>\n",
       "    <tr style=\"text-align: right;\">\n",
       "      <th></th>\n",
       "      <th>date</th>\n",
       "      <th>price</th>\n",
       "      <th>bedrooms</th>\n",
       "      <th>bathrooms</th>\n",
       "      <th>sqft_living</th>\n",
       "      <th>sqft_lot</th>\n",
       "      <th>floors</th>\n",
       "      <th>waterfront</th>\n",
       "      <th>view</th>\n",
       "      <th>condition</th>\n",
       "      <th>grade</th>\n",
       "      <th>sqft_above</th>\n",
       "      <th>sqft_basement</th>\n",
       "      <th>yr_built</th>\n",
       "      <th>yr_renovated</th>\n",
       "      <th>zipcode</th>\n",
       "      <th>sqft_living15</th>\n",
       "      <th>sqft_lot15</th>\n",
       "      <th>num_times_sold</th>\n",
       "    </tr>\n",
       "  </thead>\n",
       "  <tbody>\n",
       "    <tr>\n",
       "      <th>8597</th>\n",
       "      <td>2014-06-25</td>\n",
       "      <td>640000.0</td>\n",
       "      <td>33</td>\n",
       "      <td>1.75</td>\n",
       "      <td>1620</td>\n",
       "      <td>6000</td>\n",
       "      <td>1.0</td>\n",
       "      <td>0</td>\n",
       "      <td>0</td>\n",
       "      <td>5</td>\n",
       "      <td>7</td>\n",
       "      <td>1040</td>\n",
       "      <td>580</td>\n",
       "      <td>1947</td>\n",
       "      <td>0</td>\n",
       "      <td>98103</td>\n",
       "      <td>1330</td>\n",
       "      <td>4700</td>\n",
       "      <td>1</td>\n",
       "    </tr>\n",
       "  </tbody>\n",
       "</table>\n",
       "</div>"
      ],
      "text/plain": [
       "           date     price  bedrooms  bathrooms  sqft_living  sqft_lot  floors  \\\n",
       "8597 2014-06-25  640000.0        33       1.75         1620      6000     1.0   \n",
       "\n",
       "      waterfront  view  condition  grade  sqft_above  sqft_basement  yr_built  \\\n",
       "8597           0     0          5      7        1040            580      1947   \n",
       "\n",
       "      yr_renovated zipcode  sqft_living15  sqft_lot15  num_times_sold  \n",
       "8597             0   98103           1330        4700               1  "
      ]
     },
     "execution_count": 9,
     "metadata": {},
     "output_type": "execute_result"
    }
   ],
   "source": [
    "kings_county_df.query(\"bedrooms == 33\")"
   ]
  },
  {
   "cell_type": "code",
   "execution_count": 10,
   "metadata": {},
   "outputs": [],
   "source": [
    "kings_county_df.at[8597,'bedrooms'] = 3"
   ]
  },
  {
   "cell_type": "code",
   "execution_count": 11,
   "metadata": {
    "scrolled": false
   },
   "outputs": [
    {
     "data": {
      "text/html": [
       "<div>\n",
       "<style scoped>\n",
       "    .dataframe tbody tr th:only-of-type {\n",
       "        vertical-align: middle;\n",
       "    }\n",
       "\n",
       "    .dataframe tbody tr th {\n",
       "        vertical-align: top;\n",
       "    }\n",
       "\n",
       "    .dataframe thead th {\n",
       "        text-align: right;\n",
       "    }\n",
       "</style>\n",
       "<table border=\"1\" class=\"dataframe\">\n",
       "  <thead>\n",
       "    <tr style=\"text-align: right;\">\n",
       "      <th></th>\n",
       "      <th>date</th>\n",
       "      <th>price</th>\n",
       "      <th>bedrooms</th>\n",
       "      <th>bathrooms</th>\n",
       "      <th>sqft_living</th>\n",
       "      <th>sqft_lot</th>\n",
       "      <th>floors</th>\n",
       "      <th>waterfront</th>\n",
       "      <th>view</th>\n",
       "      <th>condition</th>\n",
       "      <th>grade</th>\n",
       "      <th>sqft_above</th>\n",
       "      <th>sqft_basement</th>\n",
       "      <th>yr_built</th>\n",
       "      <th>yr_renovated</th>\n",
       "      <th>zipcode</th>\n",
       "      <th>sqft_living15</th>\n",
       "      <th>sqft_lot15</th>\n",
       "      <th>num_times_sold</th>\n",
       "    </tr>\n",
       "  </thead>\n",
       "  <tbody>\n",
       "    <tr>\n",
       "      <th>483</th>\n",
       "      <td>2015-04-29</td>\n",
       "      <td>355000.0</td>\n",
       "      <td>0</td>\n",
       "      <td>0.00</td>\n",
       "      <td>2460</td>\n",
       "      <td>8049</td>\n",
       "      <td>2.0</td>\n",
       "      <td>0</td>\n",
       "      <td>0</td>\n",
       "      <td>3</td>\n",
       "      <td>8</td>\n",
       "      <td>2460</td>\n",
       "      <td>0</td>\n",
       "      <td>1990</td>\n",
       "      <td>0</td>\n",
       "      <td>98031</td>\n",
       "      <td>2520</td>\n",
       "      <td>8050</td>\n",
       "      <td>1</td>\n",
       "    </tr>\n",
       "    <tr>\n",
       "      <th>1120</th>\n",
       "      <td>2014-06-12</td>\n",
       "      <td>1095000.0</td>\n",
       "      <td>0</td>\n",
       "      <td>0.00</td>\n",
       "      <td>3064</td>\n",
       "      <td>4764</td>\n",
       "      <td>3.5</td>\n",
       "      <td>0</td>\n",
       "      <td>2</td>\n",
       "      <td>3</td>\n",
       "      <td>7</td>\n",
       "      <td>3064</td>\n",
       "      <td>0</td>\n",
       "      <td>1990</td>\n",
       "      <td>0</td>\n",
       "      <td>98102</td>\n",
       "      <td>2360</td>\n",
       "      <td>4000</td>\n",
       "      <td>1</td>\n",
       "    </tr>\n",
       "    <tr>\n",
       "      <th>2430</th>\n",
       "      <td>2014-10-29</td>\n",
       "      <td>265000.0</td>\n",
       "      <td>0</td>\n",
       "      <td>0.75</td>\n",
       "      <td>384</td>\n",
       "      <td>213444</td>\n",
       "      <td>1.0</td>\n",
       "      <td>0</td>\n",
       "      <td>0</td>\n",
       "      <td>3</td>\n",
       "      <td>4</td>\n",
       "      <td>384</td>\n",
       "      <td>0</td>\n",
       "      <td>2003</td>\n",
       "      <td>0</td>\n",
       "      <td>98070</td>\n",
       "      <td>1920</td>\n",
       "      <td>224341</td>\n",
       "      <td>1</td>\n",
       "    </tr>\n",
       "    <tr>\n",
       "      <th>3032</th>\n",
       "      <td>2014-12-23</td>\n",
       "      <td>235000.0</td>\n",
       "      <td>0</td>\n",
       "      <td>0.00</td>\n",
       "      <td>1470</td>\n",
       "      <td>4800</td>\n",
       "      <td>2.0</td>\n",
       "      <td>0</td>\n",
       "      <td>0</td>\n",
       "      <td>3</td>\n",
       "      <td>7</td>\n",
       "      <td>1470</td>\n",
       "      <td>0</td>\n",
       "      <td>1996</td>\n",
       "      <td>0</td>\n",
       "      <td>98065</td>\n",
       "      <td>1060</td>\n",
       "      <td>7200</td>\n",
       "      <td>1</td>\n",
       "    </tr>\n",
       "    <tr>\n",
       "      <th>3609</th>\n",
       "      <td>2014-11-17</td>\n",
       "      <td>339950.0</td>\n",
       "      <td>0</td>\n",
       "      <td>2.50</td>\n",
       "      <td>2290</td>\n",
       "      <td>8319</td>\n",
       "      <td>2.0</td>\n",
       "      <td>0</td>\n",
       "      <td>0</td>\n",
       "      <td>3</td>\n",
       "      <td>8</td>\n",
       "      <td>2290</td>\n",
       "      <td>0</td>\n",
       "      <td>1985</td>\n",
       "      <td>0</td>\n",
       "      <td>98042</td>\n",
       "      <td>2500</td>\n",
       "      <td>8751</td>\n",
       "      <td>1</td>\n",
       "    </tr>\n",
       "    <tr>\n",
       "      <th>5424</th>\n",
       "      <td>2015-02-05</td>\n",
       "      <td>380000.0</td>\n",
       "      <td>0</td>\n",
       "      <td>0.00</td>\n",
       "      <td>1470</td>\n",
       "      <td>979</td>\n",
       "      <td>3.0</td>\n",
       "      <td>0</td>\n",
       "      <td>2</td>\n",
       "      <td>3</td>\n",
       "      <td>8</td>\n",
       "      <td>1470</td>\n",
       "      <td>0</td>\n",
       "      <td>2006</td>\n",
       "      <td>0</td>\n",
       "      <td>98133</td>\n",
       "      <td>1470</td>\n",
       "      <td>1399</td>\n",
       "      <td>1</td>\n",
       "    </tr>\n",
       "    <tr>\n",
       "      <th>6409</th>\n",
       "      <td>2014-08-05</td>\n",
       "      <td>288000.0</td>\n",
       "      <td>0</td>\n",
       "      <td>1.50</td>\n",
       "      <td>1430</td>\n",
       "      <td>1650</td>\n",
       "      <td>3.0</td>\n",
       "      <td>0</td>\n",
       "      <td>0</td>\n",
       "      <td>3</td>\n",
       "      <td>7</td>\n",
       "      <td>1430</td>\n",
       "      <td>0</td>\n",
       "      <td>1999</td>\n",
       "      <td>0</td>\n",
       "      <td>98125</td>\n",
       "      <td>1430</td>\n",
       "      <td>1650</td>\n",
       "      <td>1</td>\n",
       "    </tr>\n",
       "    <tr>\n",
       "      <th>9286</th>\n",
       "      <td>2014-06-24</td>\n",
       "      <td>1295650.0</td>\n",
       "      <td>0</td>\n",
       "      <td>0.00</td>\n",
       "      <td>4810</td>\n",
       "      <td>28008</td>\n",
       "      <td>2.0</td>\n",
       "      <td>0</td>\n",
       "      <td>0</td>\n",
       "      <td>3</td>\n",
       "      <td>12</td>\n",
       "      <td>4810</td>\n",
       "      <td>0</td>\n",
       "      <td>1990</td>\n",
       "      <td>0</td>\n",
       "      <td>98053</td>\n",
       "      <td>4740</td>\n",
       "      <td>35061</td>\n",
       "      <td>1</td>\n",
       "    </tr>\n",
       "    <tr>\n",
       "      <th>10067</th>\n",
       "      <td>2014-09-26</td>\n",
       "      <td>142000.0</td>\n",
       "      <td>0</td>\n",
       "      <td>0.00</td>\n",
       "      <td>290</td>\n",
       "      <td>20875</td>\n",
       "      <td>1.0</td>\n",
       "      <td>0</td>\n",
       "      <td>0</td>\n",
       "      <td>1</td>\n",
       "      <td>1</td>\n",
       "      <td>290</td>\n",
       "      <td>0</td>\n",
       "      <td>1963</td>\n",
       "      <td>0</td>\n",
       "      <td>98024</td>\n",
       "      <td>1620</td>\n",
       "      <td>22850</td>\n",
       "      <td>1</td>\n",
       "    </tr>\n",
       "    <tr>\n",
       "      <th>10074</th>\n",
       "      <td>2014-09-25</td>\n",
       "      <td>240000.0</td>\n",
       "      <td>0</td>\n",
       "      <td>2.50</td>\n",
       "      <td>1810</td>\n",
       "      <td>5669</td>\n",
       "      <td>2.0</td>\n",
       "      <td>0</td>\n",
       "      <td>0</td>\n",
       "      <td>3</td>\n",
       "      <td>7</td>\n",
       "      <td>1810</td>\n",
       "      <td>0</td>\n",
       "      <td>2003</td>\n",
       "      <td>0</td>\n",
       "      <td>98038</td>\n",
       "      <td>1810</td>\n",
       "      <td>5685</td>\n",
       "      <td>1</td>\n",
       "    </tr>\n",
       "    <tr>\n",
       "      <th>13989</th>\n",
       "      <td>2014-10-02</td>\n",
       "      <td>228000.0</td>\n",
       "      <td>0</td>\n",
       "      <td>1.00</td>\n",
       "      <td>390</td>\n",
       "      <td>5900</td>\n",
       "      <td>1.0</td>\n",
       "      <td>0</td>\n",
       "      <td>0</td>\n",
       "      <td>2</td>\n",
       "      <td>4</td>\n",
       "      <td>390</td>\n",
       "      <td>0</td>\n",
       "      <td>1953</td>\n",
       "      <td>0</td>\n",
       "      <td>98118</td>\n",
       "      <td>2170</td>\n",
       "      <td>6000</td>\n",
       "      <td>1</td>\n",
       "    </tr>\n",
       "    <tr>\n",
       "      <th>15733</th>\n",
       "      <td>2015-02-18</td>\n",
       "      <td>320000.0</td>\n",
       "      <td>0</td>\n",
       "      <td>2.50</td>\n",
       "      <td>1490</td>\n",
       "      <td>7111</td>\n",
       "      <td>2.0</td>\n",
       "      <td>0</td>\n",
       "      <td>0</td>\n",
       "      <td>3</td>\n",
       "      <td>7</td>\n",
       "      <td>1490</td>\n",
       "      <td>0</td>\n",
       "      <td>1999</td>\n",
       "      <td>0</td>\n",
       "      <td>98065</td>\n",
       "      <td>1500</td>\n",
       "      <td>4675</td>\n",
       "      <td>1</td>\n",
       "    </tr>\n",
       "  </tbody>\n",
       "</table>\n",
       "</div>"
      ],
      "text/plain": [
       "            date      price  bedrooms  bathrooms  sqft_living  sqft_lot  \\\n",
       "483   2015-04-29   355000.0         0       0.00         2460      8049   \n",
       "1120  2014-06-12  1095000.0         0       0.00         3064      4764   \n",
       "2430  2014-10-29   265000.0         0       0.75          384    213444   \n",
       "3032  2014-12-23   235000.0         0       0.00         1470      4800   \n",
       "3609  2014-11-17   339950.0         0       2.50         2290      8319   \n",
       "5424  2015-02-05   380000.0         0       0.00         1470       979   \n",
       "6409  2014-08-05   288000.0         0       1.50         1430      1650   \n",
       "9286  2014-06-24  1295650.0         0       0.00         4810     28008   \n",
       "10067 2014-09-26   142000.0         0       0.00          290     20875   \n",
       "10074 2014-09-25   240000.0         0       2.50         1810      5669   \n",
       "13989 2014-10-02   228000.0         0       1.00          390      5900   \n",
       "15733 2015-02-18   320000.0         0       2.50         1490      7111   \n",
       "\n",
       "       floors  waterfront  view  condition  grade  sqft_above  sqft_basement  \\\n",
       "483       2.0           0     0          3      8        2460              0   \n",
       "1120      3.5           0     2          3      7        3064              0   \n",
       "2430      1.0           0     0          3      4         384              0   \n",
       "3032      2.0           0     0          3      7        1470              0   \n",
       "3609      2.0           0     0          3      8        2290              0   \n",
       "5424      3.0           0     2          3      8        1470              0   \n",
       "6409      3.0           0     0          3      7        1430              0   \n",
       "9286      2.0           0     0          3     12        4810              0   \n",
       "10067     1.0           0     0          1      1         290              0   \n",
       "10074     2.0           0     0          3      7        1810              0   \n",
       "13989     1.0           0     0          2      4         390              0   \n",
       "15733     2.0           0     0          3      7        1490              0   \n",
       "\n",
       "       yr_built  yr_renovated zipcode  sqft_living15  sqft_lot15  \\\n",
       "483        1990             0   98031           2520        8050   \n",
       "1120       1990             0   98102           2360        4000   \n",
       "2430       2003             0   98070           1920      224341   \n",
       "3032       1996             0   98065           1060        7200   \n",
       "3609       1985             0   98042           2500        8751   \n",
       "5424       2006             0   98133           1470        1399   \n",
       "6409       1999             0   98125           1430        1650   \n",
       "9286       1990             0   98053           4740       35061   \n",
       "10067      1963             0   98024           1620       22850   \n",
       "10074      2003             0   98038           1810        5685   \n",
       "13989      1953             0   98118           2170        6000   \n",
       "15733      1999             0   98065           1500        4675   \n",
       "\n",
       "       num_times_sold  \n",
       "483                 1  \n",
       "1120                1  \n",
       "2430                1  \n",
       "3032                1  \n",
       "3609                1  \n",
       "5424                1  \n",
       "6409                1  \n",
       "9286                1  \n",
       "10067               1  \n",
       "10074               1  \n",
       "13989               1  \n",
       "15733               1  "
      ]
     },
     "execution_count": 11,
     "metadata": {},
     "output_type": "execute_result"
    }
   ],
   "source": [
    "\n",
    "kings_county_df.query(\"bedrooms == 0\")"
   ]
  },
  {
   "cell_type": "code",
   "execution_count": 12,
   "metadata": {},
   "outputs": [
    {
     "data": {
      "text/plain": [
       "bedrooms\n",
       "0     1779.833333\n",
       "1      902.312500\n",
       "2     1246.456443\n",
       "3     1805.161729\n",
       "4     2557.756013\n",
       "5     3039.706937\n",
       "6     3257.026201\n",
       "7     4061.000000\n",
       "8     4029.000000\n",
       "9     3800.000000\n",
       "10    3706.666667\n",
       "11    3000.000000\n",
       "Name: sqft_living, dtype: float64"
      ]
     },
     "execution_count": 12,
     "metadata": {},
     "output_type": "execute_result"
    }
   ],
   "source": [
    "kings_county_df[['bedrooms','sqft_living']].groupby('bedrooms').sqft_living.mean()\n",
    "\n"
   ]
  },
  {
   "cell_type": "code",
   "execution_count": 13,
   "metadata": {
    "scrolled": true
   },
   "outputs": [
    {
     "data": {
      "text/html": [
       "<div>\n",
       "<style scoped>\n",
       "    .dataframe tbody tr th:only-of-type {\n",
       "        vertical-align: middle;\n",
       "    }\n",
       "\n",
       "    .dataframe tbody tr th {\n",
       "        vertical-align: top;\n",
       "    }\n",
       "\n",
       "    .dataframe thead th {\n",
       "        text-align: right;\n",
       "    }\n",
       "</style>\n",
       "<table border=\"1\" class=\"dataframe\">\n",
       "  <thead>\n",
       "    <tr style=\"text-align: right;\">\n",
       "      <th></th>\n",
       "      <th>date</th>\n",
       "      <th>price</th>\n",
       "      <th>bedrooms</th>\n",
       "      <th>bathrooms</th>\n",
       "      <th>sqft_living</th>\n",
       "      <th>sqft_lot</th>\n",
       "      <th>floors</th>\n",
       "      <th>waterfront</th>\n",
       "      <th>view</th>\n",
       "      <th>condition</th>\n",
       "      <th>grade</th>\n",
       "      <th>sqft_above</th>\n",
       "      <th>sqft_basement</th>\n",
       "      <th>yr_built</th>\n",
       "      <th>yr_renovated</th>\n",
       "      <th>zipcode</th>\n",
       "      <th>sqft_living15</th>\n",
       "      <th>sqft_lot15</th>\n",
       "      <th>num_times_sold</th>\n",
       "    </tr>\n",
       "  </thead>\n",
       "  <tbody>\n",
       "    <tr>\n",
       "      <th>483</th>\n",
       "      <td>2015-04-29</td>\n",
       "      <td>355000.0</td>\n",
       "      <td>0</td>\n",
       "      <td>0.0</td>\n",
       "      <td>2460</td>\n",
       "      <td>8049</td>\n",
       "      <td>2.0</td>\n",
       "      <td>0</td>\n",
       "      <td>0</td>\n",
       "      <td>3</td>\n",
       "      <td>8</td>\n",
       "      <td>2460</td>\n",
       "      <td>0</td>\n",
       "      <td>1990</td>\n",
       "      <td>0</td>\n",
       "      <td>98031</td>\n",
       "      <td>2520</td>\n",
       "      <td>8050</td>\n",
       "      <td>1</td>\n",
       "    </tr>\n",
       "    <tr>\n",
       "      <th>1120</th>\n",
       "      <td>2014-06-12</td>\n",
       "      <td>1095000.0</td>\n",
       "      <td>0</td>\n",
       "      <td>0.0</td>\n",
       "      <td>3064</td>\n",
       "      <td>4764</td>\n",
       "      <td>3.5</td>\n",
       "      <td>0</td>\n",
       "      <td>2</td>\n",
       "      <td>3</td>\n",
       "      <td>7</td>\n",
       "      <td>3064</td>\n",
       "      <td>0</td>\n",
       "      <td>1990</td>\n",
       "      <td>0</td>\n",
       "      <td>98102</td>\n",
       "      <td>2360</td>\n",
       "      <td>4000</td>\n",
       "      <td>1</td>\n",
       "    </tr>\n",
       "    <tr>\n",
       "      <th>3032</th>\n",
       "      <td>2014-12-23</td>\n",
       "      <td>235000.0</td>\n",
       "      <td>0</td>\n",
       "      <td>0.0</td>\n",
       "      <td>1470</td>\n",
       "      <td>4800</td>\n",
       "      <td>2.0</td>\n",
       "      <td>0</td>\n",
       "      <td>0</td>\n",
       "      <td>3</td>\n",
       "      <td>7</td>\n",
       "      <td>1470</td>\n",
       "      <td>0</td>\n",
       "      <td>1996</td>\n",
       "      <td>0</td>\n",
       "      <td>98065</td>\n",
       "      <td>1060</td>\n",
       "      <td>7200</td>\n",
       "      <td>1</td>\n",
       "    </tr>\n",
       "    <tr>\n",
       "      <th>5424</th>\n",
       "      <td>2015-02-05</td>\n",
       "      <td>380000.0</td>\n",
       "      <td>0</td>\n",
       "      <td>0.0</td>\n",
       "      <td>1470</td>\n",
       "      <td>979</td>\n",
       "      <td>3.0</td>\n",
       "      <td>0</td>\n",
       "      <td>2</td>\n",
       "      <td>3</td>\n",
       "      <td>8</td>\n",
       "      <td>1470</td>\n",
       "      <td>0</td>\n",
       "      <td>2006</td>\n",
       "      <td>0</td>\n",
       "      <td>98133</td>\n",
       "      <td>1470</td>\n",
       "      <td>1399</td>\n",
       "      <td>1</td>\n",
       "    </tr>\n",
       "    <tr>\n",
       "      <th>9060</th>\n",
       "      <td>2015-02-17</td>\n",
       "      <td>75000.0</td>\n",
       "      <td>1</td>\n",
       "      <td>0.0</td>\n",
       "      <td>670</td>\n",
       "      <td>43377</td>\n",
       "      <td>1.0</td>\n",
       "      <td>0</td>\n",
       "      <td>0</td>\n",
       "      <td>3</td>\n",
       "      <td>3</td>\n",
       "      <td>670</td>\n",
       "      <td>0</td>\n",
       "      <td>1966</td>\n",
       "      <td>0</td>\n",
       "      <td>98022</td>\n",
       "      <td>1160</td>\n",
       "      <td>42882</td>\n",
       "      <td>1</td>\n",
       "    </tr>\n",
       "    <tr>\n",
       "      <th>9286</th>\n",
       "      <td>2014-06-24</td>\n",
       "      <td>1295650.0</td>\n",
       "      <td>0</td>\n",
       "      <td>0.0</td>\n",
       "      <td>4810</td>\n",
       "      <td>28008</td>\n",
       "      <td>2.0</td>\n",
       "      <td>0</td>\n",
       "      <td>0</td>\n",
       "      <td>3</td>\n",
       "      <td>12</td>\n",
       "      <td>4810</td>\n",
       "      <td>0</td>\n",
       "      <td>1990</td>\n",
       "      <td>0</td>\n",
       "      <td>98053</td>\n",
       "      <td>4740</td>\n",
       "      <td>35061</td>\n",
       "      <td>1</td>\n",
       "    </tr>\n",
       "    <tr>\n",
       "      <th>10067</th>\n",
       "      <td>2014-09-26</td>\n",
       "      <td>142000.0</td>\n",
       "      <td>0</td>\n",
       "      <td>0.0</td>\n",
       "      <td>290</td>\n",
       "      <td>20875</td>\n",
       "      <td>1.0</td>\n",
       "      <td>0</td>\n",
       "      <td>0</td>\n",
       "      <td>1</td>\n",
       "      <td>1</td>\n",
       "      <td>290</td>\n",
       "      <td>0</td>\n",
       "      <td>1963</td>\n",
       "      <td>0</td>\n",
       "      <td>98024</td>\n",
       "      <td>1620</td>\n",
       "      <td>22850</td>\n",
       "      <td>1</td>\n",
       "    </tr>\n",
       "    <tr>\n",
       "      <th>12982</th>\n",
       "      <td>2014-09-18</td>\n",
       "      <td>484000.0</td>\n",
       "      <td>1</td>\n",
       "      <td>0.0</td>\n",
       "      <td>690</td>\n",
       "      <td>23244</td>\n",
       "      <td>1.0</td>\n",
       "      <td>0</td>\n",
       "      <td>0</td>\n",
       "      <td>4</td>\n",
       "      <td>7</td>\n",
       "      <td>690</td>\n",
       "      <td>0</td>\n",
       "      <td>1948</td>\n",
       "      <td>0</td>\n",
       "      <td>98053</td>\n",
       "      <td>1690</td>\n",
       "      <td>19290</td>\n",
       "      <td>1</td>\n",
       "    </tr>\n",
       "  </tbody>\n",
       "</table>\n",
       "</div>"
      ],
      "text/plain": [
       "            date      price  bedrooms  bathrooms  sqft_living  sqft_lot  \\\n",
       "483   2015-04-29   355000.0         0        0.0         2460      8049   \n",
       "1120  2014-06-12  1095000.0         0        0.0         3064      4764   \n",
       "3032  2014-12-23   235000.0         0        0.0         1470      4800   \n",
       "5424  2015-02-05   380000.0         0        0.0         1470       979   \n",
       "9060  2015-02-17    75000.0         1        0.0          670     43377   \n",
       "9286  2014-06-24  1295650.0         0        0.0         4810     28008   \n",
       "10067 2014-09-26   142000.0         0        0.0          290     20875   \n",
       "12982 2014-09-18   484000.0         1        0.0          690     23244   \n",
       "\n",
       "       floors  waterfront  view  condition  grade  sqft_above  sqft_basement  \\\n",
       "483       2.0           0     0          3      8        2460              0   \n",
       "1120      3.5           0     2          3      7        3064              0   \n",
       "3032      2.0           0     0          3      7        1470              0   \n",
       "5424      3.0           0     2          3      8        1470              0   \n",
       "9060      1.0           0     0          3      3         670              0   \n",
       "9286      2.0           0     0          3     12        4810              0   \n",
       "10067     1.0           0     0          1      1         290              0   \n",
       "12982     1.0           0     0          4      7         690              0   \n",
       "\n",
       "       yr_built  yr_renovated zipcode  sqft_living15  sqft_lot15  \\\n",
       "483        1990             0   98031           2520        8050   \n",
       "1120       1990             0   98102           2360        4000   \n",
       "3032       1996             0   98065           1060        7200   \n",
       "5424       2006             0   98133           1470        1399   \n",
       "9060       1966             0   98022           1160       42882   \n",
       "9286       1990             0   98053           4740       35061   \n",
       "10067      1963             0   98024           1620       22850   \n",
       "12982      1948             0   98053           1690       19290   \n",
       "\n",
       "       num_times_sold  \n",
       "483                 1  \n",
       "1120                1  \n",
       "3032                1  \n",
       "5424                1  \n",
       "9060                1  \n",
       "9286                1  \n",
       "10067               1  \n",
       "12982               1  "
      ]
     },
     "execution_count": 13,
     "metadata": {},
     "output_type": "execute_result"
    }
   ],
   "source": [
    "kings_county_df.query(\"bathrooms == 0\")"
   ]
  },
  {
   "cell_type": "code",
   "execution_count": 14,
   "metadata": {},
   "outputs": [
    {
     "data": {
      "text/html": [
       "<div>\n",
       "<style scoped>\n",
       "    .dataframe tbody tr th:only-of-type {\n",
       "        vertical-align: middle;\n",
       "    }\n",
       "\n",
       "    .dataframe tbody tr th {\n",
       "        vertical-align: top;\n",
       "    }\n",
       "\n",
       "    .dataframe thead th {\n",
       "        text-align: right;\n",
       "    }\n",
       "</style>\n",
       "<table border=\"1\" class=\"dataframe\">\n",
       "  <thead>\n",
       "    <tr style=\"text-align: right;\">\n",
       "      <th></th>\n",
       "      <th>date</th>\n",
       "      <th>price</th>\n",
       "      <th>bedrooms</th>\n",
       "      <th>bathrooms</th>\n",
       "      <th>sqft_living</th>\n",
       "      <th>sqft_lot</th>\n",
       "      <th>floors</th>\n",
       "      <th>waterfront</th>\n",
       "      <th>view</th>\n",
       "      <th>condition</th>\n",
       "      <th>grade</th>\n",
       "      <th>sqft_above</th>\n",
       "      <th>sqft_basement</th>\n",
       "      <th>yr_built</th>\n",
       "      <th>yr_renovated</th>\n",
       "      <th>zipcode</th>\n",
       "      <th>sqft_living15</th>\n",
       "      <th>sqft_lot15</th>\n",
       "      <th>num_times_sold</th>\n",
       "    </tr>\n",
       "  </thead>\n",
       "  <tbody>\n",
       "    <tr>\n",
       "      <th>4622</th>\n",
       "      <td>2014-08-14</td>\n",
       "      <td>255000.0</td>\n",
       "      <td>1</td>\n",
       "      <td>0.5</td>\n",
       "      <td>880</td>\n",
       "      <td>1642</td>\n",
       "      <td>1.0</td>\n",
       "      <td>0</td>\n",
       "      <td>0</td>\n",
       "      <td>3</td>\n",
       "      <td>6</td>\n",
       "      <td>500</td>\n",
       "      <td>380</td>\n",
       "      <td>1910</td>\n",
       "      <td>0</td>\n",
       "      <td>98126</td>\n",
       "      <td>1410</td>\n",
       "      <td>2992</td>\n",
       "      <td>1</td>\n",
       "    </tr>\n",
       "    <tr>\n",
       "      <th>7093</th>\n",
       "      <td>2015-01-14</td>\n",
       "      <td>109000.0</td>\n",
       "      <td>2</td>\n",
       "      <td>0.5</td>\n",
       "      <td>580</td>\n",
       "      <td>6900</td>\n",
       "      <td>1.0</td>\n",
       "      <td>0</td>\n",
       "      <td>0</td>\n",
       "      <td>3</td>\n",
       "      <td>5</td>\n",
       "      <td>580</td>\n",
       "      <td>0</td>\n",
       "      <td>1941</td>\n",
       "      <td>0</td>\n",
       "      <td>98118</td>\n",
       "      <td>1570</td>\n",
       "      <td>5040</td>\n",
       "      <td>1</td>\n",
       "    </tr>\n",
       "    <tr>\n",
       "      <th>12674</th>\n",
       "      <td>2014-12-12</td>\n",
       "      <td>312500.0</td>\n",
       "      <td>4</td>\n",
       "      <td>0.5</td>\n",
       "      <td>2300</td>\n",
       "      <td>5570</td>\n",
       "      <td>2.0</td>\n",
       "      <td>0</td>\n",
       "      <td>0</td>\n",
       "      <td>3</td>\n",
       "      <td>8</td>\n",
       "      <td>2300</td>\n",
       "      <td>0</td>\n",
       "      <td>1996</td>\n",
       "      <td>0</td>\n",
       "      <td>98092</td>\n",
       "      <td>1820</td>\n",
       "      <td>6371</td>\n",
       "      <td>1</td>\n",
       "    </tr>\n",
       "  </tbody>\n",
       "</table>\n",
       "</div>"
      ],
      "text/plain": [
       "            date     price  bedrooms  bathrooms  sqft_living  sqft_lot  \\\n",
       "4622  2014-08-14  255000.0         1        0.5          880      1642   \n",
       "7093  2015-01-14  109000.0         2        0.5          580      6900   \n",
       "12674 2014-12-12  312500.0         4        0.5         2300      5570   \n",
       "\n",
       "       floors  waterfront  view  condition  grade  sqft_above  sqft_basement  \\\n",
       "4622      1.0           0     0          3      6         500            380   \n",
       "7093      1.0           0     0          3      5         580              0   \n",
       "12674     2.0           0     0          3      8        2300              0   \n",
       "\n",
       "       yr_built  yr_renovated zipcode  sqft_living15  sqft_lot15  \\\n",
       "4622       1910             0   98126           1410        2992   \n",
       "7093       1941             0   98118           1570        5040   \n",
       "12674      1996             0   98092           1820        6371   \n",
       "\n",
       "       num_times_sold  \n",
       "4622                1  \n",
       "7093                1  \n",
       "12674               1  "
      ]
     },
     "execution_count": 14,
     "metadata": {},
     "output_type": "execute_result"
    }
   ],
   "source": [
    "kings_county_df.query(\"bathrooms == .5\")"
   ]
  },
  {
   "cell_type": "code",
   "execution_count": 15,
   "metadata": {},
   "outputs": [],
   "source": [
    "kings_county_df = kings_county_df[(kings_county_df.bathrooms != 0) & (kings_county_df.bedrooms != 0) & (kings_county_df.bathrooms >= 1)]\n"
   ]
  },
  {
   "cell_type": "markdown",
   "metadata": {},
   "source": [
    "Check for NAs"
   ]
  },
  {
   "cell_type": "code",
   "execution_count": 16,
   "metadata": {
    "scrolled": false
   },
   "outputs": [
    {
     "data": {
      "text/plain": [
       "date              0\n",
       "price             0\n",
       "bedrooms          0\n",
       "bathrooms         0\n",
       "sqft_living       0\n",
       "sqft_lot          0\n",
       "floors            0\n",
       "waterfront        0\n",
       "view              0\n",
       "condition         0\n",
       "grade             0\n",
       "sqft_above        0\n",
       "sqft_basement     0\n",
       "yr_built          0\n",
       "yr_renovated      0\n",
       "zipcode           0\n",
       "sqft_living15     0\n",
       "sqft_lot15        0\n",
       "num_times_sold    0\n",
       "dtype: int64"
      ]
     },
     "execution_count": 16,
     "metadata": {},
     "output_type": "execute_result"
    }
   ],
   "source": [
    "kings_county_df.isna().sum()"
   ]
  },
  {
   "cell_type": "code",
   "execution_count": 17,
   "metadata": {},
   "outputs": [
    {
     "data": {
      "text/plain": [
       "<AxesSubplot:>"
      ]
     },
     "execution_count": 17,
     "metadata": {},
     "output_type": "execute_result"
    },
    {
     "data": {
      "image/png": "[encoded data removed]",
      "text/plain": [
       "<Figure size 432x288 with 1 Axes>"
      ]
     },
     "metadata": {
      "needs_background": "light"
     },
     "output_type": "display_data"
    }
   ],
   "source": [
    "sns.heatmap(kings_county_df.isnull(), cbar=False)"
   ]
  },
  {
   "cell_type": "markdown",
   "metadata": {},
   "source": [
    "Convert waterfront to boolean type"
   ]
  },
  {
   "cell_type": "code",
   "execution_count": 18,
   "metadata": {
    "scrolled": true
   },
   "outputs": [
    {
     "data": {
      "text/plain": [
       "0    17088\n",
       "1      134\n",
       "Name: waterfront, dtype: int64"
      ]
     },
     "execution_count": 18,
     "metadata": {},
     "output_type": "execute_result"
    }
   ],
   "source": [
    "kings_county_df.waterfront.value_counts()"
   ]
  },
  {
   "cell_type": "code",
   "execution_count": 19,
   "metadata": {},
   "outputs": [],
   "source": [
    "kings_county_df.waterfront = kings_county_df.waterfront.astype(bool)"
   ]
  },
  {
   "cell_type": "code",
   "execution_count": 20,
   "metadata": {},
   "outputs": [
    {
     "name": "stdout",
     "output_type": "stream",
     "text": [
      "<class 'pandas.core.frame.DataFrame'>\n",
      "Int64Index: 17222 entries, 0 to 17289\n",
      "Data columns (total 19 columns):\n",
      " #   Column          Non-Null Count  Dtype         \n",
      "---  ------          --------------  -----         \n",
      " 0   date            17222 non-null  datetime64[ns]\n",
      " 1   price           17222 non-null  float64       \n",
      " 2   bedrooms        17222 non-null  int64         \n",
      " 3   bathrooms       17222 non-null  float64       \n",
      " 4   sqft_living     17222 non-null  int64         \n",
      " 5   sqft_lot        17222 non-null  int64         \n",
      " 6   floors          17222 non-null  float64       \n",
      " 7   waterfront      17222 non-null  bool          \n",
      " 8   view            17222 non-null  int64         \n",
      " 9   condition       17222 non-null  int64         \n",
      " 10  grade           17222 non-null  int64         \n",
      " 11  sqft_above      17222 non-null  int64         \n",
      " 12  sqft_basement   17222 non-null  int64         \n",
      " 13  yr_built        17222 non-null  int64         \n",
      " 14  yr_renovated    17222 non-null  int64         \n",
      " 15  zipcode         17222 non-null  object        \n",
      " 16  sqft_living15   17222 non-null  int64         \n",
      " 17  sqft_lot15      17222 non-null  int64         \n",
      " 18  num_times_sold  17222 non-null  int64         \n",
      "dtypes: bool(1), datetime64[ns](1), float64(3), int64(13), object(1)\n",
      "memory usage: 2.5+ MB\n"
     ]
    }
   ],
   "source": [
    "kings_county_df.info()"
   ]
  },
  {
   "cell_type": "markdown",
   "metadata": {},
   "source": [
    "Created a few new columns: <br>\n",
    "    \n",
    "    - Age as in age of the house\n",
    "    - Converted yr_built to a datetime obj\n",
    "    - Created a bool column for if a house was renovated\n",
    "    - Created a column for the month the house was sold\n",
    "    - Created a column for the year the house was sold\n",
    "    - Created a column for the season the house was sold\n",
    "    "
   ]
  },
  {
   "cell_type": "code",
   "execution_count": 21,
   "metadata": {},
   "outputs": [],
   "source": [
    "kings_county_df['age'] = 2021 - kings_county_df.yr_built\n",
    "kings_county_df.yr_built = pd.to_datetime(kings_county_df.yr_built, format=\"%Y\")\n",
    "kings_county_df['is_renovated'] = np.where(kings_county_df['yr_renovated'] > 0, 1, 0)\n",
    "kings_county_df['month_sold'] = kings_county_df['date'].dt.month\n",
    "kings_county_df['year_sold'] = kings_county_df['date'].dt.year"
   ]
  },
  {
   "cell_type": "code",
   "execution_count": 22,
   "metadata": {},
   "outputs": [],
   "source": [
    "seasons = ['Winter', 'Winter', 'Spring', 'Spring', 'Spring', 'Summer', 'Summer', 'Summer', 'Fall', 'Fall', 'Fall', 'Winter']\n",
    "#{1: Winter, 2: Spring, 3: Summer, 4: Fall}\n",
    "month_to_season = dict(zip(range(1,13), seasons))\n",
    "kings_county_df['season_sold'] = kings_county_df.month_sold.map(month_to_season)"
   ]
  },
  {
   "cell_type": "code",
   "execution_count": 23,
   "metadata": {},
   "outputs": [],
   "source": [
    "conditions = [(kings_county_df['grade'] <= 4),\n",
    "              (kings_county_df['grade'] <= 8),\n",
    "             (kings_county_df['grade'] <= 13)]\n",
    "choices = ['low','medium','high']\n",
    "kings_county_df['grade_cat'] = np.select(conditions, choices)"
   ]
  },
  {
   "cell_type": "code",
   "execution_count": 90,
   "metadata": {
    "scrolled": true
   },
   "outputs": [
    {
     "data": {
      "text/plain": [
       "medium    13818\n",
       "high       3393\n",
       "low          11\n",
       "Name: grade_cat, dtype: int64"
      ]
     },
     "execution_count": 90,
     "metadata": {},
     "output_type": "execute_result"
    }
   ],
   "source": [
    "kings_county_df['grade_cat'].value_counts()"
   ]
  },
  {
   "cell_type": "code",
   "execution_count": 91,
   "metadata": {},
   "outputs": [
    {
     "ename": "KeyError",
     "evalue": "'grade'",
     "output_type": "error",
     "traceback": [
      "\u001b[0;31m---------------------------------------------------------------------------\u001b[0m",
      "\u001b[0;31mKeyError\u001b[0m                                  Traceback (most recent call last)",
      "\u001b[0;32m~/opt/anaconda3/envs/learn-env/lib/python3.8/site-packages/pandas/core/indexes/base.py\u001b[0m in \u001b[0;36mget_loc\u001b[0;34m(self, key, method, tolerance)\u001b[0m\n\u001b[1;32m   2894\u001b[0m             \u001b[0;32mtry\u001b[0m\u001b[0;34m:\u001b[0m\u001b[0;34m\u001b[0m\u001b[0;34m\u001b[0m\u001b[0m\n\u001b[0;32m-> 2895\u001b[0;31m                 \u001b[0;32mreturn\u001b[0m \u001b[0mself\u001b[0m\u001b[0;34m.\u001b[0m\u001b[0m_engine\u001b[0m\u001b[0;34m.\u001b[0m\u001b[0mget_loc\u001b[0m\u001b[0;34m(\u001b[0m\u001b[0mcasted_key\u001b[0m\u001b[0;34m)\u001b[0m\u001b[0;34m\u001b[0m\u001b[0;34m\u001b[0m\u001b[0m\n\u001b[0m\u001b[1;32m   2896\u001b[0m             \u001b[0;32mexcept\u001b[0m \u001b[0mKeyError\u001b[0m \u001b[0;32mas\u001b[0m \u001b[0merr\u001b[0m\u001b[0;34m:\u001b[0m\u001b[0;34m\u001b[0m\u001b[0;34m\u001b[0m\u001b[0m\n",
      "\u001b[0;32mpandas/_libs/index.pyx\u001b[0m in \u001b[0;36mpandas._libs.index.IndexEngine.get_loc\u001b[0;34m()\u001b[0m\n",
      "\u001b[0;32mpandas/_libs/index.pyx\u001b[0m in \u001b[0;36mpandas._libs.index.IndexEngine.get_loc\u001b[0;34m()\u001b[0m\n",
      "\u001b[0;32mpandas/_libs/hashtable_class_helper.pxi\u001b[0m in \u001b[0;36mpandas._libs.hashtable.PyObjectHashTable.get_item\u001b[0;34m()\u001b[0m\n",
      "\u001b[0;32mpandas/_libs/hashtable_class_helper.pxi\u001b[0m in \u001b[0;36mpandas._libs.hashtable.PyObjectHashTable.get_item\u001b[0;34m()\u001b[0m\n",
      "\u001b[0;31mKeyError\u001b[0m: 'grade'",
      "\nThe above exception was the direct cause of the following exception:\n",
      "\u001b[0;31mKeyError\u001b[0m                                  Traceback (most recent call last)",
      "\u001b[0;32m<ipython-input-91-705f1136b9d7>\u001b[0m in \u001b[0;36m<module>\u001b[0;34m\u001b[0m\n\u001b[0;32m----> 1\u001b[0;31m \u001b[0mkings_county_df\u001b[0m\u001b[0;34m[\u001b[0m\u001b[0;34m'grade'\u001b[0m\u001b[0;34m]\u001b[0m\u001b[0;34m.\u001b[0m\u001b[0mplot\u001b[0m\u001b[0;34m(\u001b[0m\u001b[0mkind\u001b[0m\u001b[0;34m=\u001b[0m\u001b[0;34m'box'\u001b[0m\u001b[0;34m)\u001b[0m\u001b[0;34m\u001b[0m\u001b[0;34m\u001b[0m\u001b[0m\n\u001b[0m",
      "\u001b[0;32m~/opt/anaconda3/envs/learn-env/lib/python3.8/site-packages/pandas/core/frame.py\u001b[0m in \u001b[0;36m__getitem__\u001b[0;34m(self, key)\u001b[0m\n\u001b[1;32m   2900\u001b[0m             \u001b[0;32mif\u001b[0m \u001b[0mself\u001b[0m\u001b[0;34m.\u001b[0m\u001b[0mcolumns\u001b[0m\u001b[0;34m.\u001b[0m\u001b[0mnlevels\u001b[0m \u001b[0;34m>\u001b[0m \u001b[0;36m1\u001b[0m\u001b[0;34m:\u001b[0m\u001b[0;34m\u001b[0m\u001b[0;34m\u001b[0m\u001b[0m\n\u001b[1;32m   2901\u001b[0m                 \u001b[0;32mreturn\u001b[0m \u001b[0mself\u001b[0m\u001b[0;34m.\u001b[0m\u001b[0m_getitem_multilevel\u001b[0m\u001b[0;34m(\u001b[0m\u001b[0mkey\u001b[0m\u001b[0;34m)\u001b[0m\u001b[0;34m\u001b[0m\u001b[0;34m\u001b[0m\u001b[0m\n\u001b[0;32m-> 2902\u001b[0;31m             \u001b[0mindexer\u001b[0m \u001b[0;34m=\u001b[0m \u001b[0mself\u001b[0m\u001b[0;34m.\u001b[0m\u001b[0mcolumns\u001b[0m\u001b[0;34m.\u001b[0m\u001b[0mget_loc\u001b[0m\u001b[0;34m(\u001b[0m\u001b[0mkey\u001b[0m\u001b[0;34m)\u001b[0m\u001b[0;34m\u001b[0m\u001b[0;34m\u001b[0m\u001b[0m\n\u001b[0m\u001b[1;32m   2903\u001b[0m             \u001b[0;32mif\u001b[0m \u001b[0mis_integer\u001b[0m\u001b[0;34m(\u001b[0m\u001b[0mindexer\u001b[0m\u001b[0;34m)\u001b[0m\u001b[0;34m:\u001b[0m\u001b[0;34m\u001b[0m\u001b[0;34m\u001b[0m\u001b[0m\n\u001b[1;32m   2904\u001b[0m                 \u001b[0mindexer\u001b[0m \u001b[0;34m=\u001b[0m \u001b[0;34m[\u001b[0m\u001b[0mindexer\u001b[0m\u001b[0;34m]\u001b[0m\u001b[0;34m\u001b[0m\u001b[0;34m\u001b[0m\u001b[0m\n",
      "\u001b[0;32m~/opt/anaconda3/envs/learn-env/lib/python3.8/site-packages/pandas/core/indexes/base.py\u001b[0m in \u001b[0;36mget_loc\u001b[0;34m(self, key, method, tolerance)\u001b[0m\n\u001b[1;32m   2895\u001b[0m                 \u001b[0;32mreturn\u001b[0m \u001b[0mself\u001b[0m\u001b[0;34m.\u001b[0m\u001b[0m_engine\u001b[0m\u001b[0;34m.\u001b[0m\u001b[0mget_loc\u001b[0m\u001b[0;34m(\u001b[0m\u001b[0mcasted_key\u001b[0m\u001b[0;34m)\u001b[0m\u001b[0;34m\u001b[0m\u001b[0;34m\u001b[0m\u001b[0m\n\u001b[1;32m   2896\u001b[0m             \u001b[0;32mexcept\u001b[0m \u001b[0mKeyError\u001b[0m \u001b[0;32mas\u001b[0m \u001b[0merr\u001b[0m\u001b[0;34m:\u001b[0m\u001b[0;34m\u001b[0m\u001b[0;34m\u001b[0m\u001b[0m\n\u001b[0;32m-> 2897\u001b[0;31m                 \u001b[0;32mraise\u001b[0m \u001b[0mKeyError\u001b[0m\u001b[0;34m(\u001b[0m\u001b[0mkey\u001b[0m\u001b[0;34m)\u001b[0m \u001b[0;32mfrom\u001b[0m \u001b[0merr\u001b[0m\u001b[0;34m\u001b[0m\u001b[0;34m\u001b[0m\u001b[0m\n\u001b[0m\u001b[1;32m   2898\u001b[0m \u001b[0;34m\u001b[0m\u001b[0m\n\u001b[1;32m   2899\u001b[0m         \u001b[0;32mif\u001b[0m \u001b[0mtolerance\u001b[0m \u001b[0;32mis\u001b[0m \u001b[0;32mnot\u001b[0m \u001b[0;32mNone\u001b[0m\u001b[0;34m:\u001b[0m\u001b[0;34m\u001b[0m\u001b[0;34m\u001b[0m\u001b[0m\n",
      "\u001b[0;31mKeyError\u001b[0m: 'grade'"
     ]
    }
   ],
   "source": [
    "kings_county_df['grade'].plot(kind='box')"
   ]
  },
  {
   "cell_type": "code",
   "execution_count": 24,
   "metadata": {},
   "outputs": [
    {
     "data": {
      "text/html": [
       "<div>\n",
       "<style scoped>\n",
       "    .dataframe tbody tr th:only-of-type {\n",
       "        vertical-align: middle;\n",
       "    }\n",
       "\n",
       "    .dataframe tbody tr th {\n",
       "        vertical-align: top;\n",
       "    }\n",
       "\n",
       "    .dataframe thead th {\n",
       "        text-align: right;\n",
       "    }\n",
       "</style>\n",
       "<table border=\"1\" class=\"dataframe\">\n",
       "  <thead>\n",
       "    <tr style=\"text-align: right;\">\n",
       "      <th></th>\n",
       "      <th>date</th>\n",
       "      <th>price</th>\n",
       "      <th>bedrooms</th>\n",
       "      <th>bathrooms</th>\n",
       "      <th>sqft_living</th>\n",
       "      <th>sqft_lot</th>\n",
       "      <th>floors</th>\n",
       "      <th>waterfront</th>\n",
       "      <th>view</th>\n",
       "      <th>condition</th>\n",
       "      <th>grade</th>\n",
       "      <th>sqft_above</th>\n",
       "      <th>sqft_basement</th>\n",
       "      <th>yr_built</th>\n",
       "      <th>yr_renovated</th>\n",
       "      <th>zipcode</th>\n",
       "      <th>sqft_living15</th>\n",
       "      <th>sqft_lot15</th>\n",
       "      <th>num_times_sold</th>\n",
       "      <th>age</th>\n",
       "      <th>is_renovated</th>\n",
       "      <th>month_sold</th>\n",
       "      <th>year_sold</th>\n",
       "      <th>season_sold</th>\n",
       "      <th>grade_cat</th>\n",
       "    </tr>\n",
       "  </thead>\n",
       "  <tbody>\n",
       "    <tr>\n",
       "      <th>0</th>\n",
       "      <td>2014-10-06</td>\n",
       "      <td>365000.0</td>\n",
       "      <td>4</td>\n",
       "      <td>2.25</td>\n",
       "      <td>2070</td>\n",
       "      <td>8893</td>\n",
       "      <td>2.0</td>\n",
       "      <td>False</td>\n",
       "      <td>0</td>\n",
       "      <td>4</td>\n",
       "      <td>8</td>\n",
       "      <td>2070</td>\n",
       "      <td>0</td>\n",
       "      <td>1986-01-01</td>\n",
       "      <td>0</td>\n",
       "      <td>98058</td>\n",
       "      <td>2390</td>\n",
       "      <td>7700</td>\n",
       "      <td>1</td>\n",
       "      <td>35</td>\n",
       "      <td>0</td>\n",
       "      <td>10</td>\n",
       "      <td>2014</td>\n",
       "      <td>Fall</td>\n",
       "      <td>medium</td>\n",
       "    </tr>\n",
       "    <tr>\n",
       "      <th>1</th>\n",
       "      <td>2014-08-21</td>\n",
       "      <td>865000.0</td>\n",
       "      <td>5</td>\n",
       "      <td>3.00</td>\n",
       "      <td>2900</td>\n",
       "      <td>6730</td>\n",
       "      <td>1.0</td>\n",
       "      <td>False</td>\n",
       "      <td>0</td>\n",
       "      <td>5</td>\n",
       "      <td>8</td>\n",
       "      <td>1830</td>\n",
       "      <td>1070</td>\n",
       "      <td>1977-01-01</td>\n",
       "      <td>0</td>\n",
       "      <td>98115</td>\n",
       "      <td>2370</td>\n",
       "      <td>6283</td>\n",
       "      <td>1</td>\n",
       "      <td>44</td>\n",
       "      <td>0</td>\n",
       "      <td>8</td>\n",
       "      <td>2014</td>\n",
       "      <td>Summer</td>\n",
       "      <td>medium</td>\n",
       "    </tr>\n",
       "    <tr>\n",
       "      <th>2</th>\n",
       "      <td>2014-08-15</td>\n",
       "      <td>1038000.0</td>\n",
       "      <td>4</td>\n",
       "      <td>2.50</td>\n",
       "      <td>3770</td>\n",
       "      <td>10893</td>\n",
       "      <td>2.0</td>\n",
       "      <td>False</td>\n",
       "      <td>2</td>\n",
       "      <td>3</td>\n",
       "      <td>11</td>\n",
       "      <td>3770</td>\n",
       "      <td>0</td>\n",
       "      <td>1997-01-01</td>\n",
       "      <td>0</td>\n",
       "      <td>98006</td>\n",
       "      <td>3710</td>\n",
       "      <td>9685</td>\n",
       "      <td>1</td>\n",
       "      <td>24</td>\n",
       "      <td>0</td>\n",
       "      <td>8</td>\n",
       "      <td>2014</td>\n",
       "      <td>Summer</td>\n",
       "      <td>high</td>\n",
       "    </tr>\n",
       "    <tr>\n",
       "      <th>3</th>\n",
       "      <td>2015-03-31</td>\n",
       "      <td>1490000.0</td>\n",
       "      <td>3</td>\n",
       "      <td>3.50</td>\n",
       "      <td>4560</td>\n",
       "      <td>14608</td>\n",
       "      <td>2.0</td>\n",
       "      <td>False</td>\n",
       "      <td>2</td>\n",
       "      <td>3</td>\n",
       "      <td>12</td>\n",
       "      <td>4560</td>\n",
       "      <td>0</td>\n",
       "      <td>1990-01-01</td>\n",
       "      <td>0</td>\n",
       "      <td>98034</td>\n",
       "      <td>4050</td>\n",
       "      <td>14226</td>\n",
       "      <td>1</td>\n",
       "      <td>31</td>\n",
       "      <td>0</td>\n",
       "      <td>3</td>\n",
       "      <td>2015</td>\n",
       "      <td>Spring</td>\n",
       "      <td>high</td>\n",
       "    </tr>\n",
       "    <tr>\n",
       "      <th>4</th>\n",
       "      <td>2014-07-14</td>\n",
       "      <td>711000.0</td>\n",
       "      <td>3</td>\n",
       "      <td>2.50</td>\n",
       "      <td>2550</td>\n",
       "      <td>5376</td>\n",
       "      <td>2.0</td>\n",
       "      <td>False</td>\n",
       "      <td>0</td>\n",
       "      <td>3</td>\n",
       "      <td>9</td>\n",
       "      <td>2550</td>\n",
       "      <td>0</td>\n",
       "      <td>2004-01-01</td>\n",
       "      <td>0</td>\n",
       "      <td>98052</td>\n",
       "      <td>2250</td>\n",
       "      <td>4050</td>\n",
       "      <td>1</td>\n",
       "      <td>17</td>\n",
       "      <td>0</td>\n",
       "      <td>7</td>\n",
       "      <td>2014</td>\n",
       "      <td>Summer</td>\n",
       "      <td>high</td>\n",
       "    </tr>\n",
       "  </tbody>\n",
       "</table>\n",
       "</div>"
      ],
      "text/plain": [
       "        date      price  bedrooms  bathrooms  sqft_living  sqft_lot  floors  \\\n",
       "0 2014-10-06   365000.0         4       2.25         2070      8893     2.0   \n",
       "1 2014-08-21   865000.0         5       3.00         2900      6730     1.0   \n",
       "2 2014-08-15  1038000.0         4       2.50         3770     10893     2.0   \n",
       "3 2015-03-31  1490000.0         3       3.50         4560     14608     2.0   \n",
       "4 2014-07-14   711000.0         3       2.50         2550      5376     2.0   \n",
       "\n",
       "   waterfront  view  condition  grade  sqft_above  sqft_basement   yr_built  \\\n",
       "0       False     0          4      8        2070              0 1986-01-01   \n",
       "1       False     0          5      8        1830           1070 1977-01-01   \n",
       "2       False     2          3     11        3770              0 1997-01-01   \n",
       "3       False     2          3     12        4560              0 1990-01-01   \n",
       "4       False     0          3      9        2550              0 2004-01-01   \n",
       "\n",
       "   yr_renovated zipcode  sqft_living15  sqft_lot15  num_times_sold  age  \\\n",
       "0             0   98058           2390        7700               1   35   \n",
       "1             0   98115           2370        6283               1   44   \n",
       "2             0   98006           3710        9685               1   24   \n",
       "3             0   98034           4050       14226               1   31   \n",
       "4             0   98052           2250        4050               1   17   \n",
       "\n",
       "   is_renovated  month_sold  year_sold season_sold grade_cat  \n",
       "0             0          10       2014        Fall    medium  \n",
       "1             0           8       2014      Summer    medium  \n",
       "2             0           8       2014      Summer      high  \n",
       "3             0           3       2015      Spring      high  \n",
       "4             0           7       2014      Summer      high  "
      ]
     },
     "execution_count": 24,
     "metadata": {},
     "output_type": "execute_result"
    }
   ],
   "source": [
    "kings_county_df.head()"
   ]
  },
  {
   "cell_type": "markdown",
   "metadata": {},
   "source": [
    "View descriiptive stats again and see for any extreme values"
   ]
  },
  {
   "cell_type": "code",
   "execution_count": 25,
   "metadata": {
    "scrolled": true
   },
   "outputs": [
    {
     "data": {
      "text/html": [
       "<div>\n",
       "<style scoped>\n",
       "    .dataframe tbody tr th:only-of-type {\n",
       "        vertical-align: middle;\n",
       "    }\n",
       "\n",
       "    .dataframe tbody tr th {\n",
       "        vertical-align: top;\n",
       "    }\n",
       "\n",
       "    .dataframe thead th {\n",
       "        text-align: right;\n",
       "    }\n",
       "</style>\n",
       "<table border=\"1\" class=\"dataframe\">\n",
       "  <thead>\n",
       "    <tr style=\"text-align: right;\">\n",
       "      <th></th>\n",
       "      <th>price</th>\n",
       "      <th>bedrooms</th>\n",
       "      <th>bathrooms</th>\n",
       "      <th>sqft_living</th>\n",
       "      <th>sqft_lot</th>\n",
       "      <th>floors</th>\n",
       "      <th>view</th>\n",
       "      <th>condition</th>\n",
       "      <th>grade</th>\n",
       "      <th>sqft_above</th>\n",
       "      <th>sqft_basement</th>\n",
       "      <th>yr_renovated</th>\n",
       "      <th>sqft_living15</th>\n",
       "      <th>sqft_lot15</th>\n",
       "      <th>num_times_sold</th>\n",
       "      <th>age</th>\n",
       "      <th>is_renovated</th>\n",
       "      <th>month_sold</th>\n",
       "      <th>year_sold</th>\n",
       "    </tr>\n",
       "  </thead>\n",
       "  <tbody>\n",
       "    <tr>\n",
       "      <th>count</th>\n",
       "      <td>1.722200e+04</td>\n",
       "      <td>17222.000000</td>\n",
       "      <td>17222.000000</td>\n",
       "      <td>17222.000000</td>\n",
       "      <td>1.722200e+04</td>\n",
       "      <td>17222.000000</td>\n",
       "      <td>17222.000000</td>\n",
       "      <td>17222.000000</td>\n",
       "      <td>17222.000000</td>\n",
       "      <td>17222.000000</td>\n",
       "      <td>17222.000000</td>\n",
       "      <td>17222.000000</td>\n",
       "      <td>17222.000000</td>\n",
       "      <td>17222.000000</td>\n",
       "      <td>17222.000000</td>\n",
       "      <td>17222.000000</td>\n",
       "      <td>17222.000000</td>\n",
       "      <td>17222.000000</td>\n",
       "      <td>17222.000000</td>\n",
       "    </tr>\n",
       "    <tr>\n",
       "      <th>mean</th>\n",
       "      <td>5.416820e+05</td>\n",
       "      <td>3.377831</td>\n",
       "      <td>2.117350</td>\n",
       "      <td>2085.476309</td>\n",
       "      <td>1.522804e+04</td>\n",
       "      <td>1.491290</td>\n",
       "      <td>0.237951</td>\n",
       "      <td>3.409012</td>\n",
       "      <td>7.661770</td>\n",
       "      <td>1792.348798</td>\n",
       "      <td>293.127511</td>\n",
       "      <td>83.790733</td>\n",
       "      <td>1989.506329</td>\n",
       "      <td>12849.133724</td>\n",
       "      <td>1.013239</td>\n",
       "      <td>50.127976</td>\n",
       "      <td>0.041981</td>\n",
       "      <td>6.570143</td>\n",
       "      <td>2014.323133</td>\n",
       "    </tr>\n",
       "    <tr>\n",
       "      <th>std</th>\n",
       "      <td>3.735401e+05</td>\n",
       "      <td>0.904038</td>\n",
       "      <td>0.766618</td>\n",
       "      <td>918.486549</td>\n",
       "      <td>4.234536e+04</td>\n",
       "      <td>0.538711</td>\n",
       "      <td>0.774457</td>\n",
       "      <td>0.650225</td>\n",
       "      <td>1.167142</td>\n",
       "      <td>828.237028</td>\n",
       "      <td>443.674869</td>\n",
       "      <td>400.296888</td>\n",
       "      <td>684.637237</td>\n",
       "      <td>27192.749721</td>\n",
       "      <td>0.114299</td>\n",
       "      <td>29.327414</td>\n",
       "      <td>0.200552</td>\n",
       "      <td>3.116021</td>\n",
       "      <td>0.467687</td>\n",
       "    </tr>\n",
       "    <tr>\n",
       "      <th>min</th>\n",
       "      <td>7.800000e+04</td>\n",
       "      <td>1.000000</td>\n",
       "      <td>1.000000</td>\n",
       "      <td>390.000000</td>\n",
       "      <td>5.720000e+02</td>\n",
       "      <td>1.000000</td>\n",
       "      <td>0.000000</td>\n",
       "      <td>1.000000</td>\n",
       "      <td>4.000000</td>\n",
       "      <td>390.000000</td>\n",
       "      <td>0.000000</td>\n",
       "      <td>0.000000</td>\n",
       "      <td>399.000000</td>\n",
       "      <td>659.000000</td>\n",
       "      <td>1.000000</td>\n",
       "      <td>6.000000</td>\n",
       "      <td>0.000000</td>\n",
       "      <td>1.000000</td>\n",
       "      <td>2014.000000</td>\n",
       "    </tr>\n",
       "    <tr>\n",
       "      <th>25%</th>\n",
       "      <td>3.230000e+05</td>\n",
       "      <td>3.000000</td>\n",
       "      <td>1.750000</td>\n",
       "      <td>1430.000000</td>\n",
       "      <td>5.080250e+03</td>\n",
       "      <td>1.000000</td>\n",
       "      <td>0.000000</td>\n",
       "      <td>3.000000</td>\n",
       "      <td>7.000000</td>\n",
       "      <td>1200.000000</td>\n",
       "      <td>0.000000</td>\n",
       "      <td>0.000000</td>\n",
       "      <td>1490.000000</td>\n",
       "      <td>5110.250000</td>\n",
       "      <td>1.000000</td>\n",
       "      <td>25.000000</td>\n",
       "      <td>0.000000</td>\n",
       "      <td>4.000000</td>\n",
       "      <td>2014.000000</td>\n",
       "    </tr>\n",
       "    <tr>\n",
       "      <th>50%</th>\n",
       "      <td>4.500000e+05</td>\n",
       "      <td>3.000000</td>\n",
       "      <td>2.250000</td>\n",
       "      <td>1920.000000</td>\n",
       "      <td>7.638500e+03</td>\n",
       "      <td>1.500000</td>\n",
       "      <td>0.000000</td>\n",
       "      <td>3.000000</td>\n",
       "      <td>7.000000</td>\n",
       "      <td>1570.000000</td>\n",
       "      <td>0.000000</td>\n",
       "      <td>0.000000</td>\n",
       "      <td>1840.000000</td>\n",
       "      <td>7620.000000</td>\n",
       "      <td>1.000000</td>\n",
       "      <td>46.000000</td>\n",
       "      <td>0.000000</td>\n",
       "      <td>6.000000</td>\n",
       "      <td>2014.000000</td>\n",
       "    </tr>\n",
       "    <tr>\n",
       "      <th>75%</th>\n",
       "      <td>6.475000e+05</td>\n",
       "      <td>4.000000</td>\n",
       "      <td>2.500000</td>\n",
       "      <td>2550.000000</td>\n",
       "      <td>1.072000e+04</td>\n",
       "      <td>2.000000</td>\n",
       "      <td>0.000000</td>\n",
       "      <td>4.000000</td>\n",
       "      <td>8.000000</td>\n",
       "      <td>2220.000000</td>\n",
       "      <td>570.000000</td>\n",
       "      <td>0.000000</td>\n",
       "      <td>2360.000000</td>\n",
       "      <td>10092.750000</td>\n",
       "      <td>1.000000</td>\n",
       "      <td>69.000000</td>\n",
       "      <td>0.000000</td>\n",
       "      <td>9.000000</td>\n",
       "      <td>2015.000000</td>\n",
       "    </tr>\n",
       "    <tr>\n",
       "      <th>max</th>\n",
       "      <td>7.700000e+06</td>\n",
       "      <td>11.000000</td>\n",
       "      <td>8.000000</td>\n",
       "      <td>13540.000000</td>\n",
       "      <td>1.651359e+06</td>\n",
       "      <td>3.500000</td>\n",
       "      <td>4.000000</td>\n",
       "      <td>5.000000</td>\n",
       "      <td>13.000000</td>\n",
       "      <td>9410.000000</td>\n",
       "      <td>4820.000000</td>\n",
       "      <td>2015.000000</td>\n",
       "      <td>6210.000000</td>\n",
       "      <td>858132.000000</td>\n",
       "      <td>2.000000</td>\n",
       "      <td>121.000000</td>\n",
       "      <td>1.000000</td>\n",
       "      <td>12.000000</td>\n",
       "      <td>2015.000000</td>\n",
       "    </tr>\n",
       "  </tbody>\n",
       "</table>\n",
       "</div>"
      ],
      "text/plain": [
       "              price      bedrooms     bathrooms   sqft_living      sqft_lot  \\\n",
       "count  1.722200e+04  17222.000000  17222.000000  17222.000000  1.722200e+04   \n",
       "mean   5.416820e+05      3.377831      2.117350   2085.476309  1.522804e+04   \n",
       "std    3.735401e+05      0.904038      0.766618    918.486549  4.234536e+04   \n",
       "min    7.800000e+04      1.000000      1.000000    390.000000  5.720000e+02   \n",
       "25%    3.230000e+05      3.000000      1.750000   1430.000000  5.080250e+03   \n",
       "50%    4.500000e+05      3.000000      2.250000   1920.000000  7.638500e+03   \n",
       "75%    6.475000e+05      4.000000      2.500000   2550.000000  1.072000e+04   \n",
       "max    7.700000e+06     11.000000      8.000000  13540.000000  1.651359e+06   \n",
       "\n",
       "             floors          view     condition         grade    sqft_above  \\\n",
       "count  17222.000000  17222.000000  17222.000000  17222.000000  17222.000000   \n",
       "mean       1.491290      0.237951      3.409012      7.661770   1792.348798   \n",
       "std        0.538711      0.774457      0.650225      1.167142    828.237028   \n",
       "min        1.000000      0.000000      1.000000      4.000000    390.000000   \n",
       "25%        1.000000      0.000000      3.000000      7.000000   1200.000000   \n",
       "50%        1.500000      0.000000      3.000000      7.000000   1570.000000   \n",
       "75%        2.000000      0.000000      4.000000      8.000000   2220.000000   \n",
       "max        3.500000      4.000000      5.000000     13.000000   9410.000000   \n",
       "\n",
       "       sqft_basement  yr_renovated  sqft_living15     sqft_lot15  \\\n",
       "count   17222.000000  17222.000000   17222.000000   17222.000000   \n",
       "mean      293.127511     83.790733    1989.506329   12849.133724   \n",
       "std       443.674869    400.296888     684.637237   27192.749721   \n",
       "min         0.000000      0.000000     399.000000     659.000000   \n",
       "25%         0.000000      0.000000    1490.000000    5110.250000   \n",
       "50%         0.000000      0.000000    1840.000000    7620.000000   \n",
       "75%       570.000000      0.000000    2360.000000   10092.750000   \n",
       "max      4820.000000   2015.000000    6210.000000  858132.000000   \n",
       "\n",
       "       num_times_sold           age  is_renovated    month_sold     year_sold  \n",
       "count    17222.000000  17222.000000  17222.000000  17222.000000  17222.000000  \n",
       "mean         1.013239     50.127976      0.041981      6.570143   2014.323133  \n",
       "std          0.114299     29.327414      0.200552      3.116021      0.467687  \n",
       "min          1.000000      6.000000      0.000000      1.000000   2014.000000  \n",
       "25%          1.000000     25.000000      0.000000      4.000000   2014.000000  \n",
       "50%          1.000000     46.000000      0.000000      6.000000   2014.000000  \n",
       "75%          1.000000     69.000000      0.000000      9.000000   2015.000000  \n",
       "max          2.000000    121.000000      1.000000     12.000000   2015.000000  "
      ]
     },
     "execution_count": 25,
     "metadata": {},
     "output_type": "execute_result"
    }
   ],
   "source": [
    "kings_county_df.describe()"
   ]
  },
  {
   "cell_type": "code",
   "execution_count": 26,
   "metadata": {
    "scrolled": true
   },
   "outputs": [
    {
     "data": {
      "text/plain": [
       "Index(['date', 'price', 'bedrooms', 'bathrooms', 'sqft_living', 'sqft_lot',\n",
       "       'floors', 'waterfront', 'view', 'condition', 'grade', 'sqft_above',\n",
       "       'sqft_basement', 'yr_built', 'yr_renovated', 'zipcode', 'sqft_living15',\n",
       "       'sqft_lot15', 'num_times_sold', 'age', 'is_renovated', 'month_sold',\n",
       "       'year_sold', 'season_sold', 'grade_cat'],\n",
       "      dtype='object')"
      ]
     },
     "execution_count": 26,
     "metadata": {},
     "output_type": "execute_result"
    }
   ],
   "source": [
    "kings_county_df.columns"
   ]
  },
  {
   "cell_type": "code",
   "execution_count": 27,
   "metadata": {},
   "outputs": [],
   "source": [
    "continuous = ['price', 'bedrooms', 'bathrooms', 'sqft_living', 'sqft_lot',\n",
    "       'floors',  'sqft_above', 'sqft_basement',   \n",
    "       'sqft_living15', 'sqft_lot15']\n",
    "\n",
    "categorical = ['waterfront','condition','grade','lat', 'long',\n",
    "               'renovated','view']"
   ]
  },
  {
   "cell_type": "markdown",
   "metadata": {},
   "source": [
    "Show plots of continuous variables vs the price. "
   ]
  },
  {
   "cell_type": "code",
   "execution_count": 28,
   "metadata": {},
   "outputs": [
    {
     "data": {
      "text/plain": [
       "<seaborn.axisgrid.PairGrid at 0x7f990173d6a0>"
      ]
     },
     "execution_count": 28,
     "metadata": {},
     "output_type": "execute_result"
    },
    {
     "data": {
      "image/png": "[encoded data removed]",
      "text/plain": [
       "<Figure size 4320x360 with 13 Axes>"
      ]
     },
     "metadata": {
      "needs_background": "light"
     },
     "output_type": "display_data"
    }
   ],
   "source": [
    "sns.pairplot(data = kings_county_df, y_vars=\"price\", x_vars=continuous, height=5, kind='reg')\n",
    "\n"
   ]
  },
  {
   "cell_type": "code",
   "execution_count": 29,
   "metadata": {},
   "outputs": [
    {
     "data": {
      "text/plain": [
       "array([10,  8,  3,  7,  5,  4,  1,  6,  2,  9, 11, 12])"
      ]
     },
     "execution_count": 29,
     "metadata": {},
     "output_type": "execute_result"
    }
   ],
   "source": [
    "kings_county_df.month_sold.unique()"
   ]
  },
  {
   "cell_type": "markdown",
   "metadata": {},
   "source": [
    "H0: Average price was the same across months.\n",
    "H1: Average price was not the same across months."
   ]
  },
  {
   "cell_type": "code",
   "execution_count": 30,
   "metadata": {},
   "outputs": [
    {
     "data": {
      "text/plain": [
       "F_onewayResult(statistic=2.574900295391838, pvalue=0.0029034481658880627)"
      ]
     },
     "execution_count": 30,
     "metadata": {},
     "output_type": "execute_result"
    }
   ],
   "source": [
    "#alpha = .05\n",
    "samples = kings_county_df.groupby('month_sold')['price'].apply(list)\n",
    "\n",
    "stats.f_oneway(*samples)\n"
   ]
  },
  {
   "cell_type": "code",
   "execution_count": 31,
   "metadata": {},
   "outputs": [
    {
     "data": {
      "text/plain": [
       "<AxesSubplot:xlabel='month_sold'>"
      ]
     },
     "execution_count": 31,
     "metadata": {},
     "output_type": "execute_result"
    },
    {
     "data": {
      "image/png": "[encoded data removed]",
      "text/plain": [
       "<Figure size 432x288 with 1 Axes>"
      ]
     },
     "metadata": {
      "needs_background": "light"
     },
     "output_type": "display_data"
    }
   ],
   "source": [
    "kings_county_df.groupby('month_sold').price.mean().plot(kind = 'bar')"
   ]
  },
  {
   "cell_type": "code",
   "execution_count": 32,
   "metadata": {},
   "outputs": [
    {
     "data": {
      "text/plain": [
       "array([2014, 2015])"
      ]
     },
     "execution_count": 32,
     "metadata": {},
     "output_type": "execute_result"
    }
   ],
   "source": [
    "kings_county_df.year_sold.unique()"
   ]
  },
  {
   "cell_type": "markdown",
   "metadata": {},
   "source": [
    "H0: Average price was the same across years.\n",
    "H1: Average price wasn't the same across years"
   ]
  },
  {
   "cell_type": "code",
   "execution_count": 33,
   "metadata": {
    "scrolled": true
   },
   "outputs": [
    {
     "data": {
      "text/plain": [
       "Ttest_indResult(statistic=0.2621578389580436, pvalue=0.7932028923279988)"
      ]
     },
     "execution_count": 33,
     "metadata": {},
     "output_type": "execute_result"
    }
   ],
   "source": [
    "#alpha = .05\n",
    "\n",
    "samples = kings_county_df.groupby('year_sold')['price'].apply(list)\n",
    "stats.ttest_ind(*samples)"
   ]
  },
  {
   "cell_type": "code",
   "execution_count": 34,
   "metadata": {},
   "outputs": [
    {
     "data": {
      "text/plain": [
       "<AxesSubplot:xlabel='year_sold'>"
      ]
     },
     "execution_count": 34,
     "metadata": {},
     "output_type": "execute_result"
    },
    {
     "data": {
      "image/png": "[encoded data removed]",
      "text/plain": [
       "<Figure size 432x288 with 1 Axes>"
      ]
     },
     "metadata": {
      "needs_background": "light"
     },
     "output_type": "display_data"
    }
   ],
   "source": [
    "kings_county_df.groupby('year_sold').price.mean().plot(kind = 'bar')"
   ]
  },
  {
   "cell_type": "markdown",
   "metadata": {},
   "source": [
    "H0: Average price was the same across seasons\n",
    "H1: Average price wasn't the same across seasons"
   ]
  },
  {
   "cell_type": "code",
   "execution_count": 36,
   "metadata": {},
   "outputs": [
    {
     "data": {
      "text/plain": [
       "F_onewayResult(statistic=6.581005116807272, pvalue=0.00019286653060448332)"
      ]
     },
     "execution_count": 36,
     "metadata": {},
     "output_type": "execute_result"
    }
   ],
   "source": [
    "#alpha = .05\n",
    "samples = kings_county_df.groupby('season_sold')['price'].apply(list)\n",
    "\n",
    "stats.f_oneway(*samples)"
   ]
  },
  {
   "cell_type": "code",
   "execution_count": 37,
   "metadata": {
    "scrolled": false
   },
   "outputs": [
    {
     "data": {
      "text/plain": [
       "<AxesSubplot:xlabel='season_sold'>"
      ]
     },
     "execution_count": 37,
     "metadata": {},
     "output_type": "execute_result"
    },
    {
     "data": {
      "image/png": "[encoded data removed]",
      "text/plain": [
       "<Figure size 432x288 with 1 Axes>"
      ]
     },
     "metadata": {
      "needs_background": "light"
     },
     "output_type": "display_data"
    }
   ],
   "source": [
    "kings_county_df.groupby('season_sold').price.mean().plot(kind = 'bar')"
   ]
  },
  {
   "cell_type": "code",
   "execution_count": 38,
   "metadata": {},
   "outputs": [
    {
     "data": {
      "text/plain": [
       "array([0, 1])"
      ]
     },
     "execution_count": 38,
     "metadata": {},
     "output_type": "execute_result"
    }
   ],
   "source": [
    "kings_county_df.is_renovated.unique()"
   ]
  },
  {
   "cell_type": "markdown",
   "metadata": {},
   "source": [
    "H0: Average price is the same whether a house is or isn't renovated\n",
    "H1: Average price is not the same whether a house is or isn't renovated"
   ]
  },
  {
   "cell_type": "code",
   "execution_count": 39,
   "metadata": {},
   "outputs": [
    {
     "data": {
      "text/plain": [
       "Ttest_indResult(statistic=15.568881279590324, pvalue=2.7771993459476847e-54)"
      ]
     },
     "execution_count": 39,
     "metadata": {},
     "output_type": "execute_result"
    }
   ],
   "source": [
    "#alpha = .05\n",
    "\n",
    "stats.ttest_ind(kings_county_df.query(\"is_renovated == True\")['price'], kings_county_df.query(\"is_renovated == False\")['price'])\n",
    "\n"
   ]
  },
  {
   "cell_type": "code",
   "execution_count": 40,
   "metadata": {},
   "outputs": [
    {
     "data": {
      "text/plain": [
       "<AxesSubplot:xlabel='is_renovated'>"
      ]
     },
     "execution_count": 40,
     "metadata": {},
     "output_type": "execute_result"
    },
    {
     "data": {
      "image/png": "[encoded data removed]",
      "text/plain": [
       "<Figure size 432x288 with 1 Axes>"
      ]
     },
     "metadata": {
      "needs_background": "light"
     },
     "output_type": "display_data"
    }
   ],
   "source": [
    "kings_county_df.groupby('is_renovated').price.mean().plot(kind = 'bar')"
   ]
  },
  {
   "cell_type": "code",
   "execution_count": 41,
   "metadata": {},
   "outputs": [
    {
     "data": {
      "text/plain": [
       "array([False,  True])"
      ]
     },
     "execution_count": 41,
     "metadata": {},
     "output_type": "execute_result"
    }
   ],
   "source": [
    "kings_county_df.waterfront.unique()"
   ]
  },
  {
   "cell_type": "markdown",
   "metadata": {},
   "source": [
    "H0: Average price is the same whether a house has or doesn't have a waterfront\n",
    "H1: Average price isn't the same whether a house has or doesn't have a waterfront"
   ]
  },
  {
   "cell_type": "code",
   "execution_count": 42,
   "metadata": {},
   "outputs": [
    {
     "data": {
      "text/plain": [
       "Ttest_indResult(statistic=38.39269496881404, pvalue=1.677044845201236e-309)"
      ]
     },
     "execution_count": 42,
     "metadata": {},
     "output_type": "execute_result"
    }
   ],
   "source": [
    "#alpha = .05\n",
    "\n",
    "stats.ttest_ind(kings_county_df.query(\"waterfront == True\")['price'], kings_county_df.query(\"waterfront == False\")['price'])\n",
    "\n"
   ]
  },
  {
   "cell_type": "code",
   "execution_count": 43,
   "metadata": {},
   "outputs": [
    {
     "data": {
      "text/plain": [
       "<AxesSubplot:xlabel='waterfront'>"
      ]
     },
     "execution_count": 43,
     "metadata": {},
     "output_type": "execute_result"
    },
    {
     "data": {
      "image/png": "[encoded data removed]",
      "text/plain": [
       "<Figure size 432x288 with 1 Axes>"
      ]
     },
     "metadata": {
      "needs_background": "light"
     },
     "output_type": "display_data"
    }
   ],
   "source": [
    "kings_county_df.groupby('waterfront').price.mean().plot(kind = 'bar')"
   ]
  },
  {
   "cell_type": "markdown",
   "metadata": {},
   "source": [
    "H0: Average price is the same with regards of condition\n",
    "H1: They are not equal"
   ]
  },
  {
   "cell_type": "code",
   "execution_count": 44,
   "metadata": {
    "scrolled": true
   },
   "outputs": [
    {
     "data": {
      "text/plain": [
       "array([4, 5, 3, 2, 1])"
      ]
     },
     "execution_count": 44,
     "metadata": {},
     "output_type": "execute_result"
    }
   ],
   "source": [
    "kings_county_df.condition.unique()"
   ]
  },
  {
   "cell_type": "code",
   "execution_count": 45,
   "metadata": {},
   "outputs": [
    {
     "data": {
      "text/plain": [
       "F_onewayResult(statistic=27.574529751403393, pvalue=7.448680911187518e-23)"
      ]
     },
     "execution_count": 45,
     "metadata": {},
     "output_type": "execute_result"
    }
   ],
   "source": [
    "#alpha = .05\n",
    "samples = kings_county_df.groupby('condition')['price'].apply(list)\n",
    "stats.f_oneway(*samples)"
   ]
  },
  {
   "cell_type": "code",
   "execution_count": 46,
   "metadata": {},
   "outputs": [
    {
     "data": {
      "text/plain": [
       "<AxesSubplot:xlabel='condition'>"
      ]
     },
     "execution_count": 46,
     "metadata": {},
     "output_type": "execute_result"
    },
    {
     "data": {
      "image/png": "[encoded data removed]",
      "text/plain": [
       "<Figure size 432x288 with 1 Axes>"
      ]
     },
     "metadata": {
      "needs_background": "light"
     },
     "output_type": "display_data"
    }
   ],
   "source": [
    "kings_county_df.groupby('condition')['price'].mean().plot(kind='bar')"
   ]
  },
  {
   "cell_type": "code",
   "execution_count": 47,
   "metadata": {},
   "outputs": [
    {
     "data": {
      "text/plain": [
       "array([ 8, 11, 12,  9,  7,  6, 10,  5, 13,  4])"
      ]
     },
     "execution_count": 47,
     "metadata": {},
     "output_type": "execute_result"
    }
   ],
   "source": [
    "kings_county_df.grade.unique()"
   ]
  },
  {
   "cell_type": "markdown",
   "metadata": {},
   "source": [
    "H0: Average price is the same with regards to grade\n",
    "H1: Average price isn't the same"
   ]
  },
  {
   "cell_type": "code",
   "execution_count": 48,
   "metadata": {},
   "outputs": [
    {
     "data": {
      "text/plain": [
       "F_onewayResult(statistic=2145.209220555704, pvalue=0.0)"
      ]
     },
     "execution_count": 48,
     "metadata": {},
     "output_type": "execute_result"
    }
   ],
   "source": [
    "#alpha = .05\n",
    "samples = kings_county_df.groupby('grade')['price'].apply(list)\n",
    "\n",
    "stats.f_oneway(*samples)"
   ]
  },
  {
   "cell_type": "code",
   "execution_count": 49,
   "metadata": {},
   "outputs": [
    {
     "data": {
      "text/plain": [
       "<AxesSubplot:xlabel='grade'>"
      ]
     },
     "execution_count": 49,
     "metadata": {},
     "output_type": "execute_result"
    },
    {
     "data": {
      "image/png": "[encoded data removed]",
      "text/plain": [
       "<Figure size 432x288 with 1 Axes>"
      ]
     },
     "metadata": {
      "needs_background": "light"
     },
     "output_type": "display_data"
    }
   ],
   "source": [
    "kings_county_df.groupby('grade')['price'].mean().plot(kind='bar')"
   ]
  },
  {
   "cell_type": "markdown",
   "metadata": {},
   "source": [
    "H0: Average price is the same with regards to grade grouped\n",
    "H1: Average price isn't the same"
   ]
  },
  {
   "cell_type": "code",
   "execution_count": 50,
   "metadata": {},
   "outputs": [
    {
     "data": {
      "text/plain": [
       "F_onewayResult(statistic=3960.150473300982, pvalue=0.0)"
      ]
     },
     "execution_count": 50,
     "metadata": {},
     "output_type": "execute_result"
    }
   ],
   "source": [
    "samples = kings_county_df.groupby('grade_cat')['price'].apply(list)\n",
    "\n",
    "stats.f_oneway(*samples)"
   ]
  },
  {
   "cell_type": "code",
   "execution_count": 51,
   "metadata": {},
   "outputs": [
    {
     "data": {
      "text/plain": [
       "<AxesSubplot:xlabel='grade_cat'>"
      ]
     },
     "execution_count": 51,
     "metadata": {},
     "output_type": "execute_result"
    },
    {
     "data": {
      "image/png": "[encoded data removed]",
      "text/plain": [
       "<Figure size 432x288 with 1 Axes>"
      ]
     },
     "metadata": {
      "needs_background": "light"
     },
     "output_type": "display_data"
    }
   ],
   "source": [
    "kings_county_df.groupby('grade_cat')['price'].mean().plot(kind='bar')"
   ]
  },
  {
   "cell_type": "markdown",
   "metadata": {},
   "source": [
    "H0: Average price is the same whether or not you have a view\n",
    "H1: Average price isn't the same whether you have a view or not"
   ]
  },
  {
   "cell_type": "code",
   "execution_count": 52,
   "metadata": {},
   "outputs": [
    {
     "data": {
      "text/plain": [
       "Ttest_indResult(statistic=17.36902796896047, pvalue=5.939060476193163e-67)"
      ]
     },
     "execution_count": 52,
     "metadata": {},
     "output_type": "execute_result"
    }
   ],
   "source": [
    "#alpha = .05\n",
    "\n",
    "stats.ttest_ind(kings_county_df.query(\"view == True\")['price'],kings_county_df.query(\"view == False\")['price'])\n",
    "\n"
   ]
  },
  {
   "cell_type": "code",
   "execution_count": 53,
   "metadata": {},
   "outputs": [
    {
     "data": {
      "text/plain": [
       "array([0, 2, 3, 4, 1])"
      ]
     },
     "execution_count": 53,
     "metadata": {},
     "output_type": "execute_result"
    }
   ],
   "source": [
    "kings_county_df.view.unique()"
   ]
  },
  {
   "cell_type": "markdown",
   "metadata": {},
   "source": [
    "H0: Amount of views have the same average price\n",
    "H1: Amount of view do not have the same average price."
   ]
  },
  {
   "cell_type": "code",
   "execution_count": 54,
   "metadata": {},
   "outputs": [
    {
     "data": {
      "text/plain": [
       "F_onewayResult(statistic=881.3331085455491, pvalue=0.0)"
      ]
     },
     "execution_count": 54,
     "metadata": {},
     "output_type": "execute_result"
    }
   ],
   "source": [
    "samples = kings_county_df.groupby('view')['price'].apply(list)\n",
    "stats.f_oneway(*samples)"
   ]
  },
  {
   "cell_type": "code",
   "execution_count": 55,
   "metadata": {},
   "outputs": [
    {
     "data": {
      "text/plain": [
       "<AxesSubplot:xlabel='view'>"
      ]
     },
     "execution_count": 55,
     "metadata": {},
     "output_type": "execute_result"
    },
    {
     "data": {
      "image/png": "[encoded data removed]",
      "text/plain": [
       "<Figure size 432x288 with 1 Axes>"
      ]
     },
     "metadata": {
      "needs_background": "light"
     },
     "output_type": "display_data"
    }
   ],
   "source": [
    "kings_county_df.groupby('view').price.mean().plot(kind='bar')"
   ]
  },
  {
   "cell_type": "code",
   "execution_count": 56,
   "metadata": {
    "scrolled": false
   },
   "outputs": [
    {
     "data": {
      "text/plain": [
       "array(['98058', '98115', '98006', '98034', '98052', '98031', '98007',\n",
       "       '98199', '98027', '98119', '98122', '98155', '98055', '98118',\n",
       "       '98014', '98059', '98004', '98053', '98072', '98133', '98092',\n",
       "       '98074', '98125', '98045', '98106', '98022', '98177', '98008',\n",
       "       '98002', '98040', '98029', '98042', '98001', '98065', '98056',\n",
       "       '98144', '98188', '98109', '98010', '98075', '98198', '98030',\n",
       "       '98105', '98023', '98028', '98112', '98038', '98116', '98103',\n",
       "       '98178', '98168', '98005', '98077', '98146', '98011', '98126',\n",
       "       '98108', '98136', '98033', '98003', '98117', '98107', '98019',\n",
       "       '98102', '98032', '98148', '98166', '98070', '98024', '98039'],\n",
       "      dtype=object)"
      ]
     },
     "execution_count": 56,
     "metadata": {},
     "output_type": "execute_result"
    }
   ],
   "source": [
    "kings_county_df.zipcode.unique()"
   ]
  },
  {
   "cell_type": "code",
   "execution_count": 57,
   "metadata": {},
   "outputs": [
    {
     "data": {
      "text/plain": [
       "70"
      ]
     },
     "execution_count": 57,
     "metadata": {},
     "output_type": "execute_result"
    }
   ],
   "source": [
    "kings_county_df.zipcode.nunique()"
   ]
  },
  {
   "cell_type": "code",
   "execution_count": 58,
   "metadata": {},
   "outputs": [
    {
     "data": {
      "text/html": [
       "<div>\n",
       "<style scoped>\n",
       "    .dataframe tbody tr th:only-of-type {\n",
       "        vertical-align: middle;\n",
       "    }\n",
       "\n",
       "    .dataframe tbody tr th {\n",
       "        vertical-align: top;\n",
       "    }\n",
       "\n",
       "    .dataframe thead th {\n",
       "        text-align: right;\n",
       "    }\n",
       "</style>\n",
       "<table border=\"1\" class=\"dataframe\">\n",
       "  <thead>\n",
       "    <tr style=\"text-align: right;\">\n",
       "      <th></th>\n",
       "      <th>price</th>\n",
       "    </tr>\n",
       "    <tr>\n",
       "      <th>zipcode</th>\n",
       "      <th></th>\n",
       "    </tr>\n",
       "  </thead>\n",
       "  <tbody>\n",
       "    <tr>\n",
       "      <th>98039</th>\n",
       "      <td>2.202790e+06</td>\n",
       "    </tr>\n",
       "    <tr>\n",
       "      <th>98004</th>\n",
       "      <td>1.396883e+06</td>\n",
       "    </tr>\n",
       "    <tr>\n",
       "      <th>98040</th>\n",
       "      <td>1.183018e+06</td>\n",
       "    </tr>\n",
       "    <tr>\n",
       "      <th>98112</th>\n",
       "      <td>1.119458e+06</td>\n",
       "    </tr>\n",
       "    <tr>\n",
       "      <th>98102</th>\n",
       "      <td>9.316293e+05</td>\n",
       "    </tr>\n",
       "    <tr>\n",
       "      <th>98109</th>\n",
       "      <td>8.759879e+05</td>\n",
       "    </tr>\n",
       "    <tr>\n",
       "      <th>98119</th>\n",
       "      <td>8.734432e+05</td>\n",
       "    </tr>\n",
       "    <tr>\n",
       "      <th>98105</th>\n",
       "      <td>8.687880e+05</td>\n",
       "    </tr>\n",
       "    <tr>\n",
       "      <th>98006</th>\n",
       "      <td>8.510264e+05</td>\n",
       "    </tr>\n",
       "    <tr>\n",
       "      <th>98005</th>\n",
       "      <td>8.088476e+05</td>\n",
       "    </tr>\n",
       "    <tr>\n",
       "      <th>98033</th>\n",
       "      <td>8.027675e+05</td>\n",
       "    </tr>\n",
       "    <tr>\n",
       "      <th>98075</th>\n",
       "      <td>7.939692e+05</td>\n",
       "    </tr>\n",
       "    <tr>\n",
       "      <th>98199</th>\n",
       "      <td>7.871469e+05</td>\n",
       "    </tr>\n",
       "    <tr>\n",
       "      <th>98074</th>\n",
       "      <td>6.921968e+05</td>\n",
       "    </tr>\n",
       "    <tr>\n",
       "      <th>98077</th>\n",
       "      <td>6.791314e+05</td>\n",
       "    </tr>\n",
       "    <tr>\n",
       "      <th>98053</th>\n",
       "      <td>6.760144e+05</td>\n",
       "    </tr>\n",
       "    <tr>\n",
       "      <th>98177</th>\n",
       "      <td>6.552490e+05</td>\n",
       "    </tr>\n",
       "    <tr>\n",
       "      <th>98052</th>\n",
       "      <td>6.460591e+05</td>\n",
       "    </tr>\n",
       "    <tr>\n",
       "      <th>98008</th>\n",
       "      <td>6.407492e+05</td>\n",
       "    </tr>\n",
       "    <tr>\n",
       "      <th>98144</th>\n",
       "      <td>6.213533e+05</td>\n",
       "    </tr>\n",
       "    <tr>\n",
       "      <th>98122</th>\n",
       "      <td>6.192377e+05</td>\n",
       "    </tr>\n",
       "    <tr>\n",
       "      <th>98029</th>\n",
       "      <td>6.156723e+05</td>\n",
       "    </tr>\n",
       "    <tr>\n",
       "      <th>98116</th>\n",
       "      <td>6.150221e+05</td>\n",
       "    </tr>\n",
       "    <tr>\n",
       "      <th>98115</th>\n",
       "      <td>6.146356e+05</td>\n",
       "    </tr>\n",
       "    <tr>\n",
       "      <th>98027</th>\n",
       "      <td>6.072946e+05</td>\n",
       "    </tr>\n",
       "    <tr>\n",
       "      <th>98024</th>\n",
       "      <td>5.980070e+05</td>\n",
       "    </tr>\n",
       "    <tr>\n",
       "      <th>98007</th>\n",
       "      <td>5.975536e+05</td>\n",
       "    </tr>\n",
       "    <tr>\n",
       "      <th>98103</th>\n",
       "      <td>5.897893e+05</td>\n",
       "    </tr>\n",
       "    <tr>\n",
       "      <th>98107</th>\n",
       "      <td>5.835837e+05</td>\n",
       "    </tr>\n",
       "    <tr>\n",
       "      <th>98117</th>\n",
       "      <td>5.718270e+05</td>\n",
       "    </tr>\n",
       "    <tr>\n",
       "      <th>98072</th>\n",
       "      <td>5.667307e+05</td>\n",
       "    </tr>\n",
       "    <tr>\n",
       "      <th>98136</th>\n",
       "      <td>5.659156e+05</td>\n",
       "    </tr>\n",
       "    <tr>\n",
       "      <th>98065</th>\n",
       "      <td>5.292394e+05</td>\n",
       "    </tr>\n",
       "    <tr>\n",
       "      <th>98034</th>\n",
       "      <td>5.238643e+05</td>\n",
       "    </tr>\n",
       "    <tr>\n",
       "      <th>98070</th>\n",
       "      <td>5.028372e+05</td>\n",
       "    </tr>\n",
       "    <tr>\n",
       "      <th>98059</th>\n",
       "      <td>4.947557e+05</td>\n",
       "    </tr>\n",
       "    <tr>\n",
       "      <th>98011</th>\n",
       "      <td>4.906393e+05</td>\n",
       "    </tr>\n",
       "    <tr>\n",
       "      <th>98166</th>\n",
       "      <td>4.824483e+05</td>\n",
       "    </tr>\n",
       "    <tr>\n",
       "      <th>98125</th>\n",
       "      <td>4.761990e+05</td>\n",
       "    </tr>\n",
       "    <tr>\n",
       "      <th>98028</th>\n",
       "      <td>4.695106e+05</td>\n",
       "    </tr>\n",
       "    <tr>\n",
       "      <th>98014</th>\n",
       "      <td>4.647732e+05</td>\n",
       "    </tr>\n",
       "    <tr>\n",
       "      <th>98045</th>\n",
       "      <td>4.324689e+05</td>\n",
       "    </tr>\n",
       "    <tr>\n",
       "      <th>98019</th>\n",
       "      <td>4.314771e+05</td>\n",
       "    </tr>\n",
       "    <tr>\n",
       "      <th>98126</th>\n",
       "      <td>4.262405e+05</td>\n",
       "    </tr>\n",
       "    <tr>\n",
       "      <th>98010</th>\n",
       "      <td>4.248736e+05</td>\n",
       "    </tr>\n",
       "    <tr>\n",
       "      <th>98056</th>\n",
       "      <td>4.234974e+05</td>\n",
       "    </tr>\n",
       "    <tr>\n",
       "      <th>98155</th>\n",
       "      <td>4.229997e+05</td>\n",
       "    </tr>\n",
       "    <tr>\n",
       "      <th>98118</th>\n",
       "      <td>4.134839e+05</td>\n",
       "    </tr>\n",
       "    <tr>\n",
       "      <th>98133</th>\n",
       "      <td>3.864077e+05</td>\n",
       "    </tr>\n",
       "    <tr>\n",
       "      <th>98038</th>\n",
       "      <td>3.687059e+05</td>\n",
       "    </tr>\n",
       "    <tr>\n",
       "      <th>98146</th>\n",
       "      <td>3.680385e+05</td>\n",
       "    </tr>\n",
       "    <tr>\n",
       "      <th>98108</th>\n",
       "      <td>3.565655e+05</td>\n",
       "    </tr>\n",
       "    <tr>\n",
       "      <th>98058</th>\n",
       "      <td>3.551964e+05</td>\n",
       "    </tr>\n",
       "    <tr>\n",
       "      <th>98092</th>\n",
       "      <td>3.401319e+05</td>\n",
       "    </tr>\n",
       "    <tr>\n",
       "      <th>98106</th>\n",
       "      <td>3.190043e+05</td>\n",
       "    </tr>\n",
       "    <tr>\n",
       "      <th>98178</th>\n",
       "      <td>3.134480e+05</td>\n",
       "    </tr>\n",
       "    <tr>\n",
       "      <th>98022</th>\n",
       "      <td>3.102683e+05</td>\n",
       "    </tr>\n",
       "    <tr>\n",
       "      <th>98042</th>\n",
       "      <td>3.090958e+05</td>\n",
       "    </tr>\n",
       "    <tr>\n",
       "      <th>98055</th>\n",
       "      <td>3.075069e+05</td>\n",
       "    </tr>\n",
       "    <tr>\n",
       "      <th>98198</th>\n",
       "      <td>3.041975e+05</td>\n",
       "    </tr>\n",
       "    <tr>\n",
       "      <th>98031</th>\n",
       "      <td>3.003445e+05</td>\n",
       "    </tr>\n",
       "    <tr>\n",
       "      <th>98030</th>\n",
       "      <td>2.964029e+05</td>\n",
       "    </tr>\n",
       "    <tr>\n",
       "      <th>98003</th>\n",
       "      <td>2.907627e+05</td>\n",
       "    </tr>\n",
       "    <tr>\n",
       "      <th>98188</th>\n",
       "      <td>2.898104e+05</td>\n",
       "    </tr>\n",
       "    <tr>\n",
       "      <th>98023</th>\n",
       "      <td>2.895726e+05</td>\n",
       "    </tr>\n",
       "    <tr>\n",
       "      <th>98001</th>\n",
       "      <td>2.817125e+05</td>\n",
       "    </tr>\n",
       "    <tr>\n",
       "      <th>98148</th>\n",
       "      <td>2.720823e+05</td>\n",
       "    </tr>\n",
       "    <tr>\n",
       "      <th>98032</th>\n",
       "      <td>2.533176e+05</td>\n",
       "    </tr>\n",
       "    <tr>\n",
       "      <th>98168</th>\n",
       "      <td>2.417368e+05</td>\n",
       "    </tr>\n",
       "    <tr>\n",
       "      <th>98002</th>\n",
       "      <td>2.322865e+05</td>\n",
       "    </tr>\n",
       "  </tbody>\n",
       "</table>\n",
       "</div>"
      ],
      "text/plain": [
       "                price\n",
       "zipcode              \n",
       "98039    2.202790e+06\n",
       "98004    1.396883e+06\n",
       "98040    1.183018e+06\n",
       "98112    1.119458e+06\n",
       "98102    9.316293e+05\n",
       "98109    8.759879e+05\n",
       "98119    8.734432e+05\n",
       "98105    8.687880e+05\n",
       "98006    8.510264e+05\n",
       "98005    8.088476e+05\n",
       "98033    8.027675e+05\n",
       "98075    7.939692e+05\n",
       "98199    7.871469e+05\n",
       "98074    6.921968e+05\n",
       "98077    6.791314e+05\n",
       "98053    6.760144e+05\n",
       "98177    6.552490e+05\n",
       "98052    6.460591e+05\n",
       "98008    6.407492e+05\n",
       "98144    6.213533e+05\n",
       "98122    6.192377e+05\n",
       "98029    6.156723e+05\n",
       "98116    6.150221e+05\n",
       "98115    6.146356e+05\n",
       "98027    6.072946e+05\n",
       "98024    5.980070e+05\n",
       "98007    5.975536e+05\n",
       "98103    5.897893e+05\n",
       "98107    5.835837e+05\n",
       "98117    5.718270e+05\n",
       "98072    5.667307e+05\n",
       "98136    5.659156e+05\n",
       "98065    5.292394e+05\n",
       "98034    5.238643e+05\n",
       "98070    5.028372e+05\n",
       "98059    4.947557e+05\n",
       "98011    4.906393e+05\n",
       "98166    4.824483e+05\n",
       "98125    4.761990e+05\n",
       "98028    4.695106e+05\n",
       "98014    4.647732e+05\n",
       "98045    4.324689e+05\n",
       "98019    4.314771e+05\n",
       "98126    4.262405e+05\n",
       "98010    4.248736e+05\n",
       "98056    4.234974e+05\n",
       "98155    4.229997e+05\n",
       "98118    4.134839e+05\n",
       "98133    3.864077e+05\n",
       "98038    3.687059e+05\n",
       "98146    3.680385e+05\n",
       "98108    3.565655e+05\n",
       "98058    3.551964e+05\n",
       "98092    3.401319e+05\n",
       "98106    3.190043e+05\n",
       "98178    3.134480e+05\n",
       "98022    3.102683e+05\n",
       "98042    3.090958e+05\n",
       "98055    3.075069e+05\n",
       "98198    3.041975e+05\n",
       "98031    3.003445e+05\n",
       "98030    2.964029e+05\n",
       "98003    2.907627e+05\n",
       "98188    2.898104e+05\n",
       "98023    2.895726e+05\n",
       "98001    2.817125e+05\n",
       "98148    2.720823e+05\n",
       "98032    2.533176e+05\n",
       "98168    2.417368e+05\n",
       "98002    2.322865e+05"
      ]
     },
     "execution_count": 58,
     "metadata": {},
     "output_type": "execute_result"
    }
   ],
   "source": [
    "#Viewing average house prices by zip \n",
    "pd.DataFrame(kings_county_df.groupby('zipcode').price.mean()).sort_values(by='price', ascending = False)\n",
    "\n"
   ]
  },
  {
   "cell_type": "markdown",
   "metadata": {},
   "source": [
    "H0: Average price is the same across zipcodes\n",
    "H1: Average price isn't the same across zipcodes"
   ]
  },
  {
   "cell_type": "code",
   "execution_count": 59,
   "metadata": {},
   "outputs": [
    {
     "data": {
      "text/plain": [
       "F_onewayResult(statistic=166.57692359493055, pvalue=0.0)"
      ]
     },
     "execution_count": 59,
     "metadata": {},
     "output_type": "execute_result"
    }
   ],
   "source": [
    "#alpha = .05\n",
    "samples = kings_county_df.groupby('zipcode')['price'].apply(list)\n",
    "stats.f_oneway(*samples)\n"
   ]
  },
  {
   "cell_type": "code",
   "execution_count": 93,
   "metadata": {},
   "outputs": [
    {
     "data": {
      "text/plain": [
       "<AxesSubplot:xlabel='zipcode'>"
      ]
     },
     "execution_count": 93,
     "metadata": {},
     "output_type": "execute_result"
    },
    {
     "data": {
      "image/png": "[encoded data removed]",
      "text/plain": [
       "<Figure size 432x288 with 1 Axes>"
      ]
     },
     "metadata": {
      "needs_background": "light"
     },
     "output_type": "display_data"
    }
   ],
   "source": [
    "kings_county_df.groupby('zipcode')['price'].mean().plot(kind='bar')"
   ]
  },
  {
   "cell_type": "code",
   "execution_count": 61,
   "metadata": {},
   "outputs": [
    {
     "data": {
      "text/plain": [
       "F_onewayResult(statistic=28.738121869872636, pvalue=8.392386596235142e-08)"
      ]
     },
     "execution_count": 61,
     "metadata": {},
     "output_type": "execute_result"
    }
   ],
   "source": [
    "#alpha = .05\n",
    "samples = kings_county_df.groupby('num_times_sold')['price'].apply(list)\n",
    "stats.f_oneway(*samples)"
   ]
  },
  {
   "cell_type": "code",
   "execution_count": 62,
   "metadata": {
    "scrolled": true
   },
   "outputs": [
    {
     "data": {
      "text/html": [
       "<div>\n",
       "<style scoped>\n",
       "    .dataframe tbody tr th:only-of-type {\n",
       "        vertical-align: middle;\n",
       "    }\n",
       "\n",
       "    .dataframe tbody tr th {\n",
       "        vertical-align: top;\n",
       "    }\n",
       "\n",
       "    .dataframe thead th {\n",
       "        text-align: right;\n",
       "    }\n",
       "</style>\n",
       "<table border=\"1\" class=\"dataframe\">\n",
       "  <thead>\n",
       "    <tr style=\"text-align: right;\">\n",
       "      <th></th>\n",
       "      <th></th>\n",
       "      <th>0</th>\n",
       "    </tr>\n",
       "  </thead>\n",
       "  <tbody>\n",
       "    <tr>\n",
       "      <th>year_sold</th>\n",
       "      <th>year_sold</th>\n",
       "      <td>True</td>\n",
       "    </tr>\n",
       "    <tr>\n",
       "      <th>yr_renovated</th>\n",
       "      <th>is_renovated</th>\n",
       "      <td>True</td>\n",
       "    </tr>\n",
       "    <tr>\n",
       "      <th>sqft_living</th>\n",
       "      <th>sqft_above</th>\n",
       "      <td>False</td>\n",
       "    </tr>\n",
       "    <tr>\n",
       "      <th>month_sold</th>\n",
       "      <th>year_sold</th>\n",
       "      <td>False</td>\n",
       "    </tr>\n",
       "    <tr>\n",
       "      <th>grade</th>\n",
       "      <th>sqft_living</th>\n",
       "      <td>False</td>\n",
       "    </tr>\n",
       "    <tr>\n",
       "      <th>sqft_above</th>\n",
       "      <th>grade</th>\n",
       "      <td>False</td>\n",
       "    </tr>\n",
       "    <tr>\n",
       "      <th>bathrooms</th>\n",
       "      <th>sqft_living</th>\n",
       "      <td>False</td>\n",
       "    </tr>\n",
       "    <tr>\n",
       "      <th>sqft_living15</th>\n",
       "      <th>sqft_living</th>\n",
       "      <td>False</td>\n",
       "    </tr>\n",
       "    <tr>\n",
       "      <th>sqft_above</th>\n",
       "      <th>sqft_living15</th>\n",
       "      <td>False</td>\n",
       "    </tr>\n",
       "    <tr>\n",
       "      <th>sqft_living15</th>\n",
       "      <th>grade</th>\n",
       "      <td>False</td>\n",
       "    </tr>\n",
       "  </tbody>\n",
       "</table>\n",
       "</div>"
      ],
      "text/plain": [
       "                                 0\n",
       "year_sold     year_sold       True\n",
       "yr_renovated  is_renovated    True\n",
       "sqft_living   sqft_above     False\n",
       "month_sold    year_sold      False\n",
       "grade         sqft_living    False\n",
       "sqft_above    grade          False\n",
       "bathrooms     sqft_living    False\n",
       "sqft_living15 sqft_living    False\n",
       "sqft_above    sqft_living15  False\n",
       "sqft_living15 grade          False"
      ]
     },
     "execution_count": 62,
     "metadata": {},
     "output_type": "execute_result"
    }
   ],
   "source": [
    "pd.DataFrame(kings_county_df.corr().abs().unstack().sort_values(kind=\"quicksort\",ascending=False).drop_duplicates()>.90).iloc[:10,:]\n"
   ]
  },
  {
   "cell_type": "markdown",
   "metadata": {},
   "source": [
    "Removed columns I deemed unecessary as well as those that showed multicollinearity"
   ]
  },
  {
   "cell_type": "code",
   "execution_count": 63,
   "metadata": {},
   "outputs": [
    {
     "data": {
      "text/html": [
       "<div>\n",
       "<style scoped>\n",
       "    .dataframe tbody tr th:only-of-type {\n",
       "        vertical-align: middle;\n",
       "    }\n",
       "\n",
       "    .dataframe tbody tr th {\n",
       "        vertical-align: top;\n",
       "    }\n",
       "\n",
       "    .dataframe thead th {\n",
       "        text-align: right;\n",
       "    }\n",
       "</style>\n",
       "<table border=\"1\" class=\"dataframe\">\n",
       "  <thead>\n",
       "    <tr style=\"text-align: right;\">\n",
       "      <th></th>\n",
       "      <th>price</th>\n",
       "      <th>bedrooms</th>\n",
       "      <th>bathrooms</th>\n",
       "      <th>sqft_living</th>\n",
       "      <th>sqft_lot</th>\n",
       "      <th>floors</th>\n",
       "      <th>waterfront</th>\n",
       "      <th>view</th>\n",
       "      <th>condition</th>\n",
       "      <th>sqft_above</th>\n",
       "      <th>sqft_basement</th>\n",
       "      <th>zipcode</th>\n",
       "      <th>sqft_living15</th>\n",
       "      <th>sqft_lot15</th>\n",
       "      <th>num_times_sold</th>\n",
       "      <th>age</th>\n",
       "      <th>is_renovated</th>\n",
       "      <th>month_sold</th>\n",
       "      <th>season_sold</th>\n",
       "      <th>grade_cat</th>\n",
       "    </tr>\n",
       "  </thead>\n",
       "  <tbody>\n",
       "    <tr>\n",
       "      <th>0</th>\n",
       "      <td>365000.0</td>\n",
       "      <td>4</td>\n",
       "      <td>2.25</td>\n",
       "      <td>2070</td>\n",
       "      <td>8893</td>\n",
       "      <td>2.0</td>\n",
       "      <td>False</td>\n",
       "      <td>0</td>\n",
       "      <td>4</td>\n",
       "      <td>2070</td>\n",
       "      <td>0</td>\n",
       "      <td>98058</td>\n",
       "      <td>2390</td>\n",
       "      <td>7700</td>\n",
       "      <td>1</td>\n",
       "      <td>35</td>\n",
       "      <td>0</td>\n",
       "      <td>10</td>\n",
       "      <td>Fall</td>\n",
       "      <td>medium</td>\n",
       "    </tr>\n",
       "    <tr>\n",
       "      <th>1</th>\n",
       "      <td>865000.0</td>\n",
       "      <td>5</td>\n",
       "      <td>3.00</td>\n",
       "      <td>2900</td>\n",
       "      <td>6730</td>\n",
       "      <td>1.0</td>\n",
       "      <td>False</td>\n",
       "      <td>0</td>\n",
       "      <td>5</td>\n",
       "      <td>1830</td>\n",
       "      <td>1070</td>\n",
       "      <td>98115</td>\n",
       "      <td>2370</td>\n",
       "      <td>6283</td>\n",
       "      <td>1</td>\n",
       "      <td>44</td>\n",
       "      <td>0</td>\n",
       "      <td>8</td>\n",
       "      <td>Summer</td>\n",
       "      <td>medium</td>\n",
       "    </tr>\n",
       "    <tr>\n",
       "      <th>2</th>\n",
       "      <td>1038000.0</td>\n",
       "      <td>4</td>\n",
       "      <td>2.50</td>\n",
       "      <td>3770</td>\n",
       "      <td>10893</td>\n",
       "      <td>2.0</td>\n",
       "      <td>False</td>\n",
       "      <td>2</td>\n",
       "      <td>3</td>\n",
       "      <td>3770</td>\n",
       "      <td>0</td>\n",
       "      <td>98006</td>\n",
       "      <td>3710</td>\n",
       "      <td>9685</td>\n",
       "      <td>1</td>\n",
       "      <td>24</td>\n",
       "      <td>0</td>\n",
       "      <td>8</td>\n",
       "      <td>Summer</td>\n",
       "      <td>high</td>\n",
       "    </tr>\n",
       "    <tr>\n",
       "      <th>3</th>\n",
       "      <td>1490000.0</td>\n",
       "      <td>3</td>\n",
       "      <td>3.50</td>\n",
       "      <td>4560</td>\n",
       "      <td>14608</td>\n",
       "      <td>2.0</td>\n",
       "      <td>False</td>\n",
       "      <td>2</td>\n",
       "      <td>3</td>\n",
       "      <td>4560</td>\n",
       "      <td>0</td>\n",
       "      <td>98034</td>\n",
       "      <td>4050</td>\n",
       "      <td>14226</td>\n",
       "      <td>1</td>\n",
       "      <td>31</td>\n",
       "      <td>0</td>\n",
       "      <td>3</td>\n",
       "      <td>Spring</td>\n",
       "      <td>high</td>\n",
       "    </tr>\n",
       "    <tr>\n",
       "      <th>4</th>\n",
       "      <td>711000.0</td>\n",
       "      <td>3</td>\n",
       "      <td>2.50</td>\n",
       "      <td>2550</td>\n",
       "      <td>5376</td>\n",
       "      <td>2.0</td>\n",
       "      <td>False</td>\n",
       "      <td>0</td>\n",
       "      <td>3</td>\n",
       "      <td>2550</td>\n",
       "      <td>0</td>\n",
       "      <td>98052</td>\n",
       "      <td>2250</td>\n",
       "      <td>4050</td>\n",
       "      <td>1</td>\n",
       "      <td>17</td>\n",
       "      <td>0</td>\n",
       "      <td>7</td>\n",
       "      <td>Summer</td>\n",
       "      <td>high</td>\n",
       "    </tr>\n",
       "  </tbody>\n",
       "</table>\n",
       "</div>"
      ],
      "text/plain": [
       "       price  bedrooms  bathrooms  sqft_living  sqft_lot  floors  waterfront  \\\n",
       "0   365000.0         4       2.25         2070      8893     2.0       False   \n",
       "1   865000.0         5       3.00         2900      6730     1.0       False   \n",
       "2  1038000.0         4       2.50         3770     10893     2.0       False   \n",
       "3  1490000.0         3       3.50         4560     14608     2.0       False   \n",
       "4   711000.0         3       2.50         2550      5376     2.0       False   \n",
       "\n",
       "   view  condition  sqft_above  sqft_basement zipcode  sqft_living15  \\\n",
       "0     0          4        2070              0   98058           2390   \n",
       "1     0          5        1830           1070   98115           2370   \n",
       "2     2          3        3770              0   98006           3710   \n",
       "3     2          3        4560              0   98034           4050   \n",
       "4     0          3        2550              0   98052           2250   \n",
       "\n",
       "   sqft_lot15  num_times_sold  age  is_renovated  month_sold season_sold  \\\n",
       "0        7700               1   35             0          10        Fall   \n",
       "1        6283               1   44             0           8      Summer   \n",
       "2        9685               1   24             0           8      Summer   \n",
       "3       14226               1   31             0           3      Spring   \n",
       "4        4050               1   17             0           7      Summer   \n",
       "\n",
       "  grade_cat  \n",
       "0    medium  \n",
       "1    medium  \n",
       "2      high  \n",
       "3      high  \n",
       "4      high  "
      ]
     },
     "execution_count": 63,
     "metadata": {},
     "output_type": "execute_result"
    }
   ],
   "source": [
    "kings_county_df.drop(columns = ['yr_renovated','date','yr_built','grade','year_sold'],axis=1, inplace=True)\n",
    "kings_county_df.head()"
   ]
  },
  {
   "cell_type": "markdown",
   "metadata": {},
   "source": [
    "Created dummies for view, grade categories, season a house was sold, whether a house was renovated, condition of the house, zipcode, and number of times a house was sold."
   ]
  },
  {
   "cell_type": "code",
   "execution_count": 64,
   "metadata": {},
   "outputs": [],
   "source": [
    "X = pd.get_dummies(kings_county_df, columns = ['view','grade_cat','season_sold', 'is_renovated', 'condition','zipcode', 'num_times_sold'] , drop_first=True).drop('price', axis=1)\n",
    "y = kings_county_df['price']\n"
   ]
  },
  {
   "cell_type": "code",
   "execution_count": null,
   "metadata": {},
   "outputs": [],
   "source": []
  },
  {
   "cell_type": "markdown",
   "metadata": {},
   "source": [
    "Double checkin for multicollinearity"
   ]
  },
  {
   "cell_type": "code",
   "execution_count": 65,
   "metadata": {
    "scrolled": true
   },
   "outputs": [
    {
     "data": {
      "text/html": [
       "<div>\n",
       "<style scoped>\n",
       "    .dataframe tbody tr th:only-of-type {\n",
       "        vertical-align: middle;\n",
       "    }\n",
       "\n",
       "    .dataframe tbody tr th {\n",
       "        vertical-align: top;\n",
       "    }\n",
       "\n",
       "    .dataframe thead th {\n",
       "        text-align: right;\n",
       "    }\n",
       "</style>\n",
       "<table border=\"1\" class=\"dataframe\">\n",
       "  <thead>\n",
       "    <tr style=\"text-align: right;\">\n",
       "      <th></th>\n",
       "      <th></th>\n",
       "      <th>0</th>\n",
       "    </tr>\n",
       "  </thead>\n",
       "  <tbody>\n",
       "    <tr>\n",
       "      <th>num_times_sold_2</th>\n",
       "      <th>num_times_sold_2</th>\n",
       "      <td>True</td>\n",
       "    </tr>\n",
       "    <tr>\n",
       "      <th>sqft_above</th>\n",
       "      <th>sqft_living</th>\n",
       "      <td>False</td>\n",
       "    </tr>\n",
       "    <tr>\n",
       "      <th>condition_3</th>\n",
       "      <th>condition_4</th>\n",
       "      <td>False</td>\n",
       "    </tr>\n",
       "    <tr>\n",
       "      <th>sqft_living</th>\n",
       "      <th>bathrooms</th>\n",
       "      <td>False</td>\n",
       "    </tr>\n",
       "    <tr>\n",
       "      <th>sqft_living15</th>\n",
       "      <th>sqft_living</th>\n",
       "      <td>False</td>\n",
       "    </tr>\n",
       "    <tr>\n",
       "      <th>sqft_above</th>\n",
       "      <th>sqft_living15</th>\n",
       "      <td>False</td>\n",
       "    </tr>\n",
       "    <tr>\n",
       "      <th>sqft_lot15</th>\n",
       "      <th>sqft_lot</th>\n",
       "      <td>False</td>\n",
       "    </tr>\n",
       "    <tr>\n",
       "      <th rowspan=\"2\" valign=\"top\">sqft_above</th>\n",
       "      <th>bathrooms</th>\n",
       "      <td>False</td>\n",
       "    </tr>\n",
       "    <tr>\n",
       "      <th>grade_cat_medium</th>\n",
       "      <td>False</td>\n",
       "    </tr>\n",
       "    <tr>\n",
       "      <th>grade_cat_medium</th>\n",
       "      <th>sqft_living</th>\n",
       "      <td>False</td>\n",
       "    </tr>\n",
       "  </tbody>\n",
       "</table>\n",
       "</div>"
      ],
      "text/plain": [
       "                                       0\n",
       "num_times_sold_2 num_times_sold_2   True\n",
       "sqft_above       sqft_living       False\n",
       "condition_3      condition_4       False\n",
       "sqft_living      bathrooms         False\n",
       "sqft_living15    sqft_living       False\n",
       "sqft_above       sqft_living15     False\n",
       "sqft_lot15       sqft_lot          False\n",
       "sqft_above       bathrooms         False\n",
       "                 grade_cat_medium  False\n",
       "grade_cat_medium sqft_living       False"
      ]
     },
     "execution_count": 65,
     "metadata": {},
     "output_type": "execute_result"
    }
   ],
   "source": [
    "pd.DataFrame(X.corr().abs().unstack().sort_values(kind=\"quicksort\",ascending=False).drop_duplicates()>.90).iloc[:10,:]\n"
   ]
  },
  {
   "cell_type": "markdown",
   "metadata": {},
   "source": [
    "Began to fit linear regression model "
   ]
  },
  {
   "cell_type": "code",
   "execution_count": 66,
   "metadata": {},
   "outputs": [
    {
     "data": {
      "text/plain": [
       "LinearRegression()"
      ]
     },
     "execution_count": 66,
     "metadata": {},
     "output_type": "execute_result"
    }
   ],
   "source": [
    "lr = LinearRegression()\n",
    "lr.fit(X,y)"
   ]
  },
  {
   "cell_type": "markdown",
   "metadata": {},
   "source": [
    "Check the coefficients for the models"
   ]
  },
  {
   "cell_type": "code",
   "execution_count": 67,
   "metadata": {
    "scrolled": false
   },
   "outputs": [
    {
     "data": {
      "text/plain": [
       "array([-3.22636897e+04,  3.07495581e+04,  4.65281973e+12,  2.34690808e-01,\n",
       "       -4.46835093e+04,  5.90804212e+05, -4.65281973e+12, -4.65281973e+12,\n",
       "        2.08206662e+01, -1.27908493e-01,  3.20392576e+02, -1.04935489e+03,\n",
       "        7.29237638e+04,  7.55998922e+04,  1.49774601e+05,  3.48302854e+05,\n",
       "       -4.11530858e+04, -7.74975272e+04,  2.22863216e+04,  3.78693231e+03,\n",
       "        3.07214660e+03,  3.96320399e+04,  1.14266539e+05,  1.19268428e+05,\n",
       "        1.39488405e+05,  1.83758237e+05,  1.56482978e+04,  6.73402517e+02,\n",
       "        8.12986289e+05,  3.13020765e+05,  2.82226541e+05,  2.67704920e+05,\n",
       "        2.60944997e+05,  5.50516603e+04,  1.29592460e+05,  8.96608142e+04,\n",
       "        8.00328228e+04, -1.16261710e+04, -2.31750641e+04,  1.43702087e+05,\n",
       "        1.74862893e+05,  1.27725157e+05,  2.21066772e+05,  2.01619489e+03,\n",
       "        1.76676860e+04,  2.49155017e+04,  3.66346663e+05,  2.12371326e+05,\n",
       "        2.20722586e+04,  1.35420130e+06,  5.21799556e+05,  5.63203699e+03,\n",
       "        9.57126006e+04,  2.39044968e+05,  1.85894444e+05,  4.66504398e+04,\n",
       "        8.90064993e+04,  3.71741216e+04,  7.98156750e+04,  6.38519144e+04,\n",
       "        1.15846372e+04,  1.60085934e+05,  1.81829807e+05,  1.67891409e+05,\n",
       "        1.19923249e+05, -3.59347623e+04,  5.63676777e+05,  3.71573882e+05,\n",
       "        4.97171794e+05,  1.52038059e+05,  3.81546345e+05,  1.36671228e+05,\n",
       "        5.33035373e+05,  6.65804846e+05,  3.49404044e+05,  3.11774658e+05,\n",
       "        3.45396365e+05,  1.80290737e+05,  5.35364684e+05,  3.67369600e+05,\n",
       "        2.10095211e+05,  2.13716952e+05,  1.84548280e+05,  2.71460193e+05,\n",
       "        3.10220216e+05,  1.02499193e+05,  7.15018054e+04,  1.61998023e+05,\n",
       "        6.08057012e+04,  6.93451297e+04,  2.40737071e+05,  4.05685587e+04,\n",
       "        4.26874659e+04,  5.84840491e+03,  4.11961177e+05, -3.04967352e+03])"
      ]
     },
     "execution_count": 67,
     "metadata": {},
     "output_type": "execute_result"
    }
   ],
   "source": [
    "lr.coef_"
   ]
  },
  {
   "cell_type": "markdown",
   "metadata": {},
   "source": [
    "Y-intercept for the model"
   ]
  },
  {
   "cell_type": "code",
   "execution_count": 68,
   "metadata": {},
   "outputs": [
    {
     "data": {
      "text/plain": [
       "-158753.03541981184"
      ]
     },
     "execution_count": 68,
     "metadata": {},
     "output_type": "execute_result"
    }
   ],
   "source": [
    "lr.intercept_"
   ]
  },
  {
   "cell_type": "markdown",
   "metadata": {},
   "source": [
    "R squared for the mdoel"
   ]
  },
  {
   "cell_type": "code",
   "execution_count": 69,
   "metadata": {},
   "outputs": [
    {
     "data": {
      "text/plain": [
       "0.8031500306182556"
      ]
     },
     "execution_count": 69,
     "metadata": {},
     "output_type": "execute_result"
    }
   ],
   "source": [
    "lr.score(X,y)"
   ]
  },
  {
   "cell_type": "markdown",
   "metadata": {},
   "source": [
    "Visualize the difference between what I predicted and what was the actual. No heteroskedacity. "
   ]
  },
  {
   "cell_type": "code",
   "execution_count": 70,
   "metadata": {},
   "outputs": [
    {
     "data": {
      "text/plain": [
       "<matplotlib.collections.PathCollection at 0x7f990173d430>"
      ]
     },
     "execution_count": 70,
     "metadata": {},
     "output_type": "execute_result"
    },
    {
     "data": {
      "image/png": "[encoded data removed]",
      "text/plain": [
       "<Figure size 432x288 with 1 Axes>"
      ]
     },
     "metadata": {
      "needs_background": "light"
     },
     "output_type": "display_data"
    }
   ],
   "source": [
    "y_hat = lr.predict(X)\n",
    "resid = y - y_hat\n",
    "plt.scatter(x=range(y_hat.shape[0]),y=resid, alpha=0.1)"
   ]
  },
  {
   "cell_type": "code",
   "execution_count": 71,
   "metadata": {},
   "outputs": [
    {
     "data": {
      "text/plain": [
       "8011.823328745377"
      ]
     },
     "execution_count": 71,
     "metadata": {},
     "output_type": "execute_result"
    }
   ],
   "source": [
    "sum(resid)"
   ]
  },
  {
   "cell_type": "code",
   "execution_count": 72,
   "metadata": {},
   "outputs": [
    {
     "data": {
      "text/plain": [
       "0.0"
      ]
     },
     "execution_count": 72,
     "metadata": {},
     "output_type": "execute_result"
    }
   ],
   "source": [
    "avg_price = np.mean(y)\n",
    "num = len(y)\n",
    "\n",
    "metrics.r2_score(y, avg_price * np.ones(num))"
   ]
  },
  {
   "cell_type": "code",
   "execution_count": 73,
   "metadata": {},
   "outputs": [
    {
     "data": {
      "text/plain": [
       "-7.1671557577701606e-12"
      ]
     },
     "execution_count": 73,
     "metadata": {},
     "output_type": "execute_result"
    }
   ],
   "source": [
    "metrics.r2_score(y, (avg_price + 1) * np.ones(num))"
   ]
  },
  {
   "cell_type": "code",
   "execution_count": 74,
   "metadata": {},
   "outputs": [
    {
     "data": {
      "text/plain": [
       "97566.59040610967"
      ]
     },
     "execution_count": 74,
     "metadata": {},
     "output_type": "execute_result"
    }
   ],
   "source": [
    "metrics.mean_absolute_error(y, lr.predict(X))"
   ]
  },
  {
   "cell_type": "code",
   "execution_count": 75,
   "metadata": {},
   "outputs": [
    {
     "data": {
      "text/plain": [
       "27465322924.789307"
      ]
     },
     "execution_count": 75,
     "metadata": {},
     "output_type": "execute_result"
    }
   ],
   "source": [
    "metrics.mean_squared_error(y, lr.predict(X))"
   ]
  },
  {
   "cell_type": "code",
   "execution_count": null,
   "metadata": {},
   "outputs": [],
   "source": []
  },
  {
   "cell_type": "code",
   "execution_count": null,
   "metadata": {},
   "outputs": [],
   "source": []
  },
  {
   "cell_type": "code",
   "execution_count": 76,
   "metadata": {},
   "outputs": [],
   "source": [
    "from sklearn.feature_selection import RFE\n",
    "from sklearn.preprocessing import PolynomialFeatures, StandardScaler"
   ]
  },
  {
   "cell_type": "code",
   "execution_count": 77,
   "metadata": {},
   "outputs": [
    {
     "data": {
      "text/plain": [
       "RFE(estimator=LinearRegression(), n_features_to_select=80)"
      ]
     },
     "execution_count": 77,
     "metadata": {},
     "output_type": "execute_result"
    }
   ],
   "source": [
    "lr_rfe = LinearRegression()\n",
    "num_features = 80\n",
    "select = RFE(lr_rfe, n_features_to_select=num_features)\n",
    "ss = StandardScaler()\n",
    "ss.fit(X)\n",
    "\n",
    "X_scaled = ss.transform(X)\n",
    "select.fit(X=X_scaled, y=y)"
   ]
  },
  {
   "cell_type": "code",
   "execution_count": 78,
   "metadata": {},
   "outputs": [
    {
     "data": {
      "text/plain": [
       "array([ True,  True,  True,  True,  True,  True,  True,  True,  True,\n",
       "        True,  True,  True,  True,  True,  True,  True, False,  True,\n",
       "        True, False, False,  True,  True,  True,  True,  True, False,\n",
       "       False,  True,  True,  True,  True,  True, False,  True,  True,\n",
       "        True, False,  True,  True,  True,  True,  True, False, False,\n",
       "       False,  True,  True, False,  True,  True, False,  True,  True,\n",
       "        True,  True,  True,  True,  True,  True, False,  True,  True,\n",
       "        True,  True,  True,  True,  True,  True,  True,  True,  True,\n",
       "        True,  True,  True,  True,  True,  True,  True,  True,  True,\n",
       "        True,  True,  True,  True,  True,  True,  True,  True,  True,\n",
       "        True,  True, False, False,  True, False])"
      ]
     },
     "execution_count": 78,
     "metadata": {},
     "output_type": "execute_result"
    }
   ],
   "source": [
    "select.support_"
   ]
  },
  {
   "cell_type": "code",
   "execution_count": 79,
   "metadata": {},
   "outputs": [],
   "source": [
    "columns = pd.DataFrame(select.ranking_).sort_values(by=0)[:num_features].T.columns\n",
    "\n",
    "subset = []\n",
    "for x in columns:\n",
    "    subset.append(X.iloc[:,x].name)"
   ]
  },
  {
   "cell_type": "code",
   "execution_count": 80,
   "metadata": {},
   "outputs": [],
   "source": [
    "df_just_testing = X[subset]"
   ]
  },
  {
   "cell_type": "code",
   "execution_count": 81,
   "metadata": {},
   "outputs": [
    {
     "data": {
      "text/plain": [
       "LinearRegression()"
      ]
     },
     "execution_count": 81,
     "metadata": {},
     "output_type": "execute_result"
    }
   ],
   "source": [
    "\n",
    "lr_rfe.fit(df_just_testing,y)\n"
   ]
  },
  {
   "cell_type": "code",
   "execution_count": 82,
   "metadata": {},
   "outputs": [
    {
     "data": {
      "text/plain": [
       "array([-3.22327638e+04,  4.86116388e+05,  3.60522332e+05,  5.52089126e+05,\n",
       "       -4.70242205e+04,  1.08517809e+05,  1.56418956e+05,  1.70604376e+05,\n",
       "        1.48769846e+05,  1.40983938e+05,  5.23801076e+04,  2.59718652e+04,\n",
       "        7.79679160e+04,  3.51742713e+04,  1.74485693e+05,  2.27795377e+05,\n",
       "        8.49781564e+04,  5.10938147e+05,  1.34241545e+06,  6.82756220e+04,\n",
       "        3.70310900e+05,  1.25497635e+05,  5.22040864e+05,  2.96755671e+04,\n",
       "        2.29824190e+05,  5.84753063e+04,  4.98234090e+04,  1.50952175e+05,\n",
       "        6.07072268e+04,  9.15854507e+04,  2.99162483e+05,  2.60464840e+05,\n",
       "        1.73364437e+05,  2.03019248e+05,  1.99054068e+05,  3.56219937e+05,\n",
       "        5.24476300e+05,  1.69261162e+05,  3.34386315e+05,  3.00888522e+05,\n",
       "        3.38313413e+05,  6.54586807e+05,  4.00932345e+05,  3.55305033e+05,\n",
       "        2.01363551e+05,  1.14574850e+05,  5.91113266e+05,  1.85141944e+05,\n",
       "        1.40889507e+05,  1.20764023e+05, -2.03320574e+13,  3.95191657e+04,\n",
       "       -2.03320574e+13,  2.10462236e+01,  1.90116732e+04, -7.72387136e+04,\n",
       "       -1.21664597e-01,  3.47303223e+05,  1.47962314e+05,  7.44325449e+04,\n",
       "        7.20333409e+04, -4.42703386e+04,  8.01764917e+05,  3.01747113e+05,\n",
       "        2.70987517e+05,  3.07020113e+04,  2.09672808e+05,  1.16515926e+05,\n",
       "        1.63345720e+05,  2.03320574e+13,  1.32567517e+05, -1.31019043e+03,\n",
       "       -3.44203470e+04,  6.88067590e+04,  7.87878028e+04,  1.18344596e+05,\n",
       "        2.49948438e+05,  2.31654453e-01,  2.56439331e+05,  3.19486976e+02])"
      ]
     },
     "execution_count": 82,
     "metadata": {},
     "output_type": "execute_result"
    }
   ],
   "source": [
    "lr_rfe.coef_"
   ]
  },
  {
   "cell_type": "code",
   "execution_count": 83,
   "metadata": {},
   "outputs": [
    {
     "data": {
      "text/plain": [
       "0.8029110797369785"
      ]
     },
     "execution_count": 83,
     "metadata": {},
     "output_type": "execute_result"
    }
   ],
   "source": [
    "lr_rfe.score(df_just_testing,y)"
   ]
  },
  {
   "cell_type": "code",
   "execution_count": 84,
   "metadata": {},
   "outputs": [
    {
     "data": {
      "text/plain": [
       "<matplotlib.collections.PathCollection at 0x7f99075939a0>"
      ]
     },
     "execution_count": 84,
     "metadata": {},
     "output_type": "execute_result"
    },
    {
     "data": {
      "image/png": "[encoded data removed]",
      "text/plain": [
       "<Figure size 432x288 with 1 Axes>"
      ]
     },
     "metadata": {
      "needs_background": "light"
     },
     "output_type": "display_data"
    }
   ],
   "source": [
    "y_hat = lr_rfe.predict(df_just_testing)\n",
    "resid = y - y_hat\n",
    "plt.scatter(x=range(y_hat.shape[0]),y=resid, alpha=0.1)"
   ]
  },
  {
   "cell_type": "code",
   "execution_count": 85,
   "metadata": {},
   "outputs": [
    {
     "data": {
      "text/plain": [
       "0.8029110797369785"
      ]
     },
     "execution_count": 85,
     "metadata": {},
     "output_type": "execute_result"
    }
   ],
   "source": [
    "metrics.r2_score(y, lr_rfe.predict(df_just_testing))"
   ]
  },
  {
   "cell_type": "code",
   "execution_count": 86,
   "metadata": {},
   "outputs": [
    {
     "data": {
      "text/plain": [
       "0.0"
      ]
     },
     "execution_count": 86,
     "metadata": {},
     "output_type": "execute_result"
    }
   ],
   "source": [
    "avg_price = np.mean(y)\n",
    "num = len(y)\n",
    "\n",
    "metrics.r2_score(y, avg_price * np.ones(num))"
   ]
  },
  {
   "cell_type": "code",
   "execution_count": 87,
   "metadata": {},
   "outputs": [
    {
     "data": {
      "text/plain": [
       "-7.1671557577701606e-12"
      ]
     },
     "execution_count": 87,
     "metadata": {},
     "output_type": "execute_result"
    }
   ],
   "source": [
    "metrics.r2_score(y, (avg_price + 1) * np.ones(num))"
   ]
  },
  {
   "cell_type": "code",
   "execution_count": 88,
   "metadata": {},
   "outputs": [
    {
     "data": {
      "text/plain": [
       "97706.33492543137"
      ]
     },
     "execution_count": 88,
     "metadata": {},
     "output_type": "execute_result"
    }
   ],
   "source": [
    "metrics.mean_absolute_error(y, lr_rfe.predict(df_just_testing))"
   ]
  },
  {
   "cell_type": "code",
   "execution_count": 89,
   "metadata": {},
   "outputs": [
    {
     "data": {
      "text/plain": [
       "27498662341.290363"
      ]
     },
     "execution_count": 89,
     "metadata": {},
     "output_type": "execute_result"
    }
   ],
   "source": [
    "metrics.mean_squared_error(y, lr_rfe.predict(df_just_testing))"
   ]
  },
  {
   "cell_type": "code",
   "execution_count": null,
   "metadata": {},
   "outputs": [],
   "source": []
  }
 ],
 "metadata": {
  "kernelspec": {
   "display_name": "learn-env",
   "language": "python",
   "name": "learn-env"
  },
  "language_info": {
   "codemirror_mode": {
    "name": "ipython",
    "version": 3
   },
   "file_extension": ".py",
   "mimetype": "text/x-python",
   "name": "python",
   "nbconvert_exporter": "python",
   "pygments_lexer": "ipython3",
   "version": "3.8.5"
  }
 },
 "nbformat": 4,
 "nbformat_minor": 4
}
