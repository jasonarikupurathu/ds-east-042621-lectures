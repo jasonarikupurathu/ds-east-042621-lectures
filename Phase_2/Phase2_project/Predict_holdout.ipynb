{
 "cells": [
  {
   "cell_type": "code",
   "execution_count": 1,
   "metadata": {},
   "outputs": [],
   "source": [
    "import pandas as pd\n",
    "import numpy as np \n",
    "pd.set_option('display.max_columns', 300)"
   ]
  },
  {
   "cell_type": "markdown",
   "metadata": {},
   "source": [
    "## Step 1: Read in hold out data, scalers, and best model"
   ]
  },
  {
   "cell_type": "code",
   "execution_count": 2,
   "metadata": {},
   "outputs": [
    {
     "data": {
      "text/html": [
       "<div>\n",
       "<style scoped>\n",
       "    .dataframe tbody tr th:only-of-type {\n",
       "        vertical-align: middle;\n",
       "    }\n",
       "\n",
       "    .dataframe tbody tr th {\n",
       "        vertical-align: top;\n",
       "    }\n",
       "\n",
       "    .dataframe thead th {\n",
       "        text-align: right;\n",
       "    }\n",
       "</style>\n",
       "<table border=\"1\" class=\"dataframe\">\n",
       "  <thead>\n",
       "    <tr style=\"text-align: right;\">\n",
       "      <th></th>\n",
       "      <th>id</th>\n",
       "      <th>date</th>\n",
       "      <th>bedrooms</th>\n",
       "      <th>bathrooms</th>\n",
       "      <th>sqft_living</th>\n",
       "      <th>sqft_lot</th>\n",
       "      <th>floors</th>\n",
       "      <th>waterfront</th>\n",
       "      <th>view</th>\n",
       "      <th>condition</th>\n",
       "      <th>grade</th>\n",
       "      <th>sqft_above</th>\n",
       "      <th>sqft_basement</th>\n",
       "      <th>yr_built</th>\n",
       "      <th>yr_renovated</th>\n",
       "      <th>zipcode</th>\n",
       "      <th>lat</th>\n",
       "      <th>long</th>\n",
       "      <th>sqft_living15</th>\n",
       "      <th>sqft_lot15</th>\n",
       "    </tr>\n",
       "  </thead>\n",
       "  <tbody>\n",
       "    <tr>\n",
       "      <th>0</th>\n",
       "      <td>1974300020</td>\n",
       "      <td>20140827T000000</td>\n",
       "      <td>4</td>\n",
       "      <td>2.50</td>\n",
       "      <td>2270</td>\n",
       "      <td>11500</td>\n",
       "      <td>1.0</td>\n",
       "      <td>0</td>\n",
       "      <td>0</td>\n",
       "      <td>3</td>\n",
       "      <td>8</td>\n",
       "      <td>1540</td>\n",
       "      <td>730</td>\n",
       "      <td>1967</td>\n",
       "      <td>0</td>\n",
       "      <td>98034</td>\n",
       "      <td>47.7089</td>\n",
       "      <td>-122.241</td>\n",
       "      <td>2020</td>\n",
       "      <td>10918</td>\n",
       "    </tr>\n",
       "    <tr>\n",
       "      <th>1</th>\n",
       "      <td>1974300020</td>\n",
       "      <td>20150218T000000</td>\n",
       "      <td>4</td>\n",
       "      <td>2.50</td>\n",
       "      <td>2270</td>\n",
       "      <td>11500</td>\n",
       "      <td>1.0</td>\n",
       "      <td>0</td>\n",
       "      <td>0</td>\n",
       "      <td>3</td>\n",
       "      <td>8</td>\n",
       "      <td>1540</td>\n",
       "      <td>730</td>\n",
       "      <td>1967</td>\n",
       "      <td>0</td>\n",
       "      <td>98034</td>\n",
       "      <td>47.7089</td>\n",
       "      <td>-122.241</td>\n",
       "      <td>2020</td>\n",
       "      <td>10918</td>\n",
       "    </tr>\n",
       "    <tr>\n",
       "      <th>2</th>\n",
       "      <td>3630020380</td>\n",
       "      <td>20141107T000000</td>\n",
       "      <td>3</td>\n",
       "      <td>2.50</td>\n",
       "      <td>1470</td>\n",
       "      <td>1779</td>\n",
       "      <td>2.0</td>\n",
       "      <td>0</td>\n",
       "      <td>0</td>\n",
       "      <td>3</td>\n",
       "      <td>8</td>\n",
       "      <td>1160</td>\n",
       "      <td>310</td>\n",
       "      <td>2005</td>\n",
       "      <td>0</td>\n",
       "      <td>98029</td>\n",
       "      <td>47.5472</td>\n",
       "      <td>-121.998</td>\n",
       "      <td>1470</td>\n",
       "      <td>1576</td>\n",
       "    </tr>\n",
       "    <tr>\n",
       "      <th>3</th>\n",
       "      <td>1771000290</td>\n",
       "      <td>20141203T000000</td>\n",
       "      <td>3</td>\n",
       "      <td>1.75</td>\n",
       "      <td>1280</td>\n",
       "      <td>16200</td>\n",
       "      <td>1.0</td>\n",
       "      <td>0</td>\n",
       "      <td>0</td>\n",
       "      <td>3</td>\n",
       "      <td>8</td>\n",
       "      <td>1030</td>\n",
       "      <td>250</td>\n",
       "      <td>1976</td>\n",
       "      <td>0</td>\n",
       "      <td>98077</td>\n",
       "      <td>47.7427</td>\n",
       "      <td>-122.071</td>\n",
       "      <td>1160</td>\n",
       "      <td>10565</td>\n",
       "    </tr>\n",
       "    <tr>\n",
       "      <th>4</th>\n",
       "      <td>5126310470</td>\n",
       "      <td>20150115T000000</td>\n",
       "      <td>4</td>\n",
       "      <td>2.75</td>\n",
       "      <td>2830</td>\n",
       "      <td>8126</td>\n",
       "      <td>2.0</td>\n",
       "      <td>0</td>\n",
       "      <td>0</td>\n",
       "      <td>3</td>\n",
       "      <td>8</td>\n",
       "      <td>2830</td>\n",
       "      <td>0</td>\n",
       "      <td>2005</td>\n",
       "      <td>0</td>\n",
       "      <td>98059</td>\n",
       "      <td>47.4863</td>\n",
       "      <td>-122.140</td>\n",
       "      <td>2830</td>\n",
       "      <td>7916</td>\n",
       "    </tr>\n",
       "  </tbody>\n",
       "</table>\n",
       "</div>"
      ],
      "text/plain": [
       "           id             date  bedrooms  bathrooms  sqft_living  sqft_lot  \\\n",
       "0  1974300020  20140827T000000         4       2.50         2270     11500   \n",
       "1  1974300020  20150218T000000         4       2.50         2270     11500   \n",
       "2  3630020380  20141107T000000         3       2.50         1470      1779   \n",
       "3  1771000290  20141203T000000         3       1.75         1280     16200   \n",
       "4  5126310470  20150115T000000         4       2.75         2830      8126   \n",
       "\n",
       "   floors  waterfront  view  condition  grade  sqft_above  sqft_basement  \\\n",
       "0     1.0           0     0          3      8        1540            730   \n",
       "1     1.0           0     0          3      8        1540            730   \n",
       "2     2.0           0     0          3      8        1160            310   \n",
       "3     1.0           0     0          3      8        1030            250   \n",
       "4     2.0           0     0          3      8        2830              0   \n",
       "\n",
       "   yr_built  yr_renovated  zipcode      lat     long  sqft_living15  \\\n",
       "0      1967             0    98034  47.7089 -122.241           2020   \n",
       "1      1967             0    98034  47.7089 -122.241           2020   \n",
       "2      2005             0    98029  47.5472 -121.998           1470   \n",
       "3      1976             0    98077  47.7427 -122.071           1160   \n",
       "4      2005             0    98059  47.4863 -122.140           2830   \n",
       "\n",
       "   sqft_lot15  \n",
       "0       10918  \n",
       "1       10918  \n",
       "2        1576  \n",
       "3       10565  \n",
       "4        7916  "
      ]
     },
     "execution_count": 2,
     "metadata": {},
     "output_type": "execute_result"
    }
   ],
   "source": [
    "holdout = pd.read_csv('data/kc_house_data_test_features.csv', index_col=0)\n",
    "holdout.head()\n"
   ]
  },
  {
   "cell_type": "code",
   "execution_count": 5,
   "metadata": {},
   "outputs": [],
   "source": [
    "import pickle"
   ]
  },
  {
   "cell_type": "code",
   "execution_count": 11,
   "metadata": {},
   "outputs": [
    {
     "name": "stdout",
     "output_type": "stream",
     "text": [
      "11.166963949535202\n",
      "65\n"
     ]
    }
   ],
   "source": [
    "infile = open('pickled_files/model.pickle','rb')\n",
    "model = pickle.load(infile)\n",
    "infile.close()\n",
    "\n",
    "print(model.intercept_)\n",
    "print(len(model.coef_))"
   ]
  },
  {
   "cell_type": "code",
   "execution_count": 13,
   "metadata": {},
   "outputs": [],
   "source": [
    "infile = open(\"pickled_files/other_info.pickle\",'rb')\n",
    "other_info = pickle.load(infile)\n",
    "infile.close()"
   ]
  },
  {
   "cell_type": "code",
   "execution_count": 14,
   "metadata": {
    "scrolled": true
   },
   "outputs": [
    {
     "data": {
      "text/plain": [
       "Index(['sqft_living', 'sqft_lot', 'waterfront', 'view', 'grade', 'sqft_above',\n",
       "       'sqft_basement', 'sqft_living15', 'sqft_lot15', 'grade_cat_low',\n",
       "       'grade_cat_medium', 'bedrooms_2', 'bedrooms_3', 'bedrooms_4',\n",
       "       'bedrooms_5', 'bedrooms_6', 'bathrooms_1.0', 'bathrooms_1.5',\n",
       "       'bathrooms_1.75', 'bathrooms_2.0', 'bathrooms_2.75', 'bathrooms_3.0',\n",
       "       'bathrooms_3.25', 'bathrooms_3.5', 'bathrooms_3.75', 'bathrooms_4.0',\n",
       "       'bathrooms_4.25', 'bathrooms_4.5', 'bathrooms_4.75', 'bathrooms_5.0',\n",
       "       'floors_2.0', 'floors_2.5', 'zipcode_98002', 'zipcode_98003',\n",
       "       'zipcode_98004', 'zipcode_98005', 'zipcode_98006', 'zipcode_98023',\n",
       "       'zipcode_98030', 'zipcode_98031', 'zipcode_98032', 'zipcode_98033',\n",
       "       'zipcode_98038', 'zipcode_98039', 'zipcode_98040', 'zipcode_98042',\n",
       "       'zipcode_98055', 'zipcode_98058', 'zipcode_98075', 'zipcode_98092',\n",
       "       'zipcode_98102', 'zipcode_98105', 'zipcode_98106', 'zipcode_98109',\n",
       "       'zipcode_98112', 'zipcode_98119', 'zipcode_98133', 'zipcode_98168',\n",
       "       'zipcode_98178', 'zipcode_98198', 'zipcode_98199', 'is_renovated',\n",
       "       'winterXsqft_living', 'springXsqft_living', 'ageXnumTimesSold'],\n",
       "      dtype='object')"
      ]
     },
     "execution_count": 14,
     "metadata": {},
     "output_type": "execute_result"
    }
   ],
   "source": [
    "selected_cols = other_info[0]\n",
    "selected_cols"
   ]
  },
  {
   "cell_type": "code",
   "execution_count": 15,
   "metadata": {},
   "outputs": [
    {
     "data": {
      "text/plain": [
       "id               0\n",
       "date             0\n",
       "bedrooms         0\n",
       "bathrooms        0\n",
       "sqft_living      0\n",
       "sqft_lot         0\n",
       "floors           0\n",
       "waterfront       0\n",
       "view             0\n",
       "condition        0\n",
       "grade            0\n",
       "sqft_above       0\n",
       "sqft_basement    0\n",
       "yr_built         0\n",
       "yr_renovated     0\n",
       "zipcode          0\n",
       "lat              0\n",
       "long             0\n",
       "sqft_living15    0\n",
       "sqft_lot15       0\n",
       "dtype: int64"
      ]
     },
     "execution_count": 15,
     "metadata": {},
     "output_type": "execute_result"
    }
   ],
   "source": [
    "holdout.isna().sum()"
   ]
  },
  {
   "cell_type": "markdown",
   "metadata": {},
   "source": [
    "## Step 2: Feature Engineering for holdout set"
   ]
  },
  {
   "cell_type": "markdown",
   "metadata": {},
   "source": [
    "Remember we have to perform the same transformations on our holdout data (feature engineering, extreme values, and scaling) that we performed on the original data."
   ]
  },
  {
   "cell_type": "code",
   "execution_count": 16,
   "metadata": {},
   "outputs": [],
   "source": [
    "holdout['date'] = pd.to_datetime(holdout['date'].str.slice(0,8),format=\"%Y-%m-%d\")"
   ]
  },
  {
   "cell_type": "code",
   "execution_count": 17,
   "metadata": {},
   "outputs": [],
   "source": [
    "dictNumTimesSold = dict(holdout.groupby('id').id.count().sort_values())\n",
    "holdout['num_times_sold'] = holdout['id'].map(dictNumTimesSold)"
   ]
  },
  {
   "cell_type": "code",
   "execution_count": 18,
   "metadata": {},
   "outputs": [],
   "source": [
    "holdout.drop(labels =['id', 'lat', 'long'], axis=1, inplace=True)"
   ]
  },
  {
   "cell_type": "code",
   "execution_count": 19,
   "metadata": {},
   "outputs": [],
   "source": [
    "holdout['zipcode'] = holdout['zipcode'].apply(str)"
   ]
  },
  {
   "cell_type": "code",
   "execution_count": 20,
   "metadata": {},
   "outputs": [],
   "source": [
    "holdout['bedrooms'] = np.where(holdout['bedrooms'] >= 7, 7, holdout['bedrooms'])"
   ]
  },
  {
   "cell_type": "code",
   "execution_count": 21,
   "metadata": {},
   "outputs": [],
   "source": [
    "holdout['bathrooms'] = np.where(holdout['bathrooms']==1.25, 1, holdout['bathrooms'])\n",
    "holdout['bathrooms'] = np.where(holdout['bathrooms']>=5, 5, holdout['bathrooms'])"
   ]
  },
  {
   "cell_type": "code",
   "execution_count": 22,
   "metadata": {},
   "outputs": [],
   "source": [
    "conditions = [(holdout['grade'] <= 8),\n",
    "              (holdout['grade'] <= 12),\n",
    "             (holdout['grade'] <= 13)]\n",
    "choices = ['low','medium','high']\n",
    "holdout['grade_cat'] = np.select(conditions, choices)"
   ]
  },
  {
   "cell_type": "code",
   "execution_count": 23,
   "metadata": {},
   "outputs": [],
   "source": [
    "categorical = ['condition','grade_cat','bedrooms', 'bathrooms','floors','zipcode']\n",
    "holdout = pd.get_dummies(holdout, columns=categorical, drop_first=True)\n"
   ]
  },
  {
   "cell_type": "code",
   "execution_count": 24,
   "metadata": {},
   "outputs": [],
   "source": [
    "holdout['age'] = 2021 - holdout.yr_built\n"
   ]
  },
  {
   "cell_type": "code",
   "execution_count": 25,
   "metadata": {},
   "outputs": [],
   "source": [
    "holdout['month_sold'] = holdout['date'].dt.month"
   ]
  },
  {
   "cell_type": "code",
   "execution_count": 26,
   "metadata": {},
   "outputs": [],
   "source": [
    "seasons = ['Winter', 'Winter', 'Spring', 'Spring', 'Spring', 'Summer', 'Summer', 'Summer', 'Fall', 'Fall', 'Fall', 'Winter']\n",
    "#{1: Winter, 2: Spring, 3: Summer, 4: Fall}\n",
    "month_to_season = dict(zip(range(1,13), seasons))\n",
    "holdout['season_sold'] = holdout.month_sold.map(month_to_season)"
   ]
  },
  {
   "cell_type": "code",
   "execution_count": 27,
   "metadata": {},
   "outputs": [],
   "source": [
    "holdout['year_sold'] = holdout['date'].dt.year"
   ]
  },
  {
   "cell_type": "code",
   "execution_count": 28,
   "metadata": {},
   "outputs": [],
   "source": [
    "holdout['is_renovated'] = np.where(holdout['yr_renovated'] > 0, 1, 0)\n"
   ]
  },
  {
   "cell_type": "code",
   "execution_count": 29,
   "metadata": {},
   "outputs": [],
   "source": [
    "holdout = pd.get_dummies(holdout, columns = ['season_sold'], drop_first=True)\n",
    "holdout['winterXsqft_living'] = holdout['season_sold_Winter']*holdout['sqft_living']\n",
    "holdout['springXsqft_living'] = holdout['season_sold_Spring']*holdout['sqft_living']\n",
    "holdout['ageXnumTimesSold'] = holdout['age']*holdout['num_times_sold']\n",
    "\n"
   ]
  },
  {
   "cell_type": "code",
   "execution_count": null,
   "metadata": {},
   "outputs": [],
   "source": []
  },
  {
   "cell_type": "code",
   "execution_count": 30,
   "metadata": {},
   "outputs": [],
   "source": [
    "transformed_holdout = holdout[selected_cols]"
   ]
  },
  {
   "cell_type": "markdown",
   "metadata": {},
   "source": [
    "## Step 3: Predict the holdout set"
   ]
  },
  {
   "cell_type": "code",
   "execution_count": 31,
   "metadata": {},
   "outputs": [],
   "source": [
    "final_answers = np.exp(model.predict(transformed_holdout))"
   ]
  },
  {
   "cell_type": "code",
   "execution_count": 33,
   "metadata": {},
   "outputs": [
    {
     "data": {
      "text/plain": [
       "0    543688.194367\n",
       "dtype: float64"
      ]
     },
     "execution_count": 33,
     "metadata": {},
     "output_type": "execute_result"
    }
   ],
   "source": [
    "pd.DataFrame(final_answers).mean()"
   ]
  },
  {
   "cell_type": "markdown",
   "metadata": {},
   "source": [
    "## Step 4: Export your predictions"
   ]
  },
  {
   "cell_type": "code",
   "execution_count": 25,
   "metadata": {},
   "outputs": [],
   "source": [
    "# final_answer.to_csv('housing_preds_your_name.csv')"
   ]
  }
 ],
 "metadata": {
  "kernelspec": {
   "display_name": "Python 3",
   "language": "python",
   "name": "python3"
  },
  "language_info": {
   "codemirror_mode": {
    "name": "ipython",
    "version": 3
   },
   "file_extension": ".py",
   "mimetype": "text/x-python",
   "name": "python",
   "nbconvert_exporter": "python",
   "pygments_lexer": "ipython3",
   "version": "3.8.5"
  }
 },
 "nbformat": 4,
 "nbformat_minor": 2
}
