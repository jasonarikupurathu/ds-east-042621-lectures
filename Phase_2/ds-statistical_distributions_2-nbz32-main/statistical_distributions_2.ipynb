{
 "cells": [
  {
   "cell_type": "markdown",
   "metadata": {
    "toc": true
   },
   "source": [
    "<h1>Table of Contents<span class=\"tocSkip\"></span></h1>\n",
    "<div class=\"toc\"><ul class=\"toc-item\"><li><span><a href=\"#Objectives\" data-toc-modified-id=\"Objectives-1\"><span class=\"toc-item-num\">1&nbsp;&nbsp;</span>Objectives</a></span></li><li><span><a href=\"#Normal-Distribution\" data-toc-modified-id=\"Normal-Distribution-2\"><span class=\"toc-item-num\">2&nbsp;&nbsp;</span>Normal Distribution</a></span><ul class=\"toc-item\"><li><span><a href=\"#Why-a-Normal-Distribution?\" data-toc-modified-id=\"Why-a-Normal-Distribution?-2.1\"><span class=\"toc-item-num\">2.1&nbsp;&nbsp;</span>Why a Normal Distribution?</a></span></li><li><span><a href=\"#Normal-Curve-==-Awesome-Math--😎\" data-toc-modified-id=\"Normal-Curve-==-Awesome-Math--😎-2.2\"><span class=\"toc-item-num\">2.2&nbsp;&nbsp;</span>Normal Curve == Awesome Math  😎</a></span><ul class=\"toc-item\"><li><span><a href=\"#🧠-Knowledge-Check\" data-toc-modified-id=\"🧠-Knowledge-Check-2.2.1\"><span class=\"toc-item-num\">2.2.1&nbsp;&nbsp;</span>🧠 Knowledge Check</a></span></li><li><span><a href=\"#More-Normal-Curves!\" data-toc-modified-id=\"More-Normal-Curves!-2.2.2\"><span class=\"toc-item-num\">2.2.2&nbsp;&nbsp;</span>More Normal Curves!</a></span></li></ul></li><li><span><a href=\"#Standard-Normal-Distribution\" data-toc-modified-id=\"Standard-Normal-Distribution-2.3\"><span class=\"toc-item-num\">2.3&nbsp;&nbsp;</span>Standard Normal Distribution</a></span><ul class=\"toc-item\"><li><span><a href=\"#$z$-Score\" data-toc-modified-id=\"$z$-Score-2.3.1\"><span class=\"toc-item-num\">2.3.1&nbsp;&nbsp;</span>$z$-Score</a></span><ul class=\"toc-item\"><li><span><a href=\"#🧠-Knowledge-Check\" data-toc-modified-id=\"🧠-Knowledge-Check-2.3.1.1\"><span class=\"toc-item-num\">2.3.1.1&nbsp;&nbsp;</span>🧠 Knowledge Check</a></span></li></ul></li><li><span><a href=\"#The-Empirical-Rule\" data-toc-modified-id=\"The-Empirical-Rule-2.3.2\"><span class=\"toc-item-num\">2.3.2&nbsp;&nbsp;</span>The Empirical Rule</a></span><ul class=\"toc-item\"><li><span><a href=\"#🧠-Knowledge-Check\" data-toc-modified-id=\"🧠-Knowledge-Check-2.3.2.1\"><span class=\"toc-item-num\">2.3.2.1&nbsp;&nbsp;</span>🧠 Knowledge Check</a></span></li></ul></li></ul></li></ul></li><li><span><a href=\"#Exercises\" data-toc-modified-id=\"Exercises-3\"><span class=\"toc-item-num\">3&nbsp;&nbsp;</span>Exercises</a></span><ul class=\"toc-item\"><li><span><a href=\"#Height-$z$-score\" data-toc-modified-id=\"Height-$z$-score-3.1\"><span class=\"toc-item-num\">3.1&nbsp;&nbsp;</span>Height $z$-score</a></span></li><li><span><a href=\"#Height-Empirical-Rule\" data-toc-modified-id=\"Height-Empirical-Rule-3.2\"><span class=\"toc-item-num\">3.2&nbsp;&nbsp;</span>Height Empirical Rule</a></span></li><li><span><a href=\"#Height-Percentile\" data-toc-modified-id=\"Height-Percentile-3.3\"><span class=\"toc-item-num\">3.3&nbsp;&nbsp;</span>Height Percentile</a></span></li><li><span><a href=\"#Bonus\" data-toc-modified-id=\"Bonus-3.4\"><span class=\"toc-item-num\">3.4&nbsp;&nbsp;</span>Bonus</a></span></li></ul></li><li><span><a href=\"#Level-Up:-Other-Distributions\" data-toc-modified-id=\"Level-Up:-Other-Distributions-4\"><span class=\"toc-item-num\">4&nbsp;&nbsp;</span>Level Up: Other Distributions</a></span><ul class=\"toc-item\"><li><span><a href=\"#Binomial-Distribution\" data-toc-modified-id=\"Binomial-Distribution-4.1\"><span class=\"toc-item-num\">4.1&nbsp;&nbsp;</span>Binomial Distribution</a></span></li><li><span><a href=\"#Bernoulli-Distributions\" data-toc-modified-id=\"Bernoulli-Distributions-4.2\"><span class=\"toc-item-num\">4.2&nbsp;&nbsp;</span>Bernoulli Distributions</a></span></li><li><span><a href=\"#Poisson-Distribution\" data-toc-modified-id=\"Poisson-Distribution-4.3\"><span class=\"toc-item-num\">4.3&nbsp;&nbsp;</span>Poisson Distribution</a></span></li><li><span><a href=\"#Distribution-Types-Exercise\" data-toc-modified-id=\"Distribution-Types-Exercise-4.4\"><span class=\"toc-item-num\">4.4&nbsp;&nbsp;</span>Distribution Types Exercise</a></span></li></ul></li><li><span><a href=\"#Level-Up:-Simulations-with-the-Binomial-Distribution\" data-toc-modified-id=\"Level-Up:-Simulations-with-the-Binomial-Distribution-5\"><span class=\"toc-item-num\">5&nbsp;&nbsp;</span>Level Up: Simulations with the Binomial Distribution</a></span><ul class=\"toc-item\"><li><span><a href=\"#Game-Time!\" data-toc-modified-id=\"Game-Time!-5.1\"><span class=\"toc-item-num\">5.1&nbsp;&nbsp;</span>Game Time!</a></span></li><li><span><a href=\"#But-What's-Real:-Simulation-Time!\" data-toc-modified-id=\"But-What's-Real:-Simulation-Time!-5.2\"><span class=\"toc-item-num\">5.2&nbsp;&nbsp;</span>But What's <em>Real</em>: Simulation Time!</a></span><ul class=\"toc-item\"><li><span><a href=\"#Sidebar:-Probability-of-Probabilities\" data-toc-modified-id=\"Sidebar:-Probability-of-Probabilities-5.2.1\"><span class=\"toc-item-num\">5.2.1&nbsp;&nbsp;</span>Sidebar: Probability of Probabilities</a></span></li></ul></li></ul></li></ul></div>"
   ]
  },
  {
   "cell_type": "markdown",
   "metadata": {
    "heading_collapsed": true
   },
   "source": [
    "# Objectives"
   ]
  },
  {
   "cell_type": "markdown",
   "metadata": {
    "hidden": true
   },
   "source": [
    "* Describe the normal distribution\n",
    "* Calculate $z$-scores from a normal distribution through standardization\n",
    "* Describe the normal distribution's Empirical Rule"
   ]
  },
  {
   "cell_type": "code",
   "execution_count": 1,
   "metadata": {
    "hidden": true
   },
   "outputs": [],
   "source": [
    "from scipy import stats\n",
    "from matplotlib import pyplot as plt\n",
    "import seaborn as sns\n",
    "import numpy as np\n",
    "%matplotlib inline"
   ]
  },
  {
   "cell_type": "markdown",
   "metadata": {
    "heading_collapsed": true
   },
   "source": [
    "# Normal Distribution"
   ]
  },
  {
   "cell_type": "markdown",
   "metadata": {
    "hidden": true
   },
   "source": [
    "We'll find that the **normal distribution** or **normal curve** or **bell curve** (it has many names) is a very common distribution and it's very useful to us in statistics."
   ]
  },
  {
   "cell_type": "markdown",
   "metadata": {
    "hidden": true
   },
   "source": [
    "![](images/normal_curve_animation.gif)"
   ]
  },
  {
   "cell_type": "markdown",
   "metadata": {
    "heading_collapsed": true,
    "hidden": true
   },
   "source": [
    "## Why a Normal Distribution?"
   ]
  },
  {
   "cell_type": "markdown",
   "metadata": {
    "hidden": true
   },
   "source": [
    "Turns out the normal distribution describes many phenomena. Think of anything that has a typical range:\n",
    "\n",
    "- human body temperatures\n",
    "- sizes of elephants\n",
    "- sizes of stars\n",
    "- populations of cities\n",
    "- IQ\n",
    "- heart rate"
   ]
  },
  {
   "cell_type": "markdown",
   "metadata": {
    "hidden": true
   },
   "source": [
    "Among human beings, 98.6 degrees Fahrenheit is an _average_ body temperature. Many folks' temperatures won't measure _exactly_ 98.6 degrees, but most measurements will be _close_. It is much more common to have a body temperature close to 98.6 (whether slightly more or slightly less) than it is to have a body temperature far from 98.6 (whether significantly more or significantly less). This is a hallmark of a normally distributed variable.\n",
    "\n",
    "Similarly, there are large elephants and there are small elephants, but most elephants are near the average size.\n"
   ]
  },
  {
   "cell_type": "markdown",
   "metadata": {
    "heading_collapsed": true,
    "hidden": true
   },
   "source": [
    "## Normal Curve == Awesome Math  😎"
   ]
  },
  {
   "cell_type": "markdown",
   "metadata": {
    "hidden": true
   },
   "source": [
    "This might look complicated at first, but it means that the we describe a normal curve with just **two parameters**: $\\sigma^2$ (the variance) & $\\mu$ (the mean). You may see the notation $N(\\mu, \\sigma^2)$ which emphasizes there are only two parameters to describe the distribution.\n"
   ]
  },
  {
   "cell_type": "code",
   "execution_count": 2,
   "metadata": {
    "hidden": true
   },
   "outputs": [
    {
     "data": {
      "image/png": "[encoded data removed]",
      "text/plain": [
       "<Figure size 432x288 with 1 Axes>"
      ]
     },
     "metadata": {
      "needs_background": "light"
     },
     "output_type": "display_data"
    }
   ],
   "source": [
    "fig, ax = plt.subplots()\n",
    "\n",
    "mu = 0\n",
    "sigma = 1\n",
    "# This defines the points along the x-axis\n",
    "x = np.linspace(\n",
    "        stats.norm(mu,sigma).ppf(0.01), # Start plotting here\n",
    "        stats.norm(mu,sigma).ppf(0.99), # End plotting here\n",
    "        100                             # Number of points\n",
    ")\n",
    "# The values as at x given byt the normal curve (with mu & sigma)\n",
    "y = stats.norm(mu,sigma).pdf(x)\n",
    "ax.plot(x, y,'r-');"
   ]
  },
  {
   "cell_type": "markdown",
   "metadata": {
    "hidden": true
   },
   "source": [
    "\\***WARNING!! Scary Math Ahead!***\n",
    "\n",
    "If you're curious about how we can mathematically define a normal curve, we give this below. (Don't worry, you don't need to recall the mathematical definition).\n",
    "\n",
    "<details>\n",
    "\n",
    "$\\Large f(x) = \\frac{1}{\\sqrt{2\\pi\\sigma^2}}e^{\\frac{-(x - \\mu)^2}{2\\sigma^2}}$\n",
    "\n",
    "This might look complicated at first, but what you should focus on is that there are really on two parameters that determine $f(x)$ given $x$\n",
    "</details>"
   ]
  },
  {
   "cell_type": "code",
   "execution_count": 3,
   "metadata": {
    "hidden": true
   },
   "outputs": [],
   "source": [
    "def plot_normal_curve(mu, sigma, ax):\n",
    "    # This defines the points along the x-axis\n",
    "    x = np.linspace(\n",
    "            stats.norm(mu,sigma).ppf(0.01), # Start plotting here\n",
    "            stats.norm(mu,sigma).ppf(0.99), # End plotting here\n",
    "            100                             # Number of points\n",
    "    )\n",
    "    # The values as at x given byt the normal curve (with mu & sigma)\n",
    "    y = stats.norm(mu,sigma).pdf(x)\n",
    "    ax.plot(x, y,'r-');\n",
    "    return ax"
   ]
  },
  {
   "cell_type": "code",
   "execution_count": 4,
   "metadata": {
    "hidden": true
   },
   "outputs": [
    {
     "data": {
      "text/plain": [
       "<AxesSubplot:>"
      ]
     },
     "execution_count": 4,
     "metadata": {},
     "output_type": "execute_result"
    },
    {
     "data": {
      "image/png": "[encoded data removed]",
      "text/plain": [
       "<Figure size 432x288 with 1 Axes>"
      ]
     },
     "metadata": {
      "needs_background": "light"
     },
     "output_type": "display_data"
    }
   ],
   "source": [
    "fig, ax = plt.subplots()\n",
    "plot_normal_curve(mu=0, sigma=1, ax=ax)"
   ]
  },
  {
   "cell_type": "markdown",
   "metadata": {
    "heading_collapsed": true,
    "hidden": true
   },
   "source": [
    "### 🧠 Knowledge Check"
   ]
  },
  {
   "cell_type": "markdown",
   "metadata": {
    "hidden": true
   },
   "source": [
    "What would the distribution look like if we make $\\sigma$ smaller or bigger?"
   ]
  },
  {
   "cell_type": "code",
   "execution_count": 5,
   "metadata": {
    "hidden": true
   },
   "outputs": [
    {
     "data": {
      "image/png": "[encoded data removed]",
      "text/plain": [
       "<Figure size 432x576 with 3 Axes>"
      ]
     },
     "metadata": {
      "needs_background": "light"
     },
     "output_type": "display_data"
    }
   ],
   "source": [
    "fig, axs = plt.subplots(nrows=3, sharex=True, sharey=True, figsize=(6,8))\n",
    "\n",
    "for n,ax in enumerate(axs, start=1):\n",
    "    # Make sigma slighlty bigger each time\n",
    "    sigma = 1 * n\n",
    "    plot_normal_curve(mu=0, sigma=sigma, ax=ax)\n",
    "    ax.set_title(f'$\\mu$:{mu}, $\\sigma$:{sigma}')\n",
    "\n",
    "plt.tight_layout()"
   ]
  },
  {
   "cell_type": "markdown",
   "metadata": {
    "hidden": true
   },
   "source": [
    "What would the distribution look like if we make $\\mu$ was smaller or bigger?"
   ]
  },
  {
   "cell_type": "code",
   "execution_count": 6,
   "metadata": {
    "hidden": true
   },
   "outputs": [
    {
     "data": {
      "image/png": "[encoded data removed]",
      "text/plain": [
       "<Figure size 432x576 with 3 Axes>"
      ]
     },
     "metadata": {
      "needs_background": "light"
     },
     "output_type": "display_data"
    }
   ],
   "source": [
    "fig, axs = plt.subplots(nrows=3, sharex=True, sharey=True, figsize=(6,8))\n",
    "\n",
    "for n,ax in enumerate(axs):\n",
    "    # Make mu slighlty bigger each time\n",
    "    mu = n \n",
    "    plot_normal_curve(mu=mu, sigma=1, ax=ax)\n",
    "    ax.set_title(f'$\\mu$:{mu}, $\\sigma$:{sigma}')\n",
    "\n",
    "plt.tight_layout()"
   ]
  },
  {
   "cell_type": "markdown",
   "metadata": {
    "heading_collapsed": true,
    "hidden": true
   },
   "source": [
    "### More Normal Curves!"
   ]
  },
  {
   "cell_type": "markdown",
   "metadata": {
    "hidden": true
   },
   "source": [
    "We can now describe any normal curve by setting the mean and the variance!"
   ]
  },
  {
   "cell_type": "code",
   "execution_count": 7,
   "metadata": {
    "hidden": true
   },
   "outputs": [],
   "source": [
    "# Function to plot multiple normal curves\n",
    "def plot_normal_curves(parameters_list, ax):\n",
    "    ''' Use a list of parameters (in dictionary form) to plot multiple normal \n",
    "        curves.\n",
    "    '''\n",
    "    for params in parameters_list:\n",
    "        mu = params.get('mu')\n",
    "        sigma = params.get('sigma')\n",
    "        style = params.get('style','')\n",
    "        # This defines the points along the x-axis\n",
    "        x = np.linspace(\n",
    "                stats.norm(mu,sigma).ppf(0.01), # Start plotting here\n",
    "                stats.norm(mu,sigma).ppf(0.99), # End plotting here\n",
    "                100                             # Number of points\n",
    "        )\n",
    "        # The values as at x given by the normal curve (with mu & sigma)\n",
    "        y = stats.norm(mu,sigma).pdf(x)\n",
    "        ax.plot(x, y, \n",
    "                style, \n",
    "                linewidth=4, \n",
    "                label=f'$\\mu={mu}$, $\\sigma={sigma}$');\n",
    "    ax.legend()\n",
    "    return ax"
   ]
  },
  {
   "cell_type": "code",
   "execution_count": 8,
   "metadata": {
    "code_folding": [],
    "hidden": true
   },
   "outputs": [
    {
     "data": {
      "image/png": "[encoded data removed]",
      "text/plain": [
       "<Figure size 864x432 with 2 Axes>"
      ]
     },
     "metadata": {
      "needs_background": "light"
     },
     "output_type": "display_data"
    }
   ],
   "source": [
    "fig, (ax0, ax1) = plt.subplots(ncols=2, figsize=(12,6))\n",
    " \n",
    "# mean, standard deviation, graphing style\n",
    "normal_curve_parameters = {\n",
    "    # Normal curves centered at zero\n",
    "    'center': [\n",
    "        {'mu':0, 'sigma':1, 'style':'y-'},\n",
    "        {'mu':0, 'sigma':0.5, 'style':'b-'},\n",
    "        {'mu':0, 'sigma':2, 'style':'g-'}\n",
    "    ],\n",
    "    # Same normal curves but with different means\n",
    "    'off-center': [\n",
    "        {'mu':0, 'sigma':1, 'style':'y-'},\n",
    "        {'mu':1, 'sigma':0.5, 'style':'b-'},\n",
    "        {'mu':3, 'sigma':2, 'style':'g-'}\n",
    "    ]\n",
    "}\n",
    "\n",
    "ax = plot_normal_curves(normal_curve_parameters['center'], ax0)\n",
    "ax.set_title('Center')\n",
    " \n",
    "    \n",
    "ax = plot_normal_curves(normal_curve_parameters['off-center'], ax1)\n",
    "ax.set_title('Off-Center')\n",
    "\n",
    "# Neat output\n",
    "plt.tight_layout()"
   ]
  },
  {
   "cell_type": "markdown",
   "metadata": {
    "heading_collapsed": true,
    "hidden": true
   },
   "source": [
    "## Standard Normal Distribution"
   ]
  },
  {
   "cell_type": "markdown",
   "metadata": {
    "hidden": true
   },
   "source": [
    "A special normal distribution called the **standard normal distribution** has a mean of 0 and variance of 1. This is also known as a z distribution."
   ]
  },
  {
   "cell_type": "markdown",
   "metadata": {
    "hidden": true
   },
   "source": [
    "Since we know that the shape of a normal distribution changes based on its mean and variance, we'll typically convert or **standardize** our normal distribution to the standard normal distribution."
   ]
  },
  {
   "cell_type": "markdown",
   "metadata": {
    "hidden": true
   },
   "source": [
    "We simply subtract the mean $\\mu$ from each value and then divide by the standard deviation $\\sigma$:\n",
    "\n",
    "$$\\frac{x - \\mu}{\\sigma}$$\n",
    "\n",
    "We call this process **standardization**."
   ]
  },
  {
   "cell_type": "markdown",
   "metadata": {
    "hidden": true
   },
   "source": [
    "![norm_to_z](images/norm_to_z.png)"
   ]
  },
  {
   "cell_type": "code",
   "execution_count": 9,
   "metadata": {
    "hidden": true,
    "scrolled": false
   },
   "outputs": [
    {
     "data": {
      "image/png": "[encoded data removed]",
      "text/plain": [
       "<Figure size 720x432 with 2 Axes>"
      ]
     },
     "metadata": {
      "needs_background": "light"
     },
     "output_type": "display_data"
    }
   ],
   "source": [
    "# Let's transform the normal distribtion centered on 5\n",
    "# with a standard deviation of 2 into a standard normal\n",
    "\n",
    "normal_dist = np.random.normal(5, 2, 1000)\n",
    "z_dist = [(x - np.mean(normal_dist))/np.std(normal_dist) \n",
    "          for x in normal_dist]\n",
    "\n",
    "fig, (ax0, ax1) = plt.subplots(nrows=2, sharex=True, figsize=(10,6))\n",
    "sns.kdeplot(x=normal_dist, ax=ax0,);\n",
    "ax0.set_title('Before Standarization')\n",
    "sns.kdeplot(x=z_dist, ax=ax1);\n",
    "ax1.set_title('After Standarization')\n",
    "plt.tight_layout()"
   ]
  },
  {
   "cell_type": "markdown",
   "metadata": {
    "hidden": true
   },
   "source": [
    "Talking about the standard normal distribution can be very convenient since the values correspond to the number of standard deviations above or below the mean."
   ]
  },
  {
   "cell_type": "markdown",
   "metadata": {
    "heading_collapsed": true,
    "hidden": true
   },
   "source": [
    "### $z$-Score"
   ]
  },
  {
   "cell_type": "markdown",
   "metadata": {
    "hidden": true
   },
   "source": [
    "A **$z$-score** for a data point $x$ (in a normal distribution) is simply the distance to the mean in units of standard deviations\n",
    "\n",
    "$$\\large z = \\frac{x - \\mu}{\\sigma}$$\n",
    "\n",
    "By calculating the z-score of an individual point, we can see how unlikely a value is."
   ]
  },
  {
   "cell_type": "markdown",
   "metadata": {
    "hidden": true
   },
   "source": [
    "Here's a little site with some [interactive Gaussians](https://www.intmath.com/counting-probability/normal-distribution-graph-interactive.php)"
   ]
  },
  {
   "cell_type": "markdown",
   "metadata": {
    "heading_collapsed": true,
    "hidden": true
   },
   "source": [
    "#### 🧠 Knowledge Check"
   ]
  },
  {
   "cell_type": "markdown",
   "metadata": {
    "hidden": true
   },
   "source": [
    "What would the $z$-score be for the middle of a normal curve?"
   ]
  },
  {
   "cell_type": "markdown",
   "metadata": {
    "heading_collapsed": true,
    "hidden": true
   },
   "source": [
    "### The Empirical Rule"
   ]
  },
  {
   "cell_type": "markdown",
   "metadata": {
    "hidden": true
   },
   "source": [
    "> Rule states that $68\\%$ of the values of a normal distribution of data lie within 1 standard deviation ($\\sigma$) of the mean, $95\\%$ within $2\\sigma$, and $99.7\\%$ within $3\\sigma$.  \n",
    "\n",
    "This makes it really quick to look at a normal distribution and understand where values tend to lie"
   ]
  },
  {
   "cell_type": "markdown",
   "metadata": {
    "hidden": true
   },
   "source": [
    "<img src='https://github.com/learn-co-students/dsc-0-09-12-gaussian-distributions-online-ds-ft-031119/blob/master/normalsd.jpg?raw=true' width=700/>"
   ]
  },
  {
   "cell_type": "markdown",
   "metadata": {
    "heading_collapsed": true,
    "hidden": true
   },
   "source": [
    "#### 🧠 Knowledge Check"
   ]
  },
  {
   "cell_type": "markdown",
   "metadata": {
    "hidden": true
   },
   "source": [
    "About what percentage of the values would be between a $z$-score of $-1$ and a $z$-score of $2$?\n",
    "\n",
    "<details>\n",
    "    About $82\\%$\n",
    "</details>"
   ]
  },
  {
   "cell_type": "markdown",
   "metadata": {
    "heading_collapsed": true
   },
   "source": [
    "# Exercises"
   ]
  },
  {
   "cell_type": "markdown",
   "metadata": {
    "heading_collapsed": true,
    "hidden": true
   },
   "source": [
    "## Height $z$-score"
   ]
  },
  {
   "cell_type": "markdown",
   "metadata": {
    "hidden": true
   },
   "source": [
    "The distribution of people's heights in the United States has a mean of 66 inches and a standard deviation of 4 inches. **Calculate the z-score of a height of 76 inches.**"
   ]
  },
  {
   "cell_type": "code",
   "execution_count": 10,
   "metadata": {
    "hidden": true
   },
   "outputs": [
    {
     "data": {
      "text/plain": [
       "2.5"
      ]
     },
     "execution_count": 10,
     "metadata": {},
     "output_type": "execute_result"
    }
   ],
   "source": [
    "(76-66)/4"
   ]
  },
  {
   "cell_type": "markdown",
   "metadata": {
    "heading_collapsed": true,
    "hidden": true
   },
   "source": [
    "## Height Empirical Rule"
   ]
  },
  {
   "cell_type": "markdown",
   "metadata": {
    "hidden": true
   },
   "source": [
    "Use the empirical rule and the information above to determine about how many people are between **62 inches and 74 inches**."
   ]
  },
  {
   "cell_type": "code",
   "execution_count": 11,
   "metadata": {
    "hidden": true
   },
   "outputs": [
    {
     "data": {
      "text/plain": [
       "-1.0"
      ]
     },
     "execution_count": 11,
     "metadata": {},
     "output_type": "execute_result"
    }
   ],
   "source": [
    "(62-66)/4"
   ]
  },
  {
   "cell_type": "code",
   "execution_count": 12,
   "metadata": {},
   "outputs": [
    {
     "data": {
      "text/plain": [
       "2.0"
      ]
     },
     "execution_count": 12,
     "metadata": {},
     "output_type": "execute_result"
    }
   ],
   "source": [
    "(74-66)/4"
   ]
  },
  {
   "cell_type": "code",
   "execution_count": null,
   "metadata": {},
   "outputs": [],
   "source": [
    "81.5"
   ]
  },
  {
   "cell_type": "markdown",
   "metadata": {
    "heading_collapsed": true,
    "hidden": true
   },
   "source": [
    "## Height Percentile"
   ]
  },
  {
   "cell_type": "markdown",
   "metadata": {
    "hidden": true
   },
   "source": [
    "Assuming the above distribution of people's heights in the United States is approximately normal, what percent of people have a height less than **75 inches**?"
   ]
  },
  {
   "cell_type": "code",
   "execution_count": 13,
   "metadata": {
    "hidden": true
   },
   "outputs": [
    {
     "data": {
      "text/plain": [
       "2.25"
      ]
     },
     "execution_count": 13,
     "metadata": {},
     "output_type": "execute_result"
    }
   ],
   "source": [
    "(75-66)/4"
   ]
  },
  {
   "cell_type": "code",
   "execution_count": 14,
   "metadata": {},
   "outputs": [
    {
     "data": {
      "text/plain": [
       "0.9877755273449553"
      ]
     },
     "execution_count": 14,
     "metadata": {},
     "output_type": "execute_result"
    }
   ],
   "source": [
    "stats.norm.cdf(2.25)"
   ]
  },
  {
   "cell_type": "markdown",
   "metadata": {
    "heading_collapsed": true,
    "hidden": true
   },
   "source": [
    "## Bonus"
   ]
  },
  {
   "cell_type": "markdown",
   "metadata": {
    "hidden": true
   },
   "source": [
    "Assuming the above distribution of people's heights in the United States is approximately normal, what range of heights contain the **middle 50% of values**,also known as the _interquartile range_ (IQR)?"
   ]
  },
  {
   "cell_type": "code",
   "execution_count": 21,
   "metadata": {
    "hidden": true
   },
   "outputs": [
    {
     "data": {
      "text/plain": [
       "(63.30204099921567, 68.69795900078432)"
      ]
     },
     "execution_count": 21,
     "metadata": {},
     "output_type": "execute_result"
    }
   ],
   "source": [
    "(stats.norm(66,4).ppf(.25),stats.norm(66,4).ppf(.75))\n"
   ]
  },
  {
   "cell_type": "markdown",
   "metadata": {
    "heading_collapsed": true
   },
   "source": [
    "# Level Up: Other Distributions"
   ]
  },
  {
   "cell_type": "markdown",
   "metadata": {
    "hidden": true
   },
   "source": [
    "The world is full of distributions to explore! See some other less-common ones below:"
   ]
  },
  {
   "cell_type": "markdown",
   "metadata": {
    "hidden": true
   },
   "source": [
    "![](images/distributions.png)"
   ]
  },
  {
   "cell_type": "markdown",
   "metadata": {
    "hidden": true
   },
   "source": [
    "Now that we know a few methods in visualizing distributions 📊👀, we can start looking at different types of distributions.\n",
    "\n",
    "We can tell a lot about a distribution shape such as taking a guess of the mechanism that it took to generate the data."
   ]
  },
  {
   "cell_type": "markdown",
   "metadata": {
    "heading_collapsed": true,
    "hidden": true
   },
   "source": [
    "## Binomial Distribution"
   ]
  },
  {
   "cell_type": "markdown",
   "metadata": {
    "hidden": true
   },
   "source": [
    "The Binomial distribution describes the number of successes of a set of Bernoulli trials. For example, say we have an unfair coin with a probability of landing heads of 0.8. If our number of trials is 3, our PMF and CDF would look like what we see below:"
   ]
  },
  {
   "cell_type": "markdown",
   "metadata": {
    "hidden": true
   },
   "source": [
    "![](images/binomial.png)"
   ]
  },
  {
   "cell_type": "markdown",
   "metadata": {
    "hidden": true
   },
   "source": [
    "For the binomial, our Expected Value and Variance can be calculated like so:\n",
    "- Expected Value\n",
    "> $E(X) = np$ <br>\n",
    "- Variance\n",
    "> $Var(X) = np(1-p)$<br>\n",
    "\n",
    "If we want to see the probability of a certain number of successes, we use the pmf:\n",
    "\n",
    "$$\\Large f(x) = {n \\choose k}p^k(1 - p)^{n - k}$$\n",
    "\n",
    "Remember: ${n\\choose k} = \\frac{n!}{k!(n - k)!}$, the number of ways of choosing $k$ objects from a total of $n$."
   ]
  },
  {
   "cell_type": "markdown",
   "metadata": {
    "hidden": true
   },
   "source": [
    "In our penalty kick example. Suppose we consider a 10-kick set of penalty shots.\n",
    "\n",
    "The Binomial Distribution can tell me what the probability is that the shootout will result in exactly $k$ goals out of $n$ shots ($k < n$)."
   ]
  },
  {
   "cell_type": "code",
   "execution_count": null,
   "metadata": {
    "hidden": true
   },
   "outputs": [],
   "source": [
    "n = 10\n",
    "p = 0.75\n",
    "fig, ax = plt.subplots(1, 1, figsize=(6, 6))\n",
    "x = np.arange(stats.binom.ppf(0.001, n, p),\n",
    "              stats.binom.ppf(0.999, n, p)+1)\n",
    "\n",
    "ax.plot(x, stats.binom.pmf(x, n, p), 'bo', ms=8, label='binom pmf')\n",
    "ax.vlines(x, 0, stats.binom.pmf(x, n, p), 'r', linewidth=5,\n",
    "          label='pmf')\n",
    "ax.legend(loc='best');"
   ]
  },
  {
   "cell_type": "markdown",
   "metadata": {
    "heading_collapsed": true,
    "hidden": true
   },
   "source": [
    "## Bernoulli Distributions"
   ]
  },
  {
   "cell_type": "markdown",
   "metadata": {
    "hidden": true
   },
   "source": [
    "The Bernoulli Distribution is the discrete distribution that describes a two-outcome trial, such as a coin toss. The distribution is described by the probability $p$ of one random variable taking the value 1 and by the corrleative probability $q$, associated with 0 and taking the probability 1-p. \n",
    "\n",
    "PMF: \n",
    "${\\displaystyle {\\begin{cases}q=1-p&{\\text{if }}k=0\\\\p&{\\text{if }}k=1\\end{cases}}}$"
   ]
  },
  {
   "cell_type": "markdown",
   "metadata": {
    "hidden": true
   },
   "source": [
    "The simplest example is, once again, a coin flip.  In this scenario, we define either heads or tails as a \"success\", and assume, if the coin is fair, the probability of success to be .5"
   ]
  },
  {
   "cell_type": "markdown",
   "metadata": {
    "hidden": true
   },
   "source": [
    "![](images/bernouli.png)"
   ]
  },
  {
   "cell_type": "markdown",
   "metadata": {
    "hidden": true
   },
   "source": [
    "Another example would be a penalty kick in soccer.\n",
    "\n",
    "Let's assume the probability of scoring a goal is .75. Then the Bernoulli Distribution is:"
   ]
  },
  {
   "cell_type": "code",
   "execution_count": null,
   "metadata": {
    "hidden": true
   },
   "outputs": [],
   "source": [
    "# probability of scoring\n",
    "p = 0.75\n",
    "\n",
    "# probability of missing\n",
    "q = 1 - 0.75\n",
    "\n",
    "fig, ax = plt.subplots()\n",
    "ax.bar(['miss', 'score'],[q,p], color=['red','green'])\n",
    "ax.set_title('Bernouli Distribution of Penalty Kicks');"
   ]
  },
  {
   "cell_type": "markdown",
   "metadata": {
    "hidden": true
   },
   "source": [
    "The expected value is the probability of success, i.e. 0.75.\n",
    "\n",
    "The variance is:  \n",
    "$\\sigma^2 = (0.75)*(1-0.75) = 0.1875 $"
   ]
  },
  {
   "cell_type": "markdown",
   "metadata": {
    "heading_collapsed": true,
    "hidden": true
   },
   "source": [
    "## Poisson Distribution"
   ]
  },
  {
   "cell_type": "markdown",
   "metadata": {
    "hidden": true
   },
   "source": [
    "🎵***That graph is Poisson***🎵"
   ]
  },
  {
   "cell_type": "markdown",
   "metadata": {
    "hidden": true
   },
   "source": [
    "The Poisson distribution describes the probability of a certain number of a specific type of event occuring over a given interval. We assume that these events are probabilistically independent.\n",
    "\n",
    "Examples:\n",
    "\n",
    "- number of visitors to a website over an hour\n",
    "- number of pieces of mail arriving at your door per day over a month\n",
    "- number of births in a hospital per day"
   ]
  },
  {
   "cell_type": "markdown",
   "metadata": {
    "hidden": true
   },
   "source": [
    "Shape of the Poisson Distribution is governed by the rate parameter **$\\lambda$** (lambda):\n",
    "\n",
    "$\\Large\\lambda = \\frac{Avg\\ number\\ of\\ events}{period\\ of\\ time}$"
   ]
  },
  {
   "cell_type": "markdown",
   "metadata": {
    "hidden": true
   },
   "source": [
    "Then our Poisson pmf is: ${\\displaystyle P(k)= {\\frac {\\lambda ^{k}e^{-\\lambda }}{k!}}}$"
   ]
  },
  {
   "cell_type": "markdown",
   "metadata": {
    "hidden": true
   },
   "source": [
    "Consider the scenario where a website receives 100 hits per hour.\n",
    "\n",
    "Then we have:"
   ]
  },
  {
   "cell_type": "code",
   "execution_count": null,
   "metadata": {
    "hidden": true
   },
   "outputs": [],
   "source": [
    "rate = 100\n",
    "\n",
    "fig, ax = plt.subplots(1, 1, figsize=(6, 6))\n",
    "x = np.arange(stats.poisson.ppf(0.01, rate),\n",
    "              stats.poisson.ppf(0.99, rate))\n",
    "\n",
    "ax.plot(x, stats.poisson(rate).pmf(x), 'bo', ms=8, label='poisson pmf')\n",
    "ax.vlines(x, 0, stats.poisson(rate).pmf(x), 'r', linewidth=5,\n",
    "          label='Poisson Distribution:\\n Website Hits Over an Hour')\n",
    "ax.legend(loc='best');"
   ]
  },
  {
   "cell_type": "markdown",
   "metadata": {
    "hidden": true
   },
   "source": [
    "The Poisson distribution has a unique characteristic:\n",
    "    \n",
    "$\\Large\\mu = \\sigma^2 = \\lambda$"
   ]
  },
  {
   "cell_type": "code",
   "execution_count": null,
   "metadata": {
    "hidden": true
   },
   "outputs": [],
   "source": [
    "# The area under the curve up to the mean + 1sd\n",
    "# would be 84% of the total area\n",
    "\n",
    "stats.poisson.ppf(0.84, 100)"
   ]
  },
  {
   "cell_type": "markdown",
   "metadata": {
    "heading_collapsed": true,
    "hidden": true
   },
   "source": [
    "## Distribution Types Exercise"
   ]
  },
  {
   "cell_type": "markdown",
   "metadata": {
    "hidden": true
   },
   "source": [
    "What type of distribution would you expect to best describe the following datasets?\n",
    "\n",
    "1. Survey responses about whether people voted\n",
    "2. Rolls on a six-sided die\n",
    "3. Numbers of defects in shipments of toys\n",
    "4. Output from a random number generator\n",
    "5. Measurements of palm tree heights"
   ]
  },
  {
   "cell_type": "markdown",
   "metadata": {
    "hidden": true
   },
   "source": [
    "**Your answers**\n",
    "\n",
    "1. \n",
    "2. \n",
    "3. \n",
    "4.\n",
    "5."
   ]
  },
  {
   "cell_type": "markdown",
   "metadata": {
    "heading_collapsed": true
   },
   "source": [
    "# Level Up: Simulations with the Binomial Distribution"
   ]
  },
  {
   "cell_type": "markdown",
   "metadata": {
    "heading_collapsed": true,
    "hidden": true
   },
   "source": [
    "## Game Time! "
   ]
  },
  {
   "cell_type": "markdown",
   "metadata": {
    "hidden": true
   },
   "source": [
    "Let's have a little game! We take a coin and flip it 10 times and see how many times we get heads over tails. Okay, so admittedly that's a boring game for most people (it's no video game). \n",
    "\n",
    "* But humoring me, how many times do we expect to see heads in those 10 flips?"
   ]
  },
  {
   "cell_type": "markdown",
   "metadata": {
    "hidden": true
   },
   "source": [
    "> That should be pretty easy to reason. Since we have that handy-dandy equation from above to get $E(x)$ (or simply $np$) and get $10\\cdot 0.5 = 5$ for a fair coin!"
   ]
  },
  {
   "cell_type": "markdown",
   "metadata": {
    "hidden": true
   },
   "source": [
    "Let's level up! If we were to play this many times, how often would we expect to see 5 heads? What about 3 heads?\n",
    "\n",
    "> Well, that's just using the other handy-dandy equation ${n \\choose k}p^k(1 - p)^{n - k}$! That's the power of the binomial distribution! Let's plot this out!"
   ]
  },
  {
   "cell_type": "code",
   "execution_count": null,
   "metadata": {
    "hidden": true
   },
   "outputs": [],
   "source": [
    "# Plot binomial for fair coin for n=10 flips\n",
    "n = 10\n",
    "p = 0.5\n",
    "fig, ax = plt.subplots(1, 1, figsize=(6, 6))\n",
    "x = np.arange(0,n+1)\n",
    "\n",
    "ax.plot(x, stats.binom.pmf(x, n, p), 'bo', ms=8, label='binom pmf')\n",
    "ax.vlines(x, 0, stats.binom.pmf(x, n, p), 'r', linewidth=5,\n",
    "          label='pmf')\n",
    "ax.legend(loc='best');"
   ]
  },
  {
   "cell_type": "markdown",
   "metadata": {
    "hidden": true
   },
   "source": [
    "Nice! Now I said the coin was fair but if it wasn't? What what that look like for 10 flips? Well, we can plot all that out too!"
   ]
  },
  {
   "cell_type": "code",
   "execution_count": null,
   "metadata": {
    "hidden": true
   },
   "outputs": [],
   "source": [
    "n = 10\n",
    "ps = np.array([0.1,0.2,0.3,0.4,0.6,0.7])\n",
    "fig, axs = plt.subplots(ps.shape[0],1, figsize=(12, 12))\n",
    "x = np.arange(0,11)\n",
    "\n",
    "for ax,p in zip(axs,ps):\n",
    "    f_x = stats.binom.pmf(x, n, p)\n",
    "    ax.plot(x, f_x, 'bo', ms=8, label='binom pmf')\n",
    "    ax.vlines(x, 0, f_x, 'r', linewidth=5,\n",
    "              label='pmf')\n",
    "    ax.legend(loc='best');"
   ]
  },
  {
   "cell_type": "markdown",
   "metadata": {
    "heading_collapsed": true,
    "hidden": true
   },
   "source": [
    "## But What's _Real_: Simulation Time!"
   ]
  },
  {
   "cell_type": "markdown",
   "metadata": {
    "hidden": true
   },
   "source": [
    "Turns out some of these can actually just be simulated. Sort of like cheating 😉"
   ]
  },
  {
   "cell_type": "markdown",
   "metadata": {
    "hidden": true
   },
   "source": [
    "Let's start with a scenario where we observe a negative or positive review. We know that there is some probability $p$\n",
    "in getting a positive review (_success_)."
   ]
  },
  {
   "cell_type": "markdown",
   "metadata": {
    "hidden": true
   },
   "source": [
    "Given a probability of a positive review and how many reviews would we expect to see for a given $N$ reviews?"
   ]
  },
  {
   "cell_type": "code",
   "execution_count": null,
   "metadata": {
    "hidden": true
   },
   "outputs": [],
   "source": [
    "# Simulate from so many total reviews with a certain probability\n",
    "def generate_reviews(n_outcomes, true_prob=0.9, n_trials=1):\n",
    "    '''Success or failure → True or False\n",
    "    '''\n",
    "    outcomes_shape = (n_trials, n_outcomes)\n",
    "    outcomes = np.random.random_sample(size=outcomes_shape) < true_prob\n",
    "    return outcomes"
   ]
  },
  {
   "cell_type": "code",
   "execution_count": null,
   "metadata": {
    "hidden": true
   },
   "outputs": [],
   "source": [
    "def num_matching_our_success(N, p, n_trials): \n",
    "    # Create a trial of N reviews\n",
    "    trial = generate_reviews(n_outcomes=N, true_prob=p, n_trials=n_trials)\n",
    "    # Return number of successes\n",
    "    success_trial = np.sum(trial,axis=1)\n",
    "    return success_trial"
   ]
  },
  {
   "cell_type": "code",
   "execution_count": null,
   "metadata": {
    "hidden": true
   },
   "outputs": [],
   "source": [
    "# Number of tries in a trial (observed)\n",
    "N = 20\n",
    "p = 0.8\n",
    "\n",
    "n_trials = 100\n",
    "counts = num_matching_our_success(N, p, n_trials)\n",
    "ax = sns.histplot(x=counts, kde=True)\n",
    "ax.set_xlim(left=0)"
   ]
  },
  {
   "cell_type": "markdown",
   "metadata": {
    "heading_collapsed": true,
    "hidden": true
   },
   "source": [
    "### Sidebar: Probability of Probabilities"
   ]
  },
  {
   "cell_type": "markdown",
   "metadata": {
    "hidden": true
   },
   "source": [
    "If we didn't know $p$, we could make a distribution to see what $p$ would best match our observed data!"
   ]
  },
  {
   "cell_type": "code",
   "execution_count": null,
   "metadata": {
    "hidden": true
   },
   "outputs": [],
   "source": [
    "probs = {}\n",
    "# Number of tries in a trial (observed)\n",
    "observed_successes, N = 16, 20\n",
    "\n",
    "n_trials = 100_000\n",
    "\n",
    "# Define a probability\n",
    "for p in np.linspace(0,1,50,endpoint=False):\n",
    "    # Update list: What percent matched our observation\n",
    "    trial_successes = num_matching_our_success(N, p, n_trials)\n",
    "    probs[p] = np.sum(trial_successes == observed_successes)\n",
    "    \n",
    "sns.scatterplot(x=probs.keys(),y=probs.values())\n",
    "plt.vlines(probs.keys(),0, probs.values(), linewidth=0.5)"
   ]
  }
 ],
 "metadata": {
  "kernelspec": {
   "display_name": "Python 3",
   "language": "python",
   "name": "python3"
  },
  "language_info": {
   "codemirror_mode": {
    "name": "ipython",
    "version": 3
   },
   "file_extension": ".py",
   "mimetype": "text/x-python",
   "name": "python",
   "nbconvert_exporter": "python",
   "pygments_lexer": "ipython3",
   "version": "3.8.5"
  },
  "toc": {
   "base_numbering": 1,
   "nav_menu": {},
   "number_sections": true,
   "sideBar": true,
   "skip_h1_title": false,
   "title_cell": "Table of Contents",
   "title_sidebar": "TOC",
   "toc_cell": true,
   "toc_position": {
    "height": "calc(100% - 180px)",
    "left": "10px",
    "top": "150px",
    "width": "380.25px"
   },
   "toc_section_display": true,
   "toc_window_display": true
  }
 },
 "nbformat": 4,
 "nbformat_minor": 4
}
