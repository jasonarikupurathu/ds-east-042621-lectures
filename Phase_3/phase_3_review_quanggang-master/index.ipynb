{
 "cells": [
  {
   "cell_type": "markdown",
   "metadata": {},
   "source": [
    "# Phase 3 Review"
   ]
  },
  {
   "cell_type": "markdown",
   "metadata": {},
   "source": [
    "![review guy](https://media.giphy.com/media/3krrjoL0vHRaWqwU3k/giphy.gif)"
   ]
  },
  {
   "cell_type": "markdown",
   "metadata": {},
   "source": [
    "# TOC \n",
    "\n",
    "1. [Gradient Descent](#grad_desc)\n",
    "2. [Logistic Regression](#logistic)\n",
    "3. [Confusion Matrix](#con_mat)\n",
    "4. [Accuracy/Precision/Recall/F1](#more_metric)\n",
    "5. [auc_roc](#auc_roc)\n",
    "3. [Algos](#algos)"
   ]
  },
  {
   "cell_type": "markdown",
   "metadata": {},
   "source": [
    "## Gradient Descent"
   ]
  },
  {
   "cell_type": "markdown",
   "metadata": {},
   "source": [
    "Question: What is a loss function? (Explain it in terms of the relationship between true and predicted values) \n"
   ]
  },
  {
   "cell_type": "markdown",
   "metadata": {},
   "source": [
    "A loss function measures how far a predicted value is from its true value. The function we use to find how bad our model did in prediction is typically called the loss function\n",
    "\n",
    "\n",
    "\n"
   ]
  },
  {
   "cell_type": "markdown",
   "metadata": {},
   "source": [
    "Question: What loss functions do we know and what types of data work best with each?"
   ]
  },
  {
   "cell_type": "markdown",
   "metadata": {},
   "source": [
    "1. Mean Squared Error\n",
    "2. Mean Absolute Error\n",
    "3. Root Mean Absolute Error\n",
    "4. Log loss"
   ]
  },
  {
   "cell_type": "markdown",
   "metadata": {},
   "source": [
    "To solidify our knowledge of gradient descent, we will use Sklearn's stochastic gradient descent algorithm for regression [SGDRegressor](https://scikit-learn.org/stable/modules/sgd.html#regression).   Sklearn classifiers share many methods and parameters, such as fit/predict, but some have useful additions.  SGDRegressor has a new method called partial_fit, which will allow us to inspect the calculated coefficients after each step of gradient descent.  "
   ]
  },
  {
   "cell_type": "raw",
   "metadata": {},
   "source": [
    "We will use the diabetes dataset for this task.  "
   ]
  },
  {
   "cell_type": "code",
   "execution_count": 46,
   "metadata": {},
   "outputs": [],
   "source": [
    "from sklearn.datasets import load_diabetes\n",
    "import numpy as np\n",
    "\n",
    "data = load_diabetes(as_frame=True)\n",
    "X = data['data']\n",
    "y = data['target']"
   ]
  },
  {
   "cell_type": "code",
   "execution_count": 2,
   "metadata": {},
   "outputs": [
    {
     "data": {
      "text/plain": [
       "(442, 10)"
      ]
     },
     "execution_count": 2,
     "metadata": {},
     "output_type": "execute_result"
    }
   ],
   "source": [
    "X.shape"
   ]
  },
  {
   "cell_type": "code",
   "execution_count": 3,
   "metadata": {},
   "outputs": [
    {
     "data": {
      "text/html": [
       "<div>\n",
       "<style scoped>\n",
       "    .dataframe tbody tr th:only-of-type {\n",
       "        vertical-align: middle;\n",
       "    }\n",
       "\n",
       "    .dataframe tbody tr th {\n",
       "        vertical-align: top;\n",
       "    }\n",
       "\n",
       "    .dataframe thead th {\n",
       "        text-align: right;\n",
       "    }\n",
       "</style>\n",
       "<table border=\"1\" class=\"dataframe\">\n",
       "  <thead>\n",
       "    <tr style=\"text-align: right;\">\n",
       "      <th></th>\n",
       "      <th>age</th>\n",
       "      <th>sex</th>\n",
       "      <th>bmi</th>\n",
       "      <th>bp</th>\n",
       "      <th>s1</th>\n",
       "      <th>s2</th>\n",
       "      <th>s3</th>\n",
       "      <th>s4</th>\n",
       "      <th>s5</th>\n",
       "      <th>s6</th>\n",
       "    </tr>\n",
       "  </thead>\n",
       "  <tbody>\n",
       "    <tr>\n",
       "      <th>0</th>\n",
       "      <td>0.038076</td>\n",
       "      <td>0.050680</td>\n",
       "      <td>0.061696</td>\n",
       "      <td>0.021872</td>\n",
       "      <td>-0.044223</td>\n",
       "      <td>-0.034821</td>\n",
       "      <td>-0.043401</td>\n",
       "      <td>-0.002592</td>\n",
       "      <td>0.019908</td>\n",
       "      <td>-0.017646</td>\n",
       "    </tr>\n",
       "    <tr>\n",
       "      <th>1</th>\n",
       "      <td>-0.001882</td>\n",
       "      <td>-0.044642</td>\n",
       "      <td>-0.051474</td>\n",
       "      <td>-0.026328</td>\n",
       "      <td>-0.008449</td>\n",
       "      <td>-0.019163</td>\n",
       "      <td>0.074412</td>\n",
       "      <td>-0.039493</td>\n",
       "      <td>-0.068330</td>\n",
       "      <td>-0.092204</td>\n",
       "    </tr>\n",
       "    <tr>\n",
       "      <th>2</th>\n",
       "      <td>0.085299</td>\n",
       "      <td>0.050680</td>\n",
       "      <td>0.044451</td>\n",
       "      <td>-0.005671</td>\n",
       "      <td>-0.045599</td>\n",
       "      <td>-0.034194</td>\n",
       "      <td>-0.032356</td>\n",
       "      <td>-0.002592</td>\n",
       "      <td>0.002864</td>\n",
       "      <td>-0.025930</td>\n",
       "    </tr>\n",
       "    <tr>\n",
       "      <th>3</th>\n",
       "      <td>-0.089063</td>\n",
       "      <td>-0.044642</td>\n",
       "      <td>-0.011595</td>\n",
       "      <td>-0.036656</td>\n",
       "      <td>0.012191</td>\n",
       "      <td>0.024991</td>\n",
       "      <td>-0.036038</td>\n",
       "      <td>0.034309</td>\n",
       "      <td>0.022692</td>\n",
       "      <td>-0.009362</td>\n",
       "    </tr>\n",
       "    <tr>\n",
       "      <th>4</th>\n",
       "      <td>0.005383</td>\n",
       "      <td>-0.044642</td>\n",
       "      <td>-0.036385</td>\n",
       "      <td>0.021872</td>\n",
       "      <td>0.003935</td>\n",
       "      <td>0.015596</td>\n",
       "      <td>0.008142</td>\n",
       "      <td>-0.002592</td>\n",
       "      <td>-0.031991</td>\n",
       "      <td>-0.046641</td>\n",
       "    </tr>\n",
       "  </tbody>\n",
       "</table>\n",
       "</div>"
      ],
      "text/plain": [
       "        age       sex       bmi        bp        s1        s2        s3  \\\n",
       "0  0.038076  0.050680  0.061696  0.021872 -0.044223 -0.034821 -0.043401   \n",
       "1 -0.001882 -0.044642 -0.051474 -0.026328 -0.008449 -0.019163  0.074412   \n",
       "2  0.085299  0.050680  0.044451 -0.005671 -0.045599 -0.034194 -0.032356   \n",
       "3 -0.089063 -0.044642 -0.011595 -0.036656  0.012191  0.024991 -0.036038   \n",
       "4  0.005383 -0.044642 -0.036385  0.021872  0.003935  0.015596  0.008142   \n",
       "\n",
       "         s4        s5        s6  \n",
       "0 -0.002592  0.019908 -0.017646  \n",
       "1 -0.039493 -0.068330 -0.092204  \n",
       "2 -0.002592  0.002864 -0.025930  \n",
       "3  0.034309  0.022692 -0.009362  \n",
       "4 -0.002592 -0.031991 -0.046641  "
      ]
     },
     "execution_count": 3,
     "metadata": {},
     "output_type": "execute_result"
    }
   ],
   "source": [
    "X.head()"
   ]
  },
  {
   "cell_type": "code",
   "execution_count": 47,
   "metadata": {},
   "outputs": [],
   "source": [
    "from sklearn.linear_model import SGDRegressor"
   ]
  },
  {
   "cell_type": "code",
   "execution_count": 48,
   "metadata": {},
   "outputs": [],
   "source": [
    "# Instantiate a SGDRegressor object and run partial fit on X and y. For now, pass the argument `penalty=None`\n",
    "sgdr = SGDRegressor(penalty = None, random_state = 42)\n",
    "X_partial = sgdr.partial_fit(X,y)"
   ]
  },
  {
   "cell_type": "code",
   "execution_count": 49,
   "metadata": {},
   "outputs": [
    {
     "data": {
      "text/plain": [
       "array([ 1.01049826,  0.24198769,  2.90134432,  2.14320366,  0.77081638,\n",
       "        0.7304633 , -2.05367562,  2.07939578,  2.63091055,  1.99806661])"
      ]
     },
     "execution_count": 49,
     "metadata": {},
     "output_type": "execute_result"
    }
   ],
   "source": [
    "# Inspect the coefficient array\n",
    "X_partial.coef_"
   ]
  },
  {
   "cell_type": "code",
   "execution_count": 7,
   "metadata": {},
   "outputs": [
    {
     "data": {
      "text/plain": [
       "87.31449433724637"
      ]
     },
     "execution_count": 7,
     "metadata": {},
     "output_type": "execute_result"
    }
   ],
   "source": [
    "# Import mean_squared_error from metrics, and pass in the true ys, an array of predictions\n",
    "# and the agrument squared = False\n",
    "from sklearn.metrics import mean_squared_error\n",
    "mean_squared_error(y, sgdr.predict(X), squared=False)\n",
    "\n"
   ]
  },
  {
   "cell_type": "code",
   "execution_count": 51,
   "metadata": {},
   "outputs": [
    {
     "data": {
      "text/plain": [
       "76.66725390196738"
      ]
     },
     "execution_count": 51,
     "metadata": {},
     "output_type": "execute_result"
    }
   ],
   "source": [
    "# Repeat the partial fit. Inspect, RMSE, coefficients.\n",
    "X_partial = sgdr.partial_fit(X,y)\n",
    "mean_squared_error(y, sgdr.predict(X), squared=False)"
   ]
  },
  {
   "cell_type": "code",
   "execution_count": 52,
   "metadata": {},
   "outputs": [
    {
     "data": {
      "text/plain": [
       "array([ 2.10691524,  0.47539743,  6.38690601,  4.74939782,  2.01307138,\n",
       "        1.75811703, -4.39805118,  4.62820915,  5.97867649,  4.27895355])"
      ]
     },
     "execution_count": 52,
     "metadata": {},
     "output_type": "execute_result"
    }
   ],
   "source": [
    "X_partial.coef_"
   ]
  },
  {
   "cell_type": "markdown",
   "metadata": {},
   "source": [
    "Pick a coefficient, and explain the gradient descent update.\n"
   ]
  },
  {
   "cell_type": "markdown",
   "metadata": {},
   "source": [
    "`X_partial.coef_[0]` took a large step towards the positive meaning that the minimum is towards the positive direction??"
   ]
  },
  {
   "cell_type": "raw",
   "metadata": {},
   "source": [
    "Together, let's plot the trajectory of one coefficient against the loss. "
   ]
  },
  {
   "cell_type": "code",
   "execution_count": 10,
   "metadata": {},
   "outputs": [],
   "source": [
    "# code'\n"
   ]
  },
  {
   "cell_type": "raw",
   "metadata": {},
   "source": [
    "Compare that to a full fit of the SGDRegressor."
   ]
  },
  {
   "cell_type": "code",
   "execution_count": 54,
   "metadata": {
    "scrolled": true
   },
   "outputs": [
    {
     "name": "stderr",
     "output_type": "stream",
     "text": [
      "/Users/jasonarikupurathu/opt/anaconda3/envs/learn-env/lib/python3.8/site-packages/sklearn/linear_model/_stochastic_gradient.py:1208: ConvergenceWarning: Maximum number of iteration reached before convergence. Consider increasing max_iter to improve the fit.\n",
      "  warnings.warn(\"Maximum number of iteration reached before \"\n"
     ]
    },
    {
     "data": {
      "text/plain": [
       "array([  48.0137207 ,  -41.909345  ,  279.6518658 ,  193.48277396,\n",
       "         32.62071648,    4.16820008, -157.02847467,  138.1205512 ,\n",
       "        245.66154608,  133.88381653])"
      ]
     },
     "execution_count": 54,
     "metadata": {},
     "output_type": "execute_result"
    }
   ],
   "source": [
    "# code\n",
    "X_full = sgdr.fit(X,y)\n",
    "X_full.coef_"
   ]
  },
  {
   "cell_type": "markdown",
   "metadata": {},
   "source": [
    "<a id='logistic'></a>"
   ]
  },
  {
   "cell_type": "markdown",
   "metadata": {},
   "source": [
    "# Logistic Regression and Modeling"
   ]
  },
  {
   "cell_type": "markdown",
   "metadata": {},
   "source": [
    "What type of target do we feed the logistic regression model?"
   ]
  },
  {
   "cell_type": "code",
   "execution_count": 12,
   "metadata": {},
   "outputs": [],
   "source": [
    "from sklearn.datasets import load_breast_cancer\n",
    "data = load_breast_cancer(as_frame=True)\n",
    "X = data['data']\n",
    "y = data['target']"
   ]
  },
  {
   "cell_type": "code",
   "execution_count": 13,
   "metadata": {},
   "outputs": [],
   "source": [
    "# Perform a train-test split\n",
    "from sklearn.model_selection import train_test_split\n",
    "X_train, X_test, y_train, y_test = train_test_split(X,y)"
   ]
  },
  {
   "cell_type": "code",
   "execution_count": 14,
   "metadata": {},
   "outputs": [
    {
     "data": {
      "text/plain": [
       "1    357\n",
       "0    212\n",
       "Name: target, dtype: int64"
      ]
     },
     "execution_count": 14,
     "metadata": {},
     "output_type": "execute_result"
    }
   ],
   "source": [
    "y.value_counts()"
   ]
  },
  {
   "cell_type": "markdown",
   "metadata": {},
   "source": [
    "Question: What is the purpose of train/test split?  \n"
   ]
  },
  {
   "cell_type": "code",
   "execution_count": null,
   "metadata": {},
   "outputs": [],
   "source": []
  },
  {
   "cell_type": "markdown",
   "metadata": {},
   "source": [
    "Question: Why should we never fit to the test portion of our dataset?"
   ]
  },
  {
   "cell_type": "code",
   "execution_count": null,
   "metadata": {},
   "outputs": [],
   "source": []
  },
  {
   "cell_type": "code",
   "execution_count": 15,
   "metadata": {},
   "outputs": [],
   "source": [
    "# Scale the training set using a standard scaler\n",
    "from sklearn.preprocessing import StandardScaler\n",
    "ss = StandardScaler()\n",
    "X_train_scaled = ss.fit_transform(X_train)"
   ]
  },
  {
   "cell_type": "markdown",
   "metadata": {},
   "source": [
    "Question: Why is scaling our data important? For part of your answer, relate to one of the advantages of logistic regression over another classifier."
   ]
  },
  {
   "cell_type": "code",
   "execution_count": 16,
   "metadata": {},
   "outputs": [
    {
     "data": {
      "text/plain": [
       "LogisticRegression()"
      ]
     },
     "execution_count": 16,
     "metadata": {},
     "output_type": "execute_result"
    }
   ],
   "source": [
    "# fit model with logistic regression to the appropriate portion of our dataset\n",
    "from sklearn.linear_model import LogisticRegression\n",
    "lr = LogisticRegression()\n",
    "lr.fit(X_train_scaled,y_train)\n"
   ]
  },
  {
   "cell_type": "markdown",
   "metadata": {},
   "source": [
    "Now that we have fit our classifier, the object `lr` has been filled up with information about the best fit parameters.  Take a look at the coefficients held in the `lr` object.  Interpret what their magnitudes mean."
   ]
  },
  {
   "cell_type": "code",
   "execution_count": 17,
   "metadata": {},
   "outputs": [
    {
     "data": {
      "text/plain": [
       "array([[-0.40613154, -0.18030929, -0.43103857, -0.49262302, -0.08916343,\n",
       "         0.44724128, -0.68151525, -0.71282811, -0.08454943,  0.42855142,\n",
       "        -0.94418301, -0.020586  , -0.73372845, -0.73249199, -0.20718936,\n",
       "         0.67580328,  0.19511719, -0.50044423,  0.34173401,  0.44214452,\n",
       "        -0.9180577 , -1.32726283, -0.93041003, -0.94683648, -0.7034886 ,\n",
       "        -0.09490486, -0.62022733, -0.7254005 , -0.82390516, -0.66199002]])"
      ]
     },
     "execution_count": 17,
     "metadata": {},
     "output_type": "execute_result"
    }
   ],
   "source": [
    "# Inspect the .coef_ attribute of lr and interpret\n",
    "lr.coef_"
   ]
  },
  {
   "cell_type": "code",
   "execution_count": 18,
   "metadata": {},
   "outputs": [
    {
     "data": {
      "text/plain": [
       "array([0.5594922])"
      ]
     },
     "execution_count": 18,
     "metadata": {},
     "output_type": "execute_result"
    }
   ],
   "source": [
    "lr.intercept_"
   ]
  },
  {
   "cell_type": "markdown",
   "metadata": {},
   "source": [
    "Logistic regression has a predict method just like linear regression.  Use the predict method to generate a set of predictions (y_hat_train) for the training set."
   ]
  },
  {
   "cell_type": "code",
   "execution_count": 19,
   "metadata": {},
   "outputs": [],
   "source": [
    "# use predict to generate a set of predictions\n",
    "y_hat_train = lr.predict(X_train_scaled)"
   ]
  },
  {
   "cell_type": "markdown",
   "metadata": {},
   "source": [
    "<a id='con_mat'></a>"
   ]
  },
  {
   "cell_type": "markdown",
   "metadata": {},
   "source": [
    "### Confusion Matrix"
   ]
  },
  {
   "cell_type": "markdown",
   "metadata": {},
   "source": [
    "Confusion matrices are a great way to visualize the performance of our classifiers. "
   ]
  },
  {
   "cell_type": "markdown",
   "metadata": {},
   "source": [
    "Question: What does a good confusion matrix look like?"
   ]
  },
  {
   "cell_type": "code",
   "execution_count": 20,
   "metadata": {},
   "outputs": [],
   "source": [
    "from sklearn.metrics import plot_confusion_matrix"
   ]
  },
  {
   "cell_type": "code",
   "execution_count": 21,
   "metadata": {},
   "outputs": [
    {
     "data": {
      "text/plain": [
       "<sklearn.metrics._plot.confusion_matrix.ConfusionMatrixDisplay at 0x7fa1580b76a0>"
      ]
     },
     "execution_count": 21,
     "metadata": {},
     "output_type": "execute_result"
    },
    {
     "data": {
      "image/png": "[encoded data removed]",
      "text/plain": [
       "<Figure size 432x288 with 2 Axes>"
      ]
     },
     "metadata": {
      "needs_background": "light"
     },
     "output_type": "display_data"
    }
   ],
   "source": [
    "# create a confusion matrix for our logistic regression model fit on the scaled training data\n",
    "plot_confusion_matrix(lr, X_train_scaled, y_train)\n",
    "\n",
    "\n"
   ]
  },
  {
   "cell_type": "markdown",
   "metadata": {},
   "source": [
    "<a id='more_metrics'></a>"
   ]
  },
  {
   "cell_type": "markdown",
   "metadata": {},
   "source": [
    "## Accuracy/Precision/Recall/F_1 Score"
   ]
  },
  {
   "cell_type": "markdown",
   "metadata": {},
   "source": [
    "We have a bunch of additional metrics, most of which we can figure out from the CM"
   ]
  },
  {
   "cell_type": "markdown",
   "metadata": {},
   "source": [
    "Question: Define accuracy. What is the accuracy score of our classifier?"
   ]
  },
  {
   "cell_type": "code",
   "execution_count": 22,
   "metadata": {},
   "outputs": [],
   "source": [
    "from sklearn.metrics import accuracy_score, precision_score, recall_score,\\\n",
    "f1_score"
   ]
  },
  {
   "cell_type": "code",
   "execution_count": 23,
   "metadata": {},
   "outputs": [
    {
     "data": {
      "text/plain": [
       "0.9906103286384976"
      ]
     },
     "execution_count": 23,
     "metadata": {},
     "output_type": "execute_result"
    }
   ],
   "source": [
    "# Confirm accuracy in code\n",
    "accuracy_score(y_train, y_hat_train)"
   ]
  },
  {
   "cell_type": "markdown",
   "metadata": {},
   "source": [
    "Question: Why might accuracy fail to be a good representation of the quality of a classifier?"
   ]
  },
  {
   "cell_type": "markdown",
   "metadata": {},
   "source": [
    "Question: Define recall. What is the recall score of our classifier?"
   ]
  },
  {
   "cell_type": "code",
   "execution_count": 24,
   "metadata": {},
   "outputs": [
    {
     "data": {
      "text/plain": [
       "1.0"
      ]
     },
     "execution_count": 24,
     "metadata": {},
     "output_type": "execute_result"
    }
   ],
   "source": [
    "# Confirm recall in code\n",
    "recall_score(y_train, y_hat_train)"
   ]
  },
  {
   "cell_type": "markdown",
   "metadata": {},
   "source": [
    "Question: Define precision? What is the precision score of our classifier?"
   ]
  },
  {
   "cell_type": "code",
   "execution_count": 25,
   "metadata": {},
   "outputs": [
    {
     "data": {
      "text/plain": [
       "0.9857142857142858"
      ]
     },
     "execution_count": 25,
     "metadata": {},
     "output_type": "execute_result"
    }
   ],
   "source": [
    "# Confirm precision in code\n",
    "precision_score(y_train, y_hat_train)"
   ]
  },
  {
   "cell_type": "markdown",
   "metadata": {},
   "source": [
    "Question: Define f1 score? What is the f1 score score of our classifier?"
   ]
  },
  {
   "cell_type": "code",
   "execution_count": 26,
   "metadata": {},
   "outputs": [
    {
     "data": {
      "text/plain": [
       "0.9928057553956835"
      ]
     },
     "execution_count": 26,
     "metadata": {},
     "output_type": "execute_result"
    }
   ],
   "source": [
    "f1_score(y_train, y_hat_train)"
   ]
  },
  {
   "cell_type": "markdown",
   "metadata": {},
   "source": [
    "<a id='auc_roc'></a>"
   ]
  },
  {
   "cell_type": "markdown",
   "metadata": {},
   "source": [
    "## Auc_Roc"
   ]
  },
  {
   "cell_type": "markdown",
   "metadata": {},
   "source": [
    "The AUC_ROC curve can't be deduced from the confusion matrix.  Describe what the AUC_ROC curve shows. \n",
    "Look [here](https://towardsdatascience.com/understanding-auc-roc-curve-68b2303cc9c5) for some nice visualizations of AUC_ROC."
   ]
  },
  {
   "cell_type": "raw",
   "metadata": {},
   "source": [
    "Describe the AUC_ROC curve.  What does a good AUC_ROC curve look like? What is a good AUC_ROC score?\n",
    "\n",
    "The auc roc curve describes the area under the ROC curve. It tells us how good our model is regardless of the threshold. A score .5 would be pretty much random guessing and a score of 1 is what we strive for"
   ]
  },
  {
   "cell_type": "markdown",
   "metadata": {},
   "source": [
    "One of the advantages of logistic regression is that it generates a set of probabilities associated with each prediction.  What is the default threshold?  How would decrease or increasing your threshold affect true positive and false positive rates?"
   ]
  },
  {
   "cell_type": "markdown",
   "metadata": {},
   "source": [
    "\n",
    "For our scaled X_train, generate an array of probabilities associated with the probability of the positive class."
   ]
  },
  {
   "cell_type": "code",
   "execution_count": 27,
   "metadata": {},
   "outputs": [
    {
     "data": {
      "text/plain": [
       "array([9.98746346e-01, 8.94273324e-01, 9.99961407e-01, 3.19511711e-03,\n",
       "       1.88268517e-02, 1.98732975e-02, 9.99998646e-01, 9.99980065e-01,\n",
       "       9.98793904e-01, 4.11307645e-06, 9.78855313e-01, 1.55878857e-02,\n",
       "       9.97330024e-01, 9.99860168e-01, 9.71850729e-01, 1.29065151e-06,\n",
       "       9.99743985e-01, 9.91052880e-01, 3.57103495e-02, 9.99977997e-01,\n",
       "       3.29852109e-01, 1.40078395e-02, 9.96051315e-01, 9.93120816e-01,\n",
       "       9.99827683e-01, 9.98775402e-01, 9.99773240e-01, 5.13269346e-04,\n",
       "       9.99981526e-01, 1.57271547e-09, 2.15425790e-10, 9.64984384e-01,\n",
       "       9.99816138e-01, 9.99810852e-01, 9.99639502e-01, 9.97322798e-01,\n",
       "       5.52362051e-01, 3.92123792e-09, 9.99814217e-01, 9.61002454e-01,\n",
       "       5.00094874e-02, 1.81132970e-03, 9.99861086e-01, 1.03807936e-03,\n",
       "       9.99168076e-01, 9.99990113e-01, 9.73525126e-03, 8.35637548e-01,\n",
       "       9.99980304e-01, 2.73988281e-04, 1.69564869e-08, 9.99884437e-01,\n",
       "       9.32756809e-06, 9.63884890e-12, 9.99340790e-01, 8.33865763e-07,\n",
       "       9.99999686e-01, 2.15561582e-03, 9.99959949e-01, 9.31725381e-01,\n",
       "       6.33929026e-04, 9.99939273e-01, 9.87923462e-01, 9.28045287e-01,\n",
       "       4.75836502e-05, 9.98791803e-01, 2.56633071e-06, 9.99868124e-01,\n",
       "       9.99857105e-01, 9.93001074e-01, 9.98940084e-01, 9.98936744e-01,\n",
       "       5.78665093e-07, 1.01236659e-07, 9.99974689e-01, 9.99030657e-01,\n",
       "       4.00599815e-03, 1.48370999e-10, 9.99947979e-01, 9.97832888e-01,\n",
       "       3.01461472e-03, 9.71410751e-01, 9.99806507e-01, 9.99352427e-01,\n",
       "       9.98752877e-01, 9.98908603e-01, 9.99778918e-01, 1.37270569e-10,\n",
       "       8.74790353e-01, 1.86445948e-01, 5.21056138e-05, 9.84560040e-01,\n",
       "       6.18306659e-01, 3.75819703e-02, 8.28985020e-01, 9.99109460e-01,\n",
       "       9.99921279e-01, 9.85636001e-01, 9.78099657e-01, 9.62368493e-01,\n",
       "       1.07403125e-07, 9.99198233e-01, 9.99199760e-01, 9.99536041e-01,\n",
       "       1.25359006e-05, 9.98733466e-01, 3.66033620e-04, 2.12811561e-01,\n",
       "       9.90834862e-01, 9.81902975e-01, 9.99924724e-01, 5.86791704e-06,\n",
       "       9.99748631e-01, 9.96359818e-01, 9.92119980e-01, 8.00573624e-07,\n",
       "       6.69239381e-05, 9.95660692e-01, 9.68865449e-01, 9.00460117e-01,\n",
       "       9.98839864e-01, 4.42190052e-06, 9.91073792e-01, 9.99208832e-01,\n",
       "       9.99825545e-01, 9.86733011e-01, 2.49262000e-04, 8.62604155e-01,\n",
       "       9.04603501e-05, 6.31620039e-01, 9.99867993e-01, 9.99945070e-01,\n",
       "       9.91805838e-01, 9.02170908e-07, 1.06612282e-04, 9.99990723e-01,\n",
       "       9.99731516e-01, 8.53975476e-01, 9.74031552e-01, 9.99907651e-01,\n",
       "       9.83664604e-01, 9.93461657e-01, 9.99997738e-01, 9.99998772e-01,\n",
       "       9.82677666e-01, 9.99869689e-01, 9.98956464e-01, 9.99136693e-01,\n",
       "       9.96255173e-01, 2.65848426e-06, 9.99984774e-01, 9.98571208e-01,\n",
       "       9.99985210e-01, 1.11485937e-07, 9.97627228e-01, 9.64899371e-01,\n",
       "       5.91708756e-01, 3.41120258e-11, 1.78049258e-03, 9.99938501e-01,\n",
       "       9.66633781e-01, 8.97890713e-01, 9.16052159e-01, 9.99536205e-01,\n",
       "       1.44516747e-04, 9.99200973e-01, 8.89248753e-04, 9.99015571e-01,\n",
       "       9.99558653e-01, 6.36610086e-06, 2.90609386e-01, 1.60646444e-01,\n",
       "       9.90069625e-01, 9.90826098e-01, 8.78742126e-01, 9.99977754e-01,\n",
       "       8.56677667e-01, 9.96083815e-01, 1.55355152e-15, 6.79772769e-01,\n",
       "       9.99925287e-01, 9.57670871e-04, 4.37887921e-03, 9.93965185e-01,\n",
       "       9.99936539e-01, 8.39363830e-01, 9.98891652e-01, 9.57396413e-01,\n",
       "       9.99999913e-01, 9.99271322e-01, 5.98542017e-06, 9.99854451e-01,\n",
       "       7.66200392e-01, 9.97523215e-01, 2.12703294e-08, 9.90942974e-01,\n",
       "       9.51324023e-01, 9.99615226e-01, 9.97729787e-01, 3.13974068e-05,\n",
       "       6.62407722e-02, 9.97916536e-01, 7.30797411e-13, 3.09600016e-09,\n",
       "       9.98753742e-01, 9.98494628e-01, 4.83107934e-01, 1.85767534e-01,\n",
       "       1.73272813e-04, 9.85497126e-01, 1.01145225e-07, 4.87209799e-03,\n",
       "       6.71910706e-01, 9.91642686e-01, 9.98608042e-01, 9.99997127e-01,\n",
       "       9.99742297e-01, 8.99659094e-09, 9.99993769e-01, 5.08496507e-03,\n",
       "       9.98941293e-01, 2.20637458e-08, 4.54945629e-03, 9.58450055e-01,\n",
       "       9.99934757e-01, 9.99758554e-01, 9.99734287e-01, 9.74801537e-01,\n",
       "       9.83011716e-01, 9.99901107e-01, 9.99905602e-01, 9.98030884e-01,\n",
       "       9.99851102e-01, 9.99169522e-01, 7.11045075e-01, 2.12707214e-10,\n",
       "       9.50270323e-01, 9.93758662e-01, 9.87473717e-01, 1.71693241e-01,\n",
       "       9.99783012e-01, 3.57900967e-06, 9.80488743e-01, 3.97359873e-05,\n",
       "       9.99943716e-01, 9.99805295e-01, 4.42243463e-09, 9.99999191e-01,\n",
       "       9.96141183e-01, 9.98059549e-01, 9.86233631e-01, 9.97956818e-01,\n",
       "       8.47720776e-02, 9.04671917e-01, 9.99918200e-01, 9.83508497e-01,\n",
       "       8.96822803e-01, 9.71152398e-01, 1.28046148e-08, 9.99785808e-01,\n",
       "       9.66759900e-01, 6.93826606e-02, 9.99892577e-01, 9.92756283e-01,\n",
       "       3.61590172e-03, 9.99765627e-01, 9.99555272e-01, 9.94723680e-01,\n",
       "       1.98240961e-07, 3.75626668e-04, 9.97148808e-01, 9.98573669e-01,\n",
       "       3.88995603e-01, 7.67502666e-01, 9.82816087e-01, 5.80698949e-02,\n",
       "       9.99867079e-01, 2.96795361e-06, 3.74425633e-03, 9.50078238e-01,\n",
       "       9.99976808e-01, 9.99099282e-01, 7.43469115e-01, 2.53764095e-07,\n",
       "       9.96956835e-01, 5.81213991e-04, 7.07995665e-03, 7.57416223e-01,\n",
       "       9.99865723e-01, 9.94037313e-01, 9.45117007e-01, 1.13986739e-02,\n",
       "       7.49438081e-03, 2.51194828e-08, 9.99612710e-01, 9.96878285e-01,\n",
       "       1.14277994e-06, 9.99959013e-01, 3.14075730e-21, 9.78242345e-01,\n",
       "       1.84509004e-05, 9.88933627e-01, 9.78207182e-01, 9.99904907e-01,\n",
       "       7.47037870e-07, 9.99949005e-01, 9.66760907e-01, 3.66489863e-09,\n",
       "       9.98944516e-01, 8.10587324e-01, 1.72665142e-06, 8.87007344e-01,\n",
       "       9.99743849e-01, 9.78654783e-01, 7.70334757e-03, 6.81534699e-02,\n",
       "       1.07110114e-05, 1.53987411e-04, 9.99778977e-01, 9.99990475e-01,\n",
       "       9.98298374e-01, 9.99911400e-01, 9.94356191e-01, 1.98579953e-06,\n",
       "       1.73924639e-01, 9.49509160e-01, 3.00021482e-04, 7.19904776e-12,\n",
       "       9.99968426e-01, 9.96306093e-01, 9.97721544e-01, 9.91322804e-01,\n",
       "       9.99930811e-01, 9.97208406e-01, 9.99907621e-01, 3.87872944e-06,\n",
       "       1.04305595e-03, 3.24467296e-02, 8.56686245e-01, 1.83093702e-01,\n",
       "       9.59986625e-01, 9.69711538e-01, 9.99984659e-01, 9.98299052e-05,\n",
       "       9.99734171e-01, 9.96618240e-01, 1.92325400e-07, 9.99525675e-01,\n",
       "       1.08116038e-03, 9.98682588e-01, 1.02166884e-04, 9.94120743e-01,\n",
       "       9.98193170e-01, 8.99491764e-01, 9.98974566e-01, 9.99504131e-01,\n",
       "       9.99313013e-01, 4.70731101e-01, 1.76876308e-04, 9.97792174e-01,\n",
       "       1.26126183e-05, 9.90383702e-01, 9.99869550e-01, 2.38870647e-04,\n",
       "       5.56681652e-03, 9.80110373e-01, 9.85514145e-01, 1.42784335e-09,\n",
       "       9.98998867e-01, 9.97518098e-01, 4.35588378e-06, 1.19058238e-06,\n",
       "       9.97810235e-01, 1.17144620e-01, 1.81962467e-05, 9.99950762e-01,\n",
       "       9.91925415e-01, 3.00419193e-07, 1.86535385e-02, 5.71575928e-02,\n",
       "       9.98567483e-01, 9.89953259e-01, 9.60244071e-01, 9.83030727e-01,\n",
       "       9.66991843e-01, 9.98994913e-01, 9.99392557e-01, 9.99956409e-01,\n",
       "       9.91687409e-01, 9.78569715e-01, 9.82859882e-01, 9.05563175e-05,\n",
       "       9.98807929e-01, 9.99251933e-01, 9.00860334e-01, 5.68926886e-05,\n",
       "       9.91572048e-01, 9.53900443e-01, 9.99971414e-01, 9.61836148e-01,\n",
       "       9.99970295e-01, 9.93575143e-01, 9.48148977e-09, 8.34927846e-01,\n",
       "       7.87181939e-01, 5.72925230e-04, 9.99368186e-01, 8.63715515e-08,\n",
       "       9.97953689e-01, 2.88104238e-03, 6.85459549e-06, 1.18727782e-04,\n",
       "       2.53617140e-02, 8.71672080e-07, 8.26939718e-03, 9.99800460e-01,\n",
       "       1.72621496e-07, 1.41822489e-06, 9.67591535e-06, 9.96405989e-02,\n",
       "       9.99897210e-01, 9.97321050e-01, 3.28500541e-03, 9.67240232e-01,\n",
       "       9.69465322e-01, 9.99476173e-01])"
      ]
     },
     "execution_count": 27,
     "metadata": {},
     "output_type": "execute_result"
    }
   ],
   "source": [
    "# your code here\n",
    "lr.predict_proba(X_train_scaled)[:,1]"
   ]
  },
  {
   "cell_type": "markdown",
   "metadata": {},
   "source": [
    "Now, using those probabilities, create two arrays, one which converts the probabilities to label predictions using the default threshold, and one using a threshold of .4.  How does it affect our metrics?"
   ]
  },
  {
   "cell_type": "code",
   "execution_count": 1,
   "metadata": {},
   "outputs": [
    {
     "ename": "TypeError",
     "evalue": "roc_curve() missing 2 required positional arguments: 'y_true' and 'y_score'",
     "output_type": "error",
     "traceback": [
      "\u001b[0;31m---------------------------------------------------------------------------\u001b[0m",
      "\u001b[0;31mTypeError\u001b[0m                                 Traceback (most recent call last)",
      "\u001b[0;32m<ipython-input-1-6fd27e7b7538>\u001b[0m in \u001b[0;36m<module>\u001b[0;34m\u001b[0m\n\u001b[1;32m      1\u001b[0m \u001b[0;32mfrom\u001b[0m \u001b[0msklearn\u001b[0m\u001b[0;34m.\u001b[0m\u001b[0mmetrics\u001b[0m \u001b[0;32mimport\u001b[0m \u001b[0mroc_curve\u001b[0m\u001b[0;34m\u001b[0m\u001b[0;34m\u001b[0m\u001b[0m\n\u001b[0;32m----> 2\u001b[0;31m \u001b[0mroc_curve\u001b[0m\u001b[0;34m(\u001b[0m\u001b[0;34m)\u001b[0m\u001b[0;34m\u001b[0m\u001b[0;34m\u001b[0m\u001b[0m\n\u001b[0m",
      "\u001b[0;32m~/opt/anaconda3/envs/learn-env/lib/python3.8/site-packages/sklearn/utils/validation.py\u001b[0m in \u001b[0;36minner_f\u001b[0;34m(*args, **kwargs)\u001b[0m\n\u001b[1;32m     70\u001b[0m                           FutureWarning)\n\u001b[1;32m     71\u001b[0m         \u001b[0mkwargs\u001b[0m\u001b[0;34m.\u001b[0m\u001b[0mupdate\u001b[0m\u001b[0;34m(\u001b[0m\u001b[0;34m{\u001b[0m\u001b[0mk\u001b[0m\u001b[0;34m:\u001b[0m \u001b[0marg\u001b[0m \u001b[0;32mfor\u001b[0m \u001b[0mk\u001b[0m\u001b[0;34m,\u001b[0m \u001b[0marg\u001b[0m \u001b[0;32min\u001b[0m \u001b[0mzip\u001b[0m\u001b[0;34m(\u001b[0m\u001b[0msig\u001b[0m\u001b[0;34m.\u001b[0m\u001b[0mparameters\u001b[0m\u001b[0;34m,\u001b[0m \u001b[0margs\u001b[0m\u001b[0;34m)\u001b[0m\u001b[0;34m}\u001b[0m\u001b[0;34m)\u001b[0m\u001b[0;34m\u001b[0m\u001b[0;34m\u001b[0m\u001b[0m\n\u001b[0;32m---> 72\u001b[0;31m         \u001b[0;32mreturn\u001b[0m \u001b[0mf\u001b[0m\u001b[0;34m(\u001b[0m\u001b[0;34m**\u001b[0m\u001b[0mkwargs\u001b[0m\u001b[0;34m)\u001b[0m\u001b[0;34m\u001b[0m\u001b[0;34m\u001b[0m\u001b[0m\n\u001b[0m\u001b[1;32m     73\u001b[0m     \u001b[0;32mreturn\u001b[0m \u001b[0minner_f\u001b[0m\u001b[0;34m\u001b[0m\u001b[0;34m\u001b[0m\u001b[0m\n\u001b[1;32m     74\u001b[0m \u001b[0;34m\u001b[0m\u001b[0m\n",
      "\u001b[0;31mTypeError\u001b[0m: roc_curve() missing 2 required positional arguments: 'y_true' and 'y_score'"
     ]
    }
   ],
   "source": [
    "from sklearn.metrics import roc_curve"
   ]
  },
  {
   "cell_type": "code",
   "execution_count": 29,
   "metadata": {},
   "outputs": [
    {
     "data": {
      "text/plain": [
       "<sklearn.metrics._plot.roc_curve.RocCurveDisplay at 0x7fa158047e20>"
      ]
     },
     "execution_count": 29,
     "metadata": {},
     "output_type": "execute_result"
    },
    {
     "data": {
      "image/png": "[encoded data removed]",
      "text/plain": [
       "<Figure size 432x288 with 1 Axes>"
      ]
     },
     "metadata": {
      "needs_background": "light"
     },
     "output_type": "display_data"
    }
   ],
   "source": [
    "# Plot the AUC_ROC curve for our classifier\n",
    "from sklearn.metrics import plot_roc_curve\n",
    "plot_roc_curve(lr, X_train_scaled, y_train)"
   ]
  },
  {
   "cell_type": "markdown",
   "metadata": {},
   "source": [
    "<a id='algos'></a>"
   ]
  },
  {
   "cell_type": "markdown",
   "metadata": {},
   "source": [
    "# More Algorithms"
   ]
  },
  {
   "cell_type": "markdown",
   "metadata": {},
   "source": [
    "Much of the sklearn syntax is shared across classifiers and regressors.  Fit, predict, score, and more are methods associated with all sklearn classifiers.  They work differently under the hood. KNN's fit method simply stores the training set in memory. Logistic regressions .fit() does the hard work of calculating coefficients. \n",
    "\n",
    "![lazy_george](https://media.giphy.com/media/8TJK6prvRXF6g/giphy.gif)\n",
    "\n",
    "However, each algo also has specific parameters and methods associated with it.  For example, decision trees have feature importances and logistic has coefficients. KNN has n_neighbors and decision trees has max_depth.\n"
   ]
  },
  {
   "cell_type": "markdown",
   "metadata": {},
   "source": [
    "Getting to know the algo's and their associated properties is an important area of study. \n",
    "\n",
    "That being said, you now are getting to the point that no matter which algorithm you choose, you can run the code to create a model as long as you have the data in the correct shape. Most importantly, the target is the appropriate form (continuous/categorical) and is isolated from the predictors."
   ]
  },
  {
   "cell_type": "markdown",
   "metadata": {},
   "source": [
    "Here are the algos we know so far. \n",
    " - Linear Regression\n",
    " - Lasso/Ridge Regression\n",
    " - Logistic Regression\n",
    " - Naive-Bayes\n",
    " - KNN\n",
    " - Decision Trees\n",
    " \n",
    "> Note that KNN and decision trees also have regression classes in sklearn.\n"
   ]
  },
  {
   "cell_type": "markdown",
   "metadata": {},
   "source": [
    "Here are two datasets from seaborn and sklearn.  Let's work through the process of creating simple models for each."
   ]
  },
  {
   "cell_type": "code",
   "execution_count": 30,
   "metadata": {},
   "outputs": [
    {
     "data": {
      "text/html": [
       "<div>\n",
       "<style scoped>\n",
       "    .dataframe tbody tr th:only-of-type {\n",
       "        vertical-align: middle;\n",
       "    }\n",
       "\n",
       "    .dataframe tbody tr th {\n",
       "        vertical-align: top;\n",
       "    }\n",
       "\n",
       "    .dataframe thead th {\n",
       "        text-align: right;\n",
       "    }\n",
       "</style>\n",
       "<table border=\"1\" class=\"dataframe\">\n",
       "  <thead>\n",
       "    <tr style=\"text-align: right;\">\n",
       "      <th></th>\n",
       "      <th>species</th>\n",
       "      <th>island</th>\n",
       "      <th>bill_length_mm</th>\n",
       "      <th>bill_depth_mm</th>\n",
       "      <th>flipper_length_mm</th>\n",
       "      <th>body_mass_g</th>\n",
       "      <th>sex</th>\n",
       "    </tr>\n",
       "  </thead>\n",
       "  <tbody>\n",
       "    <tr>\n",
       "      <th>0</th>\n",
       "      <td>Adelie</td>\n",
       "      <td>Torgersen</td>\n",
       "      <td>39.1</td>\n",
       "      <td>18.7</td>\n",
       "      <td>181.0</td>\n",
       "      <td>3750.0</td>\n",
       "      <td>Male</td>\n",
       "    </tr>\n",
       "    <tr>\n",
       "      <th>1</th>\n",
       "      <td>Adelie</td>\n",
       "      <td>Torgersen</td>\n",
       "      <td>39.5</td>\n",
       "      <td>17.4</td>\n",
       "      <td>186.0</td>\n",
       "      <td>3800.0</td>\n",
       "      <td>Female</td>\n",
       "    </tr>\n",
       "    <tr>\n",
       "      <th>2</th>\n",
       "      <td>Adelie</td>\n",
       "      <td>Torgersen</td>\n",
       "      <td>40.3</td>\n",
       "      <td>18.0</td>\n",
       "      <td>195.0</td>\n",
       "      <td>3250.0</td>\n",
       "      <td>Female</td>\n",
       "    </tr>\n",
       "    <tr>\n",
       "      <th>3</th>\n",
       "      <td>Adelie</td>\n",
       "      <td>Torgersen</td>\n",
       "      <td>NaN</td>\n",
       "      <td>NaN</td>\n",
       "      <td>NaN</td>\n",
       "      <td>NaN</td>\n",
       "      <td>NaN</td>\n",
       "    </tr>\n",
       "    <tr>\n",
       "      <th>4</th>\n",
       "      <td>Adelie</td>\n",
       "      <td>Torgersen</td>\n",
       "      <td>36.7</td>\n",
       "      <td>19.3</td>\n",
       "      <td>193.0</td>\n",
       "      <td>3450.0</td>\n",
       "      <td>Female</td>\n",
       "    </tr>\n",
       "  </tbody>\n",
       "</table>\n",
       "</div>"
      ],
      "text/plain": [
       "  species     island  bill_length_mm  bill_depth_mm  flipper_length_mm  \\\n",
       "0  Adelie  Torgersen            39.1           18.7              181.0   \n",
       "1  Adelie  Torgersen            39.5           17.4              186.0   \n",
       "2  Adelie  Torgersen            40.3           18.0              195.0   \n",
       "3  Adelie  Torgersen             NaN            NaN                NaN   \n",
       "4  Adelie  Torgersen            36.7           19.3              193.0   \n",
       "\n",
       "   body_mass_g     sex  \n",
       "0       3750.0    Male  \n",
       "1       3800.0  Female  \n",
       "2       3250.0  Female  \n",
       "3          NaN     NaN  \n",
       "4       3450.0  Female  "
      ]
     },
     "execution_count": 30,
     "metadata": {},
     "output_type": "execute_result"
    }
   ],
   "source": [
    "import seaborn as sns\n",
    "penguins = sns.load_dataset('penguins')\n",
    "penguins.head()"
   ]
  },
  {
   "cell_type": "raw",
   "metadata": {},
   "source": [
    "Question: What algorithm would be appropriate based on the target"
   ]
  },
  {
   "cell_type": "code",
   "execution_count": 31,
   "metadata": {},
   "outputs": [],
   "source": [
    "# split target from predictors"
   ]
  },
  {
   "cell_type": "raw",
   "metadata": {},
   "source": [
    "For the first simple model, let's just use the numeric predictors."
   ]
  },
  {
   "cell_type": "code",
   "execution_count": 32,
   "metadata": {},
   "outputs": [],
   "source": [
    "# isolate numeric predictors"
   ]
  },
  {
   "cell_type": "code",
   "execution_count": 33,
   "metadata": {},
   "outputs": [],
   "source": [
    "# Scale appropriately\n"
   ]
  },
  {
   "cell_type": "code",
   "execution_count": 34,
   "metadata": {},
   "outputs": [],
   "source": [
    "# instantiate appropriate model and fit to appropriate part of data.\n"
   ]
  },
  {
   "cell_type": "code",
   "execution_count": 35,
   "metadata": {},
   "outputs": [],
   "source": [
    "# Create a set of predictions\n",
    "\n",
    "y_hat_train = None\n",
    "y_hat_test = None\n"
   ]
  },
  {
   "cell_type": "code",
   "execution_count": 36,
   "metadata": {},
   "outputs": [],
   "source": [
    "# Create and analyze appropriate metrics"
   ]
  },
  {
   "cell_type": "code",
   "execution_count": 37,
   "metadata": {},
   "outputs": [],
   "source": [
    "import pandas as pd"
   ]
  },
  {
   "cell_type": "code",
   "execution_count": 38,
   "metadata": {},
   "outputs": [],
   "source": [
    "from sklearn.datasets import load_boston\n",
    "data = load_boston()\n",
    "X = pd.DataFrame(data['data'], columns = data['feature_names'])\n",
    "y = data['target']"
   ]
  },
  {
   "cell_type": "code",
   "execution_count": 39,
   "metadata": {},
   "outputs": [
    {
     "data": {
      "text/plain": [
       "array([24. , 21.6, 34.7, 33.4, 36.2, 28.7, 22.9, 27.1, 16.5, 18.9, 15. ,\n",
       "       18.9, 21.7, 20.4, 18.2, 19.9, 23.1, 17.5, 20.2, 18.2, 13.6, 19.6,\n",
       "       15.2, 14.5, 15.6, 13.9, 16.6, 14.8, 18.4, 21. , 12.7, 14.5, 13.2,\n",
       "       13.1, 13.5, 18.9, 20. , 21. , 24.7, 30.8, 34.9, 26.6, 25.3, 24.7,\n",
       "       21.2, 19.3, 20. , 16.6, 14.4, 19.4, 19.7, 20.5, 25. , 23.4, 18.9,\n",
       "       35.4, 24.7, 31.6, 23.3, 19.6, 18.7, 16. , 22.2, 25. , 33. , 23.5,\n",
       "       19.4, 22. , 17.4, 20.9, 24.2, 21.7, 22.8, 23.4, 24.1, 21.4, 20. ,\n",
       "       20.8, 21.2, 20.3, 28. , 23.9, 24.8, 22.9, 23.9, 26.6, 22.5, 22.2,\n",
       "       23.6, 28.7, 22.6, 22. , 22.9, 25. , 20.6, 28.4, 21.4, 38.7, 43.8,\n",
       "       33.2, 27.5, 26.5, 18.6, 19.3, 20.1, 19.5, 19.5, 20.4, 19.8, 19.4,\n",
       "       21.7, 22.8, 18.8, 18.7, 18.5, 18.3, 21.2, 19.2, 20.4, 19.3, 22. ,\n",
       "       20.3, 20.5, 17.3, 18.8, 21.4, 15.7, 16.2, 18. , 14.3, 19.2, 19.6,\n",
       "       23. , 18.4, 15.6, 18.1, 17.4, 17.1, 13.3, 17.8, 14. , 14.4, 13.4,\n",
       "       15.6, 11.8, 13.8, 15.6, 14.6, 17.8, 15.4, 21.5, 19.6, 15.3, 19.4,\n",
       "       17. , 15.6, 13.1, 41.3, 24.3, 23.3, 27. , 50. , 50. , 50. , 22.7,\n",
       "       25. , 50. , 23.8, 23.8, 22.3, 17.4, 19.1, 23.1, 23.6, 22.6, 29.4,\n",
       "       23.2, 24.6, 29.9, 37.2, 39.8, 36.2, 37.9, 32.5, 26.4, 29.6, 50. ,\n",
       "       32. , 29.8, 34.9, 37. , 30.5, 36.4, 31.1, 29.1, 50. , 33.3, 30.3,\n",
       "       34.6, 34.9, 32.9, 24.1, 42.3, 48.5, 50. , 22.6, 24.4, 22.5, 24.4,\n",
       "       20. , 21.7, 19.3, 22.4, 28.1, 23.7, 25. , 23.3, 28.7, 21.5, 23. ,\n",
       "       26.7, 21.7, 27.5, 30.1, 44.8, 50. , 37.6, 31.6, 46.7, 31.5, 24.3,\n",
       "       31.7, 41.7, 48.3, 29. , 24. , 25.1, 31.5, 23.7, 23.3, 22. , 20.1,\n",
       "       22.2, 23.7, 17.6, 18.5, 24.3, 20.5, 24.5, 26.2, 24.4, 24.8, 29.6,\n",
       "       42.8, 21.9, 20.9, 44. , 50. , 36. , 30.1, 33.8, 43.1, 48.8, 31. ,\n",
       "       36.5, 22.8, 30.7, 50. , 43.5, 20.7, 21.1, 25.2, 24.4, 35.2, 32.4,\n",
       "       32. , 33.2, 33.1, 29.1, 35.1, 45.4, 35.4, 46. , 50. , 32.2, 22. ,\n",
       "       20.1, 23.2, 22.3, 24.8, 28.5, 37.3, 27.9, 23.9, 21.7, 28.6, 27.1,\n",
       "       20.3, 22.5, 29. , 24.8, 22. , 26.4, 33.1, 36.1, 28.4, 33.4, 28.2,\n",
       "       22.8, 20.3, 16.1, 22.1, 19.4, 21.6, 23.8, 16.2, 17.8, 19.8, 23.1,\n",
       "       21. , 23.8, 23.1, 20.4, 18.5, 25. , 24.6, 23. , 22.2, 19.3, 22.6,\n",
       "       19.8, 17.1, 19.4, 22.2, 20.7, 21.1, 19.5, 18.5, 20.6, 19. , 18.7,\n",
       "       32.7, 16.5, 23.9, 31.2, 17.5, 17.2, 23.1, 24.5, 26.6, 22.9, 24.1,\n",
       "       18.6, 30.1, 18.2, 20.6, 17.8, 21.7, 22.7, 22.6, 25. , 19.9, 20.8,\n",
       "       16.8, 21.9, 27.5, 21.9, 23.1, 50. , 50. , 50. , 50. , 50. , 13.8,\n",
       "       13.8, 15. , 13.9, 13.3, 13.1, 10.2, 10.4, 10.9, 11.3, 12.3,  8.8,\n",
       "        7.2, 10.5,  7.4, 10.2, 11.5, 15.1, 23.2,  9.7, 13.8, 12.7, 13.1,\n",
       "       12.5,  8.5,  5. ,  6.3,  5.6,  7.2, 12.1,  8.3,  8.5,  5. , 11.9,\n",
       "       27.9, 17.2, 27.5, 15. , 17.2, 17.9, 16.3,  7. ,  7.2,  7.5, 10.4,\n",
       "        8.8,  8.4, 16.7, 14.2, 20.8, 13.4, 11.7,  8.3, 10.2, 10.9, 11. ,\n",
       "        9.5, 14.5, 14.1, 16.1, 14.3, 11.7, 13.4,  9.6,  8.7,  8.4, 12.8,\n",
       "       10.5, 17.1, 18.4, 15.4, 10.8, 11.8, 14.9, 12.6, 14.1, 13. , 13.4,\n",
       "       15.2, 16.1, 17.8, 14.9, 14.1, 12.7, 13.5, 14.9, 20. , 16.4, 17.7,\n",
       "       19.5, 20.2, 21.4, 19.9, 19. , 19.1, 19.1, 20.1, 19.9, 19.6, 23.2,\n",
       "       29.8, 13.8, 13.3, 16.7, 12. , 14.6, 21.4, 23. , 23.7, 25. , 21.8,\n",
       "       20.6, 21.2, 19.1, 20.6, 15.2,  7. ,  8.1, 13.6, 20.1, 21.8, 24.5,\n",
       "       23.1, 19.7, 18.3, 21.2, 17.5, 16.8, 22.4, 20.6, 23.9, 22. , 11.9])"
      ]
     },
     "execution_count": 39,
     "metadata": {},
     "output_type": "execute_result"
    }
   ],
   "source": [
    "y"
   ]
  },
  {
   "cell_type": "raw",
   "metadata": {},
   "source": [
    "Question: What algorithm would be appropriate based on the target?"
   ]
  },
  {
   "cell_type": "code",
   "execution_count": 40,
   "metadata": {},
   "outputs": [],
   "source": [
    "# split target from predictors"
   ]
  },
  {
   "cell_type": "raw",
   "metadata": {},
   "source": [
    "For the first simple model, let's just use the numeric predictors."
   ]
  },
  {
   "cell_type": "code",
   "execution_count": 41,
   "metadata": {},
   "outputs": [],
   "source": [
    "# isolate numeric predictors"
   ]
  },
  {
   "cell_type": "code",
   "execution_count": 42,
   "metadata": {},
   "outputs": [],
   "source": [
    "# Scale appropriately\n"
   ]
  },
  {
   "cell_type": "code",
   "execution_count": 43,
   "metadata": {},
   "outputs": [],
   "source": [
    "# instantiate appropriate model and fit to appropriate part of data.\n"
   ]
  },
  {
   "cell_type": "code",
   "execution_count": 44,
   "metadata": {},
   "outputs": [],
   "source": [
    "# Create a set of predictions\n",
    "\n",
    "y_hat_train = None\n",
    "y_hat_test = None\n"
   ]
  },
  {
   "cell_type": "code",
   "execution_count": 45,
   "metadata": {},
   "outputs": [],
   "source": [
    "# Create and analyze appropriate metrics"
   ]
  }
 ],
 "metadata": {
  "kernelspec": {
   "display_name": "learn-env",
   "language": "python",
   "name": "learn-env"
  },
  "language_info": {
   "codemirror_mode": {
    "name": "ipython",
    "version": 3
   },
   "file_extension": ".py",
   "mimetype": "text/x-python",
   "name": "python",
   "nbconvert_exporter": "python",
   "pygments_lexer": "ipython3",
   "version": "3.8.5"
  }
 },
 "nbformat": 4,
 "nbformat_minor": 4
}
